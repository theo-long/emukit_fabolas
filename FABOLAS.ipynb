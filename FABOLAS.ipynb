{
 "cells": [
  {
   "cell_type": "code",
   "execution_count": 1,
   "id": "e7a9bbd1",
   "metadata": {},
   "outputs": [],
   "source": [
    "import torch\n",
    "import yahpo_gym\n",
    "import botorch\n",
    "import ax\n",
    "import ConfigSpace"
   ]
  },
  {
   "cell_type": "markdown",
   "id": "86869d9f",
   "metadata": {},
   "source": [
    "# Testing and setup"
   ]
  },
  {
   "cell_type": "code",
   "execution_count": 7,
   "id": "4389b193",
   "metadata": {},
   "outputs": [],
   "source": [
    "from yahpo_gym import local_config\n",
    "local_config.init_config()\n",
    "local_config.set_data_path('~/Documents/yahpo_data')"
   ]
  },
  {
   "cell_type": "code",
   "execution_count": 3,
   "id": "ea63e739",
   "metadata": {},
   "outputs": [
    {
     "data": {
      "text/plain": [
       "['3945', '7593', '34539', '126025', '126026']"
      ]
     },
     "execution_count": 3,
     "metadata": {},
     "output_type": "execute_result"
    }
   ],
   "source": [
    "benchmark = yahpo_gym.BenchmarkSet('lcbench')\n",
    "benchmark.instances[:5]"
   ]
  },
  {
   "cell_type": "code",
   "execution_count": 4,
   "id": "486fc79c",
   "metadata": {},
   "outputs": [],
   "source": [
    "benchmark = yahpo_gym.BenchmarkSet('lcbench', instance='126025')"
   ]
  },
  {
   "cell_type": "markdown",
   "id": "3968e5a3",
   "metadata": {},
   "source": [
    "# Basic hyperparameter tuning example"
   ]
  },
  {
   "cell_type": "code",
   "execution_count": 5,
   "id": "a79a413c",
   "metadata": {},
   "outputs": [],
   "source": [
    "from botorch.models.gpytorch import GPyTorchModel\n",
    "from botorch.utils.datasets import SupervisedDataset\n",
    "from gpytorch.distributions import MultivariateNormal\n",
    "from gpytorch.kernels import RBFKernel, ScaleKernel, MaternKernel\n",
    "from gpytorch.likelihoods import GaussianLikelihood\n",
    "from gpytorch.means import ConstantMean\n",
    "from gpytorch.models import ExactGP\n",
    "\n",
    "\n",
    "class SimpleCustomGP(ExactGP, GPyTorchModel):\n",
    "\n",
    "    _num_outputs = 1  # to inform GPyTorchModel API\n",
    "\n",
    "    def __init__(self, train_X, train_Y, kernel='rbf'):\n",
    "        # squeeze output dim before passing train_Y to ExactGP\n",
    "        super().__init__(train_X, train_Y.squeeze(-1), GaussianLikelihood())\n",
    "        self.mean_module = ConstantMean()\n",
    "        if kernel == 'rbf':\n",
    "            self.covar_module = ScaleKernel(\n",
    "                base_kernel=RBFKernel(ard_num_dims=train_X.shape[-1]),\n",
    "            )\n",
    "        elif kernel == 'matern':\n",
    "            self.covar_module = ScaleKernel(\n",
    "                base_kernel=MaternKernel(ard_num_dims=train_X.shape[-1]),\n",
    "            )\n",
    "        else:\n",
    "            ValueError('No such kernel')\n",
    "        self.to(train_X)  # make sure we're on the right device/dtype\n",
    "\n",
    "    def forward(self, x):\n",
    "        mean_x = self.mean_module(x)\n",
    "        covar_x = self.covar_module(x)\n",
    "        return MultivariateNormal(mean_x, covar_x)"
   ]
  },
  {
   "cell_type": "code",
   "execution_count": 6,
   "id": "591f6a33",
   "metadata": {},
   "outputs": [
    {
     "data": {
      "text/plain": [
       "Configuration space object:\n",
       "  Hyperparameters:\n",
       "    epoch, Type: UniformInteger, Range: [1, 50], Default: 26"
      ]
     },
     "execution_count": 6,
     "metadata": {},
     "output_type": "execute_result"
    }
   ],
   "source": [
    "benchmark.get_fidelity_space()"
   ]
  },
  {
   "cell_type": "code",
   "execution_count": 7,
   "id": "81cde0d3",
   "metadata": {},
   "outputs": [
    {
     "data": {
      "text/plain": [
       "[{'name': 'OpenML_task_id', 'type': 'fixed', 'value': '126025'},\n",
       " {'name': 'batch_size',\n",
       "  'type': 'range',\n",
       "  'log_scale': True,\n",
       "  'bounds': [16, 512]},\n",
       " {'name': 'epoch', 'type': 'fixed', 'value': 40},\n",
       " {'name': 'learning_rate',\n",
       "  'type': 'range',\n",
       "  'log_scale': True,\n",
       "  'bounds': [0.00010000000000000009, 0.10000000000000002]},\n",
       " {'name': 'max_dropout',\n",
       "  'type': 'range',\n",
       "  'log_scale': False,\n",
       "  'bounds': [0.0, 1.0]},\n",
       " {'name': 'max_units',\n",
       "  'type': 'range',\n",
       "  'log_scale': True,\n",
       "  'bounds': [64, 1024]},\n",
       " {'name': 'momentum',\n",
       "  'type': 'range',\n",
       "  'log_scale': False,\n",
       "  'bounds': [0.1, 0.99]},\n",
       " {'name': 'num_layers', 'type': 'range', 'log_scale': False, 'bounds': [1, 5]},\n",
       " {'name': 'weight_decay',\n",
       "  'type': 'range',\n",
       "  'log_scale': False,\n",
       "  'bounds': [1e-05, 0.1]}]"
      ]
     },
     "execution_count": 7,
     "metadata": {},
     "output_type": "execute_result"
    }
   ],
   "source": [
    "import json\n",
    "\n",
    "hyperparams = benchmark.get_opt_space()\n",
    "hyperparams_list = json.loads(ConfigSpace.read_and_write.json.write(hyperparams))['hyperparameters']\n",
    "hyperparams_list\n",
    "\n",
    "def format_hyperparam(h):\n",
    "    try:\n",
    "        log_scale = h.pop('log')\n",
    "        h['log_scale'] = log_scale\n",
    "    except KeyError:\n",
    "        pass\n",
    "    \n",
    "    try:\n",
    "        lower = h.pop('lower')\n",
    "        upper = h.pop('upper')\n",
    "        h['bounds'] = [lower, upper]\n",
    "    except KeyError:\n",
    "        pass\n",
    "    \n",
    "    try:\n",
    "        choices = h.pop('choices')\n",
    "        h['values'] = choices\n",
    "    except KeyError:\n",
    "        pass\n",
    "    \n",
    "    try:\n",
    "        h.pop('default')\n",
    "    except KeyError:\n",
    "        pass\n",
    "    \n",
    "    try:\n",
    "        h.pop('weights')\n",
    "    except KeyError:\n",
    "        pass\n",
    "    \n",
    "    type_map = {\n",
    "        'uniform_int':'range',\n",
    "        'categorical':'choice',\n",
    "        'uniform_float':'range',\n",
    "        'constant':'fixed',\n",
    "        'ordinal':'range'\n",
    "    }\n",
    "    value_map = {\n",
    "        'uniform_int':'int',\n",
    "        'uniform_float':'float',\n",
    "        'ordinal':'int'\n",
    "    }\n",
    "    h['type'] = type_map[h['type']]\n",
    "    \n",
    "    return h\n",
    "\n",
    "hyperparams_list = [format_hyperparam(h) for h in hyperparams_list]\n",
    "hyperparams_list[2] = {'name': 'epoch', 'type': 'fixed', 'value': 40}\n",
    "hyperparams_list"
   ]
  },
  {
   "cell_type": "code",
   "execution_count": 8,
   "id": "0e0f15b0",
   "metadata": {},
   "outputs": [],
   "source": [
    "from ax.models.torch.botorch_modular.model import BoTorchModel\n",
    "from ax.models.torch.botorch_modular.surrogate import Surrogate\n",
    "from botorch.acquisition import qExpectedImprovement, qMaxValueEntropy, qKnowledgeGradient\n"
   ]
  },
  {
   "cell_type": "code",
   "execution_count": 13,
   "id": "25f8dd29",
   "metadata": {
    "code_folding": []
   },
   "outputs": [],
   "source": [
    "from ax.modelbridge.generation_strategy import GenerationStep, GenerationStrategy\n",
    "from ax.modelbridge.registry import Models\n",
    "\n",
    "\n",
    "gs_ei_rbf = GenerationStrategy(\n",
    "    steps=[\n",
    "        # Quasi-random initialization step\n",
    "        GenerationStep(\n",
    "            model=Models.SOBOL,\n",
    "            num_trials=30,  # How many trials should be produced from this generation step\n",
    "        ),\n",
    "        # Bayesian optimization step using the custom acquisition function\n",
    "        GenerationStep(\n",
    "            model=Models.BOTORCH_MODULAR,\n",
    "            num_trials=-1,  # No limitation on how many trials should be produced from this step\n",
    "            # For `BOTORCH_MODULAR`, we pass in kwargs to specify what surrogate or acquisition function to use.\n",
    "            model_kwargs={\n",
    "                \"surrogate\": Surrogate(SimpleCustomGP),\n",
    "                \"botorch_acqf_class\":qExpectedImprovement\n",
    "            },\n",
    "        ),\n",
    "    ]\n",
    ")\n",
    "\n",
    "gs_es_rbf = GenerationStrategy(\n",
    "    steps=[\n",
    "        # Quasi-random initialization step\n",
    "        GenerationStep(\n",
    "            model=Models.SOBOL,\n",
    "            num_trials=30,  # How many trials should be produced from this generation step\n",
    "        ),\n",
    "        # Bayesian optimization step using the custom acquisition function\n",
    "        GenerationStep(\n",
    "            model=Models.BOTORCH_MODULAR,\n",
    "            num_trials=-1,  # No limitation on how many trials should be produced from this step\n",
    "            # For `BOTORCH_MODULAR`, we pass in kwargs to specify what surrogate or acquisition function to use.\n",
    "            model_kwargs={\n",
    "                \"surrogate\": Surrogate(SimpleCustomGP),\n",
    "                \"botorch_acqf_class\":qMaxValueEntropy\n",
    "            },\n",
    "        ),\n",
    "    ]\n",
    ")\n",
    "gs_es_mat = GenerationStrategy(\n",
    "    steps=[\n",
    "        # Quasi-random initialization step\n",
    "        GenerationStep(\n",
    "            model=Models.SOBOL,\n",
    "            num_trials=30,  # How many trials should be produced from this generation step\n",
    "        ),\n",
    "        # Bayesian optimization step using the custom acquisition function\n",
    "        GenerationStep(\n",
    "            model=Models.BOTORCH_MODULAR,\n",
    "            num_trials=-1,  # No limitation on how many trials should be produced from this step\n",
    "            # For `BOTORCH_MODULAR`, we pass in kwargs to specify what surrogate or acquisition function to use.\n",
    "            model_kwargs={\n",
    "                \"surrogate\": Surrogate(SimpleCustomGP, model_options={\"kernel\":'matern'}),\n",
    "                \"botorch_acqf_class\":qMaxValueEntropy\n",
    "            },\n",
    "        ),\n",
    "    ]\n",
    ")\n",
    "\n",
    "gs_ei_mat = GenerationStrategy(\n",
    "    steps=[\n",
    "        # Quasi-random initialization step\n",
    "        GenerationStep(\n",
    "            model=Models.SOBOL,\n",
    "            num_trials=50,  # How many trials should be produced from this generation step\n",
    "        ),\n",
    "        # Bayesian optimization step using the custom acquisition function\n",
    "        GenerationStep(\n",
    "            model=Models.BOTORCH_MODULAR,\n",
    "            num_trials=-1,  # No limitation on how many trials should be produced from this step\n",
    "            # For `BOTORCH_MODULAR`, we pass in kwargs to specify what surrogate or acquisition function to use.\n",
    "            model_kwargs={\n",
    "                \"surrogate\": Surrogate(SimpleCustomGP, model_options={\"kernel\":'matern'}),\n",
    "                \"botorch_acqf_class\":qExpectedImprovement\n",
    "            },\n",
    "        ),\n",
    "    ]\n",
    ")"
   ]
  },
  {
   "cell_type": "code",
   "execution_count": 14,
   "id": "fee840c0",
   "metadata": {},
   "outputs": [
    {
     "name": "stderr",
     "output_type": "stream",
     "text": [
      "[INFO 12-20 14:25:06] ax.service.utils.instantiation: Inferred value type of ParameterType.INT for parameter batch_size. If that is not the expected value type, you can explicity specify 'value_type' ('int', 'float', 'bool' or 'str') in parameter dict.\n",
      "[INFO 12-20 14:25:06] ax.service.utils.instantiation: Inferred value type of ParameterType.FLOAT for parameter learning_rate. If that is not the expected value type, you can explicity specify 'value_type' ('int', 'float', 'bool' or 'str') in parameter dict.\n",
      "[INFO 12-20 14:25:06] ax.service.utils.instantiation: Inferred value type of ParameterType.FLOAT for parameter max_dropout. If that is not the expected value type, you can explicity specify 'value_type' ('int', 'float', 'bool' or 'str') in parameter dict.\n",
      "[INFO 12-20 14:25:06] ax.service.utils.instantiation: Inferred value type of ParameterType.INT for parameter max_units. If that is not the expected value type, you can explicity specify 'value_type' ('int', 'float', 'bool' or 'str') in parameter dict.\n",
      "[INFO 12-20 14:25:06] ax.service.utils.instantiation: Inferred value type of ParameterType.FLOAT for parameter momentum. If that is not the expected value type, you can explicity specify 'value_type' ('int', 'float', 'bool' or 'str') in parameter dict.\n",
      "[INFO 12-20 14:25:06] ax.service.utils.instantiation: Inferred value type of ParameterType.INT for parameter num_layers. If that is not the expected value type, you can explicity specify 'value_type' ('int', 'float', 'bool' or 'str') in parameter dict.\n",
      "[INFO 12-20 14:25:06] ax.service.utils.instantiation: Inferred value type of ParameterType.FLOAT for parameter weight_decay. If that is not the expected value type, you can explicity specify 'value_type' ('int', 'float', 'bool' or 'str') in parameter dict.\n",
      "[INFO 12-20 14:25:06] ax.service.utils.instantiation: Created search space: SearchSpace(parameters=[FixedParameter(name='OpenML_task_id', parameter_type=STRING, value='126025'), RangeParameter(name='batch_size', parameter_type=INT, range=[16, 512], log_scale=True), FixedParameter(name='epoch', parameter_type=INT, value=40), RangeParameter(name='learning_rate', parameter_type=FLOAT, range=[0.00010000000000000009, 0.10000000000000002], log_scale=True), RangeParameter(name='max_dropout', parameter_type=FLOAT, range=[0.0, 1.0]), RangeParameter(name='max_units', parameter_type=INT, range=[64, 1024], log_scale=True), RangeParameter(name='momentum', parameter_type=FLOAT, range=[0.1, 0.99]), RangeParameter(name='num_layers', parameter_type=INT, range=[1, 5]), RangeParameter(name='weight_decay', parameter_type=FLOAT, range=[1e-05, 0.1])], parameter_constraints=[]).\n"
     ]
    },
    {
     "data": {
      "application/vnd.plotly.v1+json": {
       "config": {
        "linkText": "Export to plot.ly",
        "plotlyServerURL": "https://plot.ly",
        "showLink": false
       },
       "data": [
        {
         "hoverinfo": "none",
         "legendgroup": "",
         "line": {
          "width": 0
         },
         "mode": "lines",
         "showlegend": false,
         "type": "scatter",
         "x": [
          1,
          2,
          3,
          4,
          5,
          6,
          7,
          8,
          9,
          10,
          11,
          12,
          13,
          14,
          15,
          16,
          17,
          18,
          19,
          20,
          21,
          22,
          23,
          24,
          25,
          26,
          27,
          28,
          29,
          30,
          31,
          32,
          33,
          34,
          35,
          36,
          37,
          38,
          39,
          40,
          41,
          42,
          43,
          44,
          45,
          46,
          47,
          48,
          49,
          50,
          51,
          52,
          53,
          54,
          55,
          56
         ],
         "y": [
          81.24014282226562,
          85.09542083740234,
          85.09542083740234,
          85.09542083740234,
          85.09542083740234,
          85.09542083740234,
          85.09542083740234,
          85.09542083740234,
          85.09542083740234,
          85.09542083740234,
          85.09542083740234,
          85.09542083740234,
          85.09542083740234,
          85.09542083740234,
          85.09542083740234,
          85.09542083740234,
          85.09542083740234,
          85.09542083740234,
          85.09542083740234,
          85.09542083740234,
          85.09542083740234,
          85.09542083740234,
          85.09542083740234,
          85.09542083740234,
          85.09542083740234,
          85.09542083740234,
          85.09542083740234,
          85.09542083740234,
          85.09542083740234,
          86.39955139160156,
          86.39955139160156,
          86.39955139160156,
          86.39955139160156,
          86.39955139160156,
          86.39955139160156,
          86.39955139160156,
          86.39955139160156,
          86.39955139160156,
          86.39955139160156,
          86.39955139160156,
          86.39955139160156,
          86.39955139160156,
          86.39955139160156,
          86.39955139160156,
          86.39955139160156,
          86.39955139160156,
          86.39955139160156,
          86.39955139160156,
          86.39955139160156,
          86.39955139160156,
          86.39955139160156,
          86.49584197998047,
          86.49584197998047,
          86.49584197998047,
          86.49584197998047,
          86.49584197998047
         ]
        },
        {
         "fill": "tonexty",
         "fillcolor": "rgba(128,177,211,0.3)",
         "legendgroup": "objective value",
         "line": {
          "color": "rgba(128,177,211,1)"
         },
         "mode": "lines",
         "name": "objective value",
         "text": [
          "<br><em>Parameterization:</em><br>batch_size: 494<br>learning_rate: 0.02137889532820065<br>max_dropout: 0.05705582723021507<br>max_units: 68<br>momentum: 0.7410048973560334<br>num_layers: 3<br>weight_decay: 0.059806224150061614<br>OpenML_task_id: 126025<br>epoch: 40",
          "<br><em>Parameterization:</em><br>batch_size: 141<br>learning_rate: 0.002143059652428945<br>max_dropout: 0.4886644817888737<br>max_units: 541<br>momentum: 0.19675599242560565<br>num_layers: 5<br>weight_decay: 0.03307754067983479<br>OpenML_task_id: 126025<br>epoch: 40",
          "<br><em>Parameterization:</em><br>batch_size: 16<br>learning_rate: 0.0017129589560814435<br>max_dropout: 0.8660344369709492<br>max_units: 589<br>momentum: 0.14723099402152<br>num_layers: 4<br>weight_decay: 0.006420466891266406<br>OpenML_task_id: 126025<br>epoch: 40",
          "<br><em>Parameterization:</em><br>batch_size: 30<br>learning_rate: 0.0015643674520283207<br>max_dropout: 0.4489251170307398<br>max_units: 82<br>momentum: 0.6496450605709105<br>num_layers: 5<br>weight_decay: 0.09941207993193531<br>OpenML_task_id: 126025<br>epoch: 40",
          "<br><em>Parameterization:</em><br>batch_size: 306<br>learning_rate: 0.0029384912493912994<br>max_dropout: 0.037415094673633575<br>max_units: 308<br>momentum: 0.21603571087121964<br>num_layers: 4<br>weight_decay: 0.03346094516212121<br>OpenML_task_id: 126025<br>epoch: 40",
          "<br><em>Parameterization:</em><br>batch_size: 66<br>learning_rate: 0.033214374925165116<br>max_dropout: 0.49800797551870346<br>max_units: 930<br>momentum: 0.7832225849479437<br>num_layers: 1<br>weight_decay: 0.08414630391439423<br>OpenML_task_id: 126025<br>epoch: 40",
          "<br><em>Parameterization:</em><br>batch_size: 69<br>learning_rate: 0.0031958718164205083<br>max_dropout: 0.8579855486750603<br>max_units: 123<br>momentum: 0.4462829457130283<br>num_layers: 2<br>weight_decay: 0.009600236054044217<br>OpenML_task_id: 126025<br>epoch: 40",
          "<br><em>Parameterization:</em><br>batch_size: 126<br>learning_rate: 0.060441730692923114<br>max_dropout: 0.46792897768318653<br>max_units: 131<br>momentum: 0.41630359190516175<br>num_layers: 3<br>weight_decay: 0.05191879365270958<br>OpenML_task_id: 126025<br>epoch: 40",
          "<br><em>Parameterization:</em><br>batch_size: 66<br>learning_rate: 0.03741978562723821<br>max_dropout: 0.8723186003044248<br>max_units: 87<br>momentum: 0.5350662031397223<br>num_layers: 3<br>weight_decay: 0.08794567627143116<br>OpenML_task_id: 126025<br>epoch: 40",
          "<br><em>Parameterization:</em><br>batch_size: 46<br>learning_rate: 0.0006908553621843218<br>max_dropout: 0.3179693715646863<br>max_units: 242<br>momentum: 0.750655321860686<br>num_layers: 4<br>weight_decay: 0.026951504598278553<br>OpenML_task_id: 126025<br>epoch: 40",
          "<br><em>Parameterization:</em><br>batch_size: 53<br>learning_rate: 0.022241345115004522<br>max_dropout: 0.8575893435627222<br>max_units: 307<br>momentum: 0.3539889603015035<br>num_layers: 4<br>weight_decay: 0.0263723254222516<br>OpenML_task_id: 126025<br>epoch: 40",
          "<br><em>Parameterization:</em><br>batch_size: 411<br>learning_rate: 0.021355977992110028<br>max_dropout: 0.003735779784619808<br>max_units: 106<br>momentum: 0.8889668434672058<br>num_layers: 3<br>weight_decay: 0.0358378671533987<br>OpenML_task_id: 126025<br>epoch: 40",
          "<br><em>Parameterization:</em><br>batch_size: 137<br>learning_rate: 0.008530065124398896<br>max_dropout: 0.09828453976660967<br>max_units: 107<br>momentum: 0.6455090492591262<br>num_layers: 3<br>weight_decay: 0.05221349201200531<br>OpenML_task_id: 126025<br>epoch: 40",
          "<br><em>Parameterization:</em><br>batch_size: 369<br>learning_rate: 0.028654437304956953<br>max_dropout: 0.5018751891329885<br>max_units: 643<br>momentum: 0.9765479448065162<br>num_layers: 5<br>weight_decay: 0.05788150652413257<br>OpenML_task_id: 126025<br>epoch: 40",
          "<br><em>Parameterization:</em><br>batch_size: 27<br>learning_rate: 0.0010152042938151066<br>max_dropout: 0.0945260627195239<br>max_units: 401<br>momentum: 0.458673501117155<br>num_layers: 3<br>weight_decay: 0.015367054848112167<br>OpenML_task_id: 126025<br>epoch: 40",
          "<br><em>Parameterization:</em><br>batch_size: 27<br>learning_rate: 0.00016694140130790776<br>max_dropout: 0.49676038417965174<br>max_units: 938<br>momentum: 0.15622298425994813<br>num_layers: 3<br>weight_decay: 0.056291244236081846<br>OpenML_task_id: 126025<br>epoch: 40",
          "<br><em>Parameterization:</em><br>batch_size: 145<br>learning_rate: 0.0037589065828513195<br>max_dropout: 0.06513712089508772<br>max_units: 274<br>momentum: 0.7304287953488529<br>num_layers: 3<br>weight_decay: 0.032309758487371734<br>OpenML_task_id: 126025<br>epoch: 40",
          "<br><em>Parameterization:</em><br>batch_size: 43<br>learning_rate: 0.0012366494848468316<br>max_dropout: 0.7871959721669555<br>max_units: 116<br>momentum: 0.39223642277531323<br>num_layers: 4<br>weight_decay: 0.0027369823134131732<br>OpenML_task_id: 126025<br>epoch: 40",
          "<br><em>Parameterization:</em><br>batch_size: 38<br>learning_rate: 0.0011332577451050566<br>max_dropout: 0.4442300461232662<br>max_units: 1014<br>momentum: 0.3531189311202616<br>num_layers: 5<br>weight_decay: 0.03496994352663868<br>OpenML_task_id: 126025<br>epoch: 40",
          "<br><em>Parameterization:</em><br>batch_size: 171<br>learning_rate: 0.0015108638635026384<br>max_dropout: 0.9783757068216801<br>max_units: 1007<br>momentum: 0.3140434088278562<br>num_layers: 4<br>weight_decay: 0.001927082661977038<br>OpenML_task_id: 126025<br>epoch: 40",
          "<br><em>Parameterization:</em><br>batch_size: 395<br>learning_rate: 0.0017206291800384917<br>max_dropout: 0.6275646761059761<br>max_units: 104<br>momentum: 0.7438595450855792<br>num_layers: 1<br>weight_decay: 0.09338320646793583<br>OpenML_task_id: 126025<br>epoch: 40",
          "<br><em>Parameterization:</em><br>batch_size: 27<br>learning_rate: 0.001186768223312393<br>max_dropout: 0.9833576185628772<br>max_units: 98<br>momentum: 0.4972139542363584<br>num_layers: 2<br>weight_decay: 0.011839392240988091<br>OpenML_task_id: 126025<br>epoch: 40",
          "<br><em>Parameterization:</em><br>batch_size: 65<br>learning_rate: 0.017760964447984737<br>max_dropout: 0.37760343309491873<br>max_units: 875<br>momentum: 0.2780372631642968<br>num_layers: 4<br>weight_decay: 0.09417124709130266<br>OpenML_task_id: 126025<br>epoch: 40",
          "<br><em>Parameterization:</em><br>batch_size: 74<br>learning_rate: 0.00046459905965489913<br>max_dropout: 0.4363623522222042<br>max_units: 221<br>momentum: 0.29305047437548637<br>num_layers: 4<br>weight_decay: 0.044286774155078465<br>OpenML_task_id: 126025<br>epoch: 40",
          "<br><em>Parameterization:</em><br>batch_size: 16<br>learning_rate: 0.00019188769442778474<br>max_dropout: 0.06286571454256773<br>max_units: 69<br>momentum: 0.30476383968256415<br>num_layers: 3<br>weight_decay: 0.004174606876689941<br>OpenML_task_id: 126025<br>epoch: 40",
          "<br><em>Parameterization:</em><br>batch_size: 67<br>learning_rate: 0.0038862527938632713<br>max_dropout: 0.5338769787922502<br>max_units: 976<br>momentum: 0.45565630976110694<br>num_layers: 3<br>weight_decay: 0.008721275682179258<br>OpenML_task_id: 126025<br>epoch: 40",
          "<br><em>Parameterization:</em><br>batch_size: 460<br>learning_rate: 0.03425551128137761<br>max_dropout: 0.8188559813424945<br>max_units: 191<br>momentum: 0.5110928803030401<br>num_layers: 1<br>weight_decay: 0.04626269366255962<br>OpenML_task_id: 126025<br>epoch: 40",
          "<br><em>Parameterization:</em><br>batch_size: 169<br>learning_rate: 0.0009493898890103816<br>max_dropout: 0.11092131864279509<br>max_units: 140<br>momentum: 0.7798720523808151<br>num_layers: 5<br>weight_decay: 0.08221982775478624<br>OpenML_task_id: 126025<br>epoch: 40",
          "<br><em>Parameterization:</em><br>batch_size: 50<br>learning_rate: 0.004920659371766269<br>max_dropout: 0.3315900815650821<br>max_units: 68<br>momentum: 0.9028011137805879<br>num_layers: 2<br>weight_decay: 0.005339602473471314<br>OpenML_task_id: 126025<br>epoch: 40",
          "<br><em>Parameterization:</em><br>batch_size: 25<br>learning_rate: 0.0010335072075464678<br>max_dropout: 0.7526307282969356<br>max_units: 110<br>momentum: 0.6571380257606506<br>num_layers: 5<br>weight_decay: 0.09325417066025549<br>OpenML_task_id: 126025<br>epoch: 40",
          "<br><em>Parameterization:</em><br>batch_size: 17<br>learning_rate: 0.0004790756893257503<br>max_dropout: 0.6160118756815791<br>max_units: 269<br>momentum: 0.904318365007639<br>num_layers: 4<br>weight_decay: 0.037472169423606254<br>OpenML_task_id: 126025<br>epoch: 40",
          "<br><em>Parameterization:</em><br>batch_size: 113<br>learning_rate: 0.00017364172447151822<br>max_dropout: 0.4807708691805601<br>max_units: 1013<br>momentum: 0.47631195837631823<br>num_layers: 2<br>weight_decay: 0.023017420217618347<br>OpenML_task_id: 126025<br>epoch: 40",
          "<br><em>Parameterization:</em><br>batch_size: 433<br>learning_rate: 0.0021413537018711614<br>max_dropout: 0.7463033497333527<br>max_units: 809<br>momentum: 0.2864351681806147<br>num_layers: 2<br>weight_decay: 0.019711642394708472<br>OpenML_task_id: 126025<br>epoch: 40",
          "<br><em>Parameterization:</em><br>batch_size: 190<br>learning_rate: 0.00011258858231718708<br>max_dropout: 0.6338377352803946<br>max_units: 563<br>momentum: 0.7516495176590979<br>num_layers: 1<br>weight_decay: 0.048958337404672064<br>OpenML_task_id: 126025<br>epoch: 40",
          "<br><em>Parameterization:</em><br>batch_size: 61<br>learning_rate: 0.0003189816740807674<br>max_dropout: 0.9541152436286211<br>max_units: 343<br>momentum: 0.3234557226393372<br>num_layers: 2<br>weight_decay: 0.09337581902476959<br>OpenML_task_id: 126025<br>epoch: 40",
          "<br><em>Parameterization:</em><br>batch_size: 147<br>learning_rate: 0.0025777359488153265<br>max_dropout: 0.1523629641160369<br>max_units: 69<br>momentum: 0.6746416396368294<br>num_layers: 4<br>weight_decay: 0.05894306087508799<br>OpenML_task_id: 126025<br>epoch: 40",
          "<br><em>Parameterization:</em><br>batch_size: 172<br>learning_rate: 0.0002232154295902453<br>max_dropout: 0.9331587599590421<br>max_units: 751<br>momentum: 0.9134694764390587<br>num_layers: 2<br>weight_decay: 0.0076300163226109005<br>OpenML_task_id: 126025<br>epoch: 40",
          "<br><em>Parameterization:</em><br>batch_size: 114<br>learning_rate: 0.0002459970184101767<br>max_dropout: 0.7938416833058<br>max_units: 254<br>momentum: 0.8576429159101099<br>num_layers: 2<br>weight_decay: 0.05732495547857137<br>OpenML_task_id: 126025<br>epoch: 40",
          "<br><em>Parameterization:</em><br>batch_size: 208<br>learning_rate: 0.0001195752516828284<br>max_dropout: 0.8833838058635592<br>max_units: 244<br>momentum: 0.159839844154194<br>num_layers: 2<br>weight_decay: 0.010259468555329368<br>OpenML_task_id: 126025<br>epoch: 40",
          "<br><em>Parameterization:</em><br>batch_size: 34<br>learning_rate: 0.004501635667226018<br>max_dropout: 0.453064139932394<br>max_units: 931<br>momentum: 0.7777834586612881<br>num_layers: 4<br>weight_decay: 0.04265486784510315<br>OpenML_task_id: 126025<br>epoch: 40",
          "<br><em>Parameterization:</em><br>batch_size: 187<br>learning_rate: 0.0003953985554534093<br>max_dropout: 0.6648896615952253<br>max_units: 204<br>momentum: 0.596706322748214<br>num_layers: 1<br>weight_decay: 0.0032359166102856403<br>OpenML_task_id: 126025<br>epoch: 40",
          "<br><em>Parameterization:</em><br>batch_size: 40<br>learning_rate: 0.0005743322156564781<br>max_dropout: 0.8818693943321705<br>max_units: 153<br>momentum: 0.887001477247104<br>num_layers: 3<br>weight_decay: 0.06971167140618899<br>OpenML_task_id: 126025<br>epoch: 40",
          "<br><em>Parameterization:</em><br>batch_size: 83<br>learning_rate: 0.047777499575294397<br>max_dropout: 0.2200439078733325<br>max_units: 86<br>momentum: 0.947335286559537<br>num_layers: 4<br>weight_decay: 0.07036222103103064<br>OpenML_task_id: 126025<br>epoch: 40",
          "<br><em>Parameterization:</em><br>batch_size: 465<br>learning_rate: 0.0001259564454616244<br>max_dropout: 0.7828791411593556<br>max_units: 418<br>momentum: 0.7676185294240713<br>num_layers: 2<br>weight_decay: 0.021934187217736618<br>OpenML_task_id: 126025<br>epoch: 40",
          "<br><em>Parameterization:</em><br>batch_size: 122<br>learning_rate: 0.0029862243934351933<br>max_dropout: 0.23201107885688543<br>max_units: 100<br>momentum: 0.3762793294340372<br>num_layers: 4<br>weight_decay: 0.04822430622650311<br>OpenML_task_id: 126025<br>epoch: 40",
          "<br><em>Parameterization:</em><br>batch_size: 139<br>learning_rate: 0.013375765912558764<br>max_dropout: 0.7048739651218057<br>max_units: 80<br>momentum: 0.731944660693407<br>num_layers: 4<br>weight_decay: 0.09565635318138638<br>OpenML_task_id: 126025<br>epoch: 40",
          "<br><em>Parameterization:</em><br>batch_size: 41<br>learning_rate: 0.05742583018902358<br>max_dropout: 0.9971223035827279<br>max_units: 103<br>momentum: 0.44676684001460676<br>num_layers: 4<br>weight_decay: 0.06932775707578287<br>OpenML_task_id: 126025<br>epoch: 40",
          "<br><em>Parameterization:</em><br>batch_size: 230<br>learning_rate: 0.010052157038921468<br>max_dropout: 0.26151352282613516<br>max_units: 127<br>momentum: 0.2385849557258189<br>num_layers: 3<br>weight_decay: 0.00494650491704233<br>OpenML_task_id: 126025<br>epoch: 40",
          "<br><em>Parameterization:</em><br>batch_size: 171<br>learning_rate: 0.0010625014657736126<br>max_dropout: 0.2727567795664072<br>max_units: 385<br>momentum: 0.7909893232677132<br>num_layers: 1<br>weight_decay: 0.04927386010300369<br>OpenML_task_id: 126025<br>epoch: 40",
          "<br><em>Parameterization:</em><br>batch_size: 36<br>learning_rate: 0.04227653764460888<br>max_dropout: 0.070574882440269<br>max_units: 138<br>momentum: 0.870707402266562<br>num_layers: 1<br>weight_decay: 0.010976163128092886<br>OpenML_task_id: 126025<br>epoch: 40",
          "<br><em>Parameterization:</em><br>batch_size: 16<br>learning_rate: 0.0008493938953162862<br>max_dropout: 0.5784124447612856<br>max_units: 113<br>momentum: 0.7702677541670389<br>num_layers: 5<br>weight_decay: 0.09113236861779432<br>OpenML_task_id: 126025<br>epoch: 40",
          "<br><em>Parameterization:</em><br>batch_size: 21<br>learning_rate: 0.0012852372891834435<br>max_dropout: 0.6780896942766181<br>max_units: 82<br>momentum: 0.5414426118324929<br>num_layers: 5<br>weight_decay: 0.1<br>OpenML_task_id: 126025<br>epoch: 40",
          "<br><em>Parameterization:</em><br>batch_size: 24<br>learning_rate: 0.0012521427315454216<br>max_dropout: 0.6814326104608879<br>max_units: 125<br>momentum: 0.8480607085746432<br>num_layers: 5<br>weight_decay: 0.1<br>OpenML_task_id: 126025<br>epoch: 40",
          "<br><em>Parameterization:</em><br>batch_size: 32<br>learning_rate: 0.0010338351418535524<br>max_dropout: 0.6069164339030995<br>max_units: 91<br>momentum: 0.5097908087148879<br>num_layers: 3<br>weight_decay: 0.1<br>OpenML_task_id: 126025<br>epoch: 40",
          "<br><em>Parameterization:</em><br>batch_size: 98<br>learning_rate: 0.00417499647105156<br>max_dropout: 0.5002672702531745<br>max_units: 75<br>momentum: 0.1695095362128051<br>num_layers: 5<br>weight_decay: 0.06101539700912458<br>OpenML_task_id: 126025<br>epoch: 40",
          "<br><em>Parameterization:</em><br>batch_size: 16<br>learning_rate: 0.0004301182657127316<br>max_dropout: 0.6598382054754186<br>max_units: 64<br>momentum: 0.6717750353257529<br>num_layers: 5<br>weight_decay: 0.1<br>OpenML_task_id: 126025<br>epoch: 40"
         ],
         "type": "scatter",
         "x": [
          1,
          2,
          3,
          4,
          5,
          6,
          7,
          8,
          9,
          10,
          11,
          12,
          13,
          14,
          15,
          16,
          17,
          18,
          19,
          20,
          21,
          22,
          23,
          24,
          25,
          26,
          27,
          28,
          29,
          30,
          31,
          32,
          33,
          34,
          35,
          36,
          37,
          38,
          39,
          40,
          41,
          42,
          43,
          44,
          45,
          46,
          47,
          48,
          49,
          50,
          51,
          52,
          53,
          54,
          55,
          56
         ],
         "y": [
          81.24014282226562,
          85.09542083740234,
          85.09542083740234,
          85.09542083740234,
          85.09542083740234,
          85.09542083740234,
          85.09542083740234,
          85.09542083740234,
          85.09542083740234,
          85.09542083740234,
          85.09542083740234,
          85.09542083740234,
          85.09542083740234,
          85.09542083740234,
          85.09542083740234,
          85.09542083740234,
          85.09542083740234,
          85.09542083740234,
          85.09542083740234,
          85.09542083740234,
          85.09542083740234,
          85.09542083740234,
          85.09542083740234,
          85.09542083740234,
          85.09542083740234,
          85.09542083740234,
          85.09542083740234,
          85.09542083740234,
          85.09542083740234,
          86.39955139160156,
          86.39955139160156,
          86.39955139160156,
          86.39955139160156,
          86.39955139160156,
          86.39955139160156,
          86.39955139160156,
          86.39955139160156,
          86.39955139160156,
          86.39955139160156,
          86.39955139160156,
          86.39955139160156,
          86.39955139160156,
          86.39955139160156,
          86.39955139160156,
          86.39955139160156,
          86.39955139160156,
          86.39955139160156,
          86.39955139160156,
          86.39955139160156,
          86.39955139160156,
          86.39955139160156,
          86.49584197998047,
          86.49584197998047,
          86.49584197998047,
          86.49584197998047,
          86.49584197998047
         ]
        },
        {
         "fill": "tonexty",
         "fillcolor": "rgba(128,177,211,0.3)",
         "hoverinfo": "none",
         "legendgroup": "",
         "line": {
          "width": 0
         },
         "mode": "lines",
         "showlegend": false,
         "type": "scatter",
         "x": [
          1,
          2,
          3,
          4,
          5,
          6,
          7,
          8,
          9,
          10,
          11,
          12,
          13,
          14,
          15,
          16,
          17,
          18,
          19,
          20,
          21,
          22,
          23,
          24,
          25,
          26,
          27,
          28,
          29,
          30,
          31,
          32,
          33,
          34,
          35,
          36,
          37,
          38,
          39,
          40,
          41,
          42,
          43,
          44,
          45,
          46,
          47,
          48,
          49,
          50,
          51,
          52,
          53,
          54,
          55,
          56
         ],
         "y": [
          81.24014282226562,
          85.09542083740234,
          85.09542083740234,
          85.09542083740234,
          85.09542083740234,
          85.09542083740234,
          85.09542083740234,
          85.09542083740234,
          85.09542083740234,
          85.09542083740234,
          85.09542083740234,
          85.09542083740234,
          85.09542083740234,
          85.09542083740234,
          85.09542083740234,
          85.09542083740234,
          85.09542083740234,
          85.09542083740234,
          85.09542083740234,
          85.09542083740234,
          85.09542083740234,
          85.09542083740234,
          85.09542083740234,
          85.09542083740234,
          85.09542083740234,
          85.09542083740234,
          85.09542083740234,
          85.09542083740234,
          85.09542083740234,
          86.39955139160156,
          86.39955139160156,
          86.39955139160156,
          86.39955139160156,
          86.39955139160156,
          86.39955139160156,
          86.39955139160156,
          86.39955139160156,
          86.39955139160156,
          86.39955139160156,
          86.39955139160156,
          86.39955139160156,
          86.39955139160156,
          86.39955139160156,
          86.39955139160156,
          86.39955139160156,
          86.39955139160156,
          86.39955139160156,
          86.39955139160156,
          86.39955139160156,
          86.39955139160156,
          86.39955139160156,
          86.49584197998047,
          86.49584197998047,
          86.49584197998047,
          86.49584197998047,
          86.49584197998047
         ]
        },
        {
         "line": {
          "color": "rgba(253,180,98,1)",
          "dash": "dash"
         },
         "mode": "lines",
         "name": "Optimum",
         "type": "scatter",
         "x": [
          1,
          56
         ],
         "y": [
          96.51996,
          96.51996
         ]
        },
        {
         "line": {
          "color": "rgba(141,211,199,1)",
          "dash": "dash"
         },
         "mode": "lines",
         "name": "model change",
         "type": "scatter",
         "x": [
          50,
          50
         ],
         "y": [
          81.24014282226562,
          96.51996
         ]
        }
       ],
       "layout": {
        "showlegend": true,
        "template": {
         "data": {
          "bar": [
           {
            "error_x": {
             "color": "#2a3f5f"
            },
            "error_y": {
             "color": "#2a3f5f"
            },
            "marker": {
             "line": {
              "color": "#E5ECF6",
              "width": 0.5
             },
             "pattern": {
              "fillmode": "overlay",
              "size": 10,
              "solidity": 0.2
             }
            },
            "type": "bar"
           }
          ],
          "barpolar": [
           {
            "marker": {
             "line": {
              "color": "#E5ECF6",
              "width": 0.5
             },
             "pattern": {
              "fillmode": "overlay",
              "size": 10,
              "solidity": 0.2
             }
            },
            "type": "barpolar"
           }
          ],
          "carpet": [
           {
            "aaxis": {
             "endlinecolor": "#2a3f5f",
             "gridcolor": "white",
             "linecolor": "white",
             "minorgridcolor": "white",
             "startlinecolor": "#2a3f5f"
            },
            "baxis": {
             "endlinecolor": "#2a3f5f",
             "gridcolor": "white",
             "linecolor": "white",
             "minorgridcolor": "white",
             "startlinecolor": "#2a3f5f"
            },
            "type": "carpet"
           }
          ],
          "choropleth": [
           {
            "colorbar": {
             "outlinewidth": 0,
             "ticks": ""
            },
            "type": "choropleth"
           }
          ],
          "contour": [
           {
            "colorbar": {
             "outlinewidth": 0,
             "ticks": ""
            },
            "colorscale": [
             [
              0,
              "#0d0887"
             ],
             [
              0.1111111111111111,
              "#46039f"
             ],
             [
              0.2222222222222222,
              "#7201a8"
             ],
             [
              0.3333333333333333,
              "#9c179e"
             ],
             [
              0.4444444444444444,
              "#bd3786"
             ],
             [
              0.5555555555555556,
              "#d8576b"
             ],
             [
              0.6666666666666666,
              "#ed7953"
             ],
             [
              0.7777777777777778,
              "#fb9f3a"
             ],
             [
              0.8888888888888888,
              "#fdca26"
             ],
             [
              1,
              "#f0f921"
             ]
            ],
            "type": "contour"
           }
          ],
          "contourcarpet": [
           {
            "colorbar": {
             "outlinewidth": 0,
             "ticks": ""
            },
            "type": "contourcarpet"
           }
          ],
          "heatmap": [
           {
            "colorbar": {
             "outlinewidth": 0,
             "ticks": ""
            },
            "colorscale": [
             [
              0,
              "#0d0887"
             ],
             [
              0.1111111111111111,
              "#46039f"
             ],
             [
              0.2222222222222222,
              "#7201a8"
             ],
             [
              0.3333333333333333,
              "#9c179e"
             ],
             [
              0.4444444444444444,
              "#bd3786"
             ],
             [
              0.5555555555555556,
              "#d8576b"
             ],
             [
              0.6666666666666666,
              "#ed7953"
             ],
             [
              0.7777777777777778,
              "#fb9f3a"
             ],
             [
              0.8888888888888888,
              "#fdca26"
             ],
             [
              1,
              "#f0f921"
             ]
            ],
            "type": "heatmap"
           }
          ],
          "heatmapgl": [
           {
            "colorbar": {
             "outlinewidth": 0,
             "ticks": ""
            },
            "colorscale": [
             [
              0,
              "#0d0887"
             ],
             [
              0.1111111111111111,
              "#46039f"
             ],
             [
              0.2222222222222222,
              "#7201a8"
             ],
             [
              0.3333333333333333,
              "#9c179e"
             ],
             [
              0.4444444444444444,
              "#bd3786"
             ],
             [
              0.5555555555555556,
              "#d8576b"
             ],
             [
              0.6666666666666666,
              "#ed7953"
             ],
             [
              0.7777777777777778,
              "#fb9f3a"
             ],
             [
              0.8888888888888888,
              "#fdca26"
             ],
             [
              1,
              "#f0f921"
             ]
            ],
            "type": "heatmapgl"
           }
          ],
          "histogram": [
           {
            "marker": {
             "pattern": {
              "fillmode": "overlay",
              "size": 10,
              "solidity": 0.2
             }
            },
            "type": "histogram"
           }
          ],
          "histogram2d": [
           {
            "colorbar": {
             "outlinewidth": 0,
             "ticks": ""
            },
            "colorscale": [
             [
              0,
              "#0d0887"
             ],
             [
              0.1111111111111111,
              "#46039f"
             ],
             [
              0.2222222222222222,
              "#7201a8"
             ],
             [
              0.3333333333333333,
              "#9c179e"
             ],
             [
              0.4444444444444444,
              "#bd3786"
             ],
             [
              0.5555555555555556,
              "#d8576b"
             ],
             [
              0.6666666666666666,
              "#ed7953"
             ],
             [
              0.7777777777777778,
              "#fb9f3a"
             ],
             [
              0.8888888888888888,
              "#fdca26"
             ],
             [
              1,
              "#f0f921"
             ]
            ],
            "type": "histogram2d"
           }
          ],
          "histogram2dcontour": [
           {
            "colorbar": {
             "outlinewidth": 0,
             "ticks": ""
            },
            "colorscale": [
             [
              0,
              "#0d0887"
             ],
             [
              0.1111111111111111,
              "#46039f"
             ],
             [
              0.2222222222222222,
              "#7201a8"
             ],
             [
              0.3333333333333333,
              "#9c179e"
             ],
             [
              0.4444444444444444,
              "#bd3786"
             ],
             [
              0.5555555555555556,
              "#d8576b"
             ],
             [
              0.6666666666666666,
              "#ed7953"
             ],
             [
              0.7777777777777778,
              "#fb9f3a"
             ],
             [
              0.8888888888888888,
              "#fdca26"
             ],
             [
              1,
              "#f0f921"
             ]
            ],
            "type": "histogram2dcontour"
           }
          ],
          "mesh3d": [
           {
            "colorbar": {
             "outlinewidth": 0,
             "ticks": ""
            },
            "type": "mesh3d"
           }
          ],
          "parcoords": [
           {
            "line": {
             "colorbar": {
              "outlinewidth": 0,
              "ticks": ""
             }
            },
            "type": "parcoords"
           }
          ],
          "pie": [
           {
            "automargin": true,
            "type": "pie"
           }
          ],
          "scatter": [
           {
            "fillpattern": {
             "fillmode": "overlay",
             "size": 10,
             "solidity": 0.2
            },
            "type": "scatter"
           }
          ],
          "scatter3d": [
           {
            "line": {
             "colorbar": {
              "outlinewidth": 0,
              "ticks": ""
             }
            },
            "marker": {
             "colorbar": {
              "outlinewidth": 0,
              "ticks": ""
             }
            },
            "type": "scatter3d"
           }
          ],
          "scattercarpet": [
           {
            "marker": {
             "colorbar": {
              "outlinewidth": 0,
              "ticks": ""
             }
            },
            "type": "scattercarpet"
           }
          ],
          "scattergeo": [
           {
            "marker": {
             "colorbar": {
              "outlinewidth": 0,
              "ticks": ""
             }
            },
            "type": "scattergeo"
           }
          ],
          "scattergl": [
           {
            "marker": {
             "colorbar": {
              "outlinewidth": 0,
              "ticks": ""
             }
            },
            "type": "scattergl"
           }
          ],
          "scattermapbox": [
           {
            "marker": {
             "colorbar": {
              "outlinewidth": 0,
              "ticks": ""
             }
            },
            "type": "scattermapbox"
           }
          ],
          "scatterpolar": [
           {
            "marker": {
             "colorbar": {
              "outlinewidth": 0,
              "ticks": ""
             }
            },
            "type": "scatterpolar"
           }
          ],
          "scatterpolargl": [
           {
            "marker": {
             "colorbar": {
              "outlinewidth": 0,
              "ticks": ""
             }
            },
            "type": "scatterpolargl"
           }
          ],
          "scatterternary": [
           {
            "marker": {
             "colorbar": {
              "outlinewidth": 0,
              "ticks": ""
             }
            },
            "type": "scatterternary"
           }
          ],
          "surface": [
           {
            "colorbar": {
             "outlinewidth": 0,
             "ticks": ""
            },
            "colorscale": [
             [
              0,
              "#0d0887"
             ],
             [
              0.1111111111111111,
              "#46039f"
             ],
             [
              0.2222222222222222,
              "#7201a8"
             ],
             [
              0.3333333333333333,
              "#9c179e"
             ],
             [
              0.4444444444444444,
              "#bd3786"
             ],
             [
              0.5555555555555556,
              "#d8576b"
             ],
             [
              0.6666666666666666,
              "#ed7953"
             ],
             [
              0.7777777777777778,
              "#fb9f3a"
             ],
             [
              0.8888888888888888,
              "#fdca26"
             ],
             [
              1,
              "#f0f921"
             ]
            ],
            "type": "surface"
           }
          ],
          "table": [
           {
            "cells": {
             "fill": {
              "color": "#EBF0F8"
             },
             "line": {
              "color": "white"
             }
            },
            "header": {
             "fill": {
              "color": "#C8D4E3"
             },
             "line": {
              "color": "white"
             }
            },
            "type": "table"
           }
          ]
         },
         "layout": {
          "annotationdefaults": {
           "arrowcolor": "#2a3f5f",
           "arrowhead": 0,
           "arrowwidth": 1
          },
          "autotypenumbers": "strict",
          "coloraxis": {
           "colorbar": {
            "outlinewidth": 0,
            "ticks": ""
           }
          },
          "colorscale": {
           "diverging": [
            [
             0,
             "#8e0152"
            ],
            [
             0.1,
             "#c51b7d"
            ],
            [
             0.2,
             "#de77ae"
            ],
            [
             0.3,
             "#f1b6da"
            ],
            [
             0.4,
             "#fde0ef"
            ],
            [
             0.5,
             "#f7f7f7"
            ],
            [
             0.6,
             "#e6f5d0"
            ],
            [
             0.7,
             "#b8e186"
            ],
            [
             0.8,
             "#7fbc41"
            ],
            [
             0.9,
             "#4d9221"
            ],
            [
             1,
             "#276419"
            ]
           ],
           "sequential": [
            [
             0,
             "#0d0887"
            ],
            [
             0.1111111111111111,
             "#46039f"
            ],
            [
             0.2222222222222222,
             "#7201a8"
            ],
            [
             0.3333333333333333,
             "#9c179e"
            ],
            [
             0.4444444444444444,
             "#bd3786"
            ],
            [
             0.5555555555555556,
             "#d8576b"
            ],
            [
             0.6666666666666666,
             "#ed7953"
            ],
            [
             0.7777777777777778,
             "#fb9f3a"
            ],
            [
             0.8888888888888888,
             "#fdca26"
            ],
            [
             1,
             "#f0f921"
            ]
           ],
           "sequentialminus": [
            [
             0,
             "#0d0887"
            ],
            [
             0.1111111111111111,
             "#46039f"
            ],
            [
             0.2222222222222222,
             "#7201a8"
            ],
            [
             0.3333333333333333,
             "#9c179e"
            ],
            [
             0.4444444444444444,
             "#bd3786"
            ],
            [
             0.5555555555555556,
             "#d8576b"
            ],
            [
             0.6666666666666666,
             "#ed7953"
            ],
            [
             0.7777777777777778,
             "#fb9f3a"
            ],
            [
             0.8888888888888888,
             "#fdca26"
            ],
            [
             1,
             "#f0f921"
            ]
           ]
          },
          "colorway": [
           "#636efa",
           "#EF553B",
           "#00cc96",
           "#ab63fa",
           "#FFA15A",
           "#19d3f3",
           "#FF6692",
           "#B6E880",
           "#FF97FF",
           "#FECB52"
          ],
          "font": {
           "color": "#2a3f5f"
          },
          "geo": {
           "bgcolor": "white",
           "lakecolor": "white",
           "landcolor": "#E5ECF6",
           "showlakes": true,
           "showland": true,
           "subunitcolor": "white"
          },
          "hoverlabel": {
           "align": "left"
          },
          "hovermode": "closest",
          "mapbox": {
           "style": "light"
          },
          "paper_bgcolor": "white",
          "plot_bgcolor": "#E5ECF6",
          "polar": {
           "angularaxis": {
            "gridcolor": "white",
            "linecolor": "white",
            "ticks": ""
           },
           "bgcolor": "#E5ECF6",
           "radialaxis": {
            "gridcolor": "white",
            "linecolor": "white",
            "ticks": ""
           }
          },
          "scene": {
           "xaxis": {
            "backgroundcolor": "#E5ECF6",
            "gridcolor": "white",
            "gridwidth": 2,
            "linecolor": "white",
            "showbackground": true,
            "ticks": "",
            "zerolinecolor": "white"
           },
           "yaxis": {
            "backgroundcolor": "#E5ECF6",
            "gridcolor": "white",
            "gridwidth": 2,
            "linecolor": "white",
            "showbackground": true,
            "ticks": "",
            "zerolinecolor": "white"
           },
           "zaxis": {
            "backgroundcolor": "#E5ECF6",
            "gridcolor": "white",
            "gridwidth": 2,
            "linecolor": "white",
            "showbackground": true,
            "ticks": "",
            "zerolinecolor": "white"
           }
          },
          "shapedefaults": {
           "line": {
            "color": "#2a3f5f"
           }
          },
          "ternary": {
           "aaxis": {
            "gridcolor": "white",
            "linecolor": "white",
            "ticks": ""
           },
           "baxis": {
            "gridcolor": "white",
            "linecolor": "white",
            "ticks": ""
           },
           "bgcolor": "#E5ECF6",
           "caxis": {
            "gridcolor": "white",
            "linecolor": "white",
            "ticks": ""
           }
          },
          "title": {
           "x": 0.05
          },
          "xaxis": {
           "automargin": true,
           "gridcolor": "white",
           "linecolor": "white",
           "ticks": "",
           "title": {
            "standoff": 15
           },
           "zerolinecolor": "white",
           "zerolinewidth": 2
          },
          "yaxis": {
           "automargin": true,
           "gridcolor": "white",
           "linecolor": "white",
           "ticks": "",
           "title": {
            "standoff": 15
           },
           "zerolinecolor": "white",
           "zerolinewidth": 2
          }
         }
        },
        "title": {
         "text": "Model performance vs. # of iterations"
        },
        "xaxis": {
         "title": {
          "text": "Iteration"
         }
        },
        "yaxis": {
         "title": {
          "text": "Accuracy"
         }
        }
       }
      },
      "text/html": [
       "<div>                            <div id=\"1cacc586-0d04-4894-964a-0985dc7a856e\" class=\"plotly-graph-div\" style=\"height:525px; width:100%;\"></div>            <script type=\"text/javascript\">                require([\"plotly\"], function(Plotly) {                    window.PLOTLYENV=window.PLOTLYENV || {};                                    if (document.getElementById(\"1cacc586-0d04-4894-964a-0985dc7a856e\")) {                    Plotly.newPlot(                        \"1cacc586-0d04-4894-964a-0985dc7a856e\",                        [{\"hoverinfo\":\"none\",\"legendgroup\":\"\",\"line\":{\"width\":0},\"mode\":\"lines\",\"showlegend\":false,\"x\":[1,2,3,4,5,6,7,8,9,10,11,12,13,14,15,16,17,18,19,20,21,22,23,24,25,26,27,28,29,30,31,32,33,34,35,36,37,38,39,40,41,42,43,44,45,46,47,48,49,50,51,52,53,54,55,56],\"y\":[81.24014282226562,85.09542083740234,85.09542083740234,85.09542083740234,85.09542083740234,85.09542083740234,85.09542083740234,85.09542083740234,85.09542083740234,85.09542083740234,85.09542083740234,85.09542083740234,85.09542083740234,85.09542083740234,85.09542083740234,85.09542083740234,85.09542083740234,85.09542083740234,85.09542083740234,85.09542083740234,85.09542083740234,85.09542083740234,85.09542083740234,85.09542083740234,85.09542083740234,85.09542083740234,85.09542083740234,85.09542083740234,85.09542083740234,86.39955139160156,86.39955139160156,86.39955139160156,86.39955139160156,86.39955139160156,86.39955139160156,86.39955139160156,86.39955139160156,86.39955139160156,86.39955139160156,86.39955139160156,86.39955139160156,86.39955139160156,86.39955139160156,86.39955139160156,86.39955139160156,86.39955139160156,86.39955139160156,86.39955139160156,86.39955139160156,86.39955139160156,86.39955139160156,86.49584197998047,86.49584197998047,86.49584197998047,86.49584197998047,86.49584197998047],\"type\":\"scatter\"},{\"fill\":\"tonexty\",\"fillcolor\":\"rgba(128,177,211,0.3)\",\"legendgroup\":\"objective value\",\"line\":{\"color\":\"rgba(128,177,211,1)\"},\"mode\":\"lines\",\"name\":\"objective value\",\"text\":[\"<br><em>Parameterization:</em><br>batch_size: 494<br>learning_rate: 0.02137889532820065<br>max_dropout: 0.05705582723021507<br>max_units: 68<br>momentum: 0.7410048973560334<br>num_layers: 3<br>weight_decay: 0.059806224150061614<br>OpenML_task_id: 126025<br>epoch: 40\",\"<br><em>Parameterization:</em><br>batch_size: 141<br>learning_rate: 0.002143059652428945<br>max_dropout: 0.4886644817888737<br>max_units: 541<br>momentum: 0.19675599242560565<br>num_layers: 5<br>weight_decay: 0.03307754067983479<br>OpenML_task_id: 126025<br>epoch: 40\",\"<br><em>Parameterization:</em><br>batch_size: 16<br>learning_rate: 0.0017129589560814435<br>max_dropout: 0.8660344369709492<br>max_units: 589<br>momentum: 0.14723099402152<br>num_layers: 4<br>weight_decay: 0.006420466891266406<br>OpenML_task_id: 126025<br>epoch: 40\",\"<br><em>Parameterization:</em><br>batch_size: 30<br>learning_rate: 0.0015643674520283207<br>max_dropout: 0.4489251170307398<br>max_units: 82<br>momentum: 0.6496450605709105<br>num_layers: 5<br>weight_decay: 0.09941207993193531<br>OpenML_task_id: 126025<br>epoch: 40\",\"<br><em>Parameterization:</em><br>batch_size: 306<br>learning_rate: 0.0029384912493912994<br>max_dropout: 0.037415094673633575<br>max_units: 308<br>momentum: 0.21603571087121964<br>num_layers: 4<br>weight_decay: 0.03346094516212121<br>OpenML_task_id: 126025<br>epoch: 40\",\"<br><em>Parameterization:</em><br>batch_size: 66<br>learning_rate: 0.033214374925165116<br>max_dropout: 0.49800797551870346<br>max_units: 930<br>momentum: 0.7832225849479437<br>num_layers: 1<br>weight_decay: 0.08414630391439423<br>OpenML_task_id: 126025<br>epoch: 40\",\"<br><em>Parameterization:</em><br>batch_size: 69<br>learning_rate: 0.0031958718164205083<br>max_dropout: 0.8579855486750603<br>max_units: 123<br>momentum: 0.4462829457130283<br>num_layers: 2<br>weight_decay: 0.009600236054044217<br>OpenML_task_id: 126025<br>epoch: 40\",\"<br><em>Parameterization:</em><br>batch_size: 126<br>learning_rate: 0.060441730692923114<br>max_dropout: 0.46792897768318653<br>max_units: 131<br>momentum: 0.41630359190516175<br>num_layers: 3<br>weight_decay: 0.05191879365270958<br>OpenML_task_id: 126025<br>epoch: 40\",\"<br><em>Parameterization:</em><br>batch_size: 66<br>learning_rate: 0.03741978562723821<br>max_dropout: 0.8723186003044248<br>max_units: 87<br>momentum: 0.5350662031397223<br>num_layers: 3<br>weight_decay: 0.08794567627143116<br>OpenML_task_id: 126025<br>epoch: 40\",\"<br><em>Parameterization:</em><br>batch_size: 46<br>learning_rate: 0.0006908553621843218<br>max_dropout: 0.3179693715646863<br>max_units: 242<br>momentum: 0.750655321860686<br>num_layers: 4<br>weight_decay: 0.026951504598278553<br>OpenML_task_id: 126025<br>epoch: 40\",\"<br><em>Parameterization:</em><br>batch_size: 53<br>learning_rate: 0.022241345115004522<br>max_dropout: 0.8575893435627222<br>max_units: 307<br>momentum: 0.3539889603015035<br>num_layers: 4<br>weight_decay: 0.0263723254222516<br>OpenML_task_id: 126025<br>epoch: 40\",\"<br><em>Parameterization:</em><br>batch_size: 411<br>learning_rate: 0.021355977992110028<br>max_dropout: 0.003735779784619808<br>max_units: 106<br>momentum: 0.8889668434672058<br>num_layers: 3<br>weight_decay: 0.0358378671533987<br>OpenML_task_id: 126025<br>epoch: 40\",\"<br><em>Parameterization:</em><br>batch_size: 137<br>learning_rate: 0.008530065124398896<br>max_dropout: 0.09828453976660967<br>max_units: 107<br>momentum: 0.6455090492591262<br>num_layers: 3<br>weight_decay: 0.05221349201200531<br>OpenML_task_id: 126025<br>epoch: 40\",\"<br><em>Parameterization:</em><br>batch_size: 369<br>learning_rate: 0.028654437304956953<br>max_dropout: 0.5018751891329885<br>max_units: 643<br>momentum: 0.9765479448065162<br>num_layers: 5<br>weight_decay: 0.05788150652413257<br>OpenML_task_id: 126025<br>epoch: 40\",\"<br><em>Parameterization:</em><br>batch_size: 27<br>learning_rate: 0.0010152042938151066<br>max_dropout: 0.0945260627195239<br>max_units: 401<br>momentum: 0.458673501117155<br>num_layers: 3<br>weight_decay: 0.015367054848112167<br>OpenML_task_id: 126025<br>epoch: 40\",\"<br><em>Parameterization:</em><br>batch_size: 27<br>learning_rate: 0.00016694140130790776<br>max_dropout: 0.49676038417965174<br>max_units: 938<br>momentum: 0.15622298425994813<br>num_layers: 3<br>weight_decay: 0.056291244236081846<br>OpenML_task_id: 126025<br>epoch: 40\",\"<br><em>Parameterization:</em><br>batch_size: 145<br>learning_rate: 0.0037589065828513195<br>max_dropout: 0.06513712089508772<br>max_units: 274<br>momentum: 0.7304287953488529<br>num_layers: 3<br>weight_decay: 0.032309758487371734<br>OpenML_task_id: 126025<br>epoch: 40\",\"<br><em>Parameterization:</em><br>batch_size: 43<br>learning_rate: 0.0012366494848468316<br>max_dropout: 0.7871959721669555<br>max_units: 116<br>momentum: 0.39223642277531323<br>num_layers: 4<br>weight_decay: 0.0027369823134131732<br>OpenML_task_id: 126025<br>epoch: 40\",\"<br><em>Parameterization:</em><br>batch_size: 38<br>learning_rate: 0.0011332577451050566<br>max_dropout: 0.4442300461232662<br>max_units: 1014<br>momentum: 0.3531189311202616<br>num_layers: 5<br>weight_decay: 0.03496994352663868<br>OpenML_task_id: 126025<br>epoch: 40\",\"<br><em>Parameterization:</em><br>batch_size: 171<br>learning_rate: 0.0015108638635026384<br>max_dropout: 0.9783757068216801<br>max_units: 1007<br>momentum: 0.3140434088278562<br>num_layers: 4<br>weight_decay: 0.001927082661977038<br>OpenML_task_id: 126025<br>epoch: 40\",\"<br><em>Parameterization:</em><br>batch_size: 395<br>learning_rate: 0.0017206291800384917<br>max_dropout: 0.6275646761059761<br>max_units: 104<br>momentum: 0.7438595450855792<br>num_layers: 1<br>weight_decay: 0.09338320646793583<br>OpenML_task_id: 126025<br>epoch: 40\",\"<br><em>Parameterization:</em><br>batch_size: 27<br>learning_rate: 0.001186768223312393<br>max_dropout: 0.9833576185628772<br>max_units: 98<br>momentum: 0.4972139542363584<br>num_layers: 2<br>weight_decay: 0.011839392240988091<br>OpenML_task_id: 126025<br>epoch: 40\",\"<br><em>Parameterization:</em><br>batch_size: 65<br>learning_rate: 0.017760964447984737<br>max_dropout: 0.37760343309491873<br>max_units: 875<br>momentum: 0.2780372631642968<br>num_layers: 4<br>weight_decay: 0.09417124709130266<br>OpenML_task_id: 126025<br>epoch: 40\",\"<br><em>Parameterization:</em><br>batch_size: 74<br>learning_rate: 0.00046459905965489913<br>max_dropout: 0.4363623522222042<br>max_units: 221<br>momentum: 0.29305047437548637<br>num_layers: 4<br>weight_decay: 0.044286774155078465<br>OpenML_task_id: 126025<br>epoch: 40\",\"<br><em>Parameterization:</em><br>batch_size: 16<br>learning_rate: 0.00019188769442778474<br>max_dropout: 0.06286571454256773<br>max_units: 69<br>momentum: 0.30476383968256415<br>num_layers: 3<br>weight_decay: 0.004174606876689941<br>OpenML_task_id: 126025<br>epoch: 40\",\"<br><em>Parameterization:</em><br>batch_size: 67<br>learning_rate: 0.0038862527938632713<br>max_dropout: 0.5338769787922502<br>max_units: 976<br>momentum: 0.45565630976110694<br>num_layers: 3<br>weight_decay: 0.008721275682179258<br>OpenML_task_id: 126025<br>epoch: 40\",\"<br><em>Parameterization:</em><br>batch_size: 460<br>learning_rate: 0.03425551128137761<br>max_dropout: 0.8188559813424945<br>max_units: 191<br>momentum: 0.5110928803030401<br>num_layers: 1<br>weight_decay: 0.04626269366255962<br>OpenML_task_id: 126025<br>epoch: 40\",\"<br><em>Parameterization:</em><br>batch_size: 169<br>learning_rate: 0.0009493898890103816<br>max_dropout: 0.11092131864279509<br>max_units: 140<br>momentum: 0.7798720523808151<br>num_layers: 5<br>weight_decay: 0.08221982775478624<br>OpenML_task_id: 126025<br>epoch: 40\",\"<br><em>Parameterization:</em><br>batch_size: 50<br>learning_rate: 0.004920659371766269<br>max_dropout: 0.3315900815650821<br>max_units: 68<br>momentum: 0.9028011137805879<br>num_layers: 2<br>weight_decay: 0.005339602473471314<br>OpenML_task_id: 126025<br>epoch: 40\",\"<br><em>Parameterization:</em><br>batch_size: 25<br>learning_rate: 0.0010335072075464678<br>max_dropout: 0.7526307282969356<br>max_units: 110<br>momentum: 0.6571380257606506<br>num_layers: 5<br>weight_decay: 0.09325417066025549<br>OpenML_task_id: 126025<br>epoch: 40\",\"<br><em>Parameterization:</em><br>batch_size: 17<br>learning_rate: 0.0004790756893257503<br>max_dropout: 0.6160118756815791<br>max_units: 269<br>momentum: 0.904318365007639<br>num_layers: 4<br>weight_decay: 0.037472169423606254<br>OpenML_task_id: 126025<br>epoch: 40\",\"<br><em>Parameterization:</em><br>batch_size: 113<br>learning_rate: 0.00017364172447151822<br>max_dropout: 0.4807708691805601<br>max_units: 1013<br>momentum: 0.47631195837631823<br>num_layers: 2<br>weight_decay: 0.023017420217618347<br>OpenML_task_id: 126025<br>epoch: 40\",\"<br><em>Parameterization:</em><br>batch_size: 433<br>learning_rate: 0.0021413537018711614<br>max_dropout: 0.7463033497333527<br>max_units: 809<br>momentum: 0.2864351681806147<br>num_layers: 2<br>weight_decay: 0.019711642394708472<br>OpenML_task_id: 126025<br>epoch: 40\",\"<br><em>Parameterization:</em><br>batch_size: 190<br>learning_rate: 0.00011258858231718708<br>max_dropout: 0.6338377352803946<br>max_units: 563<br>momentum: 0.7516495176590979<br>num_layers: 1<br>weight_decay: 0.048958337404672064<br>OpenML_task_id: 126025<br>epoch: 40\",\"<br><em>Parameterization:</em><br>batch_size: 61<br>learning_rate: 0.0003189816740807674<br>max_dropout: 0.9541152436286211<br>max_units: 343<br>momentum: 0.3234557226393372<br>num_layers: 2<br>weight_decay: 0.09337581902476959<br>OpenML_task_id: 126025<br>epoch: 40\",\"<br><em>Parameterization:</em><br>batch_size: 147<br>learning_rate: 0.0025777359488153265<br>max_dropout: 0.1523629641160369<br>max_units: 69<br>momentum: 0.6746416396368294<br>num_layers: 4<br>weight_decay: 0.05894306087508799<br>OpenML_task_id: 126025<br>epoch: 40\",\"<br><em>Parameterization:</em><br>batch_size: 172<br>learning_rate: 0.0002232154295902453<br>max_dropout: 0.9331587599590421<br>max_units: 751<br>momentum: 0.9134694764390587<br>num_layers: 2<br>weight_decay: 0.0076300163226109005<br>OpenML_task_id: 126025<br>epoch: 40\",\"<br><em>Parameterization:</em><br>batch_size: 114<br>learning_rate: 0.0002459970184101767<br>max_dropout: 0.7938416833058<br>max_units: 254<br>momentum: 0.8576429159101099<br>num_layers: 2<br>weight_decay: 0.05732495547857137<br>OpenML_task_id: 126025<br>epoch: 40\",\"<br><em>Parameterization:</em><br>batch_size: 208<br>learning_rate: 0.0001195752516828284<br>max_dropout: 0.8833838058635592<br>max_units: 244<br>momentum: 0.159839844154194<br>num_layers: 2<br>weight_decay: 0.010259468555329368<br>OpenML_task_id: 126025<br>epoch: 40\",\"<br><em>Parameterization:</em><br>batch_size: 34<br>learning_rate: 0.004501635667226018<br>max_dropout: 0.453064139932394<br>max_units: 931<br>momentum: 0.7777834586612881<br>num_layers: 4<br>weight_decay: 0.04265486784510315<br>OpenML_task_id: 126025<br>epoch: 40\",\"<br><em>Parameterization:</em><br>batch_size: 187<br>learning_rate: 0.0003953985554534093<br>max_dropout: 0.6648896615952253<br>max_units: 204<br>momentum: 0.596706322748214<br>num_layers: 1<br>weight_decay: 0.0032359166102856403<br>OpenML_task_id: 126025<br>epoch: 40\",\"<br><em>Parameterization:</em><br>batch_size: 40<br>learning_rate: 0.0005743322156564781<br>max_dropout: 0.8818693943321705<br>max_units: 153<br>momentum: 0.887001477247104<br>num_layers: 3<br>weight_decay: 0.06971167140618899<br>OpenML_task_id: 126025<br>epoch: 40\",\"<br><em>Parameterization:</em><br>batch_size: 83<br>learning_rate: 0.047777499575294397<br>max_dropout: 0.2200439078733325<br>max_units: 86<br>momentum: 0.947335286559537<br>num_layers: 4<br>weight_decay: 0.07036222103103064<br>OpenML_task_id: 126025<br>epoch: 40\",\"<br><em>Parameterization:</em><br>batch_size: 465<br>learning_rate: 0.0001259564454616244<br>max_dropout: 0.7828791411593556<br>max_units: 418<br>momentum: 0.7676185294240713<br>num_layers: 2<br>weight_decay: 0.021934187217736618<br>OpenML_task_id: 126025<br>epoch: 40\",\"<br><em>Parameterization:</em><br>batch_size: 122<br>learning_rate: 0.0029862243934351933<br>max_dropout: 0.23201107885688543<br>max_units: 100<br>momentum: 0.3762793294340372<br>num_layers: 4<br>weight_decay: 0.04822430622650311<br>OpenML_task_id: 126025<br>epoch: 40\",\"<br><em>Parameterization:</em><br>batch_size: 139<br>learning_rate: 0.013375765912558764<br>max_dropout: 0.7048739651218057<br>max_units: 80<br>momentum: 0.731944660693407<br>num_layers: 4<br>weight_decay: 0.09565635318138638<br>OpenML_task_id: 126025<br>epoch: 40\",\"<br><em>Parameterization:</em><br>batch_size: 41<br>learning_rate: 0.05742583018902358<br>max_dropout: 0.9971223035827279<br>max_units: 103<br>momentum: 0.44676684001460676<br>num_layers: 4<br>weight_decay: 0.06932775707578287<br>OpenML_task_id: 126025<br>epoch: 40\",\"<br><em>Parameterization:</em><br>batch_size: 230<br>learning_rate: 0.010052157038921468<br>max_dropout: 0.26151352282613516<br>max_units: 127<br>momentum: 0.2385849557258189<br>num_layers: 3<br>weight_decay: 0.00494650491704233<br>OpenML_task_id: 126025<br>epoch: 40\",\"<br><em>Parameterization:</em><br>batch_size: 171<br>learning_rate: 0.0010625014657736126<br>max_dropout: 0.2727567795664072<br>max_units: 385<br>momentum: 0.7909893232677132<br>num_layers: 1<br>weight_decay: 0.04927386010300369<br>OpenML_task_id: 126025<br>epoch: 40\",\"<br><em>Parameterization:</em><br>batch_size: 36<br>learning_rate: 0.04227653764460888<br>max_dropout: 0.070574882440269<br>max_units: 138<br>momentum: 0.870707402266562<br>num_layers: 1<br>weight_decay: 0.010976163128092886<br>OpenML_task_id: 126025<br>epoch: 40\",\"<br><em>Parameterization:</em><br>batch_size: 16<br>learning_rate: 0.0008493938953162862<br>max_dropout: 0.5784124447612856<br>max_units: 113<br>momentum: 0.7702677541670389<br>num_layers: 5<br>weight_decay: 0.09113236861779432<br>OpenML_task_id: 126025<br>epoch: 40\",\"<br><em>Parameterization:</em><br>batch_size: 21<br>learning_rate: 0.0012852372891834435<br>max_dropout: 0.6780896942766181<br>max_units: 82<br>momentum: 0.5414426118324929<br>num_layers: 5<br>weight_decay: 0.1<br>OpenML_task_id: 126025<br>epoch: 40\",\"<br><em>Parameterization:</em><br>batch_size: 24<br>learning_rate: 0.0012521427315454216<br>max_dropout: 0.6814326104608879<br>max_units: 125<br>momentum: 0.8480607085746432<br>num_layers: 5<br>weight_decay: 0.1<br>OpenML_task_id: 126025<br>epoch: 40\",\"<br><em>Parameterization:</em><br>batch_size: 32<br>learning_rate: 0.0010338351418535524<br>max_dropout: 0.6069164339030995<br>max_units: 91<br>momentum: 0.5097908087148879<br>num_layers: 3<br>weight_decay: 0.1<br>OpenML_task_id: 126025<br>epoch: 40\",\"<br><em>Parameterization:</em><br>batch_size: 98<br>learning_rate: 0.00417499647105156<br>max_dropout: 0.5002672702531745<br>max_units: 75<br>momentum: 0.1695095362128051<br>num_layers: 5<br>weight_decay: 0.06101539700912458<br>OpenML_task_id: 126025<br>epoch: 40\",\"<br><em>Parameterization:</em><br>batch_size: 16<br>learning_rate: 0.0004301182657127316<br>max_dropout: 0.6598382054754186<br>max_units: 64<br>momentum: 0.6717750353257529<br>num_layers: 5<br>weight_decay: 0.1<br>OpenML_task_id: 126025<br>epoch: 40\"],\"x\":[1,2,3,4,5,6,7,8,9,10,11,12,13,14,15,16,17,18,19,20,21,22,23,24,25,26,27,28,29,30,31,32,33,34,35,36,37,38,39,40,41,42,43,44,45,46,47,48,49,50,51,52,53,54,55,56],\"y\":[81.24014282226562,85.09542083740234,85.09542083740234,85.09542083740234,85.09542083740234,85.09542083740234,85.09542083740234,85.09542083740234,85.09542083740234,85.09542083740234,85.09542083740234,85.09542083740234,85.09542083740234,85.09542083740234,85.09542083740234,85.09542083740234,85.09542083740234,85.09542083740234,85.09542083740234,85.09542083740234,85.09542083740234,85.09542083740234,85.09542083740234,85.09542083740234,85.09542083740234,85.09542083740234,85.09542083740234,85.09542083740234,85.09542083740234,86.39955139160156,86.39955139160156,86.39955139160156,86.39955139160156,86.39955139160156,86.39955139160156,86.39955139160156,86.39955139160156,86.39955139160156,86.39955139160156,86.39955139160156,86.39955139160156,86.39955139160156,86.39955139160156,86.39955139160156,86.39955139160156,86.39955139160156,86.39955139160156,86.39955139160156,86.39955139160156,86.39955139160156,86.39955139160156,86.49584197998047,86.49584197998047,86.49584197998047,86.49584197998047,86.49584197998047],\"type\":\"scatter\"},{\"fill\":\"tonexty\",\"fillcolor\":\"rgba(128,177,211,0.3)\",\"hoverinfo\":\"none\",\"legendgroup\":\"\",\"line\":{\"width\":0},\"mode\":\"lines\",\"showlegend\":false,\"x\":[1,2,3,4,5,6,7,8,9,10,11,12,13,14,15,16,17,18,19,20,21,22,23,24,25,26,27,28,29,30,31,32,33,34,35,36,37,38,39,40,41,42,43,44,45,46,47,48,49,50,51,52,53,54,55,56],\"y\":[81.24014282226562,85.09542083740234,85.09542083740234,85.09542083740234,85.09542083740234,85.09542083740234,85.09542083740234,85.09542083740234,85.09542083740234,85.09542083740234,85.09542083740234,85.09542083740234,85.09542083740234,85.09542083740234,85.09542083740234,85.09542083740234,85.09542083740234,85.09542083740234,85.09542083740234,85.09542083740234,85.09542083740234,85.09542083740234,85.09542083740234,85.09542083740234,85.09542083740234,85.09542083740234,85.09542083740234,85.09542083740234,85.09542083740234,86.39955139160156,86.39955139160156,86.39955139160156,86.39955139160156,86.39955139160156,86.39955139160156,86.39955139160156,86.39955139160156,86.39955139160156,86.39955139160156,86.39955139160156,86.39955139160156,86.39955139160156,86.39955139160156,86.39955139160156,86.39955139160156,86.39955139160156,86.39955139160156,86.39955139160156,86.39955139160156,86.39955139160156,86.39955139160156,86.49584197998047,86.49584197998047,86.49584197998047,86.49584197998047,86.49584197998047],\"type\":\"scatter\"},{\"line\":{\"color\":\"rgba(253,180,98,1)\",\"dash\":\"dash\"},\"mode\":\"lines\",\"name\":\"Optimum\",\"x\":[1,56],\"y\":[96.51996,96.51996],\"type\":\"scatter\"},{\"line\":{\"color\":\"rgba(141,211,199,1)\",\"dash\":\"dash\"},\"mode\":\"lines\",\"name\":\"model change\",\"x\":[50,50],\"y\":[81.24014282226562,96.51996],\"type\":\"scatter\"}],                        {\"showlegend\":true,\"template\":{\"data\":{\"barpolar\":[{\"marker\":{\"line\":{\"color\":\"#E5ECF6\",\"width\":0.5},\"pattern\":{\"fillmode\":\"overlay\",\"size\":10,\"solidity\":0.2}},\"type\":\"barpolar\"}],\"bar\":[{\"error_x\":{\"color\":\"#2a3f5f\"},\"error_y\":{\"color\":\"#2a3f5f\"},\"marker\":{\"line\":{\"color\":\"#E5ECF6\",\"width\":0.5},\"pattern\":{\"fillmode\":\"overlay\",\"size\":10,\"solidity\":0.2}},\"type\":\"bar\"}],\"carpet\":[{\"aaxis\":{\"endlinecolor\":\"#2a3f5f\",\"gridcolor\":\"white\",\"linecolor\":\"white\",\"minorgridcolor\":\"white\",\"startlinecolor\":\"#2a3f5f\"},\"baxis\":{\"endlinecolor\":\"#2a3f5f\",\"gridcolor\":\"white\",\"linecolor\":\"white\",\"minorgridcolor\":\"white\",\"startlinecolor\":\"#2a3f5f\"},\"type\":\"carpet\"}],\"choropleth\":[{\"colorbar\":{\"outlinewidth\":0,\"ticks\":\"\"},\"type\":\"choropleth\"}],\"contourcarpet\":[{\"colorbar\":{\"outlinewidth\":0,\"ticks\":\"\"},\"type\":\"contourcarpet\"}],\"contour\":[{\"colorbar\":{\"outlinewidth\":0,\"ticks\":\"\"},\"colorscale\":[[0.0,\"#0d0887\"],[0.1111111111111111,\"#46039f\"],[0.2222222222222222,\"#7201a8\"],[0.3333333333333333,\"#9c179e\"],[0.4444444444444444,\"#bd3786\"],[0.5555555555555556,\"#d8576b\"],[0.6666666666666666,\"#ed7953\"],[0.7777777777777778,\"#fb9f3a\"],[0.8888888888888888,\"#fdca26\"],[1.0,\"#f0f921\"]],\"type\":\"contour\"}],\"heatmapgl\":[{\"colorbar\":{\"outlinewidth\":0,\"ticks\":\"\"},\"colorscale\":[[0.0,\"#0d0887\"],[0.1111111111111111,\"#46039f\"],[0.2222222222222222,\"#7201a8\"],[0.3333333333333333,\"#9c179e\"],[0.4444444444444444,\"#bd3786\"],[0.5555555555555556,\"#d8576b\"],[0.6666666666666666,\"#ed7953\"],[0.7777777777777778,\"#fb9f3a\"],[0.8888888888888888,\"#fdca26\"],[1.0,\"#f0f921\"]],\"type\":\"heatmapgl\"}],\"heatmap\":[{\"colorbar\":{\"outlinewidth\":0,\"ticks\":\"\"},\"colorscale\":[[0.0,\"#0d0887\"],[0.1111111111111111,\"#46039f\"],[0.2222222222222222,\"#7201a8\"],[0.3333333333333333,\"#9c179e\"],[0.4444444444444444,\"#bd3786\"],[0.5555555555555556,\"#d8576b\"],[0.6666666666666666,\"#ed7953\"],[0.7777777777777778,\"#fb9f3a\"],[0.8888888888888888,\"#fdca26\"],[1.0,\"#f0f921\"]],\"type\":\"heatmap\"}],\"histogram2dcontour\":[{\"colorbar\":{\"outlinewidth\":0,\"ticks\":\"\"},\"colorscale\":[[0.0,\"#0d0887\"],[0.1111111111111111,\"#46039f\"],[0.2222222222222222,\"#7201a8\"],[0.3333333333333333,\"#9c179e\"],[0.4444444444444444,\"#bd3786\"],[0.5555555555555556,\"#d8576b\"],[0.6666666666666666,\"#ed7953\"],[0.7777777777777778,\"#fb9f3a\"],[0.8888888888888888,\"#fdca26\"],[1.0,\"#f0f921\"]],\"type\":\"histogram2dcontour\"}],\"histogram2d\":[{\"colorbar\":{\"outlinewidth\":0,\"ticks\":\"\"},\"colorscale\":[[0.0,\"#0d0887\"],[0.1111111111111111,\"#46039f\"],[0.2222222222222222,\"#7201a8\"],[0.3333333333333333,\"#9c179e\"],[0.4444444444444444,\"#bd3786\"],[0.5555555555555556,\"#d8576b\"],[0.6666666666666666,\"#ed7953\"],[0.7777777777777778,\"#fb9f3a\"],[0.8888888888888888,\"#fdca26\"],[1.0,\"#f0f921\"]],\"type\":\"histogram2d\"}],\"histogram\":[{\"marker\":{\"pattern\":{\"fillmode\":\"overlay\",\"size\":10,\"solidity\":0.2}},\"type\":\"histogram\"}],\"mesh3d\":[{\"colorbar\":{\"outlinewidth\":0,\"ticks\":\"\"},\"type\":\"mesh3d\"}],\"parcoords\":[{\"line\":{\"colorbar\":{\"outlinewidth\":0,\"ticks\":\"\"}},\"type\":\"parcoords\"}],\"pie\":[{\"automargin\":true,\"type\":\"pie\"}],\"scatter3d\":[{\"line\":{\"colorbar\":{\"outlinewidth\":0,\"ticks\":\"\"}},\"marker\":{\"colorbar\":{\"outlinewidth\":0,\"ticks\":\"\"}},\"type\":\"scatter3d\"}],\"scattercarpet\":[{\"marker\":{\"colorbar\":{\"outlinewidth\":0,\"ticks\":\"\"}},\"type\":\"scattercarpet\"}],\"scattergeo\":[{\"marker\":{\"colorbar\":{\"outlinewidth\":0,\"ticks\":\"\"}},\"type\":\"scattergeo\"}],\"scattergl\":[{\"marker\":{\"colorbar\":{\"outlinewidth\":0,\"ticks\":\"\"}},\"type\":\"scattergl\"}],\"scattermapbox\":[{\"marker\":{\"colorbar\":{\"outlinewidth\":0,\"ticks\":\"\"}},\"type\":\"scattermapbox\"}],\"scatterpolargl\":[{\"marker\":{\"colorbar\":{\"outlinewidth\":0,\"ticks\":\"\"}},\"type\":\"scatterpolargl\"}],\"scatterpolar\":[{\"marker\":{\"colorbar\":{\"outlinewidth\":0,\"ticks\":\"\"}},\"type\":\"scatterpolar\"}],\"scatter\":[{\"fillpattern\":{\"fillmode\":\"overlay\",\"size\":10,\"solidity\":0.2},\"type\":\"scatter\"}],\"scatterternary\":[{\"marker\":{\"colorbar\":{\"outlinewidth\":0,\"ticks\":\"\"}},\"type\":\"scatterternary\"}],\"surface\":[{\"colorbar\":{\"outlinewidth\":0,\"ticks\":\"\"},\"colorscale\":[[0.0,\"#0d0887\"],[0.1111111111111111,\"#46039f\"],[0.2222222222222222,\"#7201a8\"],[0.3333333333333333,\"#9c179e\"],[0.4444444444444444,\"#bd3786\"],[0.5555555555555556,\"#d8576b\"],[0.6666666666666666,\"#ed7953\"],[0.7777777777777778,\"#fb9f3a\"],[0.8888888888888888,\"#fdca26\"],[1.0,\"#f0f921\"]],\"type\":\"surface\"}],\"table\":[{\"cells\":{\"fill\":{\"color\":\"#EBF0F8\"},\"line\":{\"color\":\"white\"}},\"header\":{\"fill\":{\"color\":\"#C8D4E3\"},\"line\":{\"color\":\"white\"}},\"type\":\"table\"}]},\"layout\":{\"annotationdefaults\":{\"arrowcolor\":\"#2a3f5f\",\"arrowhead\":0,\"arrowwidth\":1},\"autotypenumbers\":\"strict\",\"coloraxis\":{\"colorbar\":{\"outlinewidth\":0,\"ticks\":\"\"}},\"colorscale\":{\"diverging\":[[0,\"#8e0152\"],[0.1,\"#c51b7d\"],[0.2,\"#de77ae\"],[0.3,\"#f1b6da\"],[0.4,\"#fde0ef\"],[0.5,\"#f7f7f7\"],[0.6,\"#e6f5d0\"],[0.7,\"#b8e186\"],[0.8,\"#7fbc41\"],[0.9,\"#4d9221\"],[1,\"#276419\"]],\"sequential\":[[0.0,\"#0d0887\"],[0.1111111111111111,\"#46039f\"],[0.2222222222222222,\"#7201a8\"],[0.3333333333333333,\"#9c179e\"],[0.4444444444444444,\"#bd3786\"],[0.5555555555555556,\"#d8576b\"],[0.6666666666666666,\"#ed7953\"],[0.7777777777777778,\"#fb9f3a\"],[0.8888888888888888,\"#fdca26\"],[1.0,\"#f0f921\"]],\"sequentialminus\":[[0.0,\"#0d0887\"],[0.1111111111111111,\"#46039f\"],[0.2222222222222222,\"#7201a8\"],[0.3333333333333333,\"#9c179e\"],[0.4444444444444444,\"#bd3786\"],[0.5555555555555556,\"#d8576b\"],[0.6666666666666666,\"#ed7953\"],[0.7777777777777778,\"#fb9f3a\"],[0.8888888888888888,\"#fdca26\"],[1.0,\"#f0f921\"]]},\"colorway\":[\"#636efa\",\"#EF553B\",\"#00cc96\",\"#ab63fa\",\"#FFA15A\",\"#19d3f3\",\"#FF6692\",\"#B6E880\",\"#FF97FF\",\"#FECB52\"],\"font\":{\"color\":\"#2a3f5f\"},\"geo\":{\"bgcolor\":\"white\",\"lakecolor\":\"white\",\"landcolor\":\"#E5ECF6\",\"showlakes\":true,\"showland\":true,\"subunitcolor\":\"white\"},\"hoverlabel\":{\"align\":\"left\"},\"hovermode\":\"closest\",\"mapbox\":{\"style\":\"light\"},\"paper_bgcolor\":\"white\",\"plot_bgcolor\":\"#E5ECF6\",\"polar\":{\"angularaxis\":{\"gridcolor\":\"white\",\"linecolor\":\"white\",\"ticks\":\"\"},\"bgcolor\":\"#E5ECF6\",\"radialaxis\":{\"gridcolor\":\"white\",\"linecolor\":\"white\",\"ticks\":\"\"}},\"scene\":{\"xaxis\":{\"backgroundcolor\":\"#E5ECF6\",\"gridcolor\":\"white\",\"gridwidth\":2,\"linecolor\":\"white\",\"showbackground\":true,\"ticks\":\"\",\"zerolinecolor\":\"white\"},\"yaxis\":{\"backgroundcolor\":\"#E5ECF6\",\"gridcolor\":\"white\",\"gridwidth\":2,\"linecolor\":\"white\",\"showbackground\":true,\"ticks\":\"\",\"zerolinecolor\":\"white\"},\"zaxis\":{\"backgroundcolor\":\"#E5ECF6\",\"gridcolor\":\"white\",\"gridwidth\":2,\"linecolor\":\"white\",\"showbackground\":true,\"ticks\":\"\",\"zerolinecolor\":\"white\"}},\"shapedefaults\":{\"line\":{\"color\":\"#2a3f5f\"}},\"ternary\":{\"aaxis\":{\"gridcolor\":\"white\",\"linecolor\":\"white\",\"ticks\":\"\"},\"baxis\":{\"gridcolor\":\"white\",\"linecolor\":\"white\",\"ticks\":\"\"},\"bgcolor\":\"#E5ECF6\",\"caxis\":{\"gridcolor\":\"white\",\"linecolor\":\"white\",\"ticks\":\"\"}},\"title\":{\"x\":0.05},\"xaxis\":{\"automargin\":true,\"gridcolor\":\"white\",\"linecolor\":\"white\",\"ticks\":\"\",\"title\":{\"standoff\":15},\"zerolinecolor\":\"white\",\"zerolinewidth\":2},\"yaxis\":{\"automargin\":true,\"gridcolor\":\"white\",\"linecolor\":\"white\",\"ticks\":\"\",\"title\":{\"standoff\":15},\"zerolinecolor\":\"white\",\"zerolinewidth\":2}}},\"title\":{\"text\":\"Model performance vs. # of iterations\"},\"xaxis\":{\"title\":{\"text\":\"Iteration\"}},\"yaxis\":{\"title\":{\"text\":\"Accuracy\"}}},                        {\"responsive\": true}                    ).then(function(){\n",
       "                            \n",
       "var gd = document.getElementById('1cacc586-0d04-4894-964a-0985dc7a856e');\n",
       "var x = new MutationObserver(function (mutations, observer) {{\n",
       "        var display = window.getComputedStyle(gd).display;\n",
       "        if (!display || display === 'none') {{\n",
       "            console.log([gd, 'removed!']);\n",
       "            Plotly.purge(gd);\n",
       "            observer.disconnect();\n",
       "        }}\n",
       "}});\n",
       "\n",
       "// Listen for the removal of the full notebook cells\n",
       "var notebookContainer = gd.closest('#notebook-container');\n",
       "if (notebookContainer) {{\n",
       "    x.observe(notebookContainer, {childList: true});\n",
       "}}\n",
       "\n",
       "// Listen for the clearing of the current output cell\n",
       "var outputEl = gd.closest('.output');\n",
       "if (outputEl) {{\n",
       "    x.observe(outputEl, {childList: true});\n",
       "}}\n",
       "\n",
       "                        })                };                });            </script>        </div>"
      ]
     },
     "metadata": {},
     "output_type": "display_data"
    },
    {
     "name": "stderr",
     "output_type": "stream",
     "text": [
      "[INFO 12-20 14:25:24] ax.service.utils.instantiation: Inferred value type of ParameterType.INT for parameter batch_size. If that is not the expected value type, you can explicity specify 'value_type' ('int', 'float', 'bool' or 'str') in parameter dict.\n",
      "[INFO 12-20 14:25:24] ax.service.utils.instantiation: Inferred value type of ParameterType.FLOAT for parameter learning_rate. If that is not the expected value type, you can explicity specify 'value_type' ('int', 'float', 'bool' or 'str') in parameter dict.\n",
      "[INFO 12-20 14:25:24] ax.service.utils.instantiation: Inferred value type of ParameterType.FLOAT for parameter max_dropout. If that is not the expected value type, you can explicity specify 'value_type' ('int', 'float', 'bool' or 'str') in parameter dict.\n",
      "[INFO 12-20 14:25:24] ax.service.utils.instantiation: Inferred value type of ParameterType.INT for parameter max_units. If that is not the expected value type, you can explicity specify 'value_type' ('int', 'float', 'bool' or 'str') in parameter dict.\n",
      "[INFO 12-20 14:25:24] ax.service.utils.instantiation: Inferred value type of ParameterType.FLOAT for parameter momentum. If that is not the expected value type, you can explicity specify 'value_type' ('int', 'float', 'bool' or 'str') in parameter dict.\n",
      "[INFO 12-20 14:25:24] ax.service.utils.instantiation: Inferred value type of ParameterType.INT for parameter num_layers. If that is not the expected value type, you can explicity specify 'value_type' ('int', 'float', 'bool' or 'str') in parameter dict.\n",
      "[INFO 12-20 14:25:24] ax.service.utils.instantiation: Inferred value type of ParameterType.FLOAT for parameter weight_decay. If that is not the expected value type, you can explicity specify 'value_type' ('int', 'float', 'bool' or 'str') in parameter dict.\n",
      "[INFO 12-20 14:25:24] ax.service.utils.instantiation: Created search space: SearchSpace(parameters=[FixedParameter(name='OpenML_task_id', parameter_type=STRING, value='126025'), RangeParameter(name='batch_size', parameter_type=INT, range=[16, 512], log_scale=True), FixedParameter(name='epoch', parameter_type=INT, value=40), RangeParameter(name='learning_rate', parameter_type=FLOAT, range=[0.00010000000000000009, 0.10000000000000002], log_scale=True), RangeParameter(name='max_dropout', parameter_type=FLOAT, range=[0.0, 1.0]), RangeParameter(name='max_units', parameter_type=INT, range=[64, 1024], log_scale=True), RangeParameter(name='momentum', parameter_type=FLOAT, range=[0.1, 0.99]), RangeParameter(name='num_layers', parameter_type=INT, range=[1, 5]), RangeParameter(name='weight_decay', parameter_type=FLOAT, range=[1e-05, 0.1])], parameter_constraints=[]).\n"
     ]
    },
    {
     "data": {
      "application/vnd.plotly.v1+json": {
       "config": {
        "linkText": "Export to plot.ly",
        "plotlyServerURL": "https://plot.ly",
        "showLink": false
       },
       "data": [
        {
         "hoverinfo": "none",
         "legendgroup": "",
         "line": {
          "width": 0
         },
         "mode": "lines",
         "showlegend": false,
         "type": "scatter",
         "x": [
          1,
          2,
          3,
          4,
          5,
          6,
          7,
          8,
          9,
          10,
          11,
          12,
          13,
          14,
          15,
          16,
          17,
          18,
          19,
          20,
          21,
          22,
          23,
          24,
          25,
          26,
          27,
          28,
          29,
          30,
          31,
          32,
          33,
          34,
          35,
          36,
          37,
          38,
          39,
          40,
          41,
          42,
          43,
          44,
          45,
          46,
          47,
          48,
          49,
          50,
          51,
          52,
          53,
          54,
          55,
          56,
          57,
          58,
          59,
          60,
          61,
          62,
          63,
          64,
          65,
          66,
          67,
          68,
          69,
          70,
          71,
          72,
          73,
          74,
          75,
          76,
          77,
          78,
          79,
          80,
          81,
          82,
          83,
          84,
          85,
          86,
          87,
          88,
          89,
          90,
          91,
          92,
          93,
          94,
          95,
          96,
          97,
          98,
          99,
          100,
          101,
          102,
          103,
          104,
          105,
          106,
          107,
          108,
          109,
          110,
          111,
          112,
          113,
          114,
          115,
          116,
          117,
          118,
          119,
          120,
          121,
          122,
          123,
          124,
          125,
          126,
          127,
          128,
          129,
          130,
          131,
          132,
          133
         ],
         "y": [
          76.31208038330078,
          76.31208038330078,
          80.2523193359375,
          80.2523193359375,
          80.2523193359375,
          80.2523193359375,
          80.2523193359375,
          80.2523193359375,
          80.2523193359375,
          81.63093566894531,
          81.63093566894531,
          85.86235046386719,
          85.86235046386719,
          85.86235046386719,
          85.86235046386719,
          86.15008544921875,
          86.15008544921875,
          86.15008544921875,
          86.15008544921875,
          86.15008544921875,
          86.15008544921875,
          86.15008544921875,
          87.42333984375,
          87.42333984375,
          88.39651489257812,
          88.39651489257812,
          88.39651489257812,
          88.39651489257812,
          88.39651489257812,
          88.39651489257812,
          88.39651489257812,
          88.39651489257812,
          88.39651489257812,
          88.39651489257812,
          88.39651489257812,
          88.39651489257812,
          88.39651489257812,
          88.39651489257812,
          89.65917205810547,
          89.666015625,
          89.666015625,
          89.9623794555664,
          90.0870361328125,
          90.0870361328125,
          90.1265640258789,
          90.18743896484375,
          90.19673156738281,
          90.19776153564453,
          90.19776153564453,
          90.19776153564453,
          90.19776153564453,
          90.19776153564453,
          90.19776153564453,
          90.19776153564453,
          90.19776153564453,
          90.19776153564453,
          90.19776153564453,
          90.19776153564453,
          90.19776153564453,
          90.19776153564453,
          90.19776153564453,
          90.19776153564453,
          90.19776153564453,
          90.19776153564453,
          90.19776153564453,
          90.19776153564453,
          90.19776153564453,
          90.19776153564453,
          90.19776153564453,
          90.19776153564453,
          90.19776153564453,
          90.19776153564453,
          90.19776153564453,
          90.19776153564453,
          90.20154571533203,
          90.20223236083984,
          90.20257568359375,
          90.20808410644531,
          90.2149658203125,
          90.22184753417969,
          90.24009704589844,
          90.2765884399414,
          90.38134002685547,
          90.7070541381836,
          90.886474609375,
          90.973876953125,
          91.02838134765625,
          91.05094909667969,
          91.0537338256836,
          91.05512237548828,
          91.05512237548828,
          91.05512237548828,
          91.05512237548828,
          91.05512237548828,
          91.05512237548828,
          91.05512237548828,
          91.05512237548828,
          91.05512237548828,
          91.05512237548828,
          91.05512237548828,
          91.05512237548828,
          91.05512237548828,
          91.05512237548828,
          91.05512237548828,
          91.05512237548828,
          91.05512237548828,
          91.05512237548828,
          91.05512237548828,
          91.05512237548828,
          91.05512237548828,
          91.05512237548828,
          91.05512237548828,
          91.05512237548828,
          91.05512237548828,
          91.05512237548828,
          91.05512237548828,
          91.05512237548828,
          91.05512237548828,
          91.05512237548828,
          91.05512237548828,
          91.05512237548828,
          91.05512237548828,
          91.05512237548828,
          91.05512237548828,
          91.05512237548828,
          91.05512237548828,
          91.05512237548828,
          91.05512237548828,
          91.05512237548828,
          91.05512237548828,
          91.05512237548828,
          91.05512237548828,
          91.05512237548828
         ]
        },
        {
         "fill": "tonexty",
         "fillcolor": "rgba(128,177,211,0.3)",
         "legendgroup": "objective value",
         "line": {
          "color": "rgba(128,177,211,1)"
         },
         "mode": "lines",
         "name": "objective value",
         "text": [
          "<br><em>Parameterization:</em><br>batch_size: 159<br>learning_rate: 0.00023154733608276898<br>max_dropout: 0.16653496026992798<br>max_units: 157<br>momentum: 0.497076952457428<br>num_layers: 2<br>weight_decay: 0.04451326731443406<br>OpenML_task_id: 126025<br>epoch: 40",
          "<br><em>Parameterization:</em><br>batch_size: 126<br>learning_rate: 0.00014034950937997584<br>max_dropout: 0.9942693542689085<br>max_units: 158<br>momentum: 0.6340270591899753<br>num_layers: 3<br>weight_decay: 0.04423084451477044<br>OpenML_task_id: 126025<br>epoch: 40",
          "<br><em>Parameterization:</em><br>batch_size: 17<br>learning_rate: 0.0049098076672267925<br>max_dropout: 0.5472887987270951<br>max_units: 72<br>momentum: 0.7455353845376521<br>num_layers: 3<br>weight_decay: 0.05565940235887655<br>OpenML_task_id: 126025<br>epoch: 40",
          "<br><em>Parameterization:</em><br>batch_size: 109<br>learning_rate: 0.003988417865915661<br>max_dropout: 0.9769859276711941<br>max_units: 314<br>momentum: 0.510637642769143<br>num_layers: 3<br>weight_decay: 0.0631264012013469<br>OpenML_task_id: 126025<br>epoch: 40",
          "<br><em>Parameterization:</em><br>batch_size: 60<br>learning_rate: 0.009645904934493077<br>max_dropout: 0.6308565158396959<br>max_units: 64<br>momentum: 0.9852419810835272<br>num_layers: 2<br>weight_decay: 0.09475424021063374<br>OpenML_task_id: 126025<br>epoch: 40",
          "<br><em>Parameterization:</em><br>batch_size: 22<br>learning_rate: 0.0009351129963468302<br>max_dropout: 0.10359167493879795<br>max_units: 94<br>momentum: 0.2329062226228416<br>num_layers: 1<br>weight_decay: 0.06687761251345277<br>OpenML_task_id: 126025<br>epoch: 40",
          "<br><em>Parameterization:</em><br>batch_size: 315<br>learning_rate: 0.01833917711517349<br>max_dropout: 0.5195985352620482<br>max_units: 796<br>momentum: 0.33361236144788564<br>num_layers: 1<br>weight_decay: 0.022978700442388655<br>OpenML_task_id: 126025<br>epoch: 40",
          "<br><em>Parameterization:</em><br>batch_size: 34<br>learning_rate: 0.00014754706510097552<br>max_dropout: 0.9256381383165717<br>max_units: 93<br>momentum: 0.3002276075538248<br>num_layers: 4<br>weight_decay: 0.04660416627990083<br>OpenML_task_id: 126025<br>epoch: 40",
          "<br><em>Parameterization:</em><br>batch_size: 194<br>learning_rate: 0.024316734225912823<br>max_dropout: 0.8071315456181765<br>max_units: 467<br>momentum: 0.8981502156239003<br>num_layers: 2<br>weight_decay: 0.042824925892809416<br>OpenML_task_id: 126025<br>epoch: 40",
          "<br><em>Parameterization:</em><br>batch_size: 27<br>learning_rate: 0.0006956279162418789<br>max_dropout: 0.9200054537504911<br>max_units: 480<br>momentum: 0.2583505552913994<br>num_layers: 4<br>weight_decay: 0.08596570843019523<br>OpenML_task_id: 126025<br>epoch: 40",
          "<br><em>Parameterization:</em><br>batch_size: 454<br>learning_rate: 0.05074468417890171<br>max_dropout: 0.5351741695776582<br>max_units: 70<br>momentum: 0.4376144943851977<br>num_layers: 5<br>weight_decay: 0.04663130239897408<br>OpenML_task_id: 126025<br>epoch: 40",
          "<br><em>Parameterization:</em><br>batch_size: 19<br>learning_rate: 0.0017920006535642945<br>max_dropout: 0.720656082034111<br>max_units: 703<br>momentum: 0.5933460906613618<br>num_layers: 5<br>weight_decay: 0.07768810927925632<br>OpenML_task_id: 126025<br>epoch: 40",
          "<br><em>Parameterization:</em><br>batch_size: 18<br>learning_rate: 0.0057894522390643886<br>max_dropout: 0.24887533392757177<br>max_units: 565<br>momentum: 0.6083874555118381<br>num_layers: 5<br>weight_decay: 0.020239519954510034<br>OpenML_task_id: 126025<br>epoch: 40",
          "<br><em>Parameterization:</em><br>batch_size: 19<br>learning_rate: 0.0001954155447696213<br>max_dropout: 0.0375031940639019<br>max_units: 124<br>momentum: 0.4707915349956602<br>num_layers: 3<br>weight_decay: 0.07730421338719316<br>OpenML_task_id: 126025<br>epoch: 40",
          "<br><em>Parameterization:</em><br>batch_size: 47<br>learning_rate: 0.0023781043159796867<br>max_dropout: 0.6365319192409515<br>max_units: 65<br>momentum: 0.23716770686209201<br>num_layers: 4<br>weight_decay: 0.06505602361274883<br>OpenML_task_id: 126025<br>epoch: 40",
          "<br><em>Parameterization:</em><br>batch_size: 28<br>learning_rate: 0.04131039078315825<br>max_dropout: 0.0988679463043809<br>max_units: 563<br>momentum: 0.6605347143486142<br>num_layers: 5<br>weight_decay: 0.07290027765700594<br>OpenML_task_id: 126025<br>epoch: 40",
          "<br><em>Parameterization:</em><br>batch_size: 235<br>learning_rate: 0.0004136726027474554<br>max_dropout: 0.08305024448782206<br>max_units: 426<br>momentum: 0.6901430006045848<br>num_layers: 1<br>weight_decay: 0.01821189216290601<br>OpenML_task_id: 126025<br>epoch: 40",
          "<br><em>Parameterization:</em><br>batch_size: 429<br>learning_rate: 0.003325382743212777<br>max_dropout: 0.9942861665040255<br>max_units: 103<br>momentum: 0.5270728299301117<br>num_layers: 4<br>weight_decay: 0.0010975550219696015<br>OpenML_task_id: 126025<br>epoch: 40",
          "<br><em>Parameterization:</em><br>batch_size: 238<br>learning_rate: 0.0041946351022731495<br>max_dropout: 0.07964067719876766<br>max_units: 109<br>momentum: 0.7285594785772264<br>num_layers: 1<br>weight_decay: 0.03415062737620436<br>OpenML_task_id: 126025<br>epoch: 40",
          "<br><em>Parameterization:</em><br>batch_size: 22<br>learning_rate: 0.001193663114149526<br>max_dropout: 0.3855904461815953<br>max_units: 111<br>momentum: 0.2600191752240062<br>num_layers: 1<br>weight_decay: 0.050318107927264655<br>OpenML_task_id: 126025<br>epoch: 40",
          "<br><em>Parameterization:</em><br>batch_size: 17<br>learning_rate: 0.06791282101997012<br>max_dropout: 0.562654597684741<br>max_units: 176<br>momentum: 0.7713613032083958<br>num_layers: 3<br>weight_decay: 0.04252618460088969<br>OpenML_task_id: 126025<br>epoch: 40",
          "<br><em>Parameterization:</em><br>batch_size: 67<br>learning_rate: 0.020704243193903724<br>max_dropout: 0.5111876027658582<br>max_units: 268<br>momentum: 0.7340716745238751<br>num_layers: 4<br>weight_decay: 0.007330824036272243<br>OpenML_task_id: 126025<br>epoch: 40",
          "<br><em>Parameterization:</em><br>batch_size: 120<br>learning_rate: 0.006210089339642316<br>max_dropout: 0.7364057926461101<br>max_units: 523<br>momentum: 0.29160315219312904<br>num_layers: 5<br>weight_decay: 0.0697871313490998<br>OpenML_task_id: 126025<br>epoch: 40",
          "<br><em>Parameterization:</em><br>batch_size: 27<br>learning_rate: 0.0002640953874567105<br>max_dropout: 0.5998474834486842<br>max_units: 194<br>momentum: 0.9217857486661524<br>num_layers: 3<br>weight_decay: 0.08113590639010072<br>OpenML_task_id: 126025<br>epoch: 40",
          "<br><em>Parameterization:</em><br>batch_size: 105<br>learning_rate: 0.002625447679635591<br>max_dropout: 0.14460026007145643<br>max_units: 491<br>momentum: 0.47318836572580036<br>num_layers: 5<br>weight_decay: 0.061047492187442265<br>OpenML_task_id: 126025<br>epoch: 40",
          "<br><em>Parameterization:</em><br>batch_size: 49<br>learning_rate: 0.07533319843525389<br>max_dropout: 0.5110313817858696<br>max_units: 71<br>momentum: 0.7522184307128191<br>num_layers: 3<br>weight_decay: 0.09596165247040801<br>OpenML_task_id: 126025<br>epoch: 40",
          "<br><em>Parameterization:</em><br>batch_size: 384<br>learning_rate: 0.0008357045830942127<br>max_dropout: 0.843119821511209<br>max_units: 397<br>momentum: 0.8929830828681589<br>num_layers: 4<br>weight_decay: 0.01166634122185409<br>OpenML_task_id: 126025<br>epoch: 40",
          "<br><em>Parameterization:</em><br>batch_size: 167<br>learning_rate: 0.0012880522031306987<br>max_dropout: 0.9303040578961372<br>max_units: 640<br>momentum: 0.3401627549622208<br>num_layers: 3<br>weight_decay: 0.04503495545774699<br>OpenML_task_id: 126025<br>epoch: 40",
          "<br><em>Parameterization:</em><br>batch_size: 87<br>learning_rate: 0.03152087302517082<br>max_dropout: 0.49839532282203436<br>max_units: 470<br>momentum: 0.4158171247690916<br>num_layers: 5<br>weight_decay: 0.01618732001447119<br>OpenML_task_id: 126025<br>epoch: 40",
          "<br><em>Parameterization:</em><br>batch_size: 448<br>learning_rate: 0.06492889643072804<br>max_dropout: 0.5920457374304533<br>max_units: 358<br>momentum: 0.4638020844571292<br>num_layers: 3<br>weight_decay: 0.037682577549926946<br>OpenML_task_id: 126025<br>epoch: 40",
          "<br><em>Parameterization:</em><br>batch_size: 169<br>learning_rate: 0.0029065652257635835<br>max_dropout: 0.3758318879285229<br>max_units: 1024<br>momentum: 0.24352740596915423<br>num_layers: 5<br>weight_decay: 0.07351666116346925<br>OpenML_task_id: 126025<br>epoch: 40",
          "<br><em>Parameterization:</em><br>batch_size: 88<br>learning_rate: 0.004434984491616392<br>max_dropout: 0.4106418930844812<br>max_units: 473<br>momentum: 0.5998870589219744<br>num_layers: 5<br>weight_decay: 0.08382712200460576<br>OpenML_task_id: 126025<br>epoch: 40",
          "<br><em>Parameterization:</em><br>batch_size: 26<br>learning_rate: 0.0023588947406079177<br>max_dropout: 0.08769159916177555<br>max_units: 604<br>momentum: 0.2712565976738854<br>num_layers: 5<br>weight_decay: 0.08113342986288581<br>OpenML_task_id: 126025<br>epoch: 40",
          "<br><em>Parameterization:</em><br>batch_size: 16<br>learning_rate: 0.004141294512055147<br>max_dropout: 0.22645852073110392<br>max_units: 585<br>momentum: 0.9640016276417148<br>num_layers: 5<br>weight_decay: 0.1<br>OpenML_task_id: 126025<br>epoch: 40",
          "<br><em>Parameterization:</em><br>batch_size: 461<br>learning_rate: 0.0027421164026104946<br>max_dropout: 0.07877063494247509<br>max_units: 954<br>momentum: 0.5583031965797605<br>num_layers: 5<br>weight_decay: 0.06696073480690057<br>OpenML_task_id: 126025<br>epoch: 40",
          "<br><em>Parameterization:</em><br>batch_size: 16<br>learning_rate: 0.0036837324459047423<br>max_dropout: 0.029052379418671274<br>max_units: 391<br>momentum: 0.21115647923599012<br>num_layers: 4<br>weight_decay: 0.07239864611711458<br>OpenML_task_id: 126025<br>epoch: 40",
          "<br><em>Parameterization:</em><br>batch_size: 395<br>learning_rate: 0.016499585216991228<br>max_dropout: 0.7296042221810932<br>max_units: 862<br>momentum: 0.1<br>num_layers: 5<br>weight_decay: 0.09712179406796226<br>OpenML_task_id: 126025<br>epoch: 40",
          "<br><em>Parameterization:</em><br>batch_size: 55<br>learning_rate: 0.001391221215372397<br>max_dropout: 0.2263460717874882<br>max_units: 618<br>momentum: 0.24498188266454413<br>num_layers: 3<br>weight_decay: 0.06446689280716486<br>OpenML_task_id: 126025<br>epoch: 40",
          "<br><em>Parameterization:</em><br>batch_size: 16<br>learning_rate: 0.0036178738766282615<br>max_dropout: 0.0<br>max_units: 561<br>momentum: 0.1<br>num_layers: 5<br>weight_decay: 0.06155247196844066<br>OpenML_task_id: 126025<br>epoch: 40",
          "<br><em>Parameterization:</em><br>batch_size: 16<br>learning_rate: 0.0035919086805927427<br>max_dropout: 0.0<br>max_units: 560<br>momentum: 0.1<br>num_layers: 5<br>weight_decay: 0.06133753421584808<br>OpenML_task_id: 126025<br>epoch: 40",
          "<br><em>Parameterization:</em><br>batch_size: 197<br>learning_rate: 0.0003478770164101888<br>max_dropout: 0.0<br>max_units: 577<br>momentum: 0.19176604888582427<br>num_layers: 5<br>weight_decay: 0.06353476807017087<br>OpenML_task_id: 126025<br>epoch: 40",
          "<br><em>Parameterization:</em><br>batch_size: 39<br>learning_rate: 0.004305288940439241<br>max_dropout: 0.09004333177597564<br>max_units: 465<br>momentum: 0.1<br>num_layers: 5<br>weight_decay: 0.05775665094093456<br>OpenML_task_id: 126025<br>epoch: 40",
          "<br><em>Parameterization:</em><br>batch_size: 16<br>learning_rate: 0.003950330665991071<br>max_dropout: 0.11486958670968818<br>max_units: 477<br>momentum: 0.1<br>num_layers: 5<br>weight_decay: 0.05956471354407865<br>OpenML_task_id: 126025<br>epoch: 40",
          "<br><em>Parameterization:</em><br>batch_size: 18<br>learning_rate: 0.0037666989320454215<br>max_dropout: 0.4380328834278755<br>max_units: 465<br>momentum: 0.1<br>num_layers: 5<br>weight_decay: 0.06062534506082039<br>OpenML_task_id: 126025<br>epoch: 40",
          "<br><em>Parameterization:</em><br>batch_size: 16<br>learning_rate: 0.004697339684882239<br>max_dropout: 0.0<br>max_units: 490<br>momentum: 0.1<br>num_layers: 5<br>weight_decay: 0.05989907923765041<br>OpenML_task_id: 126025<br>epoch: 40",
          "<br><em>Parameterization:</em><br>batch_size: 16<br>learning_rate: 0.004163906138444942<br>max_dropout: 0.0<br>max_units: 481<br>momentum: 0.1<br>num_layers: 5<br>weight_decay: 0.05952011110106842<br>OpenML_task_id: 126025<br>epoch: 40",
          "<br><em>Parameterization:</em><br>batch_size: 16<br>learning_rate: 0.004141562682425157<br>max_dropout: 0.0<br>max_units: 479<br>momentum: 0.1<br>num_layers: 5<br>weight_decay: 0.05965116084520604<br>OpenML_task_id: 126025<br>epoch: 40",
          "<br><em>Parameterization:</em><br>batch_size: 16<br>learning_rate: 0.004108744243546842<br>max_dropout: 0.0<br>max_units: 478<br>momentum: 0.1<br>num_layers: 5<br>weight_decay: 0.06004406337999321<br>OpenML_task_id: 126025<br>epoch: 40",
          "<br><em>Parameterization:</em><br>batch_size: 16<br>learning_rate: 0.0040899004996821425<br>max_dropout: 0.0<br>max_units: 478<br>momentum: 0.1<br>num_layers: 5<br>weight_decay: 0.06043169505099111<br>OpenML_task_id: 126025<br>epoch: 40",
          "<br><em>Parameterization:</em><br>batch_size: 16<br>learning_rate: 0.0040994425207872736<br>max_dropout: 0.0<br>max_units: 479<br>momentum: 0.1<br>num_layers: 5<br>weight_decay: 0.06036923702364505<br>OpenML_task_id: 126025<br>epoch: 40",
          "<br><em>Parameterization:</em><br>batch_size: 16<br>learning_rate: 0.0041076292156449505<br>max_dropout: 0.0<br>max_units: 479<br>momentum: 0.1<br>num_layers: 5<br>weight_decay: 0.06027189205798338<br>OpenML_task_id: 126025<br>epoch: 40",
          "<br><em>Parameterization:</em><br>batch_size: 16<br>learning_rate: 0.004111126271440416<br>max_dropout: 0.0<br>max_units: 479<br>momentum: 0.1<br>num_layers: 5<br>weight_decay: 0.06024803101666475<br>OpenML_task_id: 126025<br>epoch: 40",
          "<br><em>Parameterization:</em><br>batch_size: 16<br>learning_rate: 0.004113238137771231<br>max_dropout: 0.0<br>max_units: 479<br>momentum: 0.1<br>num_layers: 5<br>weight_decay: 0.06023849456218717<br>OpenML_task_id: 126025<br>epoch: 40",
          "<br><em>Parameterization:</em><br>batch_size: 16<br>learning_rate: 0.004114642518826224<br>max_dropout: 0.0<br>max_units: 479<br>momentum: 0.1<br>num_layers: 5<br>weight_decay: 0.06023751389302113<br>OpenML_task_id: 126025<br>epoch: 40",
          "<br><em>Parameterization:</em><br>batch_size: 16<br>learning_rate: 0.0041159474589827025<br>max_dropout: 0.0<br>max_units: 480<br>momentum: 0.1<br>num_layers: 5<br>weight_decay: 0.06023524202759629<br>OpenML_task_id: 126025<br>epoch: 40",
          "<br><em>Parameterization:</em><br>batch_size: 16<br>learning_rate: 0.004117106987384686<br>max_dropout: 0.0<br>max_units: 480<br>momentum: 0.1<br>num_layers: 5<br>weight_decay: 0.06024102729919919<br>OpenML_task_id: 126025<br>epoch: 40",
          "<br><em>Parameterization:</em><br>batch_size: 16<br>learning_rate: 0.0041197064425376635<br>max_dropout: 0.0<br>max_units: 479<br>momentum: 0.1<br>num_layers: 5<br>weight_decay: 0.060185725660765396<br>OpenML_task_id: 126025<br>epoch: 40",
          "<br><em>Parameterization:</em><br>batch_size: 16<br>learning_rate: 0.004119877232468463<br>max_dropout: 0.0<br>max_units: 479<br>momentum: 0.1<br>num_layers: 5<br>weight_decay: 0.06019242386848716<br>OpenML_task_id: 126025<br>epoch: 40",
          "<br><em>Parameterization:</em><br>batch_size: 16<br>learning_rate: 0.004120047119308458<br>max_dropout: 0.0<br>max_units: 480<br>momentum: 0.1<br>num_layers: 5<br>weight_decay: 0.06019674341140092<br>OpenML_task_id: 126025<br>epoch: 40",
          "<br><em>Parameterization:</em><br>batch_size: 16<br>learning_rate: 0.0013138978978377675<br>max_dropout: 0.0<br>max_units: 926<br>momentum: 0.1<br>num_layers: 5<br>weight_decay: 0.1<br>OpenML_task_id: 126025<br>epoch: 40",
          "<br><em>Parameterization:</em><br>batch_size: 16<br>learning_rate: 0.0041255479372615195<br>max_dropout: 0.0<br>max_units: 479<br>momentum: 0.1<br>num_layers: 5<br>weight_decay: 0.06010241684730234<br>OpenML_task_id: 126025<br>epoch: 40",
          "<br><em>Parameterization:</em><br>batch_size: 16<br>learning_rate: 0.004125373985393278<br>max_dropout: 0.0<br>max_units: 479<br>momentum: 0.1<br>num_layers: 5<br>weight_decay: 0.060104431791343955<br>OpenML_task_id: 126025<br>epoch: 40",
          "<br><em>Parameterization:</em><br>batch_size: 16<br>learning_rate: 0.004125152415026554<br>max_dropout: 0.0<br>max_units: 479<br>momentum: 0.1<br>num_layers: 5<br>weight_decay: 0.06010654789846726<br>OpenML_task_id: 126025<br>epoch: 40",
          "<br><em>Parameterization:</em><br>batch_size: 16<br>learning_rate: 0.004124950279422965<br>max_dropout: 0.0<br>max_units: 479<br>momentum: 0.1<br>num_layers: 5<br>weight_decay: 0.06010772206722133<br>OpenML_task_id: 126025<br>epoch: 40",
          "<br><em>Parameterization:</em><br>batch_size: 16<br>learning_rate: 0.004124989727395381<br>max_dropout: 0.0<br>max_units: 479<br>momentum: 0.1<br>num_layers: 5<br>weight_decay: 0.06010757056560168<br>OpenML_task_id: 126025<br>epoch: 40",
          "<br><em>Parameterization:</em><br>batch_size: 16<br>learning_rate: 0.004124682166099559<br>max_dropout: 0.0<br>max_units: 479<br>momentum: 0.1<br>num_layers: 5<br>weight_decay: 0.06010876757504389<br>OpenML_task_id: 126025<br>epoch: 40",
          "<br><em>Parameterization:</em><br>batch_size: 16<br>learning_rate: 0.004124469853048328<br>max_dropout: 0.0<br>max_units: 479<br>momentum: 0.1<br>num_layers: 5<br>weight_decay: 0.06010725425864347<br>OpenML_task_id: 126025<br>epoch: 40",
          "<br><em>Parameterization:</em><br>batch_size: 16<br>learning_rate: 0.004123998783050868<br>max_dropout: 0.0<br>max_units: 478<br>momentum: 0.1<br>num_layers: 5<br>weight_decay: 0.0601081993266658<br>OpenML_task_id: 126025<br>epoch: 40",
          "<br><em>Parameterization:</em><br>batch_size: 16<br>learning_rate: 0.004123146825845573<br>max_dropout: 0.0<br>max_units: 478<br>momentum: 0.1<br>num_layers: 5<br>weight_decay: 0.0601059703801266<br>OpenML_task_id: 126025<br>epoch: 40",
          "<br><em>Parameterization:</em><br>batch_size: 16<br>learning_rate: 0.004122386716041661<br>max_dropout: 0.0<br>max_units: 478<br>momentum: 0.1<br>num_layers: 5<br>weight_decay: 0.060103384958291595<br>OpenML_task_id: 126025<br>epoch: 40",
          "<br><em>Parameterization:</em><br>batch_size: 16<br>learning_rate: 0.004121462992297785<br>max_dropout: 0.0<br>max_units: 478<br>momentum: 0.1<br>num_layers: 5<br>weight_decay: 0.06009996538473585<br>OpenML_task_id: 126025<br>epoch: 40",
          "<br><em>Parameterization:</em><br>batch_size: 16<br>learning_rate: 0.004120661340434536<br>max_dropout: 0.0<br>max_units: 478<br>momentum: 0.1<br>num_layers: 5<br>weight_decay: 0.06009721524652091<br>OpenML_task_id: 126025<br>epoch: 40",
          "<br><em>Parameterization:</em><br>batch_size: 16<br>learning_rate: 0.0041194445846862325<br>max_dropout: 0.0<br>max_units: 478<br>momentum: 0.1<br>num_layers: 5<br>weight_decay: 0.060092751909454845<br>OpenML_task_id: 126025<br>epoch: 40",
          "<br><em>Parameterization:</em><br>batch_size: 16<br>learning_rate: 0.004118541588854163<br>max_dropout: 0.0<br>max_units: 478<br>momentum: 0.1<br>num_layers: 5<br>weight_decay: 0.06008725863573268<br>OpenML_task_id: 126025<br>epoch: 40",
          "<br><em>Parameterization:</em><br>batch_size: 16<br>learning_rate: 0.0041176566151507835<br>max_dropout: 0.0<br>max_units: 477<br>momentum: 0.1<br>num_layers: 5<br>weight_decay: 0.060080865868839234<br>OpenML_task_id: 126025<br>epoch: 40",
          "<br><em>Parameterization:</em><br>batch_size: 16<br>learning_rate: 0.004115740720013486<br>max_dropout: 0.0<br>max_units: 477<br>momentum: 0.1<br>num_layers: 5<br>weight_decay: 0.06006712728250957<br>OpenML_task_id: 126025<br>epoch: 40",
          "<br><em>Parameterization:</em><br>batch_size: 16<br>learning_rate: 0.004113364850728696<br>max_dropout: 0.0<br>max_units: 477<br>momentum: 0.1<br>num_layers: 5<br>weight_decay: 0.060054430507557<br>OpenML_task_id: 126025<br>epoch: 40",
          "<br><em>Parameterization:</em><br>batch_size: 16<br>learning_rate: 0.00411108527153688<br>max_dropout: 0.0<br>max_units: 476<br>momentum: 0.1<br>num_layers: 5<br>weight_decay: 0.060033089336244426<br>OpenML_task_id: 126025<br>epoch: 40",
          "<br><em>Parameterization:</em><br>batch_size: 16<br>learning_rate: 0.004107392464167801<br>max_dropout: 0.0<br>max_units: 475<br>momentum: 0.1<br>num_layers: 5<br>weight_decay: 0.05999217922886158<br>OpenML_task_id: 126025<br>epoch: 40",
          "<br><em>Parameterization:</em><br>batch_size: 16<br>learning_rate: 0.004100616521854135<br>max_dropout: 0.0<br>max_units: 474<br>momentum: 0.1<br>num_layers: 5<br>weight_decay: 0.05991358610871115<br>OpenML_task_id: 126025<br>epoch: 40",
          "<br><em>Parameterization:</em><br>batch_size: 16<br>learning_rate: 0.004089232725966397<br>max_dropout: 0.0<br>max_units: 471<br>momentum: 0.1<br>num_layers: 5<br>weight_decay: 0.059759822205828005<br>OpenML_task_id: 126025<br>epoch: 40",
          "<br><em>Parameterization:</em><br>batch_size: 16<br>learning_rate: 0.0040600421485512735<br>max_dropout: 0.0<br>max_units: 465<br>momentum: 0.1<br>num_layers: 5<br>weight_decay: 0.05933172280137872<br>OpenML_task_id: 126025<br>epoch: 40",
          "<br><em>Parameterization:</em><br>batch_size: 16<br>learning_rate: 0.003945275647259719<br>max_dropout: 0.0<br>max_units: 446<br>momentum: 0.1<br>num_layers: 5<br>weight_decay: 0.057894092728661126<br>OpenML_task_id: 126025<br>epoch: 40",
          "<br><em>Parameterization:</em><br>batch_size: 16<br>learning_rate: 0.003537508103567697<br>max_dropout: 0.0<br>max_units: 386<br>momentum: 0.1<br>num_layers: 5<br>weight_decay: 0.05349880106884804<br>OpenML_task_id: 126025<br>epoch: 40",
          "<br><em>Parameterization:</em><br>batch_size: 16<br>learning_rate: 0.0033475981262741476<br>max_dropout: 0.0<br>max_units: 352<br>momentum: 0.1<br>num_layers: 5<br>weight_decay: 0.051104003091703154<br>OpenML_task_id: 126025<br>epoch: 40",
          "<br><em>Parameterization:</em><br>batch_size: 16<br>learning_rate: 0.003283478464394764<br>max_dropout: 0.0<br>max_units: 333<br>momentum: 0.1<br>num_layers: 5<br>weight_decay: 0.05024531328404871<br>OpenML_task_id: 126025<br>epoch: 40",
          "<br><em>Parameterization:</em><br>batch_size: 16<br>learning_rate: 0.0032800604389796296<br>max_dropout: 0.0<br>max_units: 319<br>momentum: 0.1<br>num_layers: 5<br>weight_decay: 0.05021893047326602<br>OpenML_task_id: 126025<br>epoch: 40",
          "<br><em>Parameterization:</em><br>batch_size: 16<br>learning_rate: 0.0032916562292050625<br>max_dropout: 0.0<br>max_units: 310<br>momentum: 0.1<br>num_layers: 5<br>weight_decay: 0.050558923177402244<br>OpenML_task_id: 126025<br>epoch: 40",
          "<br><em>Parameterization:</em><br>batch_size: 16<br>learning_rate: 0.0032841171137835278<br>max_dropout: 0.0<br>max_units: 308<br>momentum: 0.1<br>num_layers: 5<br>weight_decay: 0.05078464017737964<br>OpenML_task_id: 126025<br>epoch: 40",
          "<br><em>Parameterization:</em><br>batch_size: 16<br>learning_rate: 0.003266400229292924<br>max_dropout: 0.0<br>max_units: 307<br>momentum: 0.1<br>num_layers: 5<br>weight_decay: 0.05089631178478033<br>OpenML_task_id: 126025<br>epoch: 40",
          "<br><em>Parameterization:</em><br>batch_size: 16<br>learning_rate: 0.0032445126264189074<br>max_dropout: 0.0<br>max_units: 307<br>momentum: 0.1<br>num_layers: 5<br>weight_decay: 0.050986134434194946<br>OpenML_task_id: 126025<br>epoch: 40",
          "<br><em>Parameterization:</em><br>batch_size: 40<br>learning_rate: 0.05638249136027733<br>max_dropout: 0.6881172014400363<br>max_units: 173<br>momentum: 0.20131748707033695<br>num_layers: 4<br>weight_decay: 0.08265508430302143<br>OpenML_task_id: 126025<br>epoch: 40",
          "<br><em>Parameterization:</em><br>batch_size: 16<br>learning_rate: 0.0032278692045978187<br>max_dropout: 0.0<br>max_units: 310<br>momentum: 0.1<br>num_layers: 5<br>weight_decay: 0.0513678640205472<br>OpenML_task_id: 126025<br>epoch: 40",
          "<br><em>Parameterization:</em><br>batch_size: 16<br>learning_rate: 0.003240541125156757<br>max_dropout: 0.0<br>max_units: 311<br>momentum: 0.1<br>num_layers: 5<br>weight_decay: 0.05135726935094746<br>OpenML_task_id: 126025<br>epoch: 40",
          "<br><em>Parameterization:</em><br>batch_size: 16<br>learning_rate: 0.0032489912367812033<br>max_dropout: 0.0<br>max_units: 311<br>momentum: 0.1<br>num_layers: 5<br>weight_decay: 0.051329515549977306<br>OpenML_task_id: 126025<br>epoch: 40",
          "<br><em>Parameterization:</em><br>batch_size: 16<br>learning_rate: 0.003252736271787192<br>max_dropout: 0.0<br>max_units: 310<br>momentum: 0.1<br>num_layers: 5<br>weight_decay: 0.051305172568709416<br>OpenML_task_id: 126025<br>epoch: 40",
          "<br><em>Parameterization:</em><br>batch_size: 16<br>learning_rate: 0.0032527492357269957<br>max_dropout: 0.0<br>max_units: 310<br>momentum: 0.1<br>num_layers: 5<br>weight_decay: 0.05130191680979356<br>OpenML_task_id: 126025<br>epoch: 40",
          "<br><em>Parameterization:</em><br>batch_size: 16<br>learning_rate: 0.003253336848805325<br>max_dropout: 0.0<br>max_units: 311<br>momentum: 0.1<br>num_layers: 5<br>weight_decay: 0.05130683350965359<br>OpenML_task_id: 126025<br>epoch: 40",
          "<br><em>Parameterization:</em><br>batch_size: 16<br>learning_rate: 0.003254983470446849<br>max_dropout: 0.0<br>max_units: 311<br>momentum: 0.1<br>num_layers: 5<br>weight_decay: 0.05129816721876676<br>OpenML_task_id: 126025<br>epoch: 40",
          "<br><em>Parameterization:</em><br>batch_size: 16<br>learning_rate: 0.0032563100725767316<br>max_dropout: 0.0<br>max_units: 311<br>momentum: 0.1<br>num_layers: 5<br>weight_decay: 0.051290233985902<br>OpenML_task_id: 126025<br>epoch: 40",
          "<br><em>Parameterization:</em><br>batch_size: 16<br>learning_rate: 0.003256826378547535<br>max_dropout: 0.0<br>max_units: 310<br>momentum: 0.1<br>num_layers: 5<br>weight_decay: 0.05128368789183841<br>OpenML_task_id: 126025<br>epoch: 40",
          "<br><em>Parameterization:</em><br>batch_size: 16<br>learning_rate: 0.0032570128035969248<br>max_dropout: 0.0<br>max_units: 311<br>momentum: 0.1<br>num_layers: 5<br>weight_decay: 0.05128671858242111<br>OpenML_task_id: 126025<br>epoch: 40",
          "<br><em>Parameterization:</em><br>batch_size: 16<br>learning_rate: 0.0032576828701079354<br>max_dropout: 0.0<br>max_units: 310<br>momentum: 0.1<br>num_layers: 5<br>weight_decay: 0.05127808646347184<br>OpenML_task_id: 126025<br>epoch: 40",
          "<br><em>Parameterization:</em><br>batch_size: 16<br>learning_rate: 0.0032578560346586062<br>max_dropout: 0.0<br>max_units: 310<br>momentum: 0.1<br>num_layers: 5<br>weight_decay: 0.05128147328928214<br>OpenML_task_id: 126025<br>epoch: 40",
          "<br><em>Parameterization:</em><br>batch_size: 16<br>learning_rate: 0.0032579384845597623<br>max_dropout: 0.0<br>max_units: 310<br>momentum: 0.1<br>num_layers: 5<br>weight_decay: 0.05128325530416095<br>OpenML_task_id: 126025<br>epoch: 40",
          "<br><em>Parameterization:</em><br>batch_size: 16<br>learning_rate: 0.0032582921627526303<br>max_dropout: 0.0<br>max_units: 310<br>momentum: 0.1<br>num_layers: 5<br>weight_decay: 0.051281908885927485<br>OpenML_task_id: 126025<br>epoch: 40",
          "<br><em>Parameterization:</em><br>batch_size: 16<br>learning_rate: 0.0032584198269532943<br>max_dropout: 0.0<br>max_units: 310<br>momentum: 0.1<br>num_layers: 5<br>weight_decay: 0.0512844416679075<br>OpenML_task_id: 126025<br>epoch: 40",
          "<br><em>Parameterization:</em><br>batch_size: 16<br>learning_rate: 0.003258661101405358<br>max_dropout: 0.0<br>max_units: 310<br>momentum: 0.1<br>num_layers: 5<br>weight_decay: 0.05128214033063443<br>OpenML_task_id: 126025<br>epoch: 40",
          "<br><em>Parameterization:</em><br>batch_size: 16<br>learning_rate: 0.0032587660304345054<br>max_dropout: 0.0<br>max_units: 310<br>momentum: 0.1<br>num_layers: 5<br>weight_decay: 0.05128546712396443<br>OpenML_task_id: 126025<br>epoch: 40",
          "<br><em>Parameterization:</em><br>batch_size: 16<br>learning_rate: 0.00325903165226156<br>max_dropout: 0.0<br>max_units: 310<br>momentum: 0.1<br>num_layers: 5<br>weight_decay: 0.051284412569167534<br>OpenML_task_id: 126025<br>epoch: 40",
          "<br><em>Parameterization:</em><br>batch_size: 16<br>learning_rate: 0.0356592819693258<br>max_dropout: 1.0<br>max_units: 976<br>momentum: 0.1<br>num_layers: 5<br>weight_decay: 0.0664643741322353<br>OpenML_task_id: 126025<br>epoch: 40",
          "<br><em>Parameterization:</em><br>batch_size: 16<br>learning_rate: 0.0032791777776575624<br>max_dropout: 0.0<br>max_units: 308<br>momentum: 0.1<br>num_layers: 5<br>weight_decay: 0.050989737571079906<br>OpenML_task_id: 126025<br>epoch: 40",
          "<br><em>Parameterization:</em><br>batch_size: 16<br>learning_rate: 0.003286333566797168<br>max_dropout: 0.0<br>max_units: 308<br>momentum: 0.1<br>num_layers: 5<br>weight_decay: 0.05097625181086395<br>OpenML_task_id: 126025<br>epoch: 40",
          "<br><em>Parameterization:</em><br>batch_size: 16<br>learning_rate: 0.0032939226866179907<br>max_dropout: 0.0<br>max_units: 307<br>momentum: 0.1<br>num_layers: 5<br>weight_decay: 0.05096339557028583<br>OpenML_task_id: 126025<br>epoch: 40",
          "<br><em>Parameterization:</em><br>batch_size: 16<br>learning_rate: 0.003307576794177722<br>max_dropout: 0.0<br>max_units: 307<br>momentum: 0.1<br>num_layers: 5<br>weight_decay: 0.05094029689012389<br>OpenML_task_id: 126025<br>epoch: 40",
          "<br><em>Parameterization:</em><br>batch_size: 16<br>learning_rate: 0.003318671798536744<br>max_dropout: 0.0<br>max_units: 307<br>momentum: 0.1<br>num_layers: 5<br>weight_decay: 0.05092931583258377<br>OpenML_task_id: 126025<br>epoch: 40",
          "<br><em>Parameterization:</em><br>batch_size: 16<br>learning_rate: 0.0033276844416180134<br>max_dropout: 0.0<br>max_units: 307<br>momentum: 0.1<br>num_layers: 5<br>weight_decay: 0.05091919935560631<br>OpenML_task_id: 126025<br>epoch: 40",
          "<br><em>Parameterization:</em><br>batch_size: 16<br>learning_rate: 0.0033340396301226394<br>max_dropout: 0.0<br>max_units: 307<br>momentum: 0.1<br>num_layers: 5<br>weight_decay: 0.05091321739786608<br>OpenML_task_id: 126025<br>epoch: 40",
          "<br><em>Parameterization:</em><br>batch_size: 16<br>learning_rate: 0.003277398481009572<br>max_dropout: 0.0<br>max_units: 289<br>momentum: 0.44764332146880237<br>num_layers: 5<br>weight_decay: 0.048866546846063834<br>OpenML_task_id: 126025<br>epoch: 40",
          "<br><em>Parameterization:</em><br>batch_size: 16<br>learning_rate: 0.0032007581757783243<br>max_dropout: 0.0<br>max_units: 312<br>momentum: 0.1<br>num_layers: 5<br>weight_decay: 0.05142680558927633<br>OpenML_task_id: 126025<br>epoch: 40",
          "<br><em>Parameterization:</em><br>batch_size: 16<br>learning_rate: 0.0032168044997773525<br>max_dropout: 0.0<br>max_units: 312<br>momentum: 0.1<br>num_layers: 5<br>weight_decay: 0.0513978397382191<br>OpenML_task_id: 126025<br>epoch: 40",
          "<br><em>Parameterization:</em><br>batch_size: 16<br>learning_rate: 0.0032276095160851384<br>max_dropout: 0.0<br>max_units: 312<br>momentum: 0.1<br>num_layers: 5<br>weight_decay: 0.051375975911450766<br>OpenML_task_id: 126025<br>epoch: 40",
          "<br><em>Parameterization:</em><br>batch_size: 16<br>learning_rate: 0.0032349412441105077<br>max_dropout: 0.0<br>max_units: 312<br>momentum: 0.1<br>num_layers: 5<br>weight_decay: 0.05135702066754692<br>OpenML_task_id: 126025<br>epoch: 40",
          "<br><em>Parameterization:</em><br>batch_size: 16<br>learning_rate: 0.0032405002754724715<br>max_dropout: 0.0<br>max_units: 311<br>momentum: 0.1<br>num_layers: 5<br>weight_decay: 0.05134133639909667<br>OpenML_task_id: 126025<br>epoch: 40",
          "<br><em>Parameterization:</em><br>batch_size: 16<br>learning_rate: 0.003242967096420123<br>max_dropout: 0.0<br>max_units: 311<br>momentum: 0.1<br>num_layers: 5<br>weight_decay: 0.05133226666363912<br>OpenML_task_id: 126025<br>epoch: 40",
          "<br><em>Parameterization:</em><br>batch_size: 16<br>learning_rate: 0.0032451154824487934<br>max_dropout: 0.0<br>max_units: 311<br>momentum: 0.1<br>num_layers: 5<br>weight_decay: 0.05132412319880264<br>OpenML_task_id: 126025<br>epoch: 40",
          "<br><em>Parameterization:</em><br>batch_size: 16<br>learning_rate: 0.003246828904988715<br>max_dropout: 0.0<br>max_units: 311<br>momentum: 0.1<br>num_layers: 5<br>weight_decay: 0.051323090104918624<br>OpenML_task_id: 126025<br>epoch: 40",
          "<br><em>Parameterization:</em><br>batch_size: 16<br>learning_rate: 0.0032483655992822606<br>max_dropout: 0.0<br>max_units: 311<br>momentum: 0.1<br>num_layers: 5<br>weight_decay: 0.05131672084257385<br>OpenML_task_id: 126025<br>epoch: 40",
          "<br><em>Parameterization:</em><br>batch_size: 16<br>learning_rate: 0.003249787002465169<br>max_dropout: 0.0<br>max_units: 311<br>momentum: 0.1<br>num_layers: 5<br>weight_decay: 0.051309475728683995<br>OpenML_task_id: 126025<br>epoch: 40",
          "<br><em>Parameterization:</em><br>batch_size: 16<br>learning_rate: 0.003251034457364201<br>max_dropout: 0.0<br>max_units: 311<br>momentum: 0.1<br>num_layers: 5<br>weight_decay: 0.05130767648740589<br>OpenML_task_id: 126025<br>epoch: 40",
          "<br><em>Parameterization:</em><br>batch_size: 16<br>learning_rate: 0.003251962764073081<br>max_dropout: 0.0<br>max_units: 311<br>momentum: 0.1<br>num_layers: 5<br>weight_decay: 0.05130380019965532<br>OpenML_task_id: 126025<br>epoch: 40",
          "<br><em>Parameterization:</em><br>batch_size: 16<br>learning_rate: 0.058281632436641466<br>max_dropout: 0.0<br>max_units: 228<br>momentum: 0.99<br>num_layers: 1<br>weight_decay: 0.00010383975791309445<br>OpenML_task_id: 126025<br>epoch: 40",
          "<br><em>Parameterization:</em><br>batch_size: 16<br>learning_rate: 0.0032845420779031567<br>max_dropout: 0.0<br>max_units: 309<br>momentum: 0.1<br>num_layers: 5<br>weight_decay: 0.05107604697357197<br>OpenML_task_id: 126025<br>epoch: 40"
         ],
         "type": "scatter",
         "x": [
          1,
          2,
          3,
          4,
          5,
          6,
          7,
          8,
          9,
          10,
          11,
          12,
          13,
          14,
          15,
          16,
          17,
          18,
          19,
          20,
          21,
          22,
          23,
          24,
          25,
          26,
          27,
          28,
          29,
          30,
          31,
          32,
          33,
          34,
          35,
          36,
          37,
          38,
          39,
          40,
          41,
          42,
          43,
          44,
          45,
          46,
          47,
          48,
          49,
          50,
          51,
          52,
          53,
          54,
          55,
          56,
          57,
          58,
          59,
          60,
          61,
          62,
          63,
          64,
          65,
          66,
          67,
          68,
          69,
          70,
          71,
          72,
          73,
          74,
          75,
          76,
          77,
          78,
          79,
          80,
          81,
          82,
          83,
          84,
          85,
          86,
          87,
          88,
          89,
          90,
          91,
          92,
          93,
          94,
          95,
          96,
          97,
          98,
          99,
          100,
          101,
          102,
          103,
          104,
          105,
          106,
          107,
          108,
          109,
          110,
          111,
          112,
          113,
          114,
          115,
          116,
          117,
          118,
          119,
          120,
          121,
          122,
          123,
          124,
          125,
          126,
          127,
          128,
          129,
          130,
          131,
          132,
          133
         ],
         "y": [
          76.31208038330078,
          76.31208038330078,
          80.2523193359375,
          80.2523193359375,
          80.2523193359375,
          80.2523193359375,
          80.2523193359375,
          80.2523193359375,
          80.2523193359375,
          81.63093566894531,
          81.63093566894531,
          85.86235046386719,
          85.86235046386719,
          85.86235046386719,
          85.86235046386719,
          86.15008544921875,
          86.15008544921875,
          86.15008544921875,
          86.15008544921875,
          86.15008544921875,
          86.15008544921875,
          86.15008544921875,
          87.42333984375,
          87.42333984375,
          88.39651489257812,
          88.39651489257812,
          88.39651489257812,
          88.39651489257812,
          88.39651489257812,
          88.39651489257812,
          88.39651489257812,
          88.39651489257812,
          88.39651489257812,
          88.39651489257812,
          88.39651489257812,
          88.39651489257812,
          88.39651489257812,
          88.39651489257812,
          89.65917205810547,
          89.666015625,
          89.666015625,
          89.9623794555664,
          90.0870361328125,
          90.0870361328125,
          90.1265640258789,
          90.18743896484375,
          90.19673156738281,
          90.19776153564453,
          90.19776153564453,
          90.19776153564453,
          90.19776153564453,
          90.19776153564453,
          90.19776153564453,
          90.19776153564453,
          90.19776153564453,
          90.19776153564453,
          90.19776153564453,
          90.19776153564453,
          90.19776153564453,
          90.19776153564453,
          90.19776153564453,
          90.19776153564453,
          90.19776153564453,
          90.19776153564453,
          90.19776153564453,
          90.19776153564453,
          90.19776153564453,
          90.19776153564453,
          90.19776153564453,
          90.19776153564453,
          90.19776153564453,
          90.19776153564453,
          90.19776153564453,
          90.19776153564453,
          90.20154571533203,
          90.20223236083984,
          90.20257568359375,
          90.20808410644531,
          90.2149658203125,
          90.22184753417969,
          90.24009704589844,
          90.2765884399414,
          90.38134002685547,
          90.7070541381836,
          90.886474609375,
          90.973876953125,
          91.02838134765625,
          91.05094909667969,
          91.0537338256836,
          91.05512237548828,
          91.05512237548828,
          91.05512237548828,
          91.05512237548828,
          91.05512237548828,
          91.05512237548828,
          91.05512237548828,
          91.05512237548828,
          91.05512237548828,
          91.05512237548828,
          91.05512237548828,
          91.05512237548828,
          91.05512237548828,
          91.05512237548828,
          91.05512237548828,
          91.05512237548828,
          91.05512237548828,
          91.05512237548828,
          91.05512237548828,
          91.05512237548828,
          91.05512237548828,
          91.05512237548828,
          91.05512237548828,
          91.05512237548828,
          91.05512237548828,
          91.05512237548828,
          91.05512237548828,
          91.05512237548828,
          91.05512237548828,
          91.05512237548828,
          91.05512237548828,
          91.05512237548828,
          91.05512237548828,
          91.05512237548828,
          91.05512237548828,
          91.05512237548828,
          91.05512237548828,
          91.05512237548828,
          91.05512237548828,
          91.05512237548828,
          91.05512237548828,
          91.05512237548828,
          91.05512237548828,
          91.05512237548828
         ]
        },
        {
         "fill": "tonexty",
         "fillcolor": "rgba(128,177,211,0.3)",
         "hoverinfo": "none",
         "legendgroup": "",
         "line": {
          "width": 0
         },
         "mode": "lines",
         "showlegend": false,
         "type": "scatter",
         "x": [
          1,
          2,
          3,
          4,
          5,
          6,
          7,
          8,
          9,
          10,
          11,
          12,
          13,
          14,
          15,
          16,
          17,
          18,
          19,
          20,
          21,
          22,
          23,
          24,
          25,
          26,
          27,
          28,
          29,
          30,
          31,
          32,
          33,
          34,
          35,
          36,
          37,
          38,
          39,
          40,
          41,
          42,
          43,
          44,
          45,
          46,
          47,
          48,
          49,
          50,
          51,
          52,
          53,
          54,
          55,
          56,
          57,
          58,
          59,
          60,
          61,
          62,
          63,
          64,
          65,
          66,
          67,
          68,
          69,
          70,
          71,
          72,
          73,
          74,
          75,
          76,
          77,
          78,
          79,
          80,
          81,
          82,
          83,
          84,
          85,
          86,
          87,
          88,
          89,
          90,
          91,
          92,
          93,
          94,
          95,
          96,
          97,
          98,
          99,
          100,
          101,
          102,
          103,
          104,
          105,
          106,
          107,
          108,
          109,
          110,
          111,
          112,
          113,
          114,
          115,
          116,
          117,
          118,
          119,
          120,
          121,
          122,
          123,
          124,
          125,
          126,
          127,
          128,
          129,
          130,
          131,
          132,
          133
         ],
         "y": [
          76.31208038330078,
          76.31208038330078,
          80.2523193359375,
          80.2523193359375,
          80.2523193359375,
          80.2523193359375,
          80.2523193359375,
          80.2523193359375,
          80.2523193359375,
          81.63093566894531,
          81.63093566894531,
          85.86235046386719,
          85.86235046386719,
          85.86235046386719,
          85.86235046386719,
          86.15008544921875,
          86.15008544921875,
          86.15008544921875,
          86.15008544921875,
          86.15008544921875,
          86.15008544921875,
          86.15008544921875,
          87.42333984375,
          87.42333984375,
          88.39651489257812,
          88.39651489257812,
          88.39651489257812,
          88.39651489257812,
          88.39651489257812,
          88.39651489257812,
          88.39651489257812,
          88.39651489257812,
          88.39651489257812,
          88.39651489257812,
          88.39651489257812,
          88.39651489257812,
          88.39651489257812,
          88.39651489257812,
          89.65917205810547,
          89.666015625,
          89.666015625,
          89.9623794555664,
          90.0870361328125,
          90.0870361328125,
          90.1265640258789,
          90.18743896484375,
          90.19673156738281,
          90.19776153564453,
          90.19776153564453,
          90.19776153564453,
          90.19776153564453,
          90.19776153564453,
          90.19776153564453,
          90.19776153564453,
          90.19776153564453,
          90.19776153564453,
          90.19776153564453,
          90.19776153564453,
          90.19776153564453,
          90.19776153564453,
          90.19776153564453,
          90.19776153564453,
          90.19776153564453,
          90.19776153564453,
          90.19776153564453,
          90.19776153564453,
          90.19776153564453,
          90.19776153564453,
          90.19776153564453,
          90.19776153564453,
          90.19776153564453,
          90.19776153564453,
          90.19776153564453,
          90.19776153564453,
          90.20154571533203,
          90.20223236083984,
          90.20257568359375,
          90.20808410644531,
          90.2149658203125,
          90.22184753417969,
          90.24009704589844,
          90.2765884399414,
          90.38134002685547,
          90.7070541381836,
          90.886474609375,
          90.973876953125,
          91.02838134765625,
          91.05094909667969,
          91.0537338256836,
          91.05512237548828,
          91.05512237548828,
          91.05512237548828,
          91.05512237548828,
          91.05512237548828,
          91.05512237548828,
          91.05512237548828,
          91.05512237548828,
          91.05512237548828,
          91.05512237548828,
          91.05512237548828,
          91.05512237548828,
          91.05512237548828,
          91.05512237548828,
          91.05512237548828,
          91.05512237548828,
          91.05512237548828,
          91.05512237548828,
          91.05512237548828,
          91.05512237548828,
          91.05512237548828,
          91.05512237548828,
          91.05512237548828,
          91.05512237548828,
          91.05512237548828,
          91.05512237548828,
          91.05512237548828,
          91.05512237548828,
          91.05512237548828,
          91.05512237548828,
          91.05512237548828,
          91.05512237548828,
          91.05512237548828,
          91.05512237548828,
          91.05512237548828,
          91.05512237548828,
          91.05512237548828,
          91.05512237548828,
          91.05512237548828,
          91.05512237548828,
          91.05512237548828,
          91.05512237548828,
          91.05512237548828,
          91.05512237548828
         ]
        },
        {
         "line": {
          "color": "rgba(253,180,98,1)",
          "dash": "dash"
         },
         "mode": "lines",
         "name": "Optimum",
         "type": "scatter",
         "x": [
          1,
          133
         ],
         "y": [
          96.51996,
          96.51996
         ]
        },
        {
         "line": {
          "color": "rgba(141,211,199,1)",
          "dash": "dash"
         },
         "mode": "lines",
         "name": "model change",
         "type": "scatter",
         "x": [
          30,
          30
         ],
         "y": [
          76.31208038330078,
          96.51996
         ]
        }
       ],
       "layout": {
        "showlegend": true,
        "template": {
         "data": {
          "bar": [
           {
            "error_x": {
             "color": "#2a3f5f"
            },
            "error_y": {
             "color": "#2a3f5f"
            },
            "marker": {
             "line": {
              "color": "#E5ECF6",
              "width": 0.5
             },
             "pattern": {
              "fillmode": "overlay",
              "size": 10,
              "solidity": 0.2
             }
            },
            "type": "bar"
           }
          ],
          "barpolar": [
           {
            "marker": {
             "line": {
              "color": "#E5ECF6",
              "width": 0.5
             },
             "pattern": {
              "fillmode": "overlay",
              "size": 10,
              "solidity": 0.2
             }
            },
            "type": "barpolar"
           }
          ],
          "carpet": [
           {
            "aaxis": {
             "endlinecolor": "#2a3f5f",
             "gridcolor": "white",
             "linecolor": "white",
             "minorgridcolor": "white",
             "startlinecolor": "#2a3f5f"
            },
            "baxis": {
             "endlinecolor": "#2a3f5f",
             "gridcolor": "white",
             "linecolor": "white",
             "minorgridcolor": "white",
             "startlinecolor": "#2a3f5f"
            },
            "type": "carpet"
           }
          ],
          "choropleth": [
           {
            "colorbar": {
             "outlinewidth": 0,
             "ticks": ""
            },
            "type": "choropleth"
           }
          ],
          "contour": [
           {
            "colorbar": {
             "outlinewidth": 0,
             "ticks": ""
            },
            "colorscale": [
             [
              0,
              "#0d0887"
             ],
             [
              0.1111111111111111,
              "#46039f"
             ],
             [
              0.2222222222222222,
              "#7201a8"
             ],
             [
              0.3333333333333333,
              "#9c179e"
             ],
             [
              0.4444444444444444,
              "#bd3786"
             ],
             [
              0.5555555555555556,
              "#d8576b"
             ],
             [
              0.6666666666666666,
              "#ed7953"
             ],
             [
              0.7777777777777778,
              "#fb9f3a"
             ],
             [
              0.8888888888888888,
              "#fdca26"
             ],
             [
              1,
              "#f0f921"
             ]
            ],
            "type": "contour"
           }
          ],
          "contourcarpet": [
           {
            "colorbar": {
             "outlinewidth": 0,
             "ticks": ""
            },
            "type": "contourcarpet"
           }
          ],
          "heatmap": [
           {
            "colorbar": {
             "outlinewidth": 0,
             "ticks": ""
            },
            "colorscale": [
             [
              0,
              "#0d0887"
             ],
             [
              0.1111111111111111,
              "#46039f"
             ],
             [
              0.2222222222222222,
              "#7201a8"
             ],
             [
              0.3333333333333333,
              "#9c179e"
             ],
             [
              0.4444444444444444,
              "#bd3786"
             ],
             [
              0.5555555555555556,
              "#d8576b"
             ],
             [
              0.6666666666666666,
              "#ed7953"
             ],
             [
              0.7777777777777778,
              "#fb9f3a"
             ],
             [
              0.8888888888888888,
              "#fdca26"
             ],
             [
              1,
              "#f0f921"
             ]
            ],
            "type": "heatmap"
           }
          ],
          "heatmapgl": [
           {
            "colorbar": {
             "outlinewidth": 0,
             "ticks": ""
            },
            "colorscale": [
             [
              0,
              "#0d0887"
             ],
             [
              0.1111111111111111,
              "#46039f"
             ],
             [
              0.2222222222222222,
              "#7201a8"
             ],
             [
              0.3333333333333333,
              "#9c179e"
             ],
             [
              0.4444444444444444,
              "#bd3786"
             ],
             [
              0.5555555555555556,
              "#d8576b"
             ],
             [
              0.6666666666666666,
              "#ed7953"
             ],
             [
              0.7777777777777778,
              "#fb9f3a"
             ],
             [
              0.8888888888888888,
              "#fdca26"
             ],
             [
              1,
              "#f0f921"
             ]
            ],
            "type": "heatmapgl"
           }
          ],
          "histogram": [
           {
            "marker": {
             "pattern": {
              "fillmode": "overlay",
              "size": 10,
              "solidity": 0.2
             }
            },
            "type": "histogram"
           }
          ],
          "histogram2d": [
           {
            "colorbar": {
             "outlinewidth": 0,
             "ticks": ""
            },
            "colorscale": [
             [
              0,
              "#0d0887"
             ],
             [
              0.1111111111111111,
              "#46039f"
             ],
             [
              0.2222222222222222,
              "#7201a8"
             ],
             [
              0.3333333333333333,
              "#9c179e"
             ],
             [
              0.4444444444444444,
              "#bd3786"
             ],
             [
              0.5555555555555556,
              "#d8576b"
             ],
             [
              0.6666666666666666,
              "#ed7953"
             ],
             [
              0.7777777777777778,
              "#fb9f3a"
             ],
             [
              0.8888888888888888,
              "#fdca26"
             ],
             [
              1,
              "#f0f921"
             ]
            ],
            "type": "histogram2d"
           }
          ],
          "histogram2dcontour": [
           {
            "colorbar": {
             "outlinewidth": 0,
             "ticks": ""
            },
            "colorscale": [
             [
              0,
              "#0d0887"
             ],
             [
              0.1111111111111111,
              "#46039f"
             ],
             [
              0.2222222222222222,
              "#7201a8"
             ],
             [
              0.3333333333333333,
              "#9c179e"
             ],
             [
              0.4444444444444444,
              "#bd3786"
             ],
             [
              0.5555555555555556,
              "#d8576b"
             ],
             [
              0.6666666666666666,
              "#ed7953"
             ],
             [
              0.7777777777777778,
              "#fb9f3a"
             ],
             [
              0.8888888888888888,
              "#fdca26"
             ],
             [
              1,
              "#f0f921"
             ]
            ],
            "type": "histogram2dcontour"
           }
          ],
          "mesh3d": [
           {
            "colorbar": {
             "outlinewidth": 0,
             "ticks": ""
            },
            "type": "mesh3d"
           }
          ],
          "parcoords": [
           {
            "line": {
             "colorbar": {
              "outlinewidth": 0,
              "ticks": ""
             }
            },
            "type": "parcoords"
           }
          ],
          "pie": [
           {
            "automargin": true,
            "type": "pie"
           }
          ],
          "scatter": [
           {
            "fillpattern": {
             "fillmode": "overlay",
             "size": 10,
             "solidity": 0.2
            },
            "type": "scatter"
           }
          ],
          "scatter3d": [
           {
            "line": {
             "colorbar": {
              "outlinewidth": 0,
              "ticks": ""
             }
            },
            "marker": {
             "colorbar": {
              "outlinewidth": 0,
              "ticks": ""
             }
            },
            "type": "scatter3d"
           }
          ],
          "scattercarpet": [
           {
            "marker": {
             "colorbar": {
              "outlinewidth": 0,
              "ticks": ""
             }
            },
            "type": "scattercarpet"
           }
          ],
          "scattergeo": [
           {
            "marker": {
             "colorbar": {
              "outlinewidth": 0,
              "ticks": ""
             }
            },
            "type": "scattergeo"
           }
          ],
          "scattergl": [
           {
            "marker": {
             "colorbar": {
              "outlinewidth": 0,
              "ticks": ""
             }
            },
            "type": "scattergl"
           }
          ],
          "scattermapbox": [
           {
            "marker": {
             "colorbar": {
              "outlinewidth": 0,
              "ticks": ""
             }
            },
            "type": "scattermapbox"
           }
          ],
          "scatterpolar": [
           {
            "marker": {
             "colorbar": {
              "outlinewidth": 0,
              "ticks": ""
             }
            },
            "type": "scatterpolar"
           }
          ],
          "scatterpolargl": [
           {
            "marker": {
             "colorbar": {
              "outlinewidth": 0,
              "ticks": ""
             }
            },
            "type": "scatterpolargl"
           }
          ],
          "scatterternary": [
           {
            "marker": {
             "colorbar": {
              "outlinewidth": 0,
              "ticks": ""
             }
            },
            "type": "scatterternary"
           }
          ],
          "surface": [
           {
            "colorbar": {
             "outlinewidth": 0,
             "ticks": ""
            },
            "colorscale": [
             [
              0,
              "#0d0887"
             ],
             [
              0.1111111111111111,
              "#46039f"
             ],
             [
              0.2222222222222222,
              "#7201a8"
             ],
             [
              0.3333333333333333,
              "#9c179e"
             ],
             [
              0.4444444444444444,
              "#bd3786"
             ],
             [
              0.5555555555555556,
              "#d8576b"
             ],
             [
              0.6666666666666666,
              "#ed7953"
             ],
             [
              0.7777777777777778,
              "#fb9f3a"
             ],
             [
              0.8888888888888888,
              "#fdca26"
             ],
             [
              1,
              "#f0f921"
             ]
            ],
            "type": "surface"
           }
          ],
          "table": [
           {
            "cells": {
             "fill": {
              "color": "#EBF0F8"
             },
             "line": {
              "color": "white"
             }
            },
            "header": {
             "fill": {
              "color": "#C8D4E3"
             },
             "line": {
              "color": "white"
             }
            },
            "type": "table"
           }
          ]
         },
         "layout": {
          "annotationdefaults": {
           "arrowcolor": "#2a3f5f",
           "arrowhead": 0,
           "arrowwidth": 1
          },
          "autotypenumbers": "strict",
          "coloraxis": {
           "colorbar": {
            "outlinewidth": 0,
            "ticks": ""
           }
          },
          "colorscale": {
           "diverging": [
            [
             0,
             "#8e0152"
            ],
            [
             0.1,
             "#c51b7d"
            ],
            [
             0.2,
             "#de77ae"
            ],
            [
             0.3,
             "#f1b6da"
            ],
            [
             0.4,
             "#fde0ef"
            ],
            [
             0.5,
             "#f7f7f7"
            ],
            [
             0.6,
             "#e6f5d0"
            ],
            [
             0.7,
             "#b8e186"
            ],
            [
             0.8,
             "#7fbc41"
            ],
            [
             0.9,
             "#4d9221"
            ],
            [
             1,
             "#276419"
            ]
           ],
           "sequential": [
            [
             0,
             "#0d0887"
            ],
            [
             0.1111111111111111,
             "#46039f"
            ],
            [
             0.2222222222222222,
             "#7201a8"
            ],
            [
             0.3333333333333333,
             "#9c179e"
            ],
            [
             0.4444444444444444,
             "#bd3786"
            ],
            [
             0.5555555555555556,
             "#d8576b"
            ],
            [
             0.6666666666666666,
             "#ed7953"
            ],
            [
             0.7777777777777778,
             "#fb9f3a"
            ],
            [
             0.8888888888888888,
             "#fdca26"
            ],
            [
             1,
             "#f0f921"
            ]
           ],
           "sequentialminus": [
            [
             0,
             "#0d0887"
            ],
            [
             0.1111111111111111,
             "#46039f"
            ],
            [
             0.2222222222222222,
             "#7201a8"
            ],
            [
             0.3333333333333333,
             "#9c179e"
            ],
            [
             0.4444444444444444,
             "#bd3786"
            ],
            [
             0.5555555555555556,
             "#d8576b"
            ],
            [
             0.6666666666666666,
             "#ed7953"
            ],
            [
             0.7777777777777778,
             "#fb9f3a"
            ],
            [
             0.8888888888888888,
             "#fdca26"
            ],
            [
             1,
             "#f0f921"
            ]
           ]
          },
          "colorway": [
           "#636efa",
           "#EF553B",
           "#00cc96",
           "#ab63fa",
           "#FFA15A",
           "#19d3f3",
           "#FF6692",
           "#B6E880",
           "#FF97FF",
           "#FECB52"
          ],
          "font": {
           "color": "#2a3f5f"
          },
          "geo": {
           "bgcolor": "white",
           "lakecolor": "white",
           "landcolor": "#E5ECF6",
           "showlakes": true,
           "showland": true,
           "subunitcolor": "white"
          },
          "hoverlabel": {
           "align": "left"
          },
          "hovermode": "closest",
          "mapbox": {
           "style": "light"
          },
          "paper_bgcolor": "white",
          "plot_bgcolor": "#E5ECF6",
          "polar": {
           "angularaxis": {
            "gridcolor": "white",
            "linecolor": "white",
            "ticks": ""
           },
           "bgcolor": "#E5ECF6",
           "radialaxis": {
            "gridcolor": "white",
            "linecolor": "white",
            "ticks": ""
           }
          },
          "scene": {
           "xaxis": {
            "backgroundcolor": "#E5ECF6",
            "gridcolor": "white",
            "gridwidth": 2,
            "linecolor": "white",
            "showbackground": true,
            "ticks": "",
            "zerolinecolor": "white"
           },
           "yaxis": {
            "backgroundcolor": "#E5ECF6",
            "gridcolor": "white",
            "gridwidth": 2,
            "linecolor": "white",
            "showbackground": true,
            "ticks": "",
            "zerolinecolor": "white"
           },
           "zaxis": {
            "backgroundcolor": "#E5ECF6",
            "gridcolor": "white",
            "gridwidth": 2,
            "linecolor": "white",
            "showbackground": true,
            "ticks": "",
            "zerolinecolor": "white"
           }
          },
          "shapedefaults": {
           "line": {
            "color": "#2a3f5f"
           }
          },
          "ternary": {
           "aaxis": {
            "gridcolor": "white",
            "linecolor": "white",
            "ticks": ""
           },
           "baxis": {
            "gridcolor": "white",
            "linecolor": "white",
            "ticks": ""
           },
           "bgcolor": "#E5ECF6",
           "caxis": {
            "gridcolor": "white",
            "linecolor": "white",
            "ticks": ""
           }
          },
          "title": {
           "x": 0.05
          },
          "xaxis": {
           "automargin": true,
           "gridcolor": "white",
           "linecolor": "white",
           "ticks": "",
           "title": {
            "standoff": 15
           },
           "zerolinecolor": "white",
           "zerolinewidth": 2
          },
          "yaxis": {
           "automargin": true,
           "gridcolor": "white",
           "linecolor": "white",
           "ticks": "",
           "title": {
            "standoff": 15
           },
           "zerolinecolor": "white",
           "zerolinewidth": 2
          }
         }
        },
        "title": {
         "text": "Model performance vs. # of iterations"
        },
        "xaxis": {
         "title": {
          "text": "Iteration"
         }
        },
        "yaxis": {
         "title": {
          "text": "Accuracy"
         }
        }
       }
      },
      "text/html": [
       "<div>                            <div id=\"75d60d5b-1827-43a5-9826-022105128e31\" class=\"plotly-graph-div\" style=\"height:525px; width:100%;\"></div>            <script type=\"text/javascript\">                require([\"plotly\"], function(Plotly) {                    window.PLOTLYENV=window.PLOTLYENV || {};                                    if (document.getElementById(\"75d60d5b-1827-43a5-9826-022105128e31\")) {                    Plotly.newPlot(                        \"75d60d5b-1827-43a5-9826-022105128e31\",                        [{\"hoverinfo\":\"none\",\"legendgroup\":\"\",\"line\":{\"width\":0},\"mode\":\"lines\",\"showlegend\":false,\"x\":[1,2,3,4,5,6,7,8,9,10,11,12,13,14,15,16,17,18,19,20,21,22,23,24,25,26,27,28,29,30,31,32,33,34,35,36,37,38,39,40,41,42,43,44,45,46,47,48,49,50,51,52,53,54,55,56,57,58,59,60,61,62,63,64,65,66,67,68,69,70,71,72,73,74,75,76,77,78,79,80,81,82,83,84,85,86,87,88,89,90,91,92,93,94,95,96,97,98,99,100,101,102,103,104,105,106,107,108,109,110,111,112,113,114,115,116,117,118,119,120,121,122,123,124,125,126,127,128,129,130,131,132,133],\"y\":[76.31208038330078,76.31208038330078,80.2523193359375,80.2523193359375,80.2523193359375,80.2523193359375,80.2523193359375,80.2523193359375,80.2523193359375,81.63093566894531,81.63093566894531,85.86235046386719,85.86235046386719,85.86235046386719,85.86235046386719,86.15008544921875,86.15008544921875,86.15008544921875,86.15008544921875,86.15008544921875,86.15008544921875,86.15008544921875,87.42333984375,87.42333984375,88.39651489257812,88.39651489257812,88.39651489257812,88.39651489257812,88.39651489257812,88.39651489257812,88.39651489257812,88.39651489257812,88.39651489257812,88.39651489257812,88.39651489257812,88.39651489257812,88.39651489257812,88.39651489257812,89.65917205810547,89.666015625,89.666015625,89.9623794555664,90.0870361328125,90.0870361328125,90.1265640258789,90.18743896484375,90.19673156738281,90.19776153564453,90.19776153564453,90.19776153564453,90.19776153564453,90.19776153564453,90.19776153564453,90.19776153564453,90.19776153564453,90.19776153564453,90.19776153564453,90.19776153564453,90.19776153564453,90.19776153564453,90.19776153564453,90.19776153564453,90.19776153564453,90.19776153564453,90.19776153564453,90.19776153564453,90.19776153564453,90.19776153564453,90.19776153564453,90.19776153564453,90.19776153564453,90.19776153564453,90.19776153564453,90.19776153564453,90.20154571533203,90.20223236083984,90.20257568359375,90.20808410644531,90.2149658203125,90.22184753417969,90.24009704589844,90.2765884399414,90.38134002685547,90.7070541381836,90.886474609375,90.973876953125,91.02838134765625,91.05094909667969,91.0537338256836,91.05512237548828,91.05512237548828,91.05512237548828,91.05512237548828,91.05512237548828,91.05512237548828,91.05512237548828,91.05512237548828,91.05512237548828,91.05512237548828,91.05512237548828,91.05512237548828,91.05512237548828,91.05512237548828,91.05512237548828,91.05512237548828,91.05512237548828,91.05512237548828,91.05512237548828,91.05512237548828,91.05512237548828,91.05512237548828,91.05512237548828,91.05512237548828,91.05512237548828,91.05512237548828,91.05512237548828,91.05512237548828,91.05512237548828,91.05512237548828,91.05512237548828,91.05512237548828,91.05512237548828,91.05512237548828,91.05512237548828,91.05512237548828,91.05512237548828,91.05512237548828,91.05512237548828,91.05512237548828,91.05512237548828,91.05512237548828,91.05512237548828,91.05512237548828],\"type\":\"scatter\"},{\"fill\":\"tonexty\",\"fillcolor\":\"rgba(128,177,211,0.3)\",\"legendgroup\":\"objective value\",\"line\":{\"color\":\"rgba(128,177,211,1)\"},\"mode\":\"lines\",\"name\":\"objective value\",\"text\":[\"<br><em>Parameterization:</em><br>batch_size: 159<br>learning_rate: 0.00023154733608276898<br>max_dropout: 0.16653496026992798<br>max_units: 157<br>momentum: 0.497076952457428<br>num_layers: 2<br>weight_decay: 0.04451326731443406<br>OpenML_task_id: 126025<br>epoch: 40\",\"<br><em>Parameterization:</em><br>batch_size: 126<br>learning_rate: 0.00014034950937997584<br>max_dropout: 0.9942693542689085<br>max_units: 158<br>momentum: 0.6340270591899753<br>num_layers: 3<br>weight_decay: 0.04423084451477044<br>OpenML_task_id: 126025<br>epoch: 40\",\"<br><em>Parameterization:</em><br>batch_size: 17<br>learning_rate: 0.0049098076672267925<br>max_dropout: 0.5472887987270951<br>max_units: 72<br>momentum: 0.7455353845376521<br>num_layers: 3<br>weight_decay: 0.05565940235887655<br>OpenML_task_id: 126025<br>epoch: 40\",\"<br><em>Parameterization:</em><br>batch_size: 109<br>learning_rate: 0.003988417865915661<br>max_dropout: 0.9769859276711941<br>max_units: 314<br>momentum: 0.510637642769143<br>num_layers: 3<br>weight_decay: 0.0631264012013469<br>OpenML_task_id: 126025<br>epoch: 40\",\"<br><em>Parameterization:</em><br>batch_size: 60<br>learning_rate: 0.009645904934493077<br>max_dropout: 0.6308565158396959<br>max_units: 64<br>momentum: 0.9852419810835272<br>num_layers: 2<br>weight_decay: 0.09475424021063374<br>OpenML_task_id: 126025<br>epoch: 40\",\"<br><em>Parameterization:</em><br>batch_size: 22<br>learning_rate: 0.0009351129963468302<br>max_dropout: 0.10359167493879795<br>max_units: 94<br>momentum: 0.2329062226228416<br>num_layers: 1<br>weight_decay: 0.06687761251345277<br>OpenML_task_id: 126025<br>epoch: 40\",\"<br><em>Parameterization:</em><br>batch_size: 315<br>learning_rate: 0.01833917711517349<br>max_dropout: 0.5195985352620482<br>max_units: 796<br>momentum: 0.33361236144788564<br>num_layers: 1<br>weight_decay: 0.022978700442388655<br>OpenML_task_id: 126025<br>epoch: 40\",\"<br><em>Parameterization:</em><br>batch_size: 34<br>learning_rate: 0.00014754706510097552<br>max_dropout: 0.9256381383165717<br>max_units: 93<br>momentum: 0.3002276075538248<br>num_layers: 4<br>weight_decay: 0.04660416627990083<br>OpenML_task_id: 126025<br>epoch: 40\",\"<br><em>Parameterization:</em><br>batch_size: 194<br>learning_rate: 0.024316734225912823<br>max_dropout: 0.8071315456181765<br>max_units: 467<br>momentum: 0.8981502156239003<br>num_layers: 2<br>weight_decay: 0.042824925892809416<br>OpenML_task_id: 126025<br>epoch: 40\",\"<br><em>Parameterization:</em><br>batch_size: 27<br>learning_rate: 0.0006956279162418789<br>max_dropout: 0.9200054537504911<br>max_units: 480<br>momentum: 0.2583505552913994<br>num_layers: 4<br>weight_decay: 0.08596570843019523<br>OpenML_task_id: 126025<br>epoch: 40\",\"<br><em>Parameterization:</em><br>batch_size: 454<br>learning_rate: 0.05074468417890171<br>max_dropout: 0.5351741695776582<br>max_units: 70<br>momentum: 0.4376144943851977<br>num_layers: 5<br>weight_decay: 0.04663130239897408<br>OpenML_task_id: 126025<br>epoch: 40\",\"<br><em>Parameterization:</em><br>batch_size: 19<br>learning_rate: 0.0017920006535642945<br>max_dropout: 0.720656082034111<br>max_units: 703<br>momentum: 0.5933460906613618<br>num_layers: 5<br>weight_decay: 0.07768810927925632<br>OpenML_task_id: 126025<br>epoch: 40\",\"<br><em>Parameterization:</em><br>batch_size: 18<br>learning_rate: 0.0057894522390643886<br>max_dropout: 0.24887533392757177<br>max_units: 565<br>momentum: 0.6083874555118381<br>num_layers: 5<br>weight_decay: 0.020239519954510034<br>OpenML_task_id: 126025<br>epoch: 40\",\"<br><em>Parameterization:</em><br>batch_size: 19<br>learning_rate: 0.0001954155447696213<br>max_dropout: 0.0375031940639019<br>max_units: 124<br>momentum: 0.4707915349956602<br>num_layers: 3<br>weight_decay: 0.07730421338719316<br>OpenML_task_id: 126025<br>epoch: 40\",\"<br><em>Parameterization:</em><br>batch_size: 47<br>learning_rate: 0.0023781043159796867<br>max_dropout: 0.6365319192409515<br>max_units: 65<br>momentum: 0.23716770686209201<br>num_layers: 4<br>weight_decay: 0.06505602361274883<br>OpenML_task_id: 126025<br>epoch: 40\",\"<br><em>Parameterization:</em><br>batch_size: 28<br>learning_rate: 0.04131039078315825<br>max_dropout: 0.0988679463043809<br>max_units: 563<br>momentum: 0.6605347143486142<br>num_layers: 5<br>weight_decay: 0.07290027765700594<br>OpenML_task_id: 126025<br>epoch: 40\",\"<br><em>Parameterization:</em><br>batch_size: 235<br>learning_rate: 0.0004136726027474554<br>max_dropout: 0.08305024448782206<br>max_units: 426<br>momentum: 0.6901430006045848<br>num_layers: 1<br>weight_decay: 0.01821189216290601<br>OpenML_task_id: 126025<br>epoch: 40\",\"<br><em>Parameterization:</em><br>batch_size: 429<br>learning_rate: 0.003325382743212777<br>max_dropout: 0.9942861665040255<br>max_units: 103<br>momentum: 0.5270728299301117<br>num_layers: 4<br>weight_decay: 0.0010975550219696015<br>OpenML_task_id: 126025<br>epoch: 40\",\"<br><em>Parameterization:</em><br>batch_size: 238<br>learning_rate: 0.0041946351022731495<br>max_dropout: 0.07964067719876766<br>max_units: 109<br>momentum: 0.7285594785772264<br>num_layers: 1<br>weight_decay: 0.03415062737620436<br>OpenML_task_id: 126025<br>epoch: 40\",\"<br><em>Parameterization:</em><br>batch_size: 22<br>learning_rate: 0.001193663114149526<br>max_dropout: 0.3855904461815953<br>max_units: 111<br>momentum: 0.2600191752240062<br>num_layers: 1<br>weight_decay: 0.050318107927264655<br>OpenML_task_id: 126025<br>epoch: 40\",\"<br><em>Parameterization:</em><br>batch_size: 17<br>learning_rate: 0.06791282101997012<br>max_dropout: 0.562654597684741<br>max_units: 176<br>momentum: 0.7713613032083958<br>num_layers: 3<br>weight_decay: 0.04252618460088969<br>OpenML_task_id: 126025<br>epoch: 40\",\"<br><em>Parameterization:</em><br>batch_size: 67<br>learning_rate: 0.020704243193903724<br>max_dropout: 0.5111876027658582<br>max_units: 268<br>momentum: 0.7340716745238751<br>num_layers: 4<br>weight_decay: 0.007330824036272243<br>OpenML_task_id: 126025<br>epoch: 40\",\"<br><em>Parameterization:</em><br>batch_size: 120<br>learning_rate: 0.006210089339642316<br>max_dropout: 0.7364057926461101<br>max_units: 523<br>momentum: 0.29160315219312904<br>num_layers: 5<br>weight_decay: 0.0697871313490998<br>OpenML_task_id: 126025<br>epoch: 40\",\"<br><em>Parameterization:</em><br>batch_size: 27<br>learning_rate: 0.0002640953874567105<br>max_dropout: 0.5998474834486842<br>max_units: 194<br>momentum: 0.9217857486661524<br>num_layers: 3<br>weight_decay: 0.08113590639010072<br>OpenML_task_id: 126025<br>epoch: 40\",\"<br><em>Parameterization:</em><br>batch_size: 105<br>learning_rate: 0.002625447679635591<br>max_dropout: 0.14460026007145643<br>max_units: 491<br>momentum: 0.47318836572580036<br>num_layers: 5<br>weight_decay: 0.061047492187442265<br>OpenML_task_id: 126025<br>epoch: 40\",\"<br><em>Parameterization:</em><br>batch_size: 49<br>learning_rate: 0.07533319843525389<br>max_dropout: 0.5110313817858696<br>max_units: 71<br>momentum: 0.7522184307128191<br>num_layers: 3<br>weight_decay: 0.09596165247040801<br>OpenML_task_id: 126025<br>epoch: 40\",\"<br><em>Parameterization:</em><br>batch_size: 384<br>learning_rate: 0.0008357045830942127<br>max_dropout: 0.843119821511209<br>max_units: 397<br>momentum: 0.8929830828681589<br>num_layers: 4<br>weight_decay: 0.01166634122185409<br>OpenML_task_id: 126025<br>epoch: 40\",\"<br><em>Parameterization:</em><br>batch_size: 167<br>learning_rate: 0.0012880522031306987<br>max_dropout: 0.9303040578961372<br>max_units: 640<br>momentum: 0.3401627549622208<br>num_layers: 3<br>weight_decay: 0.04503495545774699<br>OpenML_task_id: 126025<br>epoch: 40\",\"<br><em>Parameterization:</em><br>batch_size: 87<br>learning_rate: 0.03152087302517082<br>max_dropout: 0.49839532282203436<br>max_units: 470<br>momentum: 0.4158171247690916<br>num_layers: 5<br>weight_decay: 0.01618732001447119<br>OpenML_task_id: 126025<br>epoch: 40\",\"<br><em>Parameterization:</em><br>batch_size: 448<br>learning_rate: 0.06492889643072804<br>max_dropout: 0.5920457374304533<br>max_units: 358<br>momentum: 0.4638020844571292<br>num_layers: 3<br>weight_decay: 0.037682577549926946<br>OpenML_task_id: 126025<br>epoch: 40\",\"<br><em>Parameterization:</em><br>batch_size: 169<br>learning_rate: 0.0029065652257635835<br>max_dropout: 0.3758318879285229<br>max_units: 1024<br>momentum: 0.24352740596915423<br>num_layers: 5<br>weight_decay: 0.07351666116346925<br>OpenML_task_id: 126025<br>epoch: 40\",\"<br><em>Parameterization:</em><br>batch_size: 88<br>learning_rate: 0.004434984491616392<br>max_dropout: 0.4106418930844812<br>max_units: 473<br>momentum: 0.5998870589219744<br>num_layers: 5<br>weight_decay: 0.08382712200460576<br>OpenML_task_id: 126025<br>epoch: 40\",\"<br><em>Parameterization:</em><br>batch_size: 26<br>learning_rate: 0.0023588947406079177<br>max_dropout: 0.08769159916177555<br>max_units: 604<br>momentum: 0.2712565976738854<br>num_layers: 5<br>weight_decay: 0.08113342986288581<br>OpenML_task_id: 126025<br>epoch: 40\",\"<br><em>Parameterization:</em><br>batch_size: 16<br>learning_rate: 0.004141294512055147<br>max_dropout: 0.22645852073110392<br>max_units: 585<br>momentum: 0.9640016276417148<br>num_layers: 5<br>weight_decay: 0.1<br>OpenML_task_id: 126025<br>epoch: 40\",\"<br><em>Parameterization:</em><br>batch_size: 461<br>learning_rate: 0.0027421164026104946<br>max_dropout: 0.07877063494247509<br>max_units: 954<br>momentum: 0.5583031965797605<br>num_layers: 5<br>weight_decay: 0.06696073480690057<br>OpenML_task_id: 126025<br>epoch: 40\",\"<br><em>Parameterization:</em><br>batch_size: 16<br>learning_rate: 0.0036837324459047423<br>max_dropout: 0.029052379418671274<br>max_units: 391<br>momentum: 0.21115647923599012<br>num_layers: 4<br>weight_decay: 0.07239864611711458<br>OpenML_task_id: 126025<br>epoch: 40\",\"<br><em>Parameterization:</em><br>batch_size: 395<br>learning_rate: 0.016499585216991228<br>max_dropout: 0.7296042221810932<br>max_units: 862<br>momentum: 0.1<br>num_layers: 5<br>weight_decay: 0.09712179406796226<br>OpenML_task_id: 126025<br>epoch: 40\",\"<br><em>Parameterization:</em><br>batch_size: 55<br>learning_rate: 0.001391221215372397<br>max_dropout: 0.2263460717874882<br>max_units: 618<br>momentum: 0.24498188266454413<br>num_layers: 3<br>weight_decay: 0.06446689280716486<br>OpenML_task_id: 126025<br>epoch: 40\",\"<br><em>Parameterization:</em><br>batch_size: 16<br>learning_rate: 0.0036178738766282615<br>max_dropout: 0.0<br>max_units: 561<br>momentum: 0.1<br>num_layers: 5<br>weight_decay: 0.06155247196844066<br>OpenML_task_id: 126025<br>epoch: 40\",\"<br><em>Parameterization:</em><br>batch_size: 16<br>learning_rate: 0.0035919086805927427<br>max_dropout: 0.0<br>max_units: 560<br>momentum: 0.1<br>num_layers: 5<br>weight_decay: 0.06133753421584808<br>OpenML_task_id: 126025<br>epoch: 40\",\"<br><em>Parameterization:</em><br>batch_size: 197<br>learning_rate: 0.0003478770164101888<br>max_dropout: 0.0<br>max_units: 577<br>momentum: 0.19176604888582427<br>num_layers: 5<br>weight_decay: 0.06353476807017087<br>OpenML_task_id: 126025<br>epoch: 40\",\"<br><em>Parameterization:</em><br>batch_size: 39<br>learning_rate: 0.004305288940439241<br>max_dropout: 0.09004333177597564<br>max_units: 465<br>momentum: 0.1<br>num_layers: 5<br>weight_decay: 0.05775665094093456<br>OpenML_task_id: 126025<br>epoch: 40\",\"<br><em>Parameterization:</em><br>batch_size: 16<br>learning_rate: 0.003950330665991071<br>max_dropout: 0.11486958670968818<br>max_units: 477<br>momentum: 0.1<br>num_layers: 5<br>weight_decay: 0.05956471354407865<br>OpenML_task_id: 126025<br>epoch: 40\",\"<br><em>Parameterization:</em><br>batch_size: 18<br>learning_rate: 0.0037666989320454215<br>max_dropout: 0.4380328834278755<br>max_units: 465<br>momentum: 0.1<br>num_layers: 5<br>weight_decay: 0.06062534506082039<br>OpenML_task_id: 126025<br>epoch: 40\",\"<br><em>Parameterization:</em><br>batch_size: 16<br>learning_rate: 0.004697339684882239<br>max_dropout: 0.0<br>max_units: 490<br>momentum: 0.1<br>num_layers: 5<br>weight_decay: 0.05989907923765041<br>OpenML_task_id: 126025<br>epoch: 40\",\"<br><em>Parameterization:</em><br>batch_size: 16<br>learning_rate: 0.004163906138444942<br>max_dropout: 0.0<br>max_units: 481<br>momentum: 0.1<br>num_layers: 5<br>weight_decay: 0.05952011110106842<br>OpenML_task_id: 126025<br>epoch: 40\",\"<br><em>Parameterization:</em><br>batch_size: 16<br>learning_rate: 0.004141562682425157<br>max_dropout: 0.0<br>max_units: 479<br>momentum: 0.1<br>num_layers: 5<br>weight_decay: 0.05965116084520604<br>OpenML_task_id: 126025<br>epoch: 40\",\"<br><em>Parameterization:</em><br>batch_size: 16<br>learning_rate: 0.004108744243546842<br>max_dropout: 0.0<br>max_units: 478<br>momentum: 0.1<br>num_layers: 5<br>weight_decay: 0.06004406337999321<br>OpenML_task_id: 126025<br>epoch: 40\",\"<br><em>Parameterization:</em><br>batch_size: 16<br>learning_rate: 0.0040899004996821425<br>max_dropout: 0.0<br>max_units: 478<br>momentum: 0.1<br>num_layers: 5<br>weight_decay: 0.06043169505099111<br>OpenML_task_id: 126025<br>epoch: 40\",\"<br><em>Parameterization:</em><br>batch_size: 16<br>learning_rate: 0.0040994425207872736<br>max_dropout: 0.0<br>max_units: 479<br>momentum: 0.1<br>num_layers: 5<br>weight_decay: 0.06036923702364505<br>OpenML_task_id: 126025<br>epoch: 40\",\"<br><em>Parameterization:</em><br>batch_size: 16<br>learning_rate: 0.0041076292156449505<br>max_dropout: 0.0<br>max_units: 479<br>momentum: 0.1<br>num_layers: 5<br>weight_decay: 0.06027189205798338<br>OpenML_task_id: 126025<br>epoch: 40\",\"<br><em>Parameterization:</em><br>batch_size: 16<br>learning_rate: 0.004111126271440416<br>max_dropout: 0.0<br>max_units: 479<br>momentum: 0.1<br>num_layers: 5<br>weight_decay: 0.06024803101666475<br>OpenML_task_id: 126025<br>epoch: 40\",\"<br><em>Parameterization:</em><br>batch_size: 16<br>learning_rate: 0.004113238137771231<br>max_dropout: 0.0<br>max_units: 479<br>momentum: 0.1<br>num_layers: 5<br>weight_decay: 0.06023849456218717<br>OpenML_task_id: 126025<br>epoch: 40\",\"<br><em>Parameterization:</em><br>batch_size: 16<br>learning_rate: 0.004114642518826224<br>max_dropout: 0.0<br>max_units: 479<br>momentum: 0.1<br>num_layers: 5<br>weight_decay: 0.06023751389302113<br>OpenML_task_id: 126025<br>epoch: 40\",\"<br><em>Parameterization:</em><br>batch_size: 16<br>learning_rate: 0.0041159474589827025<br>max_dropout: 0.0<br>max_units: 480<br>momentum: 0.1<br>num_layers: 5<br>weight_decay: 0.06023524202759629<br>OpenML_task_id: 126025<br>epoch: 40\",\"<br><em>Parameterization:</em><br>batch_size: 16<br>learning_rate: 0.004117106987384686<br>max_dropout: 0.0<br>max_units: 480<br>momentum: 0.1<br>num_layers: 5<br>weight_decay: 0.06024102729919919<br>OpenML_task_id: 126025<br>epoch: 40\",\"<br><em>Parameterization:</em><br>batch_size: 16<br>learning_rate: 0.0041197064425376635<br>max_dropout: 0.0<br>max_units: 479<br>momentum: 0.1<br>num_layers: 5<br>weight_decay: 0.060185725660765396<br>OpenML_task_id: 126025<br>epoch: 40\",\"<br><em>Parameterization:</em><br>batch_size: 16<br>learning_rate: 0.004119877232468463<br>max_dropout: 0.0<br>max_units: 479<br>momentum: 0.1<br>num_layers: 5<br>weight_decay: 0.06019242386848716<br>OpenML_task_id: 126025<br>epoch: 40\",\"<br><em>Parameterization:</em><br>batch_size: 16<br>learning_rate: 0.004120047119308458<br>max_dropout: 0.0<br>max_units: 480<br>momentum: 0.1<br>num_layers: 5<br>weight_decay: 0.06019674341140092<br>OpenML_task_id: 126025<br>epoch: 40\",\"<br><em>Parameterization:</em><br>batch_size: 16<br>learning_rate: 0.0013138978978377675<br>max_dropout: 0.0<br>max_units: 926<br>momentum: 0.1<br>num_layers: 5<br>weight_decay: 0.1<br>OpenML_task_id: 126025<br>epoch: 40\",\"<br><em>Parameterization:</em><br>batch_size: 16<br>learning_rate: 0.0041255479372615195<br>max_dropout: 0.0<br>max_units: 479<br>momentum: 0.1<br>num_layers: 5<br>weight_decay: 0.06010241684730234<br>OpenML_task_id: 126025<br>epoch: 40\",\"<br><em>Parameterization:</em><br>batch_size: 16<br>learning_rate: 0.004125373985393278<br>max_dropout: 0.0<br>max_units: 479<br>momentum: 0.1<br>num_layers: 5<br>weight_decay: 0.060104431791343955<br>OpenML_task_id: 126025<br>epoch: 40\",\"<br><em>Parameterization:</em><br>batch_size: 16<br>learning_rate: 0.004125152415026554<br>max_dropout: 0.0<br>max_units: 479<br>momentum: 0.1<br>num_layers: 5<br>weight_decay: 0.06010654789846726<br>OpenML_task_id: 126025<br>epoch: 40\",\"<br><em>Parameterization:</em><br>batch_size: 16<br>learning_rate: 0.004124950279422965<br>max_dropout: 0.0<br>max_units: 479<br>momentum: 0.1<br>num_layers: 5<br>weight_decay: 0.06010772206722133<br>OpenML_task_id: 126025<br>epoch: 40\",\"<br><em>Parameterization:</em><br>batch_size: 16<br>learning_rate: 0.004124989727395381<br>max_dropout: 0.0<br>max_units: 479<br>momentum: 0.1<br>num_layers: 5<br>weight_decay: 0.06010757056560168<br>OpenML_task_id: 126025<br>epoch: 40\",\"<br><em>Parameterization:</em><br>batch_size: 16<br>learning_rate: 0.004124682166099559<br>max_dropout: 0.0<br>max_units: 479<br>momentum: 0.1<br>num_layers: 5<br>weight_decay: 0.06010876757504389<br>OpenML_task_id: 126025<br>epoch: 40\",\"<br><em>Parameterization:</em><br>batch_size: 16<br>learning_rate: 0.004124469853048328<br>max_dropout: 0.0<br>max_units: 479<br>momentum: 0.1<br>num_layers: 5<br>weight_decay: 0.06010725425864347<br>OpenML_task_id: 126025<br>epoch: 40\",\"<br><em>Parameterization:</em><br>batch_size: 16<br>learning_rate: 0.004123998783050868<br>max_dropout: 0.0<br>max_units: 478<br>momentum: 0.1<br>num_layers: 5<br>weight_decay: 0.0601081993266658<br>OpenML_task_id: 126025<br>epoch: 40\",\"<br><em>Parameterization:</em><br>batch_size: 16<br>learning_rate: 0.004123146825845573<br>max_dropout: 0.0<br>max_units: 478<br>momentum: 0.1<br>num_layers: 5<br>weight_decay: 0.0601059703801266<br>OpenML_task_id: 126025<br>epoch: 40\",\"<br><em>Parameterization:</em><br>batch_size: 16<br>learning_rate: 0.004122386716041661<br>max_dropout: 0.0<br>max_units: 478<br>momentum: 0.1<br>num_layers: 5<br>weight_decay: 0.060103384958291595<br>OpenML_task_id: 126025<br>epoch: 40\",\"<br><em>Parameterization:</em><br>batch_size: 16<br>learning_rate: 0.004121462992297785<br>max_dropout: 0.0<br>max_units: 478<br>momentum: 0.1<br>num_layers: 5<br>weight_decay: 0.06009996538473585<br>OpenML_task_id: 126025<br>epoch: 40\",\"<br><em>Parameterization:</em><br>batch_size: 16<br>learning_rate: 0.004120661340434536<br>max_dropout: 0.0<br>max_units: 478<br>momentum: 0.1<br>num_layers: 5<br>weight_decay: 0.06009721524652091<br>OpenML_task_id: 126025<br>epoch: 40\",\"<br><em>Parameterization:</em><br>batch_size: 16<br>learning_rate: 0.0041194445846862325<br>max_dropout: 0.0<br>max_units: 478<br>momentum: 0.1<br>num_layers: 5<br>weight_decay: 0.060092751909454845<br>OpenML_task_id: 126025<br>epoch: 40\",\"<br><em>Parameterization:</em><br>batch_size: 16<br>learning_rate: 0.004118541588854163<br>max_dropout: 0.0<br>max_units: 478<br>momentum: 0.1<br>num_layers: 5<br>weight_decay: 0.06008725863573268<br>OpenML_task_id: 126025<br>epoch: 40\",\"<br><em>Parameterization:</em><br>batch_size: 16<br>learning_rate: 0.0041176566151507835<br>max_dropout: 0.0<br>max_units: 477<br>momentum: 0.1<br>num_layers: 5<br>weight_decay: 0.060080865868839234<br>OpenML_task_id: 126025<br>epoch: 40\",\"<br><em>Parameterization:</em><br>batch_size: 16<br>learning_rate: 0.004115740720013486<br>max_dropout: 0.0<br>max_units: 477<br>momentum: 0.1<br>num_layers: 5<br>weight_decay: 0.06006712728250957<br>OpenML_task_id: 126025<br>epoch: 40\",\"<br><em>Parameterization:</em><br>batch_size: 16<br>learning_rate: 0.004113364850728696<br>max_dropout: 0.0<br>max_units: 477<br>momentum: 0.1<br>num_layers: 5<br>weight_decay: 0.060054430507557<br>OpenML_task_id: 126025<br>epoch: 40\",\"<br><em>Parameterization:</em><br>batch_size: 16<br>learning_rate: 0.00411108527153688<br>max_dropout: 0.0<br>max_units: 476<br>momentum: 0.1<br>num_layers: 5<br>weight_decay: 0.060033089336244426<br>OpenML_task_id: 126025<br>epoch: 40\",\"<br><em>Parameterization:</em><br>batch_size: 16<br>learning_rate: 0.004107392464167801<br>max_dropout: 0.0<br>max_units: 475<br>momentum: 0.1<br>num_layers: 5<br>weight_decay: 0.05999217922886158<br>OpenML_task_id: 126025<br>epoch: 40\",\"<br><em>Parameterization:</em><br>batch_size: 16<br>learning_rate: 0.004100616521854135<br>max_dropout: 0.0<br>max_units: 474<br>momentum: 0.1<br>num_layers: 5<br>weight_decay: 0.05991358610871115<br>OpenML_task_id: 126025<br>epoch: 40\",\"<br><em>Parameterization:</em><br>batch_size: 16<br>learning_rate: 0.004089232725966397<br>max_dropout: 0.0<br>max_units: 471<br>momentum: 0.1<br>num_layers: 5<br>weight_decay: 0.059759822205828005<br>OpenML_task_id: 126025<br>epoch: 40\",\"<br><em>Parameterization:</em><br>batch_size: 16<br>learning_rate: 0.0040600421485512735<br>max_dropout: 0.0<br>max_units: 465<br>momentum: 0.1<br>num_layers: 5<br>weight_decay: 0.05933172280137872<br>OpenML_task_id: 126025<br>epoch: 40\",\"<br><em>Parameterization:</em><br>batch_size: 16<br>learning_rate: 0.003945275647259719<br>max_dropout: 0.0<br>max_units: 446<br>momentum: 0.1<br>num_layers: 5<br>weight_decay: 0.057894092728661126<br>OpenML_task_id: 126025<br>epoch: 40\",\"<br><em>Parameterization:</em><br>batch_size: 16<br>learning_rate: 0.003537508103567697<br>max_dropout: 0.0<br>max_units: 386<br>momentum: 0.1<br>num_layers: 5<br>weight_decay: 0.05349880106884804<br>OpenML_task_id: 126025<br>epoch: 40\",\"<br><em>Parameterization:</em><br>batch_size: 16<br>learning_rate: 0.0033475981262741476<br>max_dropout: 0.0<br>max_units: 352<br>momentum: 0.1<br>num_layers: 5<br>weight_decay: 0.051104003091703154<br>OpenML_task_id: 126025<br>epoch: 40\",\"<br><em>Parameterization:</em><br>batch_size: 16<br>learning_rate: 0.003283478464394764<br>max_dropout: 0.0<br>max_units: 333<br>momentum: 0.1<br>num_layers: 5<br>weight_decay: 0.05024531328404871<br>OpenML_task_id: 126025<br>epoch: 40\",\"<br><em>Parameterization:</em><br>batch_size: 16<br>learning_rate: 0.0032800604389796296<br>max_dropout: 0.0<br>max_units: 319<br>momentum: 0.1<br>num_layers: 5<br>weight_decay: 0.05021893047326602<br>OpenML_task_id: 126025<br>epoch: 40\",\"<br><em>Parameterization:</em><br>batch_size: 16<br>learning_rate: 0.0032916562292050625<br>max_dropout: 0.0<br>max_units: 310<br>momentum: 0.1<br>num_layers: 5<br>weight_decay: 0.050558923177402244<br>OpenML_task_id: 126025<br>epoch: 40\",\"<br><em>Parameterization:</em><br>batch_size: 16<br>learning_rate: 0.0032841171137835278<br>max_dropout: 0.0<br>max_units: 308<br>momentum: 0.1<br>num_layers: 5<br>weight_decay: 0.05078464017737964<br>OpenML_task_id: 126025<br>epoch: 40\",\"<br><em>Parameterization:</em><br>batch_size: 16<br>learning_rate: 0.003266400229292924<br>max_dropout: 0.0<br>max_units: 307<br>momentum: 0.1<br>num_layers: 5<br>weight_decay: 0.05089631178478033<br>OpenML_task_id: 126025<br>epoch: 40\",\"<br><em>Parameterization:</em><br>batch_size: 16<br>learning_rate: 0.0032445126264189074<br>max_dropout: 0.0<br>max_units: 307<br>momentum: 0.1<br>num_layers: 5<br>weight_decay: 0.050986134434194946<br>OpenML_task_id: 126025<br>epoch: 40\",\"<br><em>Parameterization:</em><br>batch_size: 40<br>learning_rate: 0.05638249136027733<br>max_dropout: 0.6881172014400363<br>max_units: 173<br>momentum: 0.20131748707033695<br>num_layers: 4<br>weight_decay: 0.08265508430302143<br>OpenML_task_id: 126025<br>epoch: 40\",\"<br><em>Parameterization:</em><br>batch_size: 16<br>learning_rate: 0.0032278692045978187<br>max_dropout: 0.0<br>max_units: 310<br>momentum: 0.1<br>num_layers: 5<br>weight_decay: 0.0513678640205472<br>OpenML_task_id: 126025<br>epoch: 40\",\"<br><em>Parameterization:</em><br>batch_size: 16<br>learning_rate: 0.003240541125156757<br>max_dropout: 0.0<br>max_units: 311<br>momentum: 0.1<br>num_layers: 5<br>weight_decay: 0.05135726935094746<br>OpenML_task_id: 126025<br>epoch: 40\",\"<br><em>Parameterization:</em><br>batch_size: 16<br>learning_rate: 0.0032489912367812033<br>max_dropout: 0.0<br>max_units: 311<br>momentum: 0.1<br>num_layers: 5<br>weight_decay: 0.051329515549977306<br>OpenML_task_id: 126025<br>epoch: 40\",\"<br><em>Parameterization:</em><br>batch_size: 16<br>learning_rate: 0.003252736271787192<br>max_dropout: 0.0<br>max_units: 310<br>momentum: 0.1<br>num_layers: 5<br>weight_decay: 0.051305172568709416<br>OpenML_task_id: 126025<br>epoch: 40\",\"<br><em>Parameterization:</em><br>batch_size: 16<br>learning_rate: 0.0032527492357269957<br>max_dropout: 0.0<br>max_units: 310<br>momentum: 0.1<br>num_layers: 5<br>weight_decay: 0.05130191680979356<br>OpenML_task_id: 126025<br>epoch: 40\",\"<br><em>Parameterization:</em><br>batch_size: 16<br>learning_rate: 0.003253336848805325<br>max_dropout: 0.0<br>max_units: 311<br>momentum: 0.1<br>num_layers: 5<br>weight_decay: 0.05130683350965359<br>OpenML_task_id: 126025<br>epoch: 40\",\"<br><em>Parameterization:</em><br>batch_size: 16<br>learning_rate: 0.003254983470446849<br>max_dropout: 0.0<br>max_units: 311<br>momentum: 0.1<br>num_layers: 5<br>weight_decay: 0.05129816721876676<br>OpenML_task_id: 126025<br>epoch: 40\",\"<br><em>Parameterization:</em><br>batch_size: 16<br>learning_rate: 0.0032563100725767316<br>max_dropout: 0.0<br>max_units: 311<br>momentum: 0.1<br>num_layers: 5<br>weight_decay: 0.051290233985902<br>OpenML_task_id: 126025<br>epoch: 40\",\"<br><em>Parameterization:</em><br>batch_size: 16<br>learning_rate: 0.003256826378547535<br>max_dropout: 0.0<br>max_units: 310<br>momentum: 0.1<br>num_layers: 5<br>weight_decay: 0.05128368789183841<br>OpenML_task_id: 126025<br>epoch: 40\",\"<br><em>Parameterization:</em><br>batch_size: 16<br>learning_rate: 0.0032570128035969248<br>max_dropout: 0.0<br>max_units: 311<br>momentum: 0.1<br>num_layers: 5<br>weight_decay: 0.05128671858242111<br>OpenML_task_id: 126025<br>epoch: 40\",\"<br><em>Parameterization:</em><br>batch_size: 16<br>learning_rate: 0.0032576828701079354<br>max_dropout: 0.0<br>max_units: 310<br>momentum: 0.1<br>num_layers: 5<br>weight_decay: 0.05127808646347184<br>OpenML_task_id: 126025<br>epoch: 40\",\"<br><em>Parameterization:</em><br>batch_size: 16<br>learning_rate: 0.0032578560346586062<br>max_dropout: 0.0<br>max_units: 310<br>momentum: 0.1<br>num_layers: 5<br>weight_decay: 0.05128147328928214<br>OpenML_task_id: 126025<br>epoch: 40\",\"<br><em>Parameterization:</em><br>batch_size: 16<br>learning_rate: 0.0032579384845597623<br>max_dropout: 0.0<br>max_units: 310<br>momentum: 0.1<br>num_layers: 5<br>weight_decay: 0.05128325530416095<br>OpenML_task_id: 126025<br>epoch: 40\",\"<br><em>Parameterization:</em><br>batch_size: 16<br>learning_rate: 0.0032582921627526303<br>max_dropout: 0.0<br>max_units: 310<br>momentum: 0.1<br>num_layers: 5<br>weight_decay: 0.051281908885927485<br>OpenML_task_id: 126025<br>epoch: 40\",\"<br><em>Parameterization:</em><br>batch_size: 16<br>learning_rate: 0.0032584198269532943<br>max_dropout: 0.0<br>max_units: 310<br>momentum: 0.1<br>num_layers: 5<br>weight_decay: 0.0512844416679075<br>OpenML_task_id: 126025<br>epoch: 40\",\"<br><em>Parameterization:</em><br>batch_size: 16<br>learning_rate: 0.003258661101405358<br>max_dropout: 0.0<br>max_units: 310<br>momentum: 0.1<br>num_layers: 5<br>weight_decay: 0.05128214033063443<br>OpenML_task_id: 126025<br>epoch: 40\",\"<br><em>Parameterization:</em><br>batch_size: 16<br>learning_rate: 0.0032587660304345054<br>max_dropout: 0.0<br>max_units: 310<br>momentum: 0.1<br>num_layers: 5<br>weight_decay: 0.05128546712396443<br>OpenML_task_id: 126025<br>epoch: 40\",\"<br><em>Parameterization:</em><br>batch_size: 16<br>learning_rate: 0.00325903165226156<br>max_dropout: 0.0<br>max_units: 310<br>momentum: 0.1<br>num_layers: 5<br>weight_decay: 0.051284412569167534<br>OpenML_task_id: 126025<br>epoch: 40\",\"<br><em>Parameterization:</em><br>batch_size: 16<br>learning_rate: 0.0356592819693258<br>max_dropout: 1.0<br>max_units: 976<br>momentum: 0.1<br>num_layers: 5<br>weight_decay: 0.0664643741322353<br>OpenML_task_id: 126025<br>epoch: 40\",\"<br><em>Parameterization:</em><br>batch_size: 16<br>learning_rate: 0.0032791777776575624<br>max_dropout: 0.0<br>max_units: 308<br>momentum: 0.1<br>num_layers: 5<br>weight_decay: 0.050989737571079906<br>OpenML_task_id: 126025<br>epoch: 40\",\"<br><em>Parameterization:</em><br>batch_size: 16<br>learning_rate: 0.003286333566797168<br>max_dropout: 0.0<br>max_units: 308<br>momentum: 0.1<br>num_layers: 5<br>weight_decay: 0.05097625181086395<br>OpenML_task_id: 126025<br>epoch: 40\",\"<br><em>Parameterization:</em><br>batch_size: 16<br>learning_rate: 0.0032939226866179907<br>max_dropout: 0.0<br>max_units: 307<br>momentum: 0.1<br>num_layers: 5<br>weight_decay: 0.05096339557028583<br>OpenML_task_id: 126025<br>epoch: 40\",\"<br><em>Parameterization:</em><br>batch_size: 16<br>learning_rate: 0.003307576794177722<br>max_dropout: 0.0<br>max_units: 307<br>momentum: 0.1<br>num_layers: 5<br>weight_decay: 0.05094029689012389<br>OpenML_task_id: 126025<br>epoch: 40\",\"<br><em>Parameterization:</em><br>batch_size: 16<br>learning_rate: 0.003318671798536744<br>max_dropout: 0.0<br>max_units: 307<br>momentum: 0.1<br>num_layers: 5<br>weight_decay: 0.05092931583258377<br>OpenML_task_id: 126025<br>epoch: 40\",\"<br><em>Parameterization:</em><br>batch_size: 16<br>learning_rate: 0.0033276844416180134<br>max_dropout: 0.0<br>max_units: 307<br>momentum: 0.1<br>num_layers: 5<br>weight_decay: 0.05091919935560631<br>OpenML_task_id: 126025<br>epoch: 40\",\"<br><em>Parameterization:</em><br>batch_size: 16<br>learning_rate: 0.0033340396301226394<br>max_dropout: 0.0<br>max_units: 307<br>momentum: 0.1<br>num_layers: 5<br>weight_decay: 0.05091321739786608<br>OpenML_task_id: 126025<br>epoch: 40\",\"<br><em>Parameterization:</em><br>batch_size: 16<br>learning_rate: 0.003277398481009572<br>max_dropout: 0.0<br>max_units: 289<br>momentum: 0.44764332146880237<br>num_layers: 5<br>weight_decay: 0.048866546846063834<br>OpenML_task_id: 126025<br>epoch: 40\",\"<br><em>Parameterization:</em><br>batch_size: 16<br>learning_rate: 0.0032007581757783243<br>max_dropout: 0.0<br>max_units: 312<br>momentum: 0.1<br>num_layers: 5<br>weight_decay: 0.05142680558927633<br>OpenML_task_id: 126025<br>epoch: 40\",\"<br><em>Parameterization:</em><br>batch_size: 16<br>learning_rate: 0.0032168044997773525<br>max_dropout: 0.0<br>max_units: 312<br>momentum: 0.1<br>num_layers: 5<br>weight_decay: 0.0513978397382191<br>OpenML_task_id: 126025<br>epoch: 40\",\"<br><em>Parameterization:</em><br>batch_size: 16<br>learning_rate: 0.0032276095160851384<br>max_dropout: 0.0<br>max_units: 312<br>momentum: 0.1<br>num_layers: 5<br>weight_decay: 0.051375975911450766<br>OpenML_task_id: 126025<br>epoch: 40\",\"<br><em>Parameterization:</em><br>batch_size: 16<br>learning_rate: 0.0032349412441105077<br>max_dropout: 0.0<br>max_units: 312<br>momentum: 0.1<br>num_layers: 5<br>weight_decay: 0.05135702066754692<br>OpenML_task_id: 126025<br>epoch: 40\",\"<br><em>Parameterization:</em><br>batch_size: 16<br>learning_rate: 0.0032405002754724715<br>max_dropout: 0.0<br>max_units: 311<br>momentum: 0.1<br>num_layers: 5<br>weight_decay: 0.05134133639909667<br>OpenML_task_id: 126025<br>epoch: 40\",\"<br><em>Parameterization:</em><br>batch_size: 16<br>learning_rate: 0.003242967096420123<br>max_dropout: 0.0<br>max_units: 311<br>momentum: 0.1<br>num_layers: 5<br>weight_decay: 0.05133226666363912<br>OpenML_task_id: 126025<br>epoch: 40\",\"<br><em>Parameterization:</em><br>batch_size: 16<br>learning_rate: 0.0032451154824487934<br>max_dropout: 0.0<br>max_units: 311<br>momentum: 0.1<br>num_layers: 5<br>weight_decay: 0.05132412319880264<br>OpenML_task_id: 126025<br>epoch: 40\",\"<br><em>Parameterization:</em><br>batch_size: 16<br>learning_rate: 0.003246828904988715<br>max_dropout: 0.0<br>max_units: 311<br>momentum: 0.1<br>num_layers: 5<br>weight_decay: 0.051323090104918624<br>OpenML_task_id: 126025<br>epoch: 40\",\"<br><em>Parameterization:</em><br>batch_size: 16<br>learning_rate: 0.0032483655992822606<br>max_dropout: 0.0<br>max_units: 311<br>momentum: 0.1<br>num_layers: 5<br>weight_decay: 0.05131672084257385<br>OpenML_task_id: 126025<br>epoch: 40\",\"<br><em>Parameterization:</em><br>batch_size: 16<br>learning_rate: 0.003249787002465169<br>max_dropout: 0.0<br>max_units: 311<br>momentum: 0.1<br>num_layers: 5<br>weight_decay: 0.051309475728683995<br>OpenML_task_id: 126025<br>epoch: 40\",\"<br><em>Parameterization:</em><br>batch_size: 16<br>learning_rate: 0.003251034457364201<br>max_dropout: 0.0<br>max_units: 311<br>momentum: 0.1<br>num_layers: 5<br>weight_decay: 0.05130767648740589<br>OpenML_task_id: 126025<br>epoch: 40\",\"<br><em>Parameterization:</em><br>batch_size: 16<br>learning_rate: 0.003251962764073081<br>max_dropout: 0.0<br>max_units: 311<br>momentum: 0.1<br>num_layers: 5<br>weight_decay: 0.05130380019965532<br>OpenML_task_id: 126025<br>epoch: 40\",\"<br><em>Parameterization:</em><br>batch_size: 16<br>learning_rate: 0.058281632436641466<br>max_dropout: 0.0<br>max_units: 228<br>momentum: 0.99<br>num_layers: 1<br>weight_decay: 0.00010383975791309445<br>OpenML_task_id: 126025<br>epoch: 40\",\"<br><em>Parameterization:</em><br>batch_size: 16<br>learning_rate: 0.0032845420779031567<br>max_dropout: 0.0<br>max_units: 309<br>momentum: 0.1<br>num_layers: 5<br>weight_decay: 0.05107604697357197<br>OpenML_task_id: 126025<br>epoch: 40\"],\"x\":[1,2,3,4,5,6,7,8,9,10,11,12,13,14,15,16,17,18,19,20,21,22,23,24,25,26,27,28,29,30,31,32,33,34,35,36,37,38,39,40,41,42,43,44,45,46,47,48,49,50,51,52,53,54,55,56,57,58,59,60,61,62,63,64,65,66,67,68,69,70,71,72,73,74,75,76,77,78,79,80,81,82,83,84,85,86,87,88,89,90,91,92,93,94,95,96,97,98,99,100,101,102,103,104,105,106,107,108,109,110,111,112,113,114,115,116,117,118,119,120,121,122,123,124,125,126,127,128,129,130,131,132,133],\"y\":[76.31208038330078,76.31208038330078,80.2523193359375,80.2523193359375,80.2523193359375,80.2523193359375,80.2523193359375,80.2523193359375,80.2523193359375,81.63093566894531,81.63093566894531,85.86235046386719,85.86235046386719,85.86235046386719,85.86235046386719,86.15008544921875,86.15008544921875,86.15008544921875,86.15008544921875,86.15008544921875,86.15008544921875,86.15008544921875,87.42333984375,87.42333984375,88.39651489257812,88.39651489257812,88.39651489257812,88.39651489257812,88.39651489257812,88.39651489257812,88.39651489257812,88.39651489257812,88.39651489257812,88.39651489257812,88.39651489257812,88.39651489257812,88.39651489257812,88.39651489257812,89.65917205810547,89.666015625,89.666015625,89.9623794555664,90.0870361328125,90.0870361328125,90.1265640258789,90.18743896484375,90.19673156738281,90.19776153564453,90.19776153564453,90.19776153564453,90.19776153564453,90.19776153564453,90.19776153564453,90.19776153564453,90.19776153564453,90.19776153564453,90.19776153564453,90.19776153564453,90.19776153564453,90.19776153564453,90.19776153564453,90.19776153564453,90.19776153564453,90.19776153564453,90.19776153564453,90.19776153564453,90.19776153564453,90.19776153564453,90.19776153564453,90.19776153564453,90.19776153564453,90.19776153564453,90.19776153564453,90.19776153564453,90.20154571533203,90.20223236083984,90.20257568359375,90.20808410644531,90.2149658203125,90.22184753417969,90.24009704589844,90.2765884399414,90.38134002685547,90.7070541381836,90.886474609375,90.973876953125,91.02838134765625,91.05094909667969,91.0537338256836,91.05512237548828,91.05512237548828,91.05512237548828,91.05512237548828,91.05512237548828,91.05512237548828,91.05512237548828,91.05512237548828,91.05512237548828,91.05512237548828,91.05512237548828,91.05512237548828,91.05512237548828,91.05512237548828,91.05512237548828,91.05512237548828,91.05512237548828,91.05512237548828,91.05512237548828,91.05512237548828,91.05512237548828,91.05512237548828,91.05512237548828,91.05512237548828,91.05512237548828,91.05512237548828,91.05512237548828,91.05512237548828,91.05512237548828,91.05512237548828,91.05512237548828,91.05512237548828,91.05512237548828,91.05512237548828,91.05512237548828,91.05512237548828,91.05512237548828,91.05512237548828,91.05512237548828,91.05512237548828,91.05512237548828,91.05512237548828,91.05512237548828,91.05512237548828],\"type\":\"scatter\"},{\"fill\":\"tonexty\",\"fillcolor\":\"rgba(128,177,211,0.3)\",\"hoverinfo\":\"none\",\"legendgroup\":\"\",\"line\":{\"width\":0},\"mode\":\"lines\",\"showlegend\":false,\"x\":[1,2,3,4,5,6,7,8,9,10,11,12,13,14,15,16,17,18,19,20,21,22,23,24,25,26,27,28,29,30,31,32,33,34,35,36,37,38,39,40,41,42,43,44,45,46,47,48,49,50,51,52,53,54,55,56,57,58,59,60,61,62,63,64,65,66,67,68,69,70,71,72,73,74,75,76,77,78,79,80,81,82,83,84,85,86,87,88,89,90,91,92,93,94,95,96,97,98,99,100,101,102,103,104,105,106,107,108,109,110,111,112,113,114,115,116,117,118,119,120,121,122,123,124,125,126,127,128,129,130,131,132,133],\"y\":[76.31208038330078,76.31208038330078,80.2523193359375,80.2523193359375,80.2523193359375,80.2523193359375,80.2523193359375,80.2523193359375,80.2523193359375,81.63093566894531,81.63093566894531,85.86235046386719,85.86235046386719,85.86235046386719,85.86235046386719,86.15008544921875,86.15008544921875,86.15008544921875,86.15008544921875,86.15008544921875,86.15008544921875,86.15008544921875,87.42333984375,87.42333984375,88.39651489257812,88.39651489257812,88.39651489257812,88.39651489257812,88.39651489257812,88.39651489257812,88.39651489257812,88.39651489257812,88.39651489257812,88.39651489257812,88.39651489257812,88.39651489257812,88.39651489257812,88.39651489257812,89.65917205810547,89.666015625,89.666015625,89.9623794555664,90.0870361328125,90.0870361328125,90.1265640258789,90.18743896484375,90.19673156738281,90.19776153564453,90.19776153564453,90.19776153564453,90.19776153564453,90.19776153564453,90.19776153564453,90.19776153564453,90.19776153564453,90.19776153564453,90.19776153564453,90.19776153564453,90.19776153564453,90.19776153564453,90.19776153564453,90.19776153564453,90.19776153564453,90.19776153564453,90.19776153564453,90.19776153564453,90.19776153564453,90.19776153564453,90.19776153564453,90.19776153564453,90.19776153564453,90.19776153564453,90.19776153564453,90.19776153564453,90.20154571533203,90.20223236083984,90.20257568359375,90.20808410644531,90.2149658203125,90.22184753417969,90.24009704589844,90.2765884399414,90.38134002685547,90.7070541381836,90.886474609375,90.973876953125,91.02838134765625,91.05094909667969,91.0537338256836,91.05512237548828,91.05512237548828,91.05512237548828,91.05512237548828,91.05512237548828,91.05512237548828,91.05512237548828,91.05512237548828,91.05512237548828,91.05512237548828,91.05512237548828,91.05512237548828,91.05512237548828,91.05512237548828,91.05512237548828,91.05512237548828,91.05512237548828,91.05512237548828,91.05512237548828,91.05512237548828,91.05512237548828,91.05512237548828,91.05512237548828,91.05512237548828,91.05512237548828,91.05512237548828,91.05512237548828,91.05512237548828,91.05512237548828,91.05512237548828,91.05512237548828,91.05512237548828,91.05512237548828,91.05512237548828,91.05512237548828,91.05512237548828,91.05512237548828,91.05512237548828,91.05512237548828,91.05512237548828,91.05512237548828,91.05512237548828,91.05512237548828,91.05512237548828],\"type\":\"scatter\"},{\"line\":{\"color\":\"rgba(253,180,98,1)\",\"dash\":\"dash\"},\"mode\":\"lines\",\"name\":\"Optimum\",\"x\":[1,133],\"y\":[96.51996,96.51996],\"type\":\"scatter\"},{\"line\":{\"color\":\"rgba(141,211,199,1)\",\"dash\":\"dash\"},\"mode\":\"lines\",\"name\":\"model change\",\"x\":[30,30],\"y\":[76.31208038330078,96.51996],\"type\":\"scatter\"}],                        {\"showlegend\":true,\"template\":{\"data\":{\"barpolar\":[{\"marker\":{\"line\":{\"color\":\"#E5ECF6\",\"width\":0.5},\"pattern\":{\"fillmode\":\"overlay\",\"size\":10,\"solidity\":0.2}},\"type\":\"barpolar\"}],\"bar\":[{\"error_x\":{\"color\":\"#2a3f5f\"},\"error_y\":{\"color\":\"#2a3f5f\"},\"marker\":{\"line\":{\"color\":\"#E5ECF6\",\"width\":0.5},\"pattern\":{\"fillmode\":\"overlay\",\"size\":10,\"solidity\":0.2}},\"type\":\"bar\"}],\"carpet\":[{\"aaxis\":{\"endlinecolor\":\"#2a3f5f\",\"gridcolor\":\"white\",\"linecolor\":\"white\",\"minorgridcolor\":\"white\",\"startlinecolor\":\"#2a3f5f\"},\"baxis\":{\"endlinecolor\":\"#2a3f5f\",\"gridcolor\":\"white\",\"linecolor\":\"white\",\"minorgridcolor\":\"white\",\"startlinecolor\":\"#2a3f5f\"},\"type\":\"carpet\"}],\"choropleth\":[{\"colorbar\":{\"outlinewidth\":0,\"ticks\":\"\"},\"type\":\"choropleth\"}],\"contourcarpet\":[{\"colorbar\":{\"outlinewidth\":0,\"ticks\":\"\"},\"type\":\"contourcarpet\"}],\"contour\":[{\"colorbar\":{\"outlinewidth\":0,\"ticks\":\"\"},\"colorscale\":[[0.0,\"#0d0887\"],[0.1111111111111111,\"#46039f\"],[0.2222222222222222,\"#7201a8\"],[0.3333333333333333,\"#9c179e\"],[0.4444444444444444,\"#bd3786\"],[0.5555555555555556,\"#d8576b\"],[0.6666666666666666,\"#ed7953\"],[0.7777777777777778,\"#fb9f3a\"],[0.8888888888888888,\"#fdca26\"],[1.0,\"#f0f921\"]],\"type\":\"contour\"}],\"heatmapgl\":[{\"colorbar\":{\"outlinewidth\":0,\"ticks\":\"\"},\"colorscale\":[[0.0,\"#0d0887\"],[0.1111111111111111,\"#46039f\"],[0.2222222222222222,\"#7201a8\"],[0.3333333333333333,\"#9c179e\"],[0.4444444444444444,\"#bd3786\"],[0.5555555555555556,\"#d8576b\"],[0.6666666666666666,\"#ed7953\"],[0.7777777777777778,\"#fb9f3a\"],[0.8888888888888888,\"#fdca26\"],[1.0,\"#f0f921\"]],\"type\":\"heatmapgl\"}],\"heatmap\":[{\"colorbar\":{\"outlinewidth\":0,\"ticks\":\"\"},\"colorscale\":[[0.0,\"#0d0887\"],[0.1111111111111111,\"#46039f\"],[0.2222222222222222,\"#7201a8\"],[0.3333333333333333,\"#9c179e\"],[0.4444444444444444,\"#bd3786\"],[0.5555555555555556,\"#d8576b\"],[0.6666666666666666,\"#ed7953\"],[0.7777777777777778,\"#fb9f3a\"],[0.8888888888888888,\"#fdca26\"],[1.0,\"#f0f921\"]],\"type\":\"heatmap\"}],\"histogram2dcontour\":[{\"colorbar\":{\"outlinewidth\":0,\"ticks\":\"\"},\"colorscale\":[[0.0,\"#0d0887\"],[0.1111111111111111,\"#46039f\"],[0.2222222222222222,\"#7201a8\"],[0.3333333333333333,\"#9c179e\"],[0.4444444444444444,\"#bd3786\"],[0.5555555555555556,\"#d8576b\"],[0.6666666666666666,\"#ed7953\"],[0.7777777777777778,\"#fb9f3a\"],[0.8888888888888888,\"#fdca26\"],[1.0,\"#f0f921\"]],\"type\":\"histogram2dcontour\"}],\"histogram2d\":[{\"colorbar\":{\"outlinewidth\":0,\"ticks\":\"\"},\"colorscale\":[[0.0,\"#0d0887\"],[0.1111111111111111,\"#46039f\"],[0.2222222222222222,\"#7201a8\"],[0.3333333333333333,\"#9c179e\"],[0.4444444444444444,\"#bd3786\"],[0.5555555555555556,\"#d8576b\"],[0.6666666666666666,\"#ed7953\"],[0.7777777777777778,\"#fb9f3a\"],[0.8888888888888888,\"#fdca26\"],[1.0,\"#f0f921\"]],\"type\":\"histogram2d\"}],\"histogram\":[{\"marker\":{\"pattern\":{\"fillmode\":\"overlay\",\"size\":10,\"solidity\":0.2}},\"type\":\"histogram\"}],\"mesh3d\":[{\"colorbar\":{\"outlinewidth\":0,\"ticks\":\"\"},\"type\":\"mesh3d\"}],\"parcoords\":[{\"line\":{\"colorbar\":{\"outlinewidth\":0,\"ticks\":\"\"}},\"type\":\"parcoords\"}],\"pie\":[{\"automargin\":true,\"type\":\"pie\"}],\"scatter3d\":[{\"line\":{\"colorbar\":{\"outlinewidth\":0,\"ticks\":\"\"}},\"marker\":{\"colorbar\":{\"outlinewidth\":0,\"ticks\":\"\"}},\"type\":\"scatter3d\"}],\"scattercarpet\":[{\"marker\":{\"colorbar\":{\"outlinewidth\":0,\"ticks\":\"\"}},\"type\":\"scattercarpet\"}],\"scattergeo\":[{\"marker\":{\"colorbar\":{\"outlinewidth\":0,\"ticks\":\"\"}},\"type\":\"scattergeo\"}],\"scattergl\":[{\"marker\":{\"colorbar\":{\"outlinewidth\":0,\"ticks\":\"\"}},\"type\":\"scattergl\"}],\"scattermapbox\":[{\"marker\":{\"colorbar\":{\"outlinewidth\":0,\"ticks\":\"\"}},\"type\":\"scattermapbox\"}],\"scatterpolargl\":[{\"marker\":{\"colorbar\":{\"outlinewidth\":0,\"ticks\":\"\"}},\"type\":\"scatterpolargl\"}],\"scatterpolar\":[{\"marker\":{\"colorbar\":{\"outlinewidth\":0,\"ticks\":\"\"}},\"type\":\"scatterpolar\"}],\"scatter\":[{\"fillpattern\":{\"fillmode\":\"overlay\",\"size\":10,\"solidity\":0.2},\"type\":\"scatter\"}],\"scatterternary\":[{\"marker\":{\"colorbar\":{\"outlinewidth\":0,\"ticks\":\"\"}},\"type\":\"scatterternary\"}],\"surface\":[{\"colorbar\":{\"outlinewidth\":0,\"ticks\":\"\"},\"colorscale\":[[0.0,\"#0d0887\"],[0.1111111111111111,\"#46039f\"],[0.2222222222222222,\"#7201a8\"],[0.3333333333333333,\"#9c179e\"],[0.4444444444444444,\"#bd3786\"],[0.5555555555555556,\"#d8576b\"],[0.6666666666666666,\"#ed7953\"],[0.7777777777777778,\"#fb9f3a\"],[0.8888888888888888,\"#fdca26\"],[1.0,\"#f0f921\"]],\"type\":\"surface\"}],\"table\":[{\"cells\":{\"fill\":{\"color\":\"#EBF0F8\"},\"line\":{\"color\":\"white\"}},\"header\":{\"fill\":{\"color\":\"#C8D4E3\"},\"line\":{\"color\":\"white\"}},\"type\":\"table\"}]},\"layout\":{\"annotationdefaults\":{\"arrowcolor\":\"#2a3f5f\",\"arrowhead\":0,\"arrowwidth\":1},\"autotypenumbers\":\"strict\",\"coloraxis\":{\"colorbar\":{\"outlinewidth\":0,\"ticks\":\"\"}},\"colorscale\":{\"diverging\":[[0,\"#8e0152\"],[0.1,\"#c51b7d\"],[0.2,\"#de77ae\"],[0.3,\"#f1b6da\"],[0.4,\"#fde0ef\"],[0.5,\"#f7f7f7\"],[0.6,\"#e6f5d0\"],[0.7,\"#b8e186\"],[0.8,\"#7fbc41\"],[0.9,\"#4d9221\"],[1,\"#276419\"]],\"sequential\":[[0.0,\"#0d0887\"],[0.1111111111111111,\"#46039f\"],[0.2222222222222222,\"#7201a8\"],[0.3333333333333333,\"#9c179e\"],[0.4444444444444444,\"#bd3786\"],[0.5555555555555556,\"#d8576b\"],[0.6666666666666666,\"#ed7953\"],[0.7777777777777778,\"#fb9f3a\"],[0.8888888888888888,\"#fdca26\"],[1.0,\"#f0f921\"]],\"sequentialminus\":[[0.0,\"#0d0887\"],[0.1111111111111111,\"#46039f\"],[0.2222222222222222,\"#7201a8\"],[0.3333333333333333,\"#9c179e\"],[0.4444444444444444,\"#bd3786\"],[0.5555555555555556,\"#d8576b\"],[0.6666666666666666,\"#ed7953\"],[0.7777777777777778,\"#fb9f3a\"],[0.8888888888888888,\"#fdca26\"],[1.0,\"#f0f921\"]]},\"colorway\":[\"#636efa\",\"#EF553B\",\"#00cc96\",\"#ab63fa\",\"#FFA15A\",\"#19d3f3\",\"#FF6692\",\"#B6E880\",\"#FF97FF\",\"#FECB52\"],\"font\":{\"color\":\"#2a3f5f\"},\"geo\":{\"bgcolor\":\"white\",\"lakecolor\":\"white\",\"landcolor\":\"#E5ECF6\",\"showlakes\":true,\"showland\":true,\"subunitcolor\":\"white\"},\"hoverlabel\":{\"align\":\"left\"},\"hovermode\":\"closest\",\"mapbox\":{\"style\":\"light\"},\"paper_bgcolor\":\"white\",\"plot_bgcolor\":\"#E5ECF6\",\"polar\":{\"angularaxis\":{\"gridcolor\":\"white\",\"linecolor\":\"white\",\"ticks\":\"\"},\"bgcolor\":\"#E5ECF6\",\"radialaxis\":{\"gridcolor\":\"white\",\"linecolor\":\"white\",\"ticks\":\"\"}},\"scene\":{\"xaxis\":{\"backgroundcolor\":\"#E5ECF6\",\"gridcolor\":\"white\",\"gridwidth\":2,\"linecolor\":\"white\",\"showbackground\":true,\"ticks\":\"\",\"zerolinecolor\":\"white\"},\"yaxis\":{\"backgroundcolor\":\"#E5ECF6\",\"gridcolor\":\"white\",\"gridwidth\":2,\"linecolor\":\"white\",\"showbackground\":true,\"ticks\":\"\",\"zerolinecolor\":\"white\"},\"zaxis\":{\"backgroundcolor\":\"#E5ECF6\",\"gridcolor\":\"white\",\"gridwidth\":2,\"linecolor\":\"white\",\"showbackground\":true,\"ticks\":\"\",\"zerolinecolor\":\"white\"}},\"shapedefaults\":{\"line\":{\"color\":\"#2a3f5f\"}},\"ternary\":{\"aaxis\":{\"gridcolor\":\"white\",\"linecolor\":\"white\",\"ticks\":\"\"},\"baxis\":{\"gridcolor\":\"white\",\"linecolor\":\"white\",\"ticks\":\"\"},\"bgcolor\":\"#E5ECF6\",\"caxis\":{\"gridcolor\":\"white\",\"linecolor\":\"white\",\"ticks\":\"\"}},\"title\":{\"x\":0.05},\"xaxis\":{\"automargin\":true,\"gridcolor\":\"white\",\"linecolor\":\"white\",\"ticks\":\"\",\"title\":{\"standoff\":15},\"zerolinecolor\":\"white\",\"zerolinewidth\":2},\"yaxis\":{\"automargin\":true,\"gridcolor\":\"white\",\"linecolor\":\"white\",\"ticks\":\"\",\"title\":{\"standoff\":15},\"zerolinecolor\":\"white\",\"zerolinewidth\":2}}},\"title\":{\"text\":\"Model performance vs. # of iterations\"},\"xaxis\":{\"title\":{\"text\":\"Iteration\"}},\"yaxis\":{\"title\":{\"text\":\"Accuracy\"}}},                        {\"responsive\": true}                    ).then(function(){\n",
       "                            \n",
       "var gd = document.getElementById('75d60d5b-1827-43a5-9826-022105128e31');\n",
       "var x = new MutationObserver(function (mutations, observer) {{\n",
       "        var display = window.getComputedStyle(gd).display;\n",
       "        if (!display || display === 'none') {{\n",
       "            console.log([gd, 'removed!']);\n",
       "            Plotly.purge(gd);\n",
       "            observer.disconnect();\n",
       "        }}\n",
       "}});\n",
       "\n",
       "// Listen for the removal of the full notebook cells\n",
       "var notebookContainer = gd.closest('#notebook-container');\n",
       "if (notebookContainer) {{\n",
       "    x.observe(notebookContainer, {childList: true});\n",
       "}}\n",
       "\n",
       "// Listen for the clearing of the current output cell\n",
       "var outputEl = gd.closest('.output');\n",
       "if (outputEl) {{\n",
       "    x.observe(outputEl, {childList: true});\n",
       "}}\n",
       "\n",
       "                        })                };                });            </script>        </div>"
      ]
     },
     "metadata": {},
     "output_type": "display_data"
    },
    {
     "name": "stderr",
     "output_type": "stream",
     "text": [
      "[INFO 12-20 14:28:54] ax.service.utils.instantiation: Inferred value type of ParameterType.INT for parameter batch_size. If that is not the expected value type, you can explicity specify 'value_type' ('int', 'float', 'bool' or 'str') in parameter dict.\n",
      "[INFO 12-20 14:28:54] ax.service.utils.instantiation: Inferred value type of ParameterType.FLOAT for parameter learning_rate. If that is not the expected value type, you can explicity specify 'value_type' ('int', 'float', 'bool' or 'str') in parameter dict.\n",
      "[INFO 12-20 14:28:54] ax.service.utils.instantiation: Inferred value type of ParameterType.FLOAT for parameter max_dropout. If that is not the expected value type, you can explicity specify 'value_type' ('int', 'float', 'bool' or 'str') in parameter dict.\n",
      "[INFO 12-20 14:28:54] ax.service.utils.instantiation: Inferred value type of ParameterType.INT for parameter max_units. If that is not the expected value type, you can explicity specify 'value_type' ('int', 'float', 'bool' or 'str') in parameter dict.\n",
      "[INFO 12-20 14:28:54] ax.service.utils.instantiation: Inferred value type of ParameterType.FLOAT for parameter momentum. If that is not the expected value type, you can explicity specify 'value_type' ('int', 'float', 'bool' or 'str') in parameter dict.\n",
      "[INFO 12-20 14:28:54] ax.service.utils.instantiation: Inferred value type of ParameterType.INT for parameter num_layers. If that is not the expected value type, you can explicity specify 'value_type' ('int', 'float', 'bool' or 'str') in parameter dict.\n",
      "[INFO 12-20 14:28:54] ax.service.utils.instantiation: Inferred value type of ParameterType.FLOAT for parameter weight_decay. If that is not the expected value type, you can explicity specify 'value_type' ('int', 'float', 'bool' or 'str') in parameter dict.\n",
      "[INFO 12-20 14:28:54] ax.service.utils.instantiation: Created search space: SearchSpace(parameters=[FixedParameter(name='OpenML_task_id', parameter_type=STRING, value='126025'), RangeParameter(name='batch_size', parameter_type=INT, range=[16, 512], log_scale=True), FixedParameter(name='epoch', parameter_type=INT, value=40), RangeParameter(name='learning_rate', parameter_type=FLOAT, range=[0.00010000000000000009, 0.10000000000000002], log_scale=True), RangeParameter(name='max_dropout', parameter_type=FLOAT, range=[0.0, 1.0]), RangeParameter(name='max_units', parameter_type=INT, range=[64, 1024], log_scale=True), RangeParameter(name='momentum', parameter_type=FLOAT, range=[0.1, 0.99]), RangeParameter(name='num_layers', parameter_type=INT, range=[1, 5]), RangeParameter(name='weight_decay', parameter_type=FLOAT, range=[1e-05, 0.1])], parameter_constraints=[]).\n"
     ]
    },
    {
     "data": {
      "application/vnd.plotly.v1+json": {
       "config": {
        "linkText": "Export to plot.ly",
        "plotlyServerURL": "https://plot.ly",
        "showLink": false
       },
       "data": [
        {
         "hoverinfo": "none",
         "legendgroup": "",
         "line": {
          "width": 0
         },
         "mode": "lines",
         "showlegend": false,
         "type": "scatter",
         "x": [
          1,
          2,
          3,
          4,
          5,
          6,
          7,
          8,
          9,
          10,
          11,
          12,
          13,
          14,
          15,
          16,
          17,
          18,
          19,
          20,
          21,
          22,
          23,
          24,
          25,
          26,
          27,
          28,
          29,
          30,
          31,
          32,
          33,
          34,
          35,
          36,
          37,
          38,
          39,
          40,
          41,
          42,
          43,
          44,
          45,
          46,
          47,
          48,
          49,
          50,
          51,
          52,
          53,
          54,
          55,
          56,
          57,
          58,
          59,
          60,
          61,
          62,
          63,
          64,
          65,
          66,
          67,
          68,
          69,
          70,
          71,
          72,
          73,
          74,
          75,
          76,
          77,
          78,
          79,
          80,
          81,
          82,
          83,
          84,
          85,
          86,
          87,
          88,
          89,
          90,
          91,
          92,
          93,
          94,
          95,
          96,
          97,
          98,
          99,
          100,
          101,
          102,
          103,
          104,
          105,
          106,
          107,
          108,
          109,
          110,
          111,
          112,
          113,
          114,
          115,
          116,
          117,
          118,
          119,
          120,
          121,
          122,
          123,
          124,
          125,
          126,
          127,
          128,
          129,
          130,
          131,
          132,
          133,
          134,
          135,
          136,
          137,
          138,
          139,
          140,
          141,
          142,
          143,
          144,
          145,
          146,
          147,
          148,
          149,
          150
         ],
         "y": [
          81.42070007324219,
          81.42070007324219,
          81.42070007324219,
          81.42070007324219,
          81.42070007324219,
          81.42070007324219,
          82.37166595458984,
          82.37166595458984,
          82.37166595458984,
          82.37166595458984,
          82.37166595458984,
          82.37166595458984,
          82.37166595458984,
          82.37166595458984,
          82.37166595458984,
          82.37166595458984,
          88.53082275390625,
          88.53082275390625,
          88.53082275390625,
          88.53082275390625,
          88.53082275390625,
          88.53082275390625,
          88.53082275390625,
          88.53082275390625,
          88.53082275390625,
          88.53082275390625,
          88.53082275390625,
          88.53082275390625,
          88.53082275390625,
          88.53082275390625,
          88.53082275390625,
          88.53082275390625,
          88.53082275390625,
          90.13447570800781,
          90.13447570800781,
          90.13447570800781,
          90.13447570800781,
          90.13447570800781,
          90.13447570800781,
          90.72331237792969,
          90.72331237792969,
          90.86809539794922,
          90.86809539794922,
          90.86809539794922,
          90.86809539794922,
          90.86809539794922,
          90.86809539794922,
          90.86809539794922,
          90.92288208007812,
          90.93119812011719,
          90.93744659423828,
          90.93849182128906,
          90.93883514404297,
          90.93883514404297,
          90.93883514404297,
          90.93883514404297,
          90.93883514404297,
          90.93883514404297,
          90.93883514404297,
          90.93883514404297,
          90.93917846679688,
          90.93917846679688,
          90.93917846679688,
          90.93917846679688,
          90.93917846679688,
          90.93917846679688,
          90.93917846679688,
          90.93917846679688,
          90.93952941894531,
          90.93988037109375,
          90.93988037109375,
          90.93988037109375,
          90.93988037109375,
          90.93988037109375,
          90.93988037109375,
          90.93988037109375,
          90.93988037109375,
          90.93988037109375,
          90.93988037109375,
          90.93988037109375,
          90.93988037109375,
          90.94022369384766,
          90.94022369384766,
          90.94022369384766,
          90.94022369384766,
          90.94022369384766,
          90.94022369384766,
          90.94022369384766,
          90.94022369384766,
          90.94022369384766,
          90.94022369384766,
          90.94022369384766,
          90.94022369384766,
          90.94022369384766,
          90.94022369384766,
          90.94022369384766,
          90.94022369384766,
          90.94022369384766,
          90.94022369384766,
          90.94022369384766,
          90.94022369384766,
          90.94022369384766,
          90.94022369384766,
          90.94022369384766,
          90.94022369384766,
          90.94022369384766,
          90.94022369384766,
          90.94022369384766,
          90.94022369384766,
          90.94022369384766,
          90.94022369384766,
          90.94022369384766,
          90.94022369384766,
          90.94022369384766,
          90.94022369384766,
          90.94022369384766,
          90.94022369384766,
          90.94022369384766,
          90.94022369384766,
          90.94022369384766,
          90.94022369384766,
          90.94022369384766,
          90.94022369384766,
          90.94022369384766,
          90.94022369384766,
          90.94022369384766,
          90.94022369384766,
          90.94022369384766,
          90.94022369384766,
          90.94022369384766,
          90.94022369384766,
          90.94022369384766,
          90.94022369384766,
          90.94022369384766,
          90.94022369384766,
          90.94022369384766,
          90.94022369384766,
          90.94022369384766,
          90.94022369384766,
          90.94022369384766,
          90.94022369384766,
          90.94022369384766,
          90.94022369384766,
          90.94022369384766,
          90.94022369384766,
          90.94022369384766,
          90.94022369384766,
          90.94022369384766,
          90.94022369384766,
          90.94022369384766
         ]
        },
        {
         "fill": "tonexty",
         "fillcolor": "rgba(128,177,211,0.3)",
         "legendgroup": "objective value",
         "line": {
          "color": "rgba(128,177,211,1)"
         },
         "mode": "lines",
         "name": "objective value",
         "text": [
          "<br><em>Parameterization:</em><br>batch_size: 16<br>learning_rate: 0.06166293061775217<br>max_dropout: 0.8156781196594238<br>max_units: 140<br>momentum: 0.7115514594316482<br>num_layers: 5<br>weight_decay: 0.06124025789260865<br>OpenML_task_id: 126025<br>epoch: 40",
          "<br><em>Parameterization:</em><br>batch_size: 17<br>learning_rate: 0.027670241575842386<br>max_dropout: 0.9342233398929238<br>max_units: 715<br>momentum: 0.9266803433187306<br>num_layers: 5<br>weight_decay: 0.0964568042995315<br>OpenML_task_id: 126025<br>epoch: 40",
          "<br><em>Parameterization:</em><br>batch_size: 18<br>learning_rate: 0.044658206673375174<br>max_dropout: 0.7230146946385503<br>max_units: 231<br>momentum: 0.26060243531130256<br>num_layers: 1<br>weight_decay: 0.0509008115273621<br>OpenML_task_id: 126025<br>epoch: 40",
          "<br><em>Parameterization:</em><br>batch_size: 23<br>learning_rate: 0.004046754088474709<br>max_dropout: 0.15494268015027046<br>max_units: 279<br>momentum: 0.9326398601941764<br>num_layers: 4<br>weight_decay: 0.03513625840447844<br>OpenML_task_id: 126025<br>epoch: 40",
          "<br><em>Parameterization:</em><br>batch_size: 189<br>learning_rate: 0.006228791333506736<br>max_dropout: 0.1334050428122282<br>max_units: 108<br>momentum: 0.6769650658406318<br>num_layers: 3<br>weight_decay: 0.015565868422891945<br>OpenML_task_id: 126025<br>epoch: 40",
          "<br><em>Parameterization:</em><br>batch_size: 290<br>learning_rate: 0.000255449889055381<br>max_dropout: 0.7758385371416807<br>max_units: 632<br>momentum: 0.8665205310564488<br>num_layers: 2<br>weight_decay: 0.049346934049837296<br>OpenML_task_id: 126025<br>epoch: 40",
          "<br><em>Parameterization:</em><br>batch_size: 117<br>learning_rate: 0.03736909241787284<br>max_dropout: 0.3576414119452238<br>max_units: 440<br>momentum: 0.8760885859001428<br>num_layers: 5<br>weight_decay: 0.03836021645300091<br>OpenML_task_id: 126025<br>epoch: 40",
          "<br><em>Parameterization:</em><br>batch_size: 45<br>learning_rate: 0.002261888442649254<br>max_dropout: 0.4039627853780985<br>max_units: 209<br>momentum: 0.4512015123199672<br>num_layers: 3<br>weight_decay: 0.04224765853082762<br>OpenML_task_id: 126025<br>epoch: 40",
          "<br><em>Parameterization:</em><br>batch_size: 458<br>learning_rate: 0.028627151173588515<br>max_dropout: 0.27738136798143387<br>max_units: 504<br>momentum: 0.9640636077616364<br>num_layers: 5<br>weight_decay: 0.057030019376399003<br>OpenML_task_id: 126025<br>epoch: 40",
          "<br><em>Parameterization:</em><br>batch_size: 42<br>learning_rate: 0.0010787865275414484<br>max_dropout: 0.6395396934822202<br>max_units: 107<br>momentum: 0.7242485766857862<br>num_layers: 3<br>weight_decay: 0.040818138550510634<br>OpenML_task_id: 126025<br>epoch: 40",
          "<br><em>Parameterization:</em><br>batch_size: 192<br>learning_rate: 0.0010005522409467897<br>max_dropout: 0.13863021228462458<br>max_units: 839<br>momentum: 0.3769837307371199<br>num_layers: 4<br>weight_decay: 0.02221972199995071<br>OpenML_task_id: 126025<br>epoch: 40",
          "<br><em>Parameterization:</em><br>batch_size: 36<br>learning_rate: 0.005149360393326176<br>max_dropout: 0.7375839604064822<br>max_units: 599<br>momentum: 0.5563449816592038<br>num_layers: 2<br>weight_decay: 0.04386914661829361<br>OpenML_task_id: 126025<br>epoch: 40",
          "<br><em>Parameterization:</em><br>batch_size: 232<br>learning_rate: 0.00354057924508717<br>max_dropout: 0.44679256714880466<br>max_units: 79<br>momentum: 0.2670969036594033<br>num_layers: 1<br>weight_decay: 0.09506926097629592<br>OpenML_task_id: 126025<br>epoch: 40",
          "<br><em>Parameterization:</em><br>batch_size: 444<br>learning_rate: 0.02153138320266914<br>max_dropout: 0.22848243080079556<br>max_units: 109<br>momentum: 0.6505956292524934<br>num_layers: 4<br>weight_decay: 0.013620868340339513<br>OpenML_task_id: 126025<br>epoch: 40",
          "<br><em>Parameterization:</em><br>batch_size: 206<br>learning_rate: 0.0004324966557965138<br>max_dropout: 0.2180766873061657<br>max_units: 596<br>momentum: 0.9056505785416812<br>num_layers: 4<br>weight_decay: 0.09801831441293471<br>OpenML_task_id: 126025<br>epoch: 40",
          "<br><em>Parameterization:</em><br>batch_size: 31<br>learning_rate: 0.028740462175670677<br>max_dropout: 0.21318682748824358<br>max_units: 94<br>momentum: 0.4985669584944844<br>num_layers: 4<br>weight_decay: 0.02881324261828326<br>OpenML_task_id: 126025<br>epoch: 40",
          "<br><em>Parameterization:</em><br>batch_size: 24<br>learning_rate: 0.00197566528925665<br>max_dropout: 0.8947193380445242<br>max_units: 871<br>momentum: 0.3706673938781023<br>num_layers: 5<br>weight_decay: 0.05099000766328537<br>OpenML_task_id: 126025<br>epoch: 40",
          "<br><em>Parameterization:</em><br>batch_size: 24<br>learning_rate: 0.0001088886493377124<br>max_dropout: 0.6417787140235305<br>max_units: 678<br>momentum: 0.8234007027558983<br>num_layers: 2<br>weight_decay: 0.00591229200463742<br>OpenML_task_id: 126025<br>epoch: 40",
          "<br><em>Parameterization:</em><br>batch_size: 50<br>learning_rate: 0.011006622317991184<br>max_dropout: 0.8080605063587427<br>max_units: 992<br>momentum: 0.307500459458679<br>num_layers: 3<br>weight_decay: 0.01076190688234754<br>OpenML_task_id: 126025<br>epoch: 40",
          "<br><em>Parameterization:</em><br>batch_size: 22<br>learning_rate: 0.003943256758164384<br>max_dropout: 0.8543748334050179<br>max_units: 330<br>momentum: 0.8027041896712035<br>num_layers: 5<br>weight_decay: 0.006402820931440219<br>OpenML_task_id: 126025<br>epoch: 40",
          "<br><em>Parameterization:</em><br>batch_size: 220<br>learning_rate: 0.02787434443322111<br>max_dropout: 0.7601313553750515<br>max_units: 135<br>momentum: 0.546200435338542<br>num_layers: 2<br>weight_decay: 0.02126857393231243<br>OpenML_task_id: 126025<br>epoch: 40",
          "<br><em>Parameterization:</em><br>batch_size: 50<br>learning_rate: 0.0318329085629155<br>max_dropout: 0.2509444234892726<br>max_units: 137<br>momentum: 0.7806134108267725<br>num_layers: 3<br>weight_decay: 0.06029977947942913<br>OpenML_task_id: 126025<br>epoch: 40",
          "<br><em>Parameterization:</em><br>batch_size: 22<br>learning_rate: 0.000509098132450588<br>max_dropout: 0.12988824211061<br>max_units: 881<br>momentum: 0.9560664416104555<br>num_layers: 4<br>weight_decay: 0.05457977377567441<br>OpenML_task_id: 126025<br>epoch: 40",
          "<br><em>Parameterization:</em><br>batch_size: 75<br>learning_rate: 0.0004373800647625979<br>max_dropout: 0.5434945896267891<br>max_units: 67<br>momentum: 0.2166041042190045<br>num_layers: 5<br>weight_decay: 0.08287490939395503<br>OpenML_task_id: 126025<br>epoch: 40",
          "<br><em>Parameterization:</em><br>batch_size: 45<br>learning_rate: 0.00014444614490534776<br>max_dropout: 0.5696947714313865<br>max_units: 409<br>momentum: 0.9519096992537379<br>num_layers: 3<br>weight_decay: 0.041098997350325815<br>OpenML_task_id: 126025<br>epoch: 40",
          "<br><em>Parameterization:</em><br>batch_size: 157<br>learning_rate: 0.010006319694356842<br>max_dropout: 0.26096391677856445<br>max_units: 124<br>momentum: 0.955377430068329<br>num_layers: 3<br>weight_decay: 0.017974045547312127<br>OpenML_task_id: 126025<br>epoch: 40",
          "<br><em>Parameterization:</em><br>batch_size: 36<br>learning_rate: 0.04279324825528184<br>max_dropout: 0.17632109858095646<br>max_units: 336<br>momentum: 0.951193544473499<br>num_layers: 2<br>weight_decay: 0.07222047802225687<br>OpenML_task_id: 126025<br>epoch: 40",
          "<br><em>Parameterization:</em><br>batch_size: 176<br>learning_rate: 0.005526502684973249<br>max_dropout: 0.7899551270529628<br>max_units: 104<br>momentum: 0.7165375670883805<br>num_layers: 1<br>weight_decay: 0.0571003915472515<br>OpenML_task_id: 126025<br>epoch: 40",
          "<br><em>Parameterization:</em><br>batch_size: 43<br>learning_rate: 0.036963857174052386<br>max_dropout: 0.9397298814728856<br>max_units: 814<br>momentum: 0.33393794851377606<br>num_layers: 3<br>weight_decay: 0.04429392590407283<br>OpenML_task_id: 126025<br>epoch: 40",
          "<br><em>Parameterization:</em><br>batch_size: 409<br>learning_rate: 0.0011800107351362383<br>max_dropout: 0.36225475184619427<br>max_units: 686<br>momentum: 0.3331530964002013<br>num_layers: 5<br>weight_decay: 0.0167440948344674<br>OpenML_task_id: 126025<br>epoch: 40",
          "<br><em>Parameterization:</em><br>batch_size: 24<br>learning_rate: 0.0010762399721801566<br>max_dropout: 0.9413259210795671<br>max_units: 1024<br>momentum: 0.3288663665856745<br>num_layers: 5<br>weight_decay: 0.007809543060723765<br>OpenML_task_id: 126025<br>epoch: 40",
          "<br><em>Parameterization:</em><br>batch_size: 42<br>learning_rate: 0.048138747013404225<br>max_dropout: 0.9029354802464336<br>max_units: 685<br>momentum: 0.46900302637179414<br>num_layers: 5<br>weight_decay: 0.04935067125843738<br>OpenML_task_id: 126025<br>epoch: 40",
          "<br><em>Parameterization:</em><br>batch_size: 25<br>learning_rate: 0.0005454583850562514<br>max_dropout: 1.0<br>max_units: 521<br>momentum: 0.2531820366580736<br>num_layers: 5<br>weight_decay: 0.05125122252223625<br>OpenML_task_id: 126025<br>epoch: 40",
          "<br><em>Parameterization:</em><br>batch_size: 29<br>learning_rate: 0.0019253527307730787<br>max_dropout: 0.8784987209109272<br>max_units: 650<br>momentum: 0.4020834021616404<br>num_layers: 5<br>weight_decay: 0.05102510451600239<br>OpenML_task_id: 126025<br>epoch: 40",
          "<br><em>Parameterization:</em><br>batch_size: 36<br>learning_rate: 0.0006842999063320977<br>max_dropout: 0.93757495619957<br>max_units: 167<br>momentum: 0.5167322894152118<br>num_layers: 5<br>weight_decay: 0.049502409585570346<br>OpenML_task_id: 126025<br>epoch: 40",
          "<br><em>Parameterization:</em><br>batch_size: 17<br>learning_rate: 0.0026230998993014704<br>max_dropout: 0.6404757168252974<br>max_units: 547<br>momentum: 0.34187695580894556<br>num_layers: 5<br>weight_decay: 0.05304787310490118<br>OpenML_task_id: 126025<br>epoch: 40",
          "<br><em>Parameterization:</em><br>batch_size: 332<br>learning_rate: 0.0027040727034298995<br>max_dropout: 0.6659506097826591<br>max_units: 455<br>momentum: 0.38282267286675087<br>num_layers: 5<br>weight_decay: 0.05456178310881435<br>OpenML_task_id: 126025<br>epoch: 40",
          "<br><em>Parameterization:</em><br>batch_size: 19<br>learning_rate: 0.0030493939724354473<br>max_dropout: 0.17639277850539864<br>max_units: 916<br>momentum: 0.39426812819008406<br>num_layers: 5<br>weight_decay: 0.05272827835213777<br>OpenML_task_id: 126025<br>epoch: 40",
          "<br><em>Parameterization:</em><br>batch_size: 19<br>learning_rate: 0.0032299279689659488<br>max_dropout: 0.7888645294872011<br>max_units: 919<br>momentum: 0.36941468265800637<br>num_layers: 5<br>weight_decay: 0.052210783426607274<br>OpenML_task_id: 126025<br>epoch: 40",
          "<br><em>Parameterization:</em><br>batch_size: 22<br>learning_rate: 0.0020574475979799403<br>max_dropout: 0.7709400306489592<br>max_units: 400<br>momentum: 0.4471134313326861<br>num_layers: 5<br>weight_decay: 0.04958074079887214<br>OpenML_task_id: 126025<br>epoch: 40",
          "<br><em>Parameterization:</em><br>batch_size: 27<br>learning_rate: 0.0022996771116918736<br>max_dropout: 0.8524341350417451<br>max_units: 409<br>momentum: 0.45021487176493813<br>num_layers: 5<br>weight_decay: 0.05233289412848602<br>OpenML_task_id: 126025<br>epoch: 40",
          "<br><em>Parameterization:</em><br>batch_size: 25<br>learning_rate: 0.0020890283378050788<br>max_dropout: 0.735355179366445<br>max_units: 423<br>momentum: 0.43925575532095773<br>num_layers: 5<br>weight_decay: 0.04772435635671798<br>OpenML_task_id: 126025<br>epoch: 40",
          "<br><em>Parameterization:</em><br>batch_size: 26<br>learning_rate: 0.0019594190245124598<br>max_dropout: 0.7177417047824243<br>max_units: 431<br>momentum: 0.43582411091662654<br>num_layers: 5<br>weight_decay: 0.04788208723349096<br>OpenML_task_id: 126025<br>epoch: 40",
          "<br><em>Parameterization:</em><br>batch_size: 21<br>learning_rate: 0.0015901583577064011<br>max_dropout: 0.9711693986634354<br>max_units: 449<br>momentum: 0.39673853555158933<br>num_layers: 5<br>weight_decay: 0.047721999450599434<br>OpenML_task_id: 126025<br>epoch: 40",
          "<br><em>Parameterization:</em><br>batch_size: 24<br>learning_rate: 0.0033933249416248455<br>max_dropout: 0.6496485151426376<br>max_units: 448<br>momentum: 0.5225472578787412<br>num_layers: 5<br>weight_decay: 0.048681684160190995<br>OpenML_task_id: 126025<br>epoch: 40",
          "<br><em>Parameterization:</em><br>batch_size: 25<br>learning_rate: 0.0014093064298913859<br>max_dropout: 0.6357339979050924<br>max_units: 450<br>momentum: 0.3959553236522868<br>num_layers: 5<br>weight_decay: 0.04968969926840255<br>OpenML_task_id: 126025<br>epoch: 40",
          "<br><em>Parameterization:</em><br>batch_size: 28<br>learning_rate: 0.0021578594265435564<br>max_dropout: 0.7127538234168603<br>max_units: 423<br>momentum: 0.40319127654127573<br>num_layers: 5<br>weight_decay: 0.04840730658291189<br>OpenML_task_id: 126025<br>epoch: 40",
          "<br><em>Parameterization:</em><br>batch_size: 28<br>learning_rate: 0.0019719896598457396<br>max_dropout: 0.7211177782017193<br>max_units: 436<br>momentum: 0.40934599758167434<br>num_layers: 5<br>weight_decay: 0.04844023066538652<br>OpenML_task_id: 126025<br>epoch: 40",
          "<br><em>Parameterization:</em><br>batch_size: 24<br>learning_rate: 0.0024062048962597096<br>max_dropout: 0.7462946972116106<br>max_units: 428<br>momentum: 0.38821049937888563<br>num_layers: 5<br>weight_decay: 0.04814290662851582<br>OpenML_task_id: 126025<br>epoch: 40",
          "<br><em>Parameterization:</em><br>batch_size: 25<br>learning_rate: 0.002044532817564046<br>max_dropout: 0.7650897739250332<br>max_units: 445<br>momentum: 0.40460727414162734<br>num_layers: 5<br>weight_decay: 0.048061134250772804<br>OpenML_task_id: 126025<br>epoch: 40",
          "<br><em>Parameterization:</em><br>batch_size: 24<br>learning_rate: 0.002161536917493317<br>max_dropout: 0.7512868699567462<br>max_units: 426<br>momentum: 0.40382175160842937<br>num_layers: 5<br>weight_decay: 0.048118303624419545<br>OpenML_task_id: 126025<br>epoch: 40",
          "<br><em>Parameterization:</em><br>batch_size: 24<br>learning_rate: 0.002154069702819158<br>max_dropout: 0.7525625405873673<br>max_units: 429<br>momentum: 0.4039919499682353<br>num_layers: 5<br>weight_decay: 0.0481094740261707<br>OpenML_task_id: 126025<br>epoch: 40",
          "<br><em>Parameterization:</em><br>batch_size: 24<br>learning_rate: 0.0021500760845175057<br>max_dropout: 0.7532188246755928<br>max_units: 429<br>momentum: 0.40408077736652714<br>num_layers: 5<br>weight_decay: 0.048107589056032615<br>OpenML_task_id: 126025<br>epoch: 40",
          "<br><em>Parameterization:</em><br>batch_size: 24<br>learning_rate: 0.0021484498376276987<br>max_dropout: 0.7534335545059379<br>max_units: 430<br>momentum: 0.40409152239357216<br>num_layers: 5<br>weight_decay: 0.048105398289188174<br>OpenML_task_id: 126025<br>epoch: 40",
          "<br><em>Parameterization:</em><br>batch_size: 25<br>learning_rate: 0.002146997833527173<br>max_dropout: 0.7536246207325176<br>max_units: 430<br>momentum: 0.4041019180226776<br>num_layers: 5<br>weight_decay: 0.04810424067606302<br>OpenML_task_id: 126025<br>epoch: 40",
          "<br><em>Parameterization:</em><br>batch_size: 24<br>learning_rate: 0.0021516844951398376<br>max_dropout: 0.751450141712784<br>max_units: 430<br>momentum: 0.4041067889933484<br>num_layers: 5<br>weight_decay: 0.04810058104326109<br>OpenML_task_id: 126025<br>epoch: 40",
          "<br><em>Parameterization:</em><br>batch_size: 24<br>learning_rate: 0.0021504956125899255<br>max_dropout: 0.7515463298428586<br>max_units: 430<br>momentum: 0.40409645392652627<br>num_layers: 5<br>weight_decay: 0.04809851935717058<br>OpenML_task_id: 126025<br>epoch: 40",
          "<br><em>Parameterization:</em><br>batch_size: 24<br>learning_rate: 0.0021495693834480676<br>max_dropout: 0.7516488561504263<br>max_units: 430<br>momentum: 0.4040925795838083<br>num_layers: 5<br>weight_decay: 0.0480970846752558<br>OpenML_task_id: 126025<br>epoch: 40",
          "<br><em>Parameterization:</em><br>batch_size: 24<br>learning_rate: 0.00214861878261777<br>max_dropout: 0.7517169075501173<br>max_units: 430<br>momentum: 0.40408324692160813<br>num_layers: 5<br>weight_decay: 0.048095779162918746<br>OpenML_task_id: 126025<br>epoch: 40",
          "<br><em>Parameterization:</em><br>batch_size: 24<br>learning_rate: 0.002147959289353655<br>max_dropout: 0.7517706649314418<br>max_units: 430<br>momentum: 0.40408009738750594<br>num_layers: 5<br>weight_decay: 0.048094727045195136<br>OpenML_task_id: 126025<br>epoch: 40",
          "<br><em>Parameterization:</em><br>batch_size: 24<br>learning_rate: 0.0021476379272720226<br>max_dropout: 0.7517696512007599<br>max_units: 430<br>momentum: 0.4040638350994814<br>num_layers: 5<br>weight_decay: 0.04809368532132747<br>OpenML_task_id: 126025<br>epoch: 40",
          "<br><em>Parameterization:</em><br>batch_size: 24<br>learning_rate: 0.0021465778733828424<br>max_dropout: 0.7518888133869336<br>max_units: 431<br>momentum: 0.4040757053058256<br>num_layers: 5<br>weight_decay: 0.04809313952380775<br>OpenML_task_id: 126025<br>epoch: 40",
          "<br><em>Parameterization:</em><br>batch_size: 24<br>learning_rate: 0.0021462359918518695<br>max_dropout: 0.7519042263475095<br>max_units: 431<br>momentum: 0.4040719181266703<br>num_layers: 5<br>weight_decay: 0.04809222733266054<br>OpenML_task_id: 126025<br>epoch: 40",
          "<br><em>Parameterization:</em><br>batch_size: 24<br>learning_rate: 0.0021461000711035763<br>max_dropout: 0.7518785187279541<br>max_units: 431<br>momentum: 0.4040574045482893<br>num_layers: 5<br>weight_decay: 0.04809121188178146<br>OpenML_task_id: 126025<br>epoch: 40",
          "<br><em>Parameterization:</em><br>batch_size: 24<br>learning_rate: 0.0021460686881692496<br>max_dropout: 0.7518242841681142<br>max_units: 431<br>momentum: 0.40404045991029447<br>num_layers: 5<br>weight_decay: 0.048090199567411174<br>OpenML_task_id: 126025<br>epoch: 40",
          "<br><em>Parameterization:</em><br>batch_size: 24<br>learning_rate: 0.0021457761942241015<br>max_dropout: 0.751812787657313<br>max_units: 431<br>momentum: 0.40403378301700676<br>num_layers: 5<br>weight_decay: 0.04808944695875166<br>OpenML_task_id: 126025<br>epoch: 40",
          "<br><em>Parameterization:</em><br>batch_size: 24<br>learning_rate: 0.002145390436808647<br>max_dropout: 0.7518689915475226<br>max_units: 431<br>momentum: 0.40404358173820876<br>num_layers: 5<br>weight_decay: 0.048088941503300495<br>OpenML_task_id: 126025<br>epoch: 40",
          "<br><em>Parameterization:</em><br>batch_size: 24<br>learning_rate: 0.002145317390997383<br>max_dropout: 0.7518353886141818<br>max_units: 431<br>momentum: 0.40403393017992495<br>num_layers: 5<br>weight_decay: 0.04808811326448077<br>OpenML_task_id: 126025<br>epoch: 40",
          "<br><em>Parameterization:</em><br>batch_size: 24<br>learning_rate: 0.0021453011335389777<br>max_dropout: 0.7517960717803365<br>max_units: 431<br>momentum: 0.40402255080510907<br>num_layers: 5<br>weight_decay: 0.048087210907616966<br>OpenML_task_id: 126025<br>epoch: 40",
          "<br><em>Parameterization:</em><br>batch_size: 24<br>learning_rate: 0.002144797426113334<br>max_dropout: 0.7518597246732692<br>max_units: 431<br>momentum: 0.40403722292245414<br>num_layers: 5<br>weight_decay: 0.04808716858803874<br>OpenML_task_id: 126025<br>epoch: 40",
          "<br><em>Parameterization:</em><br>batch_size: 24<br>learning_rate: 0.0021449105945789194<br>max_dropout: 0.751807944387106<br>max_units: 431<br>momentum: 0.4040294562448089<br>num_layers: 5<br>weight_decay: 0.04808652983949359<br>OpenML_task_id: 126025<br>epoch: 40",
          "<br><em>Parameterization:</em><br>batch_size: 24<br>learning_rate: 0.0021448912750637733<br>max_dropout: 0.7517645470416074<br>max_units: 431<br>momentum: 0.4040226079193642<br>num_layers: 5<br>weight_decay: 0.04808549492903311<br>OpenML_task_id: 126025<br>epoch: 40",
          "<br><em>Parameterization:</em><br>batch_size: 24<br>learning_rate: 0.0021451311505497187<br>max_dropout: 0.7517181564152707<br>max_units: 431<br>momentum: 0.40401943297690235<br>num_layers: 5<br>weight_decay: 0.04808529011938471<br>OpenML_task_id: 126025<br>epoch: 40",
          "<br><em>Parameterization:</em><br>batch_size: 24<br>learning_rate: 0.00214450535487099<br>max_dropout: 0.7517899810685512<br>max_units: 431<br>momentum: 0.4040351882365816<br>num_layers: 5<br>weight_decay: 0.04808516289428695<br>OpenML_task_id: 126025<br>epoch: 40",
          "<br><em>Parameterization:</em><br>batch_size: 24<br>learning_rate: 0.002144804840468617<br>max_dropout: 0.7516987128169038<br>max_units: 431<br>momentum: 0.4040210546875562<br>num_layers: 5<br>weight_decay: 0.048084207708362234<br>OpenML_task_id: 126025<br>epoch: 40",
          "<br><em>Parameterization:</em><br>batch_size: 24<br>learning_rate: 0.0021450370254681617<br>max_dropout: 0.7516330562794561<br>max_units: 431<br>momentum: 0.4040146334421364<br>num_layers: 5<br>weight_decay: 0.04808345063534992<br>OpenML_task_id: 126025<br>epoch: 40",
          "<br><em>Parameterization:</em><br>batch_size: 24<br>learning_rate: 0.0021450493985660842<br>max_dropout: 0.7516161630027365<br>max_units: 431<br>momentum: 0.4040186392986814<br>num_layers: 5<br>weight_decay: 0.04808300623495287<br>OpenML_task_id: 126025<br>epoch: 40",
          "<br><em>Parameterization:</em><br>batch_size: 24<br>learning_rate: 0.0021448721743731643<br>max_dropout: 0.75162113960366<br>max_units: 431<br>momentum: 0.40402422837210117<br>num_layers: 5<br>weight_decay: 0.0480826775070882<br>OpenML_task_id: 126025<br>epoch: 40",
          "<br><em>Parameterization:</em><br>batch_size: 24<br>learning_rate: 0.0021450412428927006<br>max_dropout: 0.7515772591738598<br>max_units: 431<br>momentum: 0.4040225728652651<br>num_layers: 5<br>weight_decay: 0.04808228442270121<br>OpenML_task_id: 126025<br>epoch: 40",
          "<br><em>Parameterization:</em><br>batch_size: 24<br>learning_rate: 0.002145167327917907<br>max_dropout: 0.7515317170702154<br>max_units: 431<br>momentum: 0.40402477085497024<br>num_layers: 5<br>weight_decay: 0.04808199696874301<br>OpenML_task_id: 126025<br>epoch: 40",
          "<br><em>Parameterization:</em><br>batch_size: 24<br>learning_rate: 0.0021451686833533824<br>max_dropout: 0.7515621641350195<br>max_units: 431<br>momentum: 0.4040374533714054<br>num_layers: 5<br>weight_decay: 0.04808224669834721<br>OpenML_task_id: 126025<br>epoch: 40",
          "<br><em>Parameterization:</em><br>batch_size: 24<br>learning_rate: 0.0021455465359799743<br>max_dropout: 0.7514890165480792<br>max_units: 430<br>momentum: 0.40403312285441684<br>num_layers: 5<br>weight_decay: 0.04808166285576443<br>OpenML_task_id: 126025<br>epoch: 40",
          "<br><em>Parameterization:</em><br>batch_size: 24<br>learning_rate: 0.0021455622190368526<br>max_dropout: 0.7514537740097396<br>max_units: 430<br>momentum: 0.40403580268367145<br>num_layers: 5<br>weight_decay: 0.04808128776102472<br>OpenML_task_id: 126025<br>epoch: 40",
          "<br><em>Parameterization:</em><br>batch_size: 24<br>learning_rate: 0.002145747570783871<br>max_dropout: 0.751399427888408<br>max_units: 430<br>momentum: 0.4040305867926174<br>num_layers: 5<br>weight_decay: 0.0480807829955942<br>OpenML_task_id: 126025<br>epoch: 40",
          "<br><em>Parameterization:</em><br>batch_size: 24<br>learning_rate: 0.0021460018524754837<br>max_dropout: 0.7513514639482269<br>max_units: 430<br>momentum: 0.40403403999539744<br>num_layers: 5<br>weight_decay: 0.0480805083838158<br>OpenML_task_id: 126025<br>epoch: 40",
          "<br><em>Parameterization:</em><br>batch_size: 24<br>learning_rate: 0.002145669508826237<br>max_dropout: 0.7513853531245926<br>max_units: 430<br>momentum: 0.4040520538028952<br>num_layers: 5<br>weight_decay: 0.04808067831756123<br>OpenML_task_id: 126025<br>epoch: 40",
          "<br><em>Parameterization:</em><br>batch_size: 24<br>learning_rate: 0.0021461724515436324<br>max_dropout: 0.7513044081834686<br>max_units: 430<br>momentum: 0.40404545752520105<br>num_layers: 5<br>weight_decay: 0.04808009587883695<br>OpenML_task_id: 126025<br>epoch: 40",
          "<br><em>Parameterization:</em><br>batch_size: 24<br>learning_rate: 0.0021467880850103574<br>max_dropout: 0.7511933377693771<br>max_units: 430<br>momentum: 0.40403563056911673<br>num_layers: 5<br>weight_decay: 0.04807945913325972<br>OpenML_task_id: 126025<br>epoch: 40",
          "<br><em>Parameterization:</em><br>batch_size: 24<br>learning_rate: 0.0021468180985513854<br>max_dropout: 0.7511746935270367<br>max_units: 430<br>momentum: 0.40403894345709723<br>num_layers: 5<br>weight_decay: 0.04807929091533578<br>OpenML_task_id: 126025<br>epoch: 40",
          "<br><em>Parameterization:</em><br>batch_size: 24<br>learning_rate: 0.0021471898175455376<br>max_dropout: 0.7511176438880943<br>max_units: 430<br>momentum: 0.40404108596151644<br>num_layers: 5<br>weight_decay: 0.04807911410435918<br>OpenML_task_id: 126025<br>epoch: 40",
          "<br><em>Parameterization:</em><br>batch_size: 24<br>learning_rate: 0.00214723052743956<br>max_dropout: 0.751137246922838<br>max_units: 430<br>momentum: 0.4040554816663122<br>num_layers: 5<br>weight_decay: 0.04807932827409446<br>OpenML_task_id: 126025<br>epoch: 40",
          "<br><em>Parameterization:</em><br>batch_size: 24<br>learning_rate: 0.0021474461680874315<br>max_dropout: 0.7510986072411243<br>max_units: 430<br>momentum: 0.4040602905688536<br>num_layers: 5<br>weight_decay: 0.0480792296698638<br>OpenML_task_id: 126025<br>epoch: 40",
          "<br><em>Parameterization:</em><br>batch_size: 24<br>learning_rate: 0.002148286290872346<br>max_dropout: 0.7509257822591374<br>max_units: 430<br>momentum: 0.40404339108569753<br>num_layers: 5<br>weight_decay: 0.04807878057623515<br>OpenML_task_id: 126025<br>epoch: 40",
          "<br><em>Parameterization:</em><br>batch_size: 24<br>learning_rate: 0.0021478978515469373<br>max_dropout: 0.7510228312140952<br>max_units: 430<br>momentum: 0.40406886435150824<br>num_layers: 5<br>weight_decay: 0.04807885067812773<br>OpenML_task_id: 126025<br>epoch: 40",
          "<br><em>Parameterization:</em><br>batch_size: 24<br>learning_rate: 0.0021481033173816047<br>max_dropout: 0.7509914760781148<br>max_units: 429<br>momentum: 0.4040723892671163<br>num_layers: 5<br>weight_decay: 0.048078698382609475<br>OpenML_task_id: 126025<br>epoch: 40",
          "<br><em>Parameterization:</em><br>batch_size: 24<br>learning_rate: 0.002148422768172659<br>max_dropout: 0.7509650651079085<br>max_units: 429<br>momentum: 0.4040743886569993<br>num_layers: 5<br>weight_decay: 0.04807885976157725<br>OpenML_task_id: 126025<br>epoch: 40",
          "<br><em>Parameterization:</em><br>batch_size: 24<br>learning_rate: 0.0021487386005749807<br>max_dropout: 0.7508927476443339<br>max_units: 429<br>momentum: 0.40407739836214085<br>num_layers: 5<br>weight_decay: 0.04807834273962369<br>OpenML_task_id: 126025<br>epoch: 40",
          "<br><em>Parameterization:</em><br>batch_size: 24<br>learning_rate: 0.002148883072303417<br>max_dropout: 0.7508603509363462<br>max_units: 429<br>momentum: 0.4040848430531029<br>num_layers: 5<br>weight_decay: 0.04807781900839752<br>OpenML_task_id: 126025<br>epoch: 40",
          "<br><em>Parameterization:</em><br>batch_size: 24<br>learning_rate: 0.002149214046900989<br>max_dropout: 0.7508086465117557<br>max_units: 429<br>momentum: 0.4040842106155119<br>num_layers: 5<br>weight_decay: 0.048078003689457936<br>OpenML_task_id: 126025<br>epoch: 40",
          "<br><em>Parameterization:</em><br>batch_size: 24<br>learning_rate: 0.002149276437107866<br>max_dropout: 0.7507762633857151<br>max_units: 429<br>momentum: 0.4040871219460366<br>num_layers: 5<br>weight_decay: 0.0480774331393836<br>OpenML_task_id: 126025<br>epoch: 40",
          "<br><em>Parameterization:</em><br>batch_size: 24<br>learning_rate: 0.0021501560083757557<br>max_dropout: 0.7506315062544177<br>max_units: 429<br>momentum: 0.4040708494866775<br>num_layers: 5<br>weight_decay: 0.04807698687889818<br>OpenML_task_id: 126025<br>epoch: 40",
          "<br><em>Parameterization:</em><br>batch_size: 24<br>learning_rate: 0.002150261903099546<br>max_dropout: 0.7506341548265736<br>max_units: 429<br>momentum: 0.4040833534063487<br>num_layers: 5<br>weight_decay: 0.04807719180990257<br>OpenML_task_id: 126025<br>epoch: 40",
          "<br><em>Parameterization:</em><br>batch_size: 24<br>learning_rate: 0.002150231131906646<br>max_dropout: 0.7506487382370854<br>max_units: 429<br>momentum: 0.40409886853365995<br>num_layers: 5<br>weight_decay: 0.04807721219370468<br>OpenML_task_id: 126025<br>epoch: 40",
          "<br><em>Parameterization:</em><br>batch_size: 24<br>learning_rate: 0.0021504548815173283<br>max_dropout: 0.7506475833140371<br>max_units: 429<br>momentum: 0.4041101002791697<br>num_layers: 5<br>weight_decay: 0.048077530396349294<br>OpenML_task_id: 126025<br>epoch: 40",
          "<br><em>Parameterization:</em><br>batch_size: 24<br>learning_rate: 0.0021506205437824178<br>max_dropout: 0.7506384675328263<br>max_units: 429<br>momentum: 0.40411759009684867<br>num_layers: 5<br>weight_decay: 0.048077791798390446<br>OpenML_task_id: 126025<br>epoch: 40",
          "<br><em>Parameterization:</em><br>batch_size: 24<br>learning_rate: 0.002150420114091269<br>max_dropout: 0.7506676986313725<br>max_units: 429<br>momentum: 0.40413084469988747<br>num_layers: 5<br>weight_decay: 0.048077679991243065<br>OpenML_task_id: 126025<br>epoch: 40",
          "<br><em>Parameterization:</em><br>batch_size: 24<br>learning_rate: 0.0021508002264584536<br>max_dropout: 0.750620804976418<br>max_units: 429<br>momentum: 0.4041322459251734<br>num_layers: 5<br>weight_decay: 0.04807751892969976<br>OpenML_task_id: 126025<br>epoch: 40",
          "<br><em>Parameterization:</em><br>batch_size: 24<br>learning_rate: 0.002151060726569977<br>max_dropout: 0.7505943326784692<br>max_units: 429<br>momentum: 0.4041412542293703<br>num_layers: 5<br>weight_decay: 0.04807754578118226<br>OpenML_task_id: 126025<br>epoch: 40",
          "<br><em>Parameterization:</em><br>batch_size: 24<br>learning_rate: 0.0021513477396569807<br>max_dropout: 0.7505710612213751<br>max_units: 429<br>momentum: 0.40414545019866865<br>num_layers: 5<br>weight_decay: 0.048077561539272645<br>OpenML_task_id: 126025<br>epoch: 40",
          "<br><em>Parameterization:</em><br>batch_size: 24<br>learning_rate: 0.002150824310322847<br>max_dropout: 0.7505834558460394<br>max_units: 429<br>momentum: 0.4041606719339612<br>num_layers: 5<br>weight_decay: 0.04807654927308975<br>OpenML_task_id: 126025<br>epoch: 40",
          "<br><em>Parameterization:</em><br>batch_size: 24<br>learning_rate: 0.002151654064952967<br>max_dropout: 0.7505562527875113<br>max_units: 428<br>momentum: 0.4041656484920556<br>num_layers: 5<br>weight_decay: 0.04807800001284909<br>OpenML_task_id: 126025<br>epoch: 40",
          "<br><em>Parameterization:</em><br>batch_size: 24<br>learning_rate: 0.002151666276903679<br>max_dropout: 0.7505484812576004<br>max_units: 428<br>momentum: 0.4041713857379715<br>num_layers: 5<br>weight_decay: 0.04807755405915517<br>OpenML_task_id: 126025<br>epoch: 40",
          "<br><em>Parameterization:</em><br>batch_size: 24<br>learning_rate: 0.0021517831237822175<br>max_dropout: 0.7505312208174385<br>max_units: 428<br>momentum: 0.4041776792291164<br>num_layers: 5<br>weight_decay: 0.048077357614832394<br>OpenML_task_id: 126025<br>epoch: 40",
          "<br><em>Parameterization:</em><br>batch_size: 24<br>learning_rate: 0.0021518847596990083<br>max_dropout: 0.7505161797003861<br>max_units: 428<br>momentum: 0.404183781038737<br>num_layers: 5<br>weight_decay: 0.04807735616182732<br>OpenML_task_id: 126025<br>epoch: 40",
          "<br><em>Parameterization:</em><br>batch_size: 24<br>learning_rate: 0.0021521309947843364<br>max_dropout: 0.7504829521453182<br>max_units: 428<br>momentum: 0.4041908421871947<br>num_layers: 5<br>weight_decay: 0.04807687996959109<br>OpenML_task_id: 126025<br>epoch: 40",
          "<br><em>Parameterization:</em><br>batch_size: 24<br>learning_rate: 0.002152246919473958<br>max_dropout: 0.750467422737762<br>max_units: 428<br>momentum: 0.40419395476513686<br>num_layers: 5<br>weight_decay: 0.048076844474918994<br>OpenML_task_id: 126025<br>epoch: 40",
          "<br><em>Parameterization:</em><br>batch_size: 24<br>learning_rate: 0.0021528175903470564<br>max_dropout: 0.7503910846915771<br>max_units: 428<br>momentum: 0.4041898569408696<br>num_layers: 5<br>weight_decay: 0.04807660682327714<br>OpenML_task_id: 126025<br>epoch: 40",
          "<br><em>Parameterization:</em><br>batch_size: 24<br>learning_rate: 0.0021527386254566365<br>max_dropout: 0.7504097319102904<br>max_units: 428<br>momentum: 0.40420104250866096<br>num_layers: 5<br>weight_decay: 0.04807657269725534<br>OpenML_task_id: 126025<br>epoch: 40",
          "<br><em>Parameterization:</em><br>batch_size: 24<br>learning_rate: 0.0021527909485970506<br>max_dropout: 0.7504338792718729<br>max_units: 428<br>momentum: 0.40421848841375685<br>num_layers: 5<br>weight_decay: 0.04807665112733367<br>OpenML_task_id: 126025<br>epoch: 40",
          "<br><em>Parameterization:</em><br>batch_size: 24<br>learning_rate: 0.0021531075456839785<br>max_dropout: 0.750377247720647<br>max_units: 428<br>momentum: 0.4042120504488629<br>num_layers: 5<br>weight_decay: 0.04807638616075576<br>OpenML_task_id: 126025<br>epoch: 40",
          "<br><em>Parameterization:</em><br>batch_size: 24<br>learning_rate: 0.0021529237078923764<br>max_dropout: 0.7504026656922332<br>max_units: 428<br>momentum: 0.40422446157154335<br>num_layers: 5<br>weight_decay: 0.04807639501837219<br>OpenML_task_id: 126025<br>epoch: 40",
          "<br><em>Parameterization:</em><br>batch_size: 24<br>learning_rate: 0.0021531344667884145<br>max_dropout: 0.7504125271381198<br>max_units: 428<br>momentum: 0.40424173291179955<br>num_layers: 5<br>weight_decay: 0.04807665482128922<br>OpenML_task_id: 126025<br>epoch: 40",
          "<br><em>Parameterization:</em><br>batch_size: 24<br>learning_rate: 0.0021530696740185463<br>max_dropout: 0.7504095509448566<br>max_units: 428<br>momentum: 0.40424406463131113<br>num_layers: 5<br>weight_decay: 0.04807636257349475<br>OpenML_task_id: 126025<br>epoch: 40",
          "<br><em>Parameterization:</em><br>batch_size: 24<br>learning_rate: 0.00215368938571724<br>max_dropout: 0.7503550300184209<br>max_units: 428<br>momentum: 0.40423796614161955<br>num_layers: 5<br>weight_decay: 0.0480763521832704<br>OpenML_task_id: 126025<br>epoch: 40",
          "<br><em>Parameterization:</em><br>batch_size: 24<br>learning_rate: 0.0021534065646939098<br>max_dropout: 0.7503696818234734<br>max_units: 428<br>momentum: 0.40425283894079<br>num_layers: 5<br>weight_decay: 0.04807589395717589<br>OpenML_task_id: 126025<br>epoch: 40",
          "<br><em>Parameterization:</em><br>batch_size: 24<br>learning_rate: 0.0021535228738263704<br>max_dropout: 0.7503966533136075<br>max_units: 428<br>momentum: 0.40426892988098384<br>num_layers: 5<br>weight_decay: 0.048076462668412326<br>OpenML_task_id: 126025<br>epoch: 40",
          "<br><em>Parameterization:</em><br>batch_size: 24<br>learning_rate: 0.0021535610978036866<br>max_dropout: 0.750372916141772<br>max_units: 428<br>momentum: 0.404273302036944<br>num_layers: 5<br>weight_decay: 0.04807582252201282<br>OpenML_task_id: 126025<br>epoch: 40",
          "<br><em>Parameterization:</em><br>batch_size: 24<br>learning_rate: 0.0021540489697004696<br>max_dropout: 0.7503313620399206<br>max_units: 428<br>momentum: 0.4042737895864469<br>num_layers: 5<br>weight_decay: 0.04807597104942218<br>OpenML_task_id: 126025<br>epoch: 40",
          "<br><em>Parameterization:</em><br>batch_size: 24<br>learning_rate: 0.0021541461218681727<br>max_dropout: 0.7503443894385722<br>max_units: 428<br>momentum: 0.4042857535022194<br>num_layers: 5<br>weight_decay: 0.04807621930374857<br>OpenML_task_id: 126025<br>epoch: 40",
          "<br><em>Parameterization:</em><br>batch_size: 24<br>learning_rate: 0.002153966647693291<br>max_dropout: 0.7503746194525532<br>max_units: 428<br>momentum: 0.40429828338095686<br>num_layers: 5<br>weight_decay: 0.048076164942409454<br>OpenML_task_id: 126025<br>epoch: 40",
          "<br><em>Parameterization:</em><br>batch_size: 24<br>learning_rate: 0.002154134693115521<br>max_dropout: 0.7503679996786917<br>max_units: 428<br>momentum: 0.4043053842713913<br>num_layers: 5<br>weight_decay: 0.04807607474676253<br>OpenML_task_id: 126025<br>epoch: 40",
          "<br><em>Parameterization:</em><br>batch_size: 24<br>learning_rate: 0.002128393579806425<br>max_dropout: 0.7529835025725796<br>max_units: 428<br>momentum: 0.4049787760017879<br>num_layers: 5<br>weight_decay: 0.048109830418011174<br>OpenML_task_id: 126025<br>epoch: 40",
          "<br><em>Parameterization:</em><br>batch_size: 24<br>learning_rate: 0.0021546400836186183<br>max_dropout: 0.7502680844143761<br>max_units: 428<br>momentum: 0.40429824663597935<br>num_layers: 5<br>weight_decay: 0.04807538991398022<br>OpenML_task_id: 126025<br>epoch: 40",
          "<br><em>Parameterization:</em><br>batch_size: 24<br>learning_rate: 0.0021541902335271063<br>max_dropout: 0.7503908475797129<br>max_units: 428<br>momentum: 0.40433044626564485<br>num_layers: 5<br>weight_decay: 0.04807616633862813<br>OpenML_task_id: 126025<br>epoch: 40",
          "<br><em>Parameterization:</em><br>batch_size: 24<br>learning_rate: 0.0021541500530894856<br>max_dropout: 0.7503427213388739<br>max_units: 428<br>momentum: 0.4043296491491608<br>num_layers: 5<br>weight_decay: 0.0480750562942508<br>OpenML_task_id: 126025<br>epoch: 40",
          "<br><em>Parameterization:</em><br>batch_size: 24<br>learning_rate: 0.0021544523592689183<br>max_dropout: 0.7503626932645859<br>max_units: 428<br>momentum: 0.40433865021528514<br>num_layers: 5<br>weight_decay: 0.04807580893721847<br>OpenML_task_id: 126025<br>epoch: 40",
          "<br><em>Parameterization:</em><br>batch_size: 24<br>learning_rate: 0.002154652167191054<br>max_dropout: 0.7503541716497681<br>max_units: 428<br>momentum: 0.40434126114546276<br>num_layers: 5<br>weight_decay: 0.04807588778500971<br>OpenML_task_id: 126025<br>epoch: 40",
          "<br><em>Parameterization:</em><br>batch_size: 24<br>learning_rate: 0.0021545310830635325<br>max_dropout: 0.7503629593304357<br>max_units: 428<br>momentum: 0.40435215237258637<br>num_layers: 5<br>weight_decay: 0.048075557155873895<br>OpenML_task_id: 126025<br>epoch: 40",
          "<br><em>Parameterization:</em><br>batch_size: 24<br>learning_rate: 0.002154595480959651<br>max_dropout: 0.7503840006525576<br>max_units: 428<br>momentum: 0.4043637272840659<br>num_layers: 5<br>weight_decay: 0.04807594824143892<br>OpenML_task_id: 126025<br>epoch: 40",
          "<br><em>Parameterization:</em><br>batch_size: 24<br>learning_rate: 0.002154566927397632<br>max_dropout: 0.7504095179779832<br>max_units: 428<br>momentum: 0.4043754262568756<br>num_layers: 5<br>weight_decay: 0.04807623855300645<br>OpenML_task_id: 126025<br>epoch: 40",
          "<br><em>Parameterization:</em><br>batch_size: 24<br>learning_rate: 0.0021551009454705357<br>max_dropout: 0.7503145286751685<br>max_units: 428<br>momentum: 0.4043603196200386<br>num_layers: 5<br>weight_decay: 0.04807541333921171<br>OpenML_task_id: 126025<br>epoch: 40",
          "<br><em>Parameterization:</em><br>batch_size: 24<br>learning_rate: 0.0021549583546054425<br>max_dropout: 0.7503734046824695<br>max_units: 428<br>momentum: 0.4043808494380079<br>num_layers: 5<br>weight_decay: 0.048075785537824614<br>OpenML_task_id: 126025<br>epoch: 40",
          "<br><em>Parameterization:</em><br>batch_size: 24<br>learning_rate: 0.0021552616413632263<br>max_dropout: 0.7503222141155897<br>max_units: 428<br>momentum: 0.4043769282134678<br>num_layers: 5<br>weight_decay: 0.04807554570482435<br>OpenML_task_id: 126025<br>epoch: 40",
          "<br><em>Parameterization:</em><br>batch_size: 24<br>learning_rate: 0.002154987356957884<br>max_dropout: 0.7503925827333937<br>max_units: 428<br>momentum: 0.40439797849474<br>num_layers: 5<br>weight_decay: 0.048076025242751<br>OpenML_task_id: 126025<br>epoch: 40",
          "<br><em>Parameterization:</em><br>batch_size: 24<br>learning_rate: 0.002154977476663253<br>max_dropout: 0.7504054633271607<br>max_units: 428<br>momentum: 0.4044038759501204<br>num_layers: 5<br>weight_decay: 0.04807632771260481<br>OpenML_task_id: 126025<br>epoch: 40",
          "<br><em>Parameterization:</em><br>batch_size: 24<br>learning_rate: 0.0021550809661192447<br>max_dropout: 0.7504209700138956<br>max_units: 428<br>momentum: 0.4044195155142559<br>num_layers: 5<br>weight_decay: 0.04807689007892666<br>OpenML_task_id: 126025<br>epoch: 40",
          "<br><em>Parameterization:</em><br>batch_size: 24<br>learning_rate: 0.0021556458282093933<br>max_dropout: 0.7503999065136713<br>max_units: 428<br>momentum: 0.4044178241001307<br>num_layers: 5<br>weight_decay: 0.04807664960526753<br>OpenML_task_id: 126025<br>epoch: 40",
          "<br><em>Parameterization:</em><br>batch_size: 24<br>learning_rate: 0.0021549207157048524<br>max_dropout: 0.7504450786983077<br>max_units: 428<br>momentum: 0.40443249474955767<br>num_layers: 5<br>weight_decay: 0.04807603391418852<br>OpenML_task_id: 126025<br>epoch: 40",
          "<br><em>Parameterization:</em><br>batch_size: 24<br>learning_rate: 0.0021550786937458793<br>max_dropout: 0.7504278560520536<br>max_units: 428<br>momentum: 0.40443310582322856<br>num_layers: 5<br>weight_decay: 0.04807574389920502<br>OpenML_task_id: 126025<br>epoch: 40",
          "<br><em>Parameterization:</em><br>batch_size: 24<br>learning_rate: 0.0021552462409638326<br>max_dropout: 0.7504208805486211<br>max_units: 428<br>momentum: 0.4044410555721675<br>num_layers: 5<br>weight_decay: 0.04807601569616769<br>OpenML_task_id: 126025<br>epoch: 40"
         ],
         "type": "scatter",
         "x": [
          1,
          2,
          3,
          4,
          5,
          6,
          7,
          8,
          9,
          10,
          11,
          12,
          13,
          14,
          15,
          16,
          17,
          18,
          19,
          20,
          21,
          22,
          23,
          24,
          25,
          26,
          27,
          28,
          29,
          30,
          31,
          32,
          33,
          34,
          35,
          36,
          37,
          38,
          39,
          40,
          41,
          42,
          43,
          44,
          45,
          46,
          47,
          48,
          49,
          50,
          51,
          52,
          53,
          54,
          55,
          56,
          57,
          58,
          59,
          60,
          61,
          62,
          63,
          64,
          65,
          66,
          67,
          68,
          69,
          70,
          71,
          72,
          73,
          74,
          75,
          76,
          77,
          78,
          79,
          80,
          81,
          82,
          83,
          84,
          85,
          86,
          87,
          88,
          89,
          90,
          91,
          92,
          93,
          94,
          95,
          96,
          97,
          98,
          99,
          100,
          101,
          102,
          103,
          104,
          105,
          106,
          107,
          108,
          109,
          110,
          111,
          112,
          113,
          114,
          115,
          116,
          117,
          118,
          119,
          120,
          121,
          122,
          123,
          124,
          125,
          126,
          127,
          128,
          129,
          130,
          131,
          132,
          133,
          134,
          135,
          136,
          137,
          138,
          139,
          140,
          141,
          142,
          143,
          144,
          145,
          146,
          147,
          148,
          149,
          150
         ],
         "y": [
          81.42070007324219,
          81.42070007324219,
          81.42070007324219,
          81.42070007324219,
          81.42070007324219,
          81.42070007324219,
          82.37166595458984,
          82.37166595458984,
          82.37166595458984,
          82.37166595458984,
          82.37166595458984,
          82.37166595458984,
          82.37166595458984,
          82.37166595458984,
          82.37166595458984,
          82.37166595458984,
          88.53082275390625,
          88.53082275390625,
          88.53082275390625,
          88.53082275390625,
          88.53082275390625,
          88.53082275390625,
          88.53082275390625,
          88.53082275390625,
          88.53082275390625,
          88.53082275390625,
          88.53082275390625,
          88.53082275390625,
          88.53082275390625,
          88.53082275390625,
          88.53082275390625,
          88.53082275390625,
          88.53082275390625,
          90.13447570800781,
          90.13447570800781,
          90.13447570800781,
          90.13447570800781,
          90.13447570800781,
          90.13447570800781,
          90.72331237792969,
          90.72331237792969,
          90.86809539794922,
          90.86809539794922,
          90.86809539794922,
          90.86809539794922,
          90.86809539794922,
          90.86809539794922,
          90.86809539794922,
          90.92288208007812,
          90.93119812011719,
          90.93744659423828,
          90.93849182128906,
          90.93883514404297,
          90.93883514404297,
          90.93883514404297,
          90.93883514404297,
          90.93883514404297,
          90.93883514404297,
          90.93883514404297,
          90.93883514404297,
          90.93917846679688,
          90.93917846679688,
          90.93917846679688,
          90.93917846679688,
          90.93917846679688,
          90.93917846679688,
          90.93917846679688,
          90.93917846679688,
          90.93952941894531,
          90.93988037109375,
          90.93988037109375,
          90.93988037109375,
          90.93988037109375,
          90.93988037109375,
          90.93988037109375,
          90.93988037109375,
          90.93988037109375,
          90.93988037109375,
          90.93988037109375,
          90.93988037109375,
          90.93988037109375,
          90.94022369384766,
          90.94022369384766,
          90.94022369384766,
          90.94022369384766,
          90.94022369384766,
          90.94022369384766,
          90.94022369384766,
          90.94022369384766,
          90.94022369384766,
          90.94022369384766,
          90.94022369384766,
          90.94022369384766,
          90.94022369384766,
          90.94022369384766,
          90.94022369384766,
          90.94022369384766,
          90.94022369384766,
          90.94022369384766,
          90.94022369384766,
          90.94022369384766,
          90.94022369384766,
          90.94022369384766,
          90.94022369384766,
          90.94022369384766,
          90.94022369384766,
          90.94022369384766,
          90.94022369384766,
          90.94022369384766,
          90.94022369384766,
          90.94022369384766,
          90.94022369384766,
          90.94022369384766,
          90.94022369384766,
          90.94022369384766,
          90.94022369384766,
          90.94022369384766,
          90.94022369384766,
          90.94022369384766,
          90.94022369384766,
          90.94022369384766,
          90.94022369384766,
          90.94022369384766,
          90.94022369384766,
          90.94022369384766,
          90.94022369384766,
          90.94022369384766,
          90.94022369384766,
          90.94022369384766,
          90.94022369384766,
          90.94022369384766,
          90.94022369384766,
          90.94022369384766,
          90.94022369384766,
          90.94022369384766,
          90.94022369384766,
          90.94022369384766,
          90.94022369384766,
          90.94022369384766,
          90.94022369384766,
          90.94022369384766,
          90.94022369384766,
          90.94022369384766,
          90.94022369384766,
          90.94022369384766,
          90.94022369384766,
          90.94022369384766,
          90.94022369384766,
          90.94022369384766,
          90.94022369384766
         ]
        },
        {
         "fill": "tonexty",
         "fillcolor": "rgba(128,177,211,0.3)",
         "hoverinfo": "none",
         "legendgroup": "",
         "line": {
          "width": 0
         },
         "mode": "lines",
         "showlegend": false,
         "type": "scatter",
         "x": [
          1,
          2,
          3,
          4,
          5,
          6,
          7,
          8,
          9,
          10,
          11,
          12,
          13,
          14,
          15,
          16,
          17,
          18,
          19,
          20,
          21,
          22,
          23,
          24,
          25,
          26,
          27,
          28,
          29,
          30,
          31,
          32,
          33,
          34,
          35,
          36,
          37,
          38,
          39,
          40,
          41,
          42,
          43,
          44,
          45,
          46,
          47,
          48,
          49,
          50,
          51,
          52,
          53,
          54,
          55,
          56,
          57,
          58,
          59,
          60,
          61,
          62,
          63,
          64,
          65,
          66,
          67,
          68,
          69,
          70,
          71,
          72,
          73,
          74,
          75,
          76,
          77,
          78,
          79,
          80,
          81,
          82,
          83,
          84,
          85,
          86,
          87,
          88,
          89,
          90,
          91,
          92,
          93,
          94,
          95,
          96,
          97,
          98,
          99,
          100,
          101,
          102,
          103,
          104,
          105,
          106,
          107,
          108,
          109,
          110,
          111,
          112,
          113,
          114,
          115,
          116,
          117,
          118,
          119,
          120,
          121,
          122,
          123,
          124,
          125,
          126,
          127,
          128,
          129,
          130,
          131,
          132,
          133,
          134,
          135,
          136,
          137,
          138,
          139,
          140,
          141,
          142,
          143,
          144,
          145,
          146,
          147,
          148,
          149,
          150
         ],
         "y": [
          81.42070007324219,
          81.42070007324219,
          81.42070007324219,
          81.42070007324219,
          81.42070007324219,
          81.42070007324219,
          82.37166595458984,
          82.37166595458984,
          82.37166595458984,
          82.37166595458984,
          82.37166595458984,
          82.37166595458984,
          82.37166595458984,
          82.37166595458984,
          82.37166595458984,
          82.37166595458984,
          88.53082275390625,
          88.53082275390625,
          88.53082275390625,
          88.53082275390625,
          88.53082275390625,
          88.53082275390625,
          88.53082275390625,
          88.53082275390625,
          88.53082275390625,
          88.53082275390625,
          88.53082275390625,
          88.53082275390625,
          88.53082275390625,
          88.53082275390625,
          88.53082275390625,
          88.53082275390625,
          88.53082275390625,
          90.13447570800781,
          90.13447570800781,
          90.13447570800781,
          90.13447570800781,
          90.13447570800781,
          90.13447570800781,
          90.72331237792969,
          90.72331237792969,
          90.86809539794922,
          90.86809539794922,
          90.86809539794922,
          90.86809539794922,
          90.86809539794922,
          90.86809539794922,
          90.86809539794922,
          90.92288208007812,
          90.93119812011719,
          90.93744659423828,
          90.93849182128906,
          90.93883514404297,
          90.93883514404297,
          90.93883514404297,
          90.93883514404297,
          90.93883514404297,
          90.93883514404297,
          90.93883514404297,
          90.93883514404297,
          90.93917846679688,
          90.93917846679688,
          90.93917846679688,
          90.93917846679688,
          90.93917846679688,
          90.93917846679688,
          90.93917846679688,
          90.93917846679688,
          90.93952941894531,
          90.93988037109375,
          90.93988037109375,
          90.93988037109375,
          90.93988037109375,
          90.93988037109375,
          90.93988037109375,
          90.93988037109375,
          90.93988037109375,
          90.93988037109375,
          90.93988037109375,
          90.93988037109375,
          90.93988037109375,
          90.94022369384766,
          90.94022369384766,
          90.94022369384766,
          90.94022369384766,
          90.94022369384766,
          90.94022369384766,
          90.94022369384766,
          90.94022369384766,
          90.94022369384766,
          90.94022369384766,
          90.94022369384766,
          90.94022369384766,
          90.94022369384766,
          90.94022369384766,
          90.94022369384766,
          90.94022369384766,
          90.94022369384766,
          90.94022369384766,
          90.94022369384766,
          90.94022369384766,
          90.94022369384766,
          90.94022369384766,
          90.94022369384766,
          90.94022369384766,
          90.94022369384766,
          90.94022369384766,
          90.94022369384766,
          90.94022369384766,
          90.94022369384766,
          90.94022369384766,
          90.94022369384766,
          90.94022369384766,
          90.94022369384766,
          90.94022369384766,
          90.94022369384766,
          90.94022369384766,
          90.94022369384766,
          90.94022369384766,
          90.94022369384766,
          90.94022369384766,
          90.94022369384766,
          90.94022369384766,
          90.94022369384766,
          90.94022369384766,
          90.94022369384766,
          90.94022369384766,
          90.94022369384766,
          90.94022369384766,
          90.94022369384766,
          90.94022369384766,
          90.94022369384766,
          90.94022369384766,
          90.94022369384766,
          90.94022369384766,
          90.94022369384766,
          90.94022369384766,
          90.94022369384766,
          90.94022369384766,
          90.94022369384766,
          90.94022369384766,
          90.94022369384766,
          90.94022369384766,
          90.94022369384766,
          90.94022369384766,
          90.94022369384766,
          90.94022369384766,
          90.94022369384766,
          90.94022369384766,
          90.94022369384766
         ]
        },
        {
         "line": {
          "color": "rgba(253,180,98,1)",
          "dash": "dash"
         },
         "mode": "lines",
         "name": "Optimum",
         "type": "scatter",
         "x": [
          1,
          150
         ],
         "y": [
          96.51996,
          96.51996
         ]
        },
        {
         "line": {
          "color": "rgba(141,211,199,1)",
          "dash": "dash"
         },
         "mode": "lines",
         "name": "model change",
         "type": "scatter",
         "x": [
          30,
          30
         ],
         "y": [
          81.42070007324219,
          96.51996
         ]
        }
       ],
       "layout": {
        "showlegend": true,
        "template": {
         "data": {
          "bar": [
           {
            "error_x": {
             "color": "#2a3f5f"
            },
            "error_y": {
             "color": "#2a3f5f"
            },
            "marker": {
             "line": {
              "color": "#E5ECF6",
              "width": 0.5
             },
             "pattern": {
              "fillmode": "overlay",
              "size": 10,
              "solidity": 0.2
             }
            },
            "type": "bar"
           }
          ],
          "barpolar": [
           {
            "marker": {
             "line": {
              "color": "#E5ECF6",
              "width": 0.5
             },
             "pattern": {
              "fillmode": "overlay",
              "size": 10,
              "solidity": 0.2
             }
            },
            "type": "barpolar"
           }
          ],
          "carpet": [
           {
            "aaxis": {
             "endlinecolor": "#2a3f5f",
             "gridcolor": "white",
             "linecolor": "white",
             "minorgridcolor": "white",
             "startlinecolor": "#2a3f5f"
            },
            "baxis": {
             "endlinecolor": "#2a3f5f",
             "gridcolor": "white",
             "linecolor": "white",
             "minorgridcolor": "white",
             "startlinecolor": "#2a3f5f"
            },
            "type": "carpet"
           }
          ],
          "choropleth": [
           {
            "colorbar": {
             "outlinewidth": 0,
             "ticks": ""
            },
            "type": "choropleth"
           }
          ],
          "contour": [
           {
            "colorbar": {
             "outlinewidth": 0,
             "ticks": ""
            },
            "colorscale": [
             [
              0,
              "#0d0887"
             ],
             [
              0.1111111111111111,
              "#46039f"
             ],
             [
              0.2222222222222222,
              "#7201a8"
             ],
             [
              0.3333333333333333,
              "#9c179e"
             ],
             [
              0.4444444444444444,
              "#bd3786"
             ],
             [
              0.5555555555555556,
              "#d8576b"
             ],
             [
              0.6666666666666666,
              "#ed7953"
             ],
             [
              0.7777777777777778,
              "#fb9f3a"
             ],
             [
              0.8888888888888888,
              "#fdca26"
             ],
             [
              1,
              "#f0f921"
             ]
            ],
            "type": "contour"
           }
          ],
          "contourcarpet": [
           {
            "colorbar": {
             "outlinewidth": 0,
             "ticks": ""
            },
            "type": "contourcarpet"
           }
          ],
          "heatmap": [
           {
            "colorbar": {
             "outlinewidth": 0,
             "ticks": ""
            },
            "colorscale": [
             [
              0,
              "#0d0887"
             ],
             [
              0.1111111111111111,
              "#46039f"
             ],
             [
              0.2222222222222222,
              "#7201a8"
             ],
             [
              0.3333333333333333,
              "#9c179e"
             ],
             [
              0.4444444444444444,
              "#bd3786"
             ],
             [
              0.5555555555555556,
              "#d8576b"
             ],
             [
              0.6666666666666666,
              "#ed7953"
             ],
             [
              0.7777777777777778,
              "#fb9f3a"
             ],
             [
              0.8888888888888888,
              "#fdca26"
             ],
             [
              1,
              "#f0f921"
             ]
            ],
            "type": "heatmap"
           }
          ],
          "heatmapgl": [
           {
            "colorbar": {
             "outlinewidth": 0,
             "ticks": ""
            },
            "colorscale": [
             [
              0,
              "#0d0887"
             ],
             [
              0.1111111111111111,
              "#46039f"
             ],
             [
              0.2222222222222222,
              "#7201a8"
             ],
             [
              0.3333333333333333,
              "#9c179e"
             ],
             [
              0.4444444444444444,
              "#bd3786"
             ],
             [
              0.5555555555555556,
              "#d8576b"
             ],
             [
              0.6666666666666666,
              "#ed7953"
             ],
             [
              0.7777777777777778,
              "#fb9f3a"
             ],
             [
              0.8888888888888888,
              "#fdca26"
             ],
             [
              1,
              "#f0f921"
             ]
            ],
            "type": "heatmapgl"
           }
          ],
          "histogram": [
           {
            "marker": {
             "pattern": {
              "fillmode": "overlay",
              "size": 10,
              "solidity": 0.2
             }
            },
            "type": "histogram"
           }
          ],
          "histogram2d": [
           {
            "colorbar": {
             "outlinewidth": 0,
             "ticks": ""
            },
            "colorscale": [
             [
              0,
              "#0d0887"
             ],
             [
              0.1111111111111111,
              "#46039f"
             ],
             [
              0.2222222222222222,
              "#7201a8"
             ],
             [
              0.3333333333333333,
              "#9c179e"
             ],
             [
              0.4444444444444444,
              "#bd3786"
             ],
             [
              0.5555555555555556,
              "#d8576b"
             ],
             [
              0.6666666666666666,
              "#ed7953"
             ],
             [
              0.7777777777777778,
              "#fb9f3a"
             ],
             [
              0.8888888888888888,
              "#fdca26"
             ],
             [
              1,
              "#f0f921"
             ]
            ],
            "type": "histogram2d"
           }
          ],
          "histogram2dcontour": [
           {
            "colorbar": {
             "outlinewidth": 0,
             "ticks": ""
            },
            "colorscale": [
             [
              0,
              "#0d0887"
             ],
             [
              0.1111111111111111,
              "#46039f"
             ],
             [
              0.2222222222222222,
              "#7201a8"
             ],
             [
              0.3333333333333333,
              "#9c179e"
             ],
             [
              0.4444444444444444,
              "#bd3786"
             ],
             [
              0.5555555555555556,
              "#d8576b"
             ],
             [
              0.6666666666666666,
              "#ed7953"
             ],
             [
              0.7777777777777778,
              "#fb9f3a"
             ],
             [
              0.8888888888888888,
              "#fdca26"
             ],
             [
              1,
              "#f0f921"
             ]
            ],
            "type": "histogram2dcontour"
           }
          ],
          "mesh3d": [
           {
            "colorbar": {
             "outlinewidth": 0,
             "ticks": ""
            },
            "type": "mesh3d"
           }
          ],
          "parcoords": [
           {
            "line": {
             "colorbar": {
              "outlinewidth": 0,
              "ticks": ""
             }
            },
            "type": "parcoords"
           }
          ],
          "pie": [
           {
            "automargin": true,
            "type": "pie"
           }
          ],
          "scatter": [
           {
            "fillpattern": {
             "fillmode": "overlay",
             "size": 10,
             "solidity": 0.2
            },
            "type": "scatter"
           }
          ],
          "scatter3d": [
           {
            "line": {
             "colorbar": {
              "outlinewidth": 0,
              "ticks": ""
             }
            },
            "marker": {
             "colorbar": {
              "outlinewidth": 0,
              "ticks": ""
             }
            },
            "type": "scatter3d"
           }
          ],
          "scattercarpet": [
           {
            "marker": {
             "colorbar": {
              "outlinewidth": 0,
              "ticks": ""
             }
            },
            "type": "scattercarpet"
           }
          ],
          "scattergeo": [
           {
            "marker": {
             "colorbar": {
              "outlinewidth": 0,
              "ticks": ""
             }
            },
            "type": "scattergeo"
           }
          ],
          "scattergl": [
           {
            "marker": {
             "colorbar": {
              "outlinewidth": 0,
              "ticks": ""
             }
            },
            "type": "scattergl"
           }
          ],
          "scattermapbox": [
           {
            "marker": {
             "colorbar": {
              "outlinewidth": 0,
              "ticks": ""
             }
            },
            "type": "scattermapbox"
           }
          ],
          "scatterpolar": [
           {
            "marker": {
             "colorbar": {
              "outlinewidth": 0,
              "ticks": ""
             }
            },
            "type": "scatterpolar"
           }
          ],
          "scatterpolargl": [
           {
            "marker": {
             "colorbar": {
              "outlinewidth": 0,
              "ticks": ""
             }
            },
            "type": "scatterpolargl"
           }
          ],
          "scatterternary": [
           {
            "marker": {
             "colorbar": {
              "outlinewidth": 0,
              "ticks": ""
             }
            },
            "type": "scatterternary"
           }
          ],
          "surface": [
           {
            "colorbar": {
             "outlinewidth": 0,
             "ticks": ""
            },
            "colorscale": [
             [
              0,
              "#0d0887"
             ],
             [
              0.1111111111111111,
              "#46039f"
             ],
             [
              0.2222222222222222,
              "#7201a8"
             ],
             [
              0.3333333333333333,
              "#9c179e"
             ],
             [
              0.4444444444444444,
              "#bd3786"
             ],
             [
              0.5555555555555556,
              "#d8576b"
             ],
             [
              0.6666666666666666,
              "#ed7953"
             ],
             [
              0.7777777777777778,
              "#fb9f3a"
             ],
             [
              0.8888888888888888,
              "#fdca26"
             ],
             [
              1,
              "#f0f921"
             ]
            ],
            "type": "surface"
           }
          ],
          "table": [
           {
            "cells": {
             "fill": {
              "color": "#EBF0F8"
             },
             "line": {
              "color": "white"
             }
            },
            "header": {
             "fill": {
              "color": "#C8D4E3"
             },
             "line": {
              "color": "white"
             }
            },
            "type": "table"
           }
          ]
         },
         "layout": {
          "annotationdefaults": {
           "arrowcolor": "#2a3f5f",
           "arrowhead": 0,
           "arrowwidth": 1
          },
          "autotypenumbers": "strict",
          "coloraxis": {
           "colorbar": {
            "outlinewidth": 0,
            "ticks": ""
           }
          },
          "colorscale": {
           "diverging": [
            [
             0,
             "#8e0152"
            ],
            [
             0.1,
             "#c51b7d"
            ],
            [
             0.2,
             "#de77ae"
            ],
            [
             0.3,
             "#f1b6da"
            ],
            [
             0.4,
             "#fde0ef"
            ],
            [
             0.5,
             "#f7f7f7"
            ],
            [
             0.6,
             "#e6f5d0"
            ],
            [
             0.7,
             "#b8e186"
            ],
            [
             0.8,
             "#7fbc41"
            ],
            [
             0.9,
             "#4d9221"
            ],
            [
             1,
             "#276419"
            ]
           ],
           "sequential": [
            [
             0,
             "#0d0887"
            ],
            [
             0.1111111111111111,
             "#46039f"
            ],
            [
             0.2222222222222222,
             "#7201a8"
            ],
            [
             0.3333333333333333,
             "#9c179e"
            ],
            [
             0.4444444444444444,
             "#bd3786"
            ],
            [
             0.5555555555555556,
             "#d8576b"
            ],
            [
             0.6666666666666666,
             "#ed7953"
            ],
            [
             0.7777777777777778,
             "#fb9f3a"
            ],
            [
             0.8888888888888888,
             "#fdca26"
            ],
            [
             1,
             "#f0f921"
            ]
           ],
           "sequentialminus": [
            [
             0,
             "#0d0887"
            ],
            [
             0.1111111111111111,
             "#46039f"
            ],
            [
             0.2222222222222222,
             "#7201a8"
            ],
            [
             0.3333333333333333,
             "#9c179e"
            ],
            [
             0.4444444444444444,
             "#bd3786"
            ],
            [
             0.5555555555555556,
             "#d8576b"
            ],
            [
             0.6666666666666666,
             "#ed7953"
            ],
            [
             0.7777777777777778,
             "#fb9f3a"
            ],
            [
             0.8888888888888888,
             "#fdca26"
            ],
            [
             1,
             "#f0f921"
            ]
           ]
          },
          "colorway": [
           "#636efa",
           "#EF553B",
           "#00cc96",
           "#ab63fa",
           "#FFA15A",
           "#19d3f3",
           "#FF6692",
           "#B6E880",
           "#FF97FF",
           "#FECB52"
          ],
          "font": {
           "color": "#2a3f5f"
          },
          "geo": {
           "bgcolor": "white",
           "lakecolor": "white",
           "landcolor": "#E5ECF6",
           "showlakes": true,
           "showland": true,
           "subunitcolor": "white"
          },
          "hoverlabel": {
           "align": "left"
          },
          "hovermode": "closest",
          "mapbox": {
           "style": "light"
          },
          "paper_bgcolor": "white",
          "plot_bgcolor": "#E5ECF6",
          "polar": {
           "angularaxis": {
            "gridcolor": "white",
            "linecolor": "white",
            "ticks": ""
           },
           "bgcolor": "#E5ECF6",
           "radialaxis": {
            "gridcolor": "white",
            "linecolor": "white",
            "ticks": ""
           }
          },
          "scene": {
           "xaxis": {
            "backgroundcolor": "#E5ECF6",
            "gridcolor": "white",
            "gridwidth": 2,
            "linecolor": "white",
            "showbackground": true,
            "ticks": "",
            "zerolinecolor": "white"
           },
           "yaxis": {
            "backgroundcolor": "#E5ECF6",
            "gridcolor": "white",
            "gridwidth": 2,
            "linecolor": "white",
            "showbackground": true,
            "ticks": "",
            "zerolinecolor": "white"
           },
           "zaxis": {
            "backgroundcolor": "#E5ECF6",
            "gridcolor": "white",
            "gridwidth": 2,
            "linecolor": "white",
            "showbackground": true,
            "ticks": "",
            "zerolinecolor": "white"
           }
          },
          "shapedefaults": {
           "line": {
            "color": "#2a3f5f"
           }
          },
          "ternary": {
           "aaxis": {
            "gridcolor": "white",
            "linecolor": "white",
            "ticks": ""
           },
           "baxis": {
            "gridcolor": "white",
            "linecolor": "white",
            "ticks": ""
           },
           "bgcolor": "#E5ECF6",
           "caxis": {
            "gridcolor": "white",
            "linecolor": "white",
            "ticks": ""
           }
          },
          "title": {
           "x": 0.05
          },
          "xaxis": {
           "automargin": true,
           "gridcolor": "white",
           "linecolor": "white",
           "ticks": "",
           "title": {
            "standoff": 15
           },
           "zerolinecolor": "white",
           "zerolinewidth": 2
          },
          "yaxis": {
           "automargin": true,
           "gridcolor": "white",
           "linecolor": "white",
           "ticks": "",
           "title": {
            "standoff": 15
           },
           "zerolinecolor": "white",
           "zerolinewidth": 2
          }
         }
        },
        "title": {
         "text": "Model performance vs. # of iterations"
        },
        "xaxis": {
         "title": {
          "text": "Iteration"
         }
        },
        "yaxis": {
         "title": {
          "text": "Accuracy"
         }
        }
       }
      },
      "text/html": [
       "<div>                            <div id=\"00724959-7d58-4b1a-b328-2928c52e3226\" class=\"plotly-graph-div\" style=\"height:525px; width:100%;\"></div>            <script type=\"text/javascript\">                require([\"plotly\"], function(Plotly) {                    window.PLOTLYENV=window.PLOTLYENV || {};                                    if (document.getElementById(\"00724959-7d58-4b1a-b328-2928c52e3226\")) {                    Plotly.newPlot(                        \"00724959-7d58-4b1a-b328-2928c52e3226\",                        [{\"hoverinfo\":\"none\",\"legendgroup\":\"\",\"line\":{\"width\":0},\"mode\":\"lines\",\"showlegend\":false,\"x\":[1,2,3,4,5,6,7,8,9,10,11,12,13,14,15,16,17,18,19,20,21,22,23,24,25,26,27,28,29,30,31,32,33,34,35,36,37,38,39,40,41,42,43,44,45,46,47,48,49,50,51,52,53,54,55,56,57,58,59,60,61,62,63,64,65,66,67,68,69,70,71,72,73,74,75,76,77,78,79,80,81,82,83,84,85,86,87,88,89,90,91,92,93,94,95,96,97,98,99,100,101,102,103,104,105,106,107,108,109,110,111,112,113,114,115,116,117,118,119,120,121,122,123,124,125,126,127,128,129,130,131,132,133,134,135,136,137,138,139,140,141,142,143,144,145,146,147,148,149,150],\"y\":[81.42070007324219,81.42070007324219,81.42070007324219,81.42070007324219,81.42070007324219,81.42070007324219,82.37166595458984,82.37166595458984,82.37166595458984,82.37166595458984,82.37166595458984,82.37166595458984,82.37166595458984,82.37166595458984,82.37166595458984,82.37166595458984,88.53082275390625,88.53082275390625,88.53082275390625,88.53082275390625,88.53082275390625,88.53082275390625,88.53082275390625,88.53082275390625,88.53082275390625,88.53082275390625,88.53082275390625,88.53082275390625,88.53082275390625,88.53082275390625,88.53082275390625,88.53082275390625,88.53082275390625,90.13447570800781,90.13447570800781,90.13447570800781,90.13447570800781,90.13447570800781,90.13447570800781,90.72331237792969,90.72331237792969,90.86809539794922,90.86809539794922,90.86809539794922,90.86809539794922,90.86809539794922,90.86809539794922,90.86809539794922,90.92288208007812,90.93119812011719,90.93744659423828,90.93849182128906,90.93883514404297,90.93883514404297,90.93883514404297,90.93883514404297,90.93883514404297,90.93883514404297,90.93883514404297,90.93883514404297,90.93917846679688,90.93917846679688,90.93917846679688,90.93917846679688,90.93917846679688,90.93917846679688,90.93917846679688,90.93917846679688,90.93952941894531,90.93988037109375,90.93988037109375,90.93988037109375,90.93988037109375,90.93988037109375,90.93988037109375,90.93988037109375,90.93988037109375,90.93988037109375,90.93988037109375,90.93988037109375,90.93988037109375,90.94022369384766,90.94022369384766,90.94022369384766,90.94022369384766,90.94022369384766,90.94022369384766,90.94022369384766,90.94022369384766,90.94022369384766,90.94022369384766,90.94022369384766,90.94022369384766,90.94022369384766,90.94022369384766,90.94022369384766,90.94022369384766,90.94022369384766,90.94022369384766,90.94022369384766,90.94022369384766,90.94022369384766,90.94022369384766,90.94022369384766,90.94022369384766,90.94022369384766,90.94022369384766,90.94022369384766,90.94022369384766,90.94022369384766,90.94022369384766,90.94022369384766,90.94022369384766,90.94022369384766,90.94022369384766,90.94022369384766,90.94022369384766,90.94022369384766,90.94022369384766,90.94022369384766,90.94022369384766,90.94022369384766,90.94022369384766,90.94022369384766,90.94022369384766,90.94022369384766,90.94022369384766,90.94022369384766,90.94022369384766,90.94022369384766,90.94022369384766,90.94022369384766,90.94022369384766,90.94022369384766,90.94022369384766,90.94022369384766,90.94022369384766,90.94022369384766,90.94022369384766,90.94022369384766,90.94022369384766,90.94022369384766,90.94022369384766,90.94022369384766,90.94022369384766,90.94022369384766,90.94022369384766,90.94022369384766,90.94022369384766,90.94022369384766],\"type\":\"scatter\"},{\"fill\":\"tonexty\",\"fillcolor\":\"rgba(128,177,211,0.3)\",\"legendgroup\":\"objective value\",\"line\":{\"color\":\"rgba(128,177,211,1)\"},\"mode\":\"lines\",\"name\":\"objective value\",\"text\":[\"<br><em>Parameterization:</em><br>batch_size: 16<br>learning_rate: 0.06166293061775217<br>max_dropout: 0.8156781196594238<br>max_units: 140<br>momentum: 0.7115514594316482<br>num_layers: 5<br>weight_decay: 0.06124025789260865<br>OpenML_task_id: 126025<br>epoch: 40\",\"<br><em>Parameterization:</em><br>batch_size: 17<br>learning_rate: 0.027670241575842386<br>max_dropout: 0.9342233398929238<br>max_units: 715<br>momentum: 0.9266803433187306<br>num_layers: 5<br>weight_decay: 0.0964568042995315<br>OpenML_task_id: 126025<br>epoch: 40\",\"<br><em>Parameterization:</em><br>batch_size: 18<br>learning_rate: 0.044658206673375174<br>max_dropout: 0.7230146946385503<br>max_units: 231<br>momentum: 0.26060243531130256<br>num_layers: 1<br>weight_decay: 0.0509008115273621<br>OpenML_task_id: 126025<br>epoch: 40\",\"<br><em>Parameterization:</em><br>batch_size: 23<br>learning_rate: 0.004046754088474709<br>max_dropout: 0.15494268015027046<br>max_units: 279<br>momentum: 0.9326398601941764<br>num_layers: 4<br>weight_decay: 0.03513625840447844<br>OpenML_task_id: 126025<br>epoch: 40\",\"<br><em>Parameterization:</em><br>batch_size: 189<br>learning_rate: 0.006228791333506736<br>max_dropout: 0.1334050428122282<br>max_units: 108<br>momentum: 0.6769650658406318<br>num_layers: 3<br>weight_decay: 0.015565868422891945<br>OpenML_task_id: 126025<br>epoch: 40\",\"<br><em>Parameterization:</em><br>batch_size: 290<br>learning_rate: 0.000255449889055381<br>max_dropout: 0.7758385371416807<br>max_units: 632<br>momentum: 0.8665205310564488<br>num_layers: 2<br>weight_decay: 0.049346934049837296<br>OpenML_task_id: 126025<br>epoch: 40\",\"<br><em>Parameterization:</em><br>batch_size: 117<br>learning_rate: 0.03736909241787284<br>max_dropout: 0.3576414119452238<br>max_units: 440<br>momentum: 0.8760885859001428<br>num_layers: 5<br>weight_decay: 0.03836021645300091<br>OpenML_task_id: 126025<br>epoch: 40\",\"<br><em>Parameterization:</em><br>batch_size: 45<br>learning_rate: 0.002261888442649254<br>max_dropout: 0.4039627853780985<br>max_units: 209<br>momentum: 0.4512015123199672<br>num_layers: 3<br>weight_decay: 0.04224765853082762<br>OpenML_task_id: 126025<br>epoch: 40\",\"<br><em>Parameterization:</em><br>batch_size: 458<br>learning_rate: 0.028627151173588515<br>max_dropout: 0.27738136798143387<br>max_units: 504<br>momentum: 0.9640636077616364<br>num_layers: 5<br>weight_decay: 0.057030019376399003<br>OpenML_task_id: 126025<br>epoch: 40\",\"<br><em>Parameterization:</em><br>batch_size: 42<br>learning_rate: 0.0010787865275414484<br>max_dropout: 0.6395396934822202<br>max_units: 107<br>momentum: 0.7242485766857862<br>num_layers: 3<br>weight_decay: 0.040818138550510634<br>OpenML_task_id: 126025<br>epoch: 40\",\"<br><em>Parameterization:</em><br>batch_size: 192<br>learning_rate: 0.0010005522409467897<br>max_dropout: 0.13863021228462458<br>max_units: 839<br>momentum: 0.3769837307371199<br>num_layers: 4<br>weight_decay: 0.02221972199995071<br>OpenML_task_id: 126025<br>epoch: 40\",\"<br><em>Parameterization:</em><br>batch_size: 36<br>learning_rate: 0.005149360393326176<br>max_dropout: 0.7375839604064822<br>max_units: 599<br>momentum: 0.5563449816592038<br>num_layers: 2<br>weight_decay: 0.04386914661829361<br>OpenML_task_id: 126025<br>epoch: 40\",\"<br><em>Parameterization:</em><br>batch_size: 232<br>learning_rate: 0.00354057924508717<br>max_dropout: 0.44679256714880466<br>max_units: 79<br>momentum: 0.2670969036594033<br>num_layers: 1<br>weight_decay: 0.09506926097629592<br>OpenML_task_id: 126025<br>epoch: 40\",\"<br><em>Parameterization:</em><br>batch_size: 444<br>learning_rate: 0.02153138320266914<br>max_dropout: 0.22848243080079556<br>max_units: 109<br>momentum: 0.6505956292524934<br>num_layers: 4<br>weight_decay: 0.013620868340339513<br>OpenML_task_id: 126025<br>epoch: 40\",\"<br><em>Parameterization:</em><br>batch_size: 206<br>learning_rate: 0.0004324966557965138<br>max_dropout: 0.2180766873061657<br>max_units: 596<br>momentum: 0.9056505785416812<br>num_layers: 4<br>weight_decay: 0.09801831441293471<br>OpenML_task_id: 126025<br>epoch: 40\",\"<br><em>Parameterization:</em><br>batch_size: 31<br>learning_rate: 0.028740462175670677<br>max_dropout: 0.21318682748824358<br>max_units: 94<br>momentum: 0.4985669584944844<br>num_layers: 4<br>weight_decay: 0.02881324261828326<br>OpenML_task_id: 126025<br>epoch: 40\",\"<br><em>Parameterization:</em><br>batch_size: 24<br>learning_rate: 0.00197566528925665<br>max_dropout: 0.8947193380445242<br>max_units: 871<br>momentum: 0.3706673938781023<br>num_layers: 5<br>weight_decay: 0.05099000766328537<br>OpenML_task_id: 126025<br>epoch: 40\",\"<br><em>Parameterization:</em><br>batch_size: 24<br>learning_rate: 0.0001088886493377124<br>max_dropout: 0.6417787140235305<br>max_units: 678<br>momentum: 0.8234007027558983<br>num_layers: 2<br>weight_decay: 0.00591229200463742<br>OpenML_task_id: 126025<br>epoch: 40\",\"<br><em>Parameterization:</em><br>batch_size: 50<br>learning_rate: 0.011006622317991184<br>max_dropout: 0.8080605063587427<br>max_units: 992<br>momentum: 0.307500459458679<br>num_layers: 3<br>weight_decay: 0.01076190688234754<br>OpenML_task_id: 126025<br>epoch: 40\",\"<br><em>Parameterization:</em><br>batch_size: 22<br>learning_rate: 0.003943256758164384<br>max_dropout: 0.8543748334050179<br>max_units: 330<br>momentum: 0.8027041896712035<br>num_layers: 5<br>weight_decay: 0.006402820931440219<br>OpenML_task_id: 126025<br>epoch: 40\",\"<br><em>Parameterization:</em><br>batch_size: 220<br>learning_rate: 0.02787434443322111<br>max_dropout: 0.7601313553750515<br>max_units: 135<br>momentum: 0.546200435338542<br>num_layers: 2<br>weight_decay: 0.02126857393231243<br>OpenML_task_id: 126025<br>epoch: 40\",\"<br><em>Parameterization:</em><br>batch_size: 50<br>learning_rate: 0.0318329085629155<br>max_dropout: 0.2509444234892726<br>max_units: 137<br>momentum: 0.7806134108267725<br>num_layers: 3<br>weight_decay: 0.06029977947942913<br>OpenML_task_id: 126025<br>epoch: 40\",\"<br><em>Parameterization:</em><br>batch_size: 22<br>learning_rate: 0.000509098132450588<br>max_dropout: 0.12988824211061<br>max_units: 881<br>momentum: 0.9560664416104555<br>num_layers: 4<br>weight_decay: 0.05457977377567441<br>OpenML_task_id: 126025<br>epoch: 40\",\"<br><em>Parameterization:</em><br>batch_size: 75<br>learning_rate: 0.0004373800647625979<br>max_dropout: 0.5434945896267891<br>max_units: 67<br>momentum: 0.2166041042190045<br>num_layers: 5<br>weight_decay: 0.08287490939395503<br>OpenML_task_id: 126025<br>epoch: 40\",\"<br><em>Parameterization:</em><br>batch_size: 45<br>learning_rate: 0.00014444614490534776<br>max_dropout: 0.5696947714313865<br>max_units: 409<br>momentum: 0.9519096992537379<br>num_layers: 3<br>weight_decay: 0.041098997350325815<br>OpenML_task_id: 126025<br>epoch: 40\",\"<br><em>Parameterization:</em><br>batch_size: 157<br>learning_rate: 0.010006319694356842<br>max_dropout: 0.26096391677856445<br>max_units: 124<br>momentum: 0.955377430068329<br>num_layers: 3<br>weight_decay: 0.017974045547312127<br>OpenML_task_id: 126025<br>epoch: 40\",\"<br><em>Parameterization:</em><br>batch_size: 36<br>learning_rate: 0.04279324825528184<br>max_dropout: 0.17632109858095646<br>max_units: 336<br>momentum: 0.951193544473499<br>num_layers: 2<br>weight_decay: 0.07222047802225687<br>OpenML_task_id: 126025<br>epoch: 40\",\"<br><em>Parameterization:</em><br>batch_size: 176<br>learning_rate: 0.005526502684973249<br>max_dropout: 0.7899551270529628<br>max_units: 104<br>momentum: 0.7165375670883805<br>num_layers: 1<br>weight_decay: 0.0571003915472515<br>OpenML_task_id: 126025<br>epoch: 40\",\"<br><em>Parameterization:</em><br>batch_size: 43<br>learning_rate: 0.036963857174052386<br>max_dropout: 0.9397298814728856<br>max_units: 814<br>momentum: 0.33393794851377606<br>num_layers: 3<br>weight_decay: 0.04429392590407283<br>OpenML_task_id: 126025<br>epoch: 40\",\"<br><em>Parameterization:</em><br>batch_size: 409<br>learning_rate: 0.0011800107351362383<br>max_dropout: 0.36225475184619427<br>max_units: 686<br>momentum: 0.3331530964002013<br>num_layers: 5<br>weight_decay: 0.0167440948344674<br>OpenML_task_id: 126025<br>epoch: 40\",\"<br><em>Parameterization:</em><br>batch_size: 24<br>learning_rate: 0.0010762399721801566<br>max_dropout: 0.9413259210795671<br>max_units: 1024<br>momentum: 0.3288663665856745<br>num_layers: 5<br>weight_decay: 0.007809543060723765<br>OpenML_task_id: 126025<br>epoch: 40\",\"<br><em>Parameterization:</em><br>batch_size: 42<br>learning_rate: 0.048138747013404225<br>max_dropout: 0.9029354802464336<br>max_units: 685<br>momentum: 0.46900302637179414<br>num_layers: 5<br>weight_decay: 0.04935067125843738<br>OpenML_task_id: 126025<br>epoch: 40\",\"<br><em>Parameterization:</em><br>batch_size: 25<br>learning_rate: 0.0005454583850562514<br>max_dropout: 1.0<br>max_units: 521<br>momentum: 0.2531820366580736<br>num_layers: 5<br>weight_decay: 0.05125122252223625<br>OpenML_task_id: 126025<br>epoch: 40\",\"<br><em>Parameterization:</em><br>batch_size: 29<br>learning_rate: 0.0019253527307730787<br>max_dropout: 0.8784987209109272<br>max_units: 650<br>momentum: 0.4020834021616404<br>num_layers: 5<br>weight_decay: 0.05102510451600239<br>OpenML_task_id: 126025<br>epoch: 40\",\"<br><em>Parameterization:</em><br>batch_size: 36<br>learning_rate: 0.0006842999063320977<br>max_dropout: 0.93757495619957<br>max_units: 167<br>momentum: 0.5167322894152118<br>num_layers: 5<br>weight_decay: 0.049502409585570346<br>OpenML_task_id: 126025<br>epoch: 40\",\"<br><em>Parameterization:</em><br>batch_size: 17<br>learning_rate: 0.0026230998993014704<br>max_dropout: 0.6404757168252974<br>max_units: 547<br>momentum: 0.34187695580894556<br>num_layers: 5<br>weight_decay: 0.05304787310490118<br>OpenML_task_id: 126025<br>epoch: 40\",\"<br><em>Parameterization:</em><br>batch_size: 332<br>learning_rate: 0.0027040727034298995<br>max_dropout: 0.6659506097826591<br>max_units: 455<br>momentum: 0.38282267286675087<br>num_layers: 5<br>weight_decay: 0.05456178310881435<br>OpenML_task_id: 126025<br>epoch: 40\",\"<br><em>Parameterization:</em><br>batch_size: 19<br>learning_rate: 0.0030493939724354473<br>max_dropout: 0.17639277850539864<br>max_units: 916<br>momentum: 0.39426812819008406<br>num_layers: 5<br>weight_decay: 0.05272827835213777<br>OpenML_task_id: 126025<br>epoch: 40\",\"<br><em>Parameterization:</em><br>batch_size: 19<br>learning_rate: 0.0032299279689659488<br>max_dropout: 0.7888645294872011<br>max_units: 919<br>momentum: 0.36941468265800637<br>num_layers: 5<br>weight_decay: 0.052210783426607274<br>OpenML_task_id: 126025<br>epoch: 40\",\"<br><em>Parameterization:</em><br>batch_size: 22<br>learning_rate: 0.0020574475979799403<br>max_dropout: 0.7709400306489592<br>max_units: 400<br>momentum: 0.4471134313326861<br>num_layers: 5<br>weight_decay: 0.04958074079887214<br>OpenML_task_id: 126025<br>epoch: 40\",\"<br><em>Parameterization:</em><br>batch_size: 27<br>learning_rate: 0.0022996771116918736<br>max_dropout: 0.8524341350417451<br>max_units: 409<br>momentum: 0.45021487176493813<br>num_layers: 5<br>weight_decay: 0.05233289412848602<br>OpenML_task_id: 126025<br>epoch: 40\",\"<br><em>Parameterization:</em><br>batch_size: 25<br>learning_rate: 0.0020890283378050788<br>max_dropout: 0.735355179366445<br>max_units: 423<br>momentum: 0.43925575532095773<br>num_layers: 5<br>weight_decay: 0.04772435635671798<br>OpenML_task_id: 126025<br>epoch: 40\",\"<br><em>Parameterization:</em><br>batch_size: 26<br>learning_rate: 0.0019594190245124598<br>max_dropout: 0.7177417047824243<br>max_units: 431<br>momentum: 0.43582411091662654<br>num_layers: 5<br>weight_decay: 0.04788208723349096<br>OpenML_task_id: 126025<br>epoch: 40\",\"<br><em>Parameterization:</em><br>batch_size: 21<br>learning_rate: 0.0015901583577064011<br>max_dropout: 0.9711693986634354<br>max_units: 449<br>momentum: 0.39673853555158933<br>num_layers: 5<br>weight_decay: 0.047721999450599434<br>OpenML_task_id: 126025<br>epoch: 40\",\"<br><em>Parameterization:</em><br>batch_size: 24<br>learning_rate: 0.0033933249416248455<br>max_dropout: 0.6496485151426376<br>max_units: 448<br>momentum: 0.5225472578787412<br>num_layers: 5<br>weight_decay: 0.048681684160190995<br>OpenML_task_id: 126025<br>epoch: 40\",\"<br><em>Parameterization:</em><br>batch_size: 25<br>learning_rate: 0.0014093064298913859<br>max_dropout: 0.6357339979050924<br>max_units: 450<br>momentum: 0.3959553236522868<br>num_layers: 5<br>weight_decay: 0.04968969926840255<br>OpenML_task_id: 126025<br>epoch: 40\",\"<br><em>Parameterization:</em><br>batch_size: 28<br>learning_rate: 0.0021578594265435564<br>max_dropout: 0.7127538234168603<br>max_units: 423<br>momentum: 0.40319127654127573<br>num_layers: 5<br>weight_decay: 0.04840730658291189<br>OpenML_task_id: 126025<br>epoch: 40\",\"<br><em>Parameterization:</em><br>batch_size: 28<br>learning_rate: 0.0019719896598457396<br>max_dropout: 0.7211177782017193<br>max_units: 436<br>momentum: 0.40934599758167434<br>num_layers: 5<br>weight_decay: 0.04844023066538652<br>OpenML_task_id: 126025<br>epoch: 40\",\"<br><em>Parameterization:</em><br>batch_size: 24<br>learning_rate: 0.0024062048962597096<br>max_dropout: 0.7462946972116106<br>max_units: 428<br>momentum: 0.38821049937888563<br>num_layers: 5<br>weight_decay: 0.04814290662851582<br>OpenML_task_id: 126025<br>epoch: 40\",\"<br><em>Parameterization:</em><br>batch_size: 25<br>learning_rate: 0.002044532817564046<br>max_dropout: 0.7650897739250332<br>max_units: 445<br>momentum: 0.40460727414162734<br>num_layers: 5<br>weight_decay: 0.048061134250772804<br>OpenML_task_id: 126025<br>epoch: 40\",\"<br><em>Parameterization:</em><br>batch_size: 24<br>learning_rate: 0.002161536917493317<br>max_dropout: 0.7512868699567462<br>max_units: 426<br>momentum: 0.40382175160842937<br>num_layers: 5<br>weight_decay: 0.048118303624419545<br>OpenML_task_id: 126025<br>epoch: 40\",\"<br><em>Parameterization:</em><br>batch_size: 24<br>learning_rate: 0.002154069702819158<br>max_dropout: 0.7525625405873673<br>max_units: 429<br>momentum: 0.4039919499682353<br>num_layers: 5<br>weight_decay: 0.0481094740261707<br>OpenML_task_id: 126025<br>epoch: 40\",\"<br><em>Parameterization:</em><br>batch_size: 24<br>learning_rate: 0.0021500760845175057<br>max_dropout: 0.7532188246755928<br>max_units: 429<br>momentum: 0.40408077736652714<br>num_layers: 5<br>weight_decay: 0.048107589056032615<br>OpenML_task_id: 126025<br>epoch: 40\",\"<br><em>Parameterization:</em><br>batch_size: 24<br>learning_rate: 0.0021484498376276987<br>max_dropout: 0.7534335545059379<br>max_units: 430<br>momentum: 0.40409152239357216<br>num_layers: 5<br>weight_decay: 0.048105398289188174<br>OpenML_task_id: 126025<br>epoch: 40\",\"<br><em>Parameterization:</em><br>batch_size: 25<br>learning_rate: 0.002146997833527173<br>max_dropout: 0.7536246207325176<br>max_units: 430<br>momentum: 0.4041019180226776<br>num_layers: 5<br>weight_decay: 0.04810424067606302<br>OpenML_task_id: 126025<br>epoch: 40\",\"<br><em>Parameterization:</em><br>batch_size: 24<br>learning_rate: 0.0021516844951398376<br>max_dropout: 0.751450141712784<br>max_units: 430<br>momentum: 0.4041067889933484<br>num_layers: 5<br>weight_decay: 0.04810058104326109<br>OpenML_task_id: 126025<br>epoch: 40\",\"<br><em>Parameterization:</em><br>batch_size: 24<br>learning_rate: 0.0021504956125899255<br>max_dropout: 0.7515463298428586<br>max_units: 430<br>momentum: 0.40409645392652627<br>num_layers: 5<br>weight_decay: 0.04809851935717058<br>OpenML_task_id: 126025<br>epoch: 40\",\"<br><em>Parameterization:</em><br>batch_size: 24<br>learning_rate: 0.0021495693834480676<br>max_dropout: 0.7516488561504263<br>max_units: 430<br>momentum: 0.4040925795838083<br>num_layers: 5<br>weight_decay: 0.0480970846752558<br>OpenML_task_id: 126025<br>epoch: 40\",\"<br><em>Parameterization:</em><br>batch_size: 24<br>learning_rate: 0.00214861878261777<br>max_dropout: 0.7517169075501173<br>max_units: 430<br>momentum: 0.40408324692160813<br>num_layers: 5<br>weight_decay: 0.048095779162918746<br>OpenML_task_id: 126025<br>epoch: 40\",\"<br><em>Parameterization:</em><br>batch_size: 24<br>learning_rate: 0.002147959289353655<br>max_dropout: 0.7517706649314418<br>max_units: 430<br>momentum: 0.40408009738750594<br>num_layers: 5<br>weight_decay: 0.048094727045195136<br>OpenML_task_id: 126025<br>epoch: 40\",\"<br><em>Parameterization:</em><br>batch_size: 24<br>learning_rate: 0.0021476379272720226<br>max_dropout: 0.7517696512007599<br>max_units: 430<br>momentum: 0.4040638350994814<br>num_layers: 5<br>weight_decay: 0.04809368532132747<br>OpenML_task_id: 126025<br>epoch: 40\",\"<br><em>Parameterization:</em><br>batch_size: 24<br>learning_rate: 0.0021465778733828424<br>max_dropout: 0.7518888133869336<br>max_units: 431<br>momentum: 0.4040757053058256<br>num_layers: 5<br>weight_decay: 0.04809313952380775<br>OpenML_task_id: 126025<br>epoch: 40\",\"<br><em>Parameterization:</em><br>batch_size: 24<br>learning_rate: 0.0021462359918518695<br>max_dropout: 0.7519042263475095<br>max_units: 431<br>momentum: 0.4040719181266703<br>num_layers: 5<br>weight_decay: 0.04809222733266054<br>OpenML_task_id: 126025<br>epoch: 40\",\"<br><em>Parameterization:</em><br>batch_size: 24<br>learning_rate: 0.0021461000711035763<br>max_dropout: 0.7518785187279541<br>max_units: 431<br>momentum: 0.4040574045482893<br>num_layers: 5<br>weight_decay: 0.04809121188178146<br>OpenML_task_id: 126025<br>epoch: 40\",\"<br><em>Parameterization:</em><br>batch_size: 24<br>learning_rate: 0.0021460686881692496<br>max_dropout: 0.7518242841681142<br>max_units: 431<br>momentum: 0.40404045991029447<br>num_layers: 5<br>weight_decay: 0.048090199567411174<br>OpenML_task_id: 126025<br>epoch: 40\",\"<br><em>Parameterization:</em><br>batch_size: 24<br>learning_rate: 0.0021457761942241015<br>max_dropout: 0.751812787657313<br>max_units: 431<br>momentum: 0.40403378301700676<br>num_layers: 5<br>weight_decay: 0.04808944695875166<br>OpenML_task_id: 126025<br>epoch: 40\",\"<br><em>Parameterization:</em><br>batch_size: 24<br>learning_rate: 0.002145390436808647<br>max_dropout: 0.7518689915475226<br>max_units: 431<br>momentum: 0.40404358173820876<br>num_layers: 5<br>weight_decay: 0.048088941503300495<br>OpenML_task_id: 126025<br>epoch: 40\",\"<br><em>Parameterization:</em><br>batch_size: 24<br>learning_rate: 0.002145317390997383<br>max_dropout: 0.7518353886141818<br>max_units: 431<br>momentum: 0.40403393017992495<br>num_layers: 5<br>weight_decay: 0.04808811326448077<br>OpenML_task_id: 126025<br>epoch: 40\",\"<br><em>Parameterization:</em><br>batch_size: 24<br>learning_rate: 0.0021453011335389777<br>max_dropout: 0.7517960717803365<br>max_units: 431<br>momentum: 0.40402255080510907<br>num_layers: 5<br>weight_decay: 0.048087210907616966<br>OpenML_task_id: 126025<br>epoch: 40\",\"<br><em>Parameterization:</em><br>batch_size: 24<br>learning_rate: 0.002144797426113334<br>max_dropout: 0.7518597246732692<br>max_units: 431<br>momentum: 0.40403722292245414<br>num_layers: 5<br>weight_decay: 0.04808716858803874<br>OpenML_task_id: 126025<br>epoch: 40\",\"<br><em>Parameterization:</em><br>batch_size: 24<br>learning_rate: 0.0021449105945789194<br>max_dropout: 0.751807944387106<br>max_units: 431<br>momentum: 0.4040294562448089<br>num_layers: 5<br>weight_decay: 0.04808652983949359<br>OpenML_task_id: 126025<br>epoch: 40\",\"<br><em>Parameterization:</em><br>batch_size: 24<br>learning_rate: 0.0021448912750637733<br>max_dropout: 0.7517645470416074<br>max_units: 431<br>momentum: 0.4040226079193642<br>num_layers: 5<br>weight_decay: 0.04808549492903311<br>OpenML_task_id: 126025<br>epoch: 40\",\"<br><em>Parameterization:</em><br>batch_size: 24<br>learning_rate: 0.0021451311505497187<br>max_dropout: 0.7517181564152707<br>max_units: 431<br>momentum: 0.40401943297690235<br>num_layers: 5<br>weight_decay: 0.04808529011938471<br>OpenML_task_id: 126025<br>epoch: 40\",\"<br><em>Parameterization:</em><br>batch_size: 24<br>learning_rate: 0.00214450535487099<br>max_dropout: 0.7517899810685512<br>max_units: 431<br>momentum: 0.4040351882365816<br>num_layers: 5<br>weight_decay: 0.04808516289428695<br>OpenML_task_id: 126025<br>epoch: 40\",\"<br><em>Parameterization:</em><br>batch_size: 24<br>learning_rate: 0.002144804840468617<br>max_dropout: 0.7516987128169038<br>max_units: 431<br>momentum: 0.4040210546875562<br>num_layers: 5<br>weight_decay: 0.048084207708362234<br>OpenML_task_id: 126025<br>epoch: 40\",\"<br><em>Parameterization:</em><br>batch_size: 24<br>learning_rate: 0.0021450370254681617<br>max_dropout: 0.7516330562794561<br>max_units: 431<br>momentum: 0.4040146334421364<br>num_layers: 5<br>weight_decay: 0.04808345063534992<br>OpenML_task_id: 126025<br>epoch: 40\",\"<br><em>Parameterization:</em><br>batch_size: 24<br>learning_rate: 0.0021450493985660842<br>max_dropout: 0.7516161630027365<br>max_units: 431<br>momentum: 0.4040186392986814<br>num_layers: 5<br>weight_decay: 0.04808300623495287<br>OpenML_task_id: 126025<br>epoch: 40\",\"<br><em>Parameterization:</em><br>batch_size: 24<br>learning_rate: 0.0021448721743731643<br>max_dropout: 0.75162113960366<br>max_units: 431<br>momentum: 0.40402422837210117<br>num_layers: 5<br>weight_decay: 0.0480826775070882<br>OpenML_task_id: 126025<br>epoch: 40\",\"<br><em>Parameterization:</em><br>batch_size: 24<br>learning_rate: 0.0021450412428927006<br>max_dropout: 0.7515772591738598<br>max_units: 431<br>momentum: 0.4040225728652651<br>num_layers: 5<br>weight_decay: 0.04808228442270121<br>OpenML_task_id: 126025<br>epoch: 40\",\"<br><em>Parameterization:</em><br>batch_size: 24<br>learning_rate: 0.002145167327917907<br>max_dropout: 0.7515317170702154<br>max_units: 431<br>momentum: 0.40402477085497024<br>num_layers: 5<br>weight_decay: 0.04808199696874301<br>OpenML_task_id: 126025<br>epoch: 40\",\"<br><em>Parameterization:</em><br>batch_size: 24<br>learning_rate: 0.0021451686833533824<br>max_dropout: 0.7515621641350195<br>max_units: 431<br>momentum: 0.4040374533714054<br>num_layers: 5<br>weight_decay: 0.04808224669834721<br>OpenML_task_id: 126025<br>epoch: 40\",\"<br><em>Parameterization:</em><br>batch_size: 24<br>learning_rate: 0.0021455465359799743<br>max_dropout: 0.7514890165480792<br>max_units: 430<br>momentum: 0.40403312285441684<br>num_layers: 5<br>weight_decay: 0.04808166285576443<br>OpenML_task_id: 126025<br>epoch: 40\",\"<br><em>Parameterization:</em><br>batch_size: 24<br>learning_rate: 0.0021455622190368526<br>max_dropout: 0.7514537740097396<br>max_units: 430<br>momentum: 0.40403580268367145<br>num_layers: 5<br>weight_decay: 0.04808128776102472<br>OpenML_task_id: 126025<br>epoch: 40\",\"<br><em>Parameterization:</em><br>batch_size: 24<br>learning_rate: 0.002145747570783871<br>max_dropout: 0.751399427888408<br>max_units: 430<br>momentum: 0.4040305867926174<br>num_layers: 5<br>weight_decay: 0.0480807829955942<br>OpenML_task_id: 126025<br>epoch: 40\",\"<br><em>Parameterization:</em><br>batch_size: 24<br>learning_rate: 0.0021460018524754837<br>max_dropout: 0.7513514639482269<br>max_units: 430<br>momentum: 0.40403403999539744<br>num_layers: 5<br>weight_decay: 0.0480805083838158<br>OpenML_task_id: 126025<br>epoch: 40\",\"<br><em>Parameterization:</em><br>batch_size: 24<br>learning_rate: 0.002145669508826237<br>max_dropout: 0.7513853531245926<br>max_units: 430<br>momentum: 0.4040520538028952<br>num_layers: 5<br>weight_decay: 0.04808067831756123<br>OpenML_task_id: 126025<br>epoch: 40\",\"<br><em>Parameterization:</em><br>batch_size: 24<br>learning_rate: 0.0021461724515436324<br>max_dropout: 0.7513044081834686<br>max_units: 430<br>momentum: 0.40404545752520105<br>num_layers: 5<br>weight_decay: 0.04808009587883695<br>OpenML_task_id: 126025<br>epoch: 40\",\"<br><em>Parameterization:</em><br>batch_size: 24<br>learning_rate: 0.0021467880850103574<br>max_dropout: 0.7511933377693771<br>max_units: 430<br>momentum: 0.40403563056911673<br>num_layers: 5<br>weight_decay: 0.04807945913325972<br>OpenML_task_id: 126025<br>epoch: 40\",\"<br><em>Parameterization:</em><br>batch_size: 24<br>learning_rate: 0.0021468180985513854<br>max_dropout: 0.7511746935270367<br>max_units: 430<br>momentum: 0.40403894345709723<br>num_layers: 5<br>weight_decay: 0.04807929091533578<br>OpenML_task_id: 126025<br>epoch: 40\",\"<br><em>Parameterization:</em><br>batch_size: 24<br>learning_rate: 0.0021471898175455376<br>max_dropout: 0.7511176438880943<br>max_units: 430<br>momentum: 0.40404108596151644<br>num_layers: 5<br>weight_decay: 0.04807911410435918<br>OpenML_task_id: 126025<br>epoch: 40\",\"<br><em>Parameterization:</em><br>batch_size: 24<br>learning_rate: 0.00214723052743956<br>max_dropout: 0.751137246922838<br>max_units: 430<br>momentum: 0.4040554816663122<br>num_layers: 5<br>weight_decay: 0.04807932827409446<br>OpenML_task_id: 126025<br>epoch: 40\",\"<br><em>Parameterization:</em><br>batch_size: 24<br>learning_rate: 0.0021474461680874315<br>max_dropout: 0.7510986072411243<br>max_units: 430<br>momentum: 0.4040602905688536<br>num_layers: 5<br>weight_decay: 0.0480792296698638<br>OpenML_task_id: 126025<br>epoch: 40\",\"<br><em>Parameterization:</em><br>batch_size: 24<br>learning_rate: 0.002148286290872346<br>max_dropout: 0.7509257822591374<br>max_units: 430<br>momentum: 0.40404339108569753<br>num_layers: 5<br>weight_decay: 0.04807878057623515<br>OpenML_task_id: 126025<br>epoch: 40\",\"<br><em>Parameterization:</em><br>batch_size: 24<br>learning_rate: 0.0021478978515469373<br>max_dropout: 0.7510228312140952<br>max_units: 430<br>momentum: 0.40406886435150824<br>num_layers: 5<br>weight_decay: 0.04807885067812773<br>OpenML_task_id: 126025<br>epoch: 40\",\"<br><em>Parameterization:</em><br>batch_size: 24<br>learning_rate: 0.0021481033173816047<br>max_dropout: 0.7509914760781148<br>max_units: 429<br>momentum: 0.4040723892671163<br>num_layers: 5<br>weight_decay: 0.048078698382609475<br>OpenML_task_id: 126025<br>epoch: 40\",\"<br><em>Parameterization:</em><br>batch_size: 24<br>learning_rate: 0.002148422768172659<br>max_dropout: 0.7509650651079085<br>max_units: 429<br>momentum: 0.4040743886569993<br>num_layers: 5<br>weight_decay: 0.04807885976157725<br>OpenML_task_id: 126025<br>epoch: 40\",\"<br><em>Parameterization:</em><br>batch_size: 24<br>learning_rate: 0.0021487386005749807<br>max_dropout: 0.7508927476443339<br>max_units: 429<br>momentum: 0.40407739836214085<br>num_layers: 5<br>weight_decay: 0.04807834273962369<br>OpenML_task_id: 126025<br>epoch: 40\",\"<br><em>Parameterization:</em><br>batch_size: 24<br>learning_rate: 0.002148883072303417<br>max_dropout: 0.7508603509363462<br>max_units: 429<br>momentum: 0.4040848430531029<br>num_layers: 5<br>weight_decay: 0.04807781900839752<br>OpenML_task_id: 126025<br>epoch: 40\",\"<br><em>Parameterization:</em><br>batch_size: 24<br>learning_rate: 0.002149214046900989<br>max_dropout: 0.7508086465117557<br>max_units: 429<br>momentum: 0.4040842106155119<br>num_layers: 5<br>weight_decay: 0.048078003689457936<br>OpenML_task_id: 126025<br>epoch: 40\",\"<br><em>Parameterization:</em><br>batch_size: 24<br>learning_rate: 0.002149276437107866<br>max_dropout: 0.7507762633857151<br>max_units: 429<br>momentum: 0.4040871219460366<br>num_layers: 5<br>weight_decay: 0.0480774331393836<br>OpenML_task_id: 126025<br>epoch: 40\",\"<br><em>Parameterization:</em><br>batch_size: 24<br>learning_rate: 0.0021501560083757557<br>max_dropout: 0.7506315062544177<br>max_units: 429<br>momentum: 0.4040708494866775<br>num_layers: 5<br>weight_decay: 0.04807698687889818<br>OpenML_task_id: 126025<br>epoch: 40\",\"<br><em>Parameterization:</em><br>batch_size: 24<br>learning_rate: 0.002150261903099546<br>max_dropout: 0.7506341548265736<br>max_units: 429<br>momentum: 0.4040833534063487<br>num_layers: 5<br>weight_decay: 0.04807719180990257<br>OpenML_task_id: 126025<br>epoch: 40\",\"<br><em>Parameterization:</em><br>batch_size: 24<br>learning_rate: 0.002150231131906646<br>max_dropout: 0.7506487382370854<br>max_units: 429<br>momentum: 0.40409886853365995<br>num_layers: 5<br>weight_decay: 0.04807721219370468<br>OpenML_task_id: 126025<br>epoch: 40\",\"<br><em>Parameterization:</em><br>batch_size: 24<br>learning_rate: 0.0021504548815173283<br>max_dropout: 0.7506475833140371<br>max_units: 429<br>momentum: 0.4041101002791697<br>num_layers: 5<br>weight_decay: 0.048077530396349294<br>OpenML_task_id: 126025<br>epoch: 40\",\"<br><em>Parameterization:</em><br>batch_size: 24<br>learning_rate: 0.0021506205437824178<br>max_dropout: 0.7506384675328263<br>max_units: 429<br>momentum: 0.40411759009684867<br>num_layers: 5<br>weight_decay: 0.048077791798390446<br>OpenML_task_id: 126025<br>epoch: 40\",\"<br><em>Parameterization:</em><br>batch_size: 24<br>learning_rate: 0.002150420114091269<br>max_dropout: 0.7506676986313725<br>max_units: 429<br>momentum: 0.40413084469988747<br>num_layers: 5<br>weight_decay: 0.048077679991243065<br>OpenML_task_id: 126025<br>epoch: 40\",\"<br><em>Parameterization:</em><br>batch_size: 24<br>learning_rate: 0.0021508002264584536<br>max_dropout: 0.750620804976418<br>max_units: 429<br>momentum: 0.4041322459251734<br>num_layers: 5<br>weight_decay: 0.04807751892969976<br>OpenML_task_id: 126025<br>epoch: 40\",\"<br><em>Parameterization:</em><br>batch_size: 24<br>learning_rate: 0.002151060726569977<br>max_dropout: 0.7505943326784692<br>max_units: 429<br>momentum: 0.4041412542293703<br>num_layers: 5<br>weight_decay: 0.04807754578118226<br>OpenML_task_id: 126025<br>epoch: 40\",\"<br><em>Parameterization:</em><br>batch_size: 24<br>learning_rate: 0.0021513477396569807<br>max_dropout: 0.7505710612213751<br>max_units: 429<br>momentum: 0.40414545019866865<br>num_layers: 5<br>weight_decay: 0.048077561539272645<br>OpenML_task_id: 126025<br>epoch: 40\",\"<br><em>Parameterization:</em><br>batch_size: 24<br>learning_rate: 0.002150824310322847<br>max_dropout: 0.7505834558460394<br>max_units: 429<br>momentum: 0.4041606719339612<br>num_layers: 5<br>weight_decay: 0.04807654927308975<br>OpenML_task_id: 126025<br>epoch: 40\",\"<br><em>Parameterization:</em><br>batch_size: 24<br>learning_rate: 0.002151654064952967<br>max_dropout: 0.7505562527875113<br>max_units: 428<br>momentum: 0.4041656484920556<br>num_layers: 5<br>weight_decay: 0.04807800001284909<br>OpenML_task_id: 126025<br>epoch: 40\",\"<br><em>Parameterization:</em><br>batch_size: 24<br>learning_rate: 0.002151666276903679<br>max_dropout: 0.7505484812576004<br>max_units: 428<br>momentum: 0.4041713857379715<br>num_layers: 5<br>weight_decay: 0.04807755405915517<br>OpenML_task_id: 126025<br>epoch: 40\",\"<br><em>Parameterization:</em><br>batch_size: 24<br>learning_rate: 0.0021517831237822175<br>max_dropout: 0.7505312208174385<br>max_units: 428<br>momentum: 0.4041776792291164<br>num_layers: 5<br>weight_decay: 0.048077357614832394<br>OpenML_task_id: 126025<br>epoch: 40\",\"<br><em>Parameterization:</em><br>batch_size: 24<br>learning_rate: 0.0021518847596990083<br>max_dropout: 0.7505161797003861<br>max_units: 428<br>momentum: 0.404183781038737<br>num_layers: 5<br>weight_decay: 0.04807735616182732<br>OpenML_task_id: 126025<br>epoch: 40\",\"<br><em>Parameterization:</em><br>batch_size: 24<br>learning_rate: 0.0021521309947843364<br>max_dropout: 0.7504829521453182<br>max_units: 428<br>momentum: 0.4041908421871947<br>num_layers: 5<br>weight_decay: 0.04807687996959109<br>OpenML_task_id: 126025<br>epoch: 40\",\"<br><em>Parameterization:</em><br>batch_size: 24<br>learning_rate: 0.002152246919473958<br>max_dropout: 0.750467422737762<br>max_units: 428<br>momentum: 0.40419395476513686<br>num_layers: 5<br>weight_decay: 0.048076844474918994<br>OpenML_task_id: 126025<br>epoch: 40\",\"<br><em>Parameterization:</em><br>batch_size: 24<br>learning_rate: 0.0021528175903470564<br>max_dropout: 0.7503910846915771<br>max_units: 428<br>momentum: 0.4041898569408696<br>num_layers: 5<br>weight_decay: 0.04807660682327714<br>OpenML_task_id: 126025<br>epoch: 40\",\"<br><em>Parameterization:</em><br>batch_size: 24<br>learning_rate: 0.0021527386254566365<br>max_dropout: 0.7504097319102904<br>max_units: 428<br>momentum: 0.40420104250866096<br>num_layers: 5<br>weight_decay: 0.04807657269725534<br>OpenML_task_id: 126025<br>epoch: 40\",\"<br><em>Parameterization:</em><br>batch_size: 24<br>learning_rate: 0.0021527909485970506<br>max_dropout: 0.7504338792718729<br>max_units: 428<br>momentum: 0.40421848841375685<br>num_layers: 5<br>weight_decay: 0.04807665112733367<br>OpenML_task_id: 126025<br>epoch: 40\",\"<br><em>Parameterization:</em><br>batch_size: 24<br>learning_rate: 0.0021531075456839785<br>max_dropout: 0.750377247720647<br>max_units: 428<br>momentum: 0.4042120504488629<br>num_layers: 5<br>weight_decay: 0.04807638616075576<br>OpenML_task_id: 126025<br>epoch: 40\",\"<br><em>Parameterization:</em><br>batch_size: 24<br>learning_rate: 0.0021529237078923764<br>max_dropout: 0.7504026656922332<br>max_units: 428<br>momentum: 0.40422446157154335<br>num_layers: 5<br>weight_decay: 0.04807639501837219<br>OpenML_task_id: 126025<br>epoch: 40\",\"<br><em>Parameterization:</em><br>batch_size: 24<br>learning_rate: 0.0021531344667884145<br>max_dropout: 0.7504125271381198<br>max_units: 428<br>momentum: 0.40424173291179955<br>num_layers: 5<br>weight_decay: 0.04807665482128922<br>OpenML_task_id: 126025<br>epoch: 40\",\"<br><em>Parameterization:</em><br>batch_size: 24<br>learning_rate: 0.0021530696740185463<br>max_dropout: 0.7504095509448566<br>max_units: 428<br>momentum: 0.40424406463131113<br>num_layers: 5<br>weight_decay: 0.04807636257349475<br>OpenML_task_id: 126025<br>epoch: 40\",\"<br><em>Parameterization:</em><br>batch_size: 24<br>learning_rate: 0.00215368938571724<br>max_dropout: 0.7503550300184209<br>max_units: 428<br>momentum: 0.40423796614161955<br>num_layers: 5<br>weight_decay: 0.0480763521832704<br>OpenML_task_id: 126025<br>epoch: 40\",\"<br><em>Parameterization:</em><br>batch_size: 24<br>learning_rate: 0.0021534065646939098<br>max_dropout: 0.7503696818234734<br>max_units: 428<br>momentum: 0.40425283894079<br>num_layers: 5<br>weight_decay: 0.04807589395717589<br>OpenML_task_id: 126025<br>epoch: 40\",\"<br><em>Parameterization:</em><br>batch_size: 24<br>learning_rate: 0.0021535228738263704<br>max_dropout: 0.7503966533136075<br>max_units: 428<br>momentum: 0.40426892988098384<br>num_layers: 5<br>weight_decay: 0.048076462668412326<br>OpenML_task_id: 126025<br>epoch: 40\",\"<br><em>Parameterization:</em><br>batch_size: 24<br>learning_rate: 0.0021535610978036866<br>max_dropout: 0.750372916141772<br>max_units: 428<br>momentum: 0.404273302036944<br>num_layers: 5<br>weight_decay: 0.04807582252201282<br>OpenML_task_id: 126025<br>epoch: 40\",\"<br><em>Parameterization:</em><br>batch_size: 24<br>learning_rate: 0.0021540489697004696<br>max_dropout: 0.7503313620399206<br>max_units: 428<br>momentum: 0.4042737895864469<br>num_layers: 5<br>weight_decay: 0.04807597104942218<br>OpenML_task_id: 126025<br>epoch: 40\",\"<br><em>Parameterization:</em><br>batch_size: 24<br>learning_rate: 0.0021541461218681727<br>max_dropout: 0.7503443894385722<br>max_units: 428<br>momentum: 0.4042857535022194<br>num_layers: 5<br>weight_decay: 0.04807621930374857<br>OpenML_task_id: 126025<br>epoch: 40\",\"<br><em>Parameterization:</em><br>batch_size: 24<br>learning_rate: 0.002153966647693291<br>max_dropout: 0.7503746194525532<br>max_units: 428<br>momentum: 0.40429828338095686<br>num_layers: 5<br>weight_decay: 0.048076164942409454<br>OpenML_task_id: 126025<br>epoch: 40\",\"<br><em>Parameterization:</em><br>batch_size: 24<br>learning_rate: 0.002154134693115521<br>max_dropout: 0.7503679996786917<br>max_units: 428<br>momentum: 0.4043053842713913<br>num_layers: 5<br>weight_decay: 0.04807607474676253<br>OpenML_task_id: 126025<br>epoch: 40\",\"<br><em>Parameterization:</em><br>batch_size: 24<br>learning_rate: 0.002128393579806425<br>max_dropout: 0.7529835025725796<br>max_units: 428<br>momentum: 0.4049787760017879<br>num_layers: 5<br>weight_decay: 0.048109830418011174<br>OpenML_task_id: 126025<br>epoch: 40\",\"<br><em>Parameterization:</em><br>batch_size: 24<br>learning_rate: 0.0021546400836186183<br>max_dropout: 0.7502680844143761<br>max_units: 428<br>momentum: 0.40429824663597935<br>num_layers: 5<br>weight_decay: 0.04807538991398022<br>OpenML_task_id: 126025<br>epoch: 40\",\"<br><em>Parameterization:</em><br>batch_size: 24<br>learning_rate: 0.0021541902335271063<br>max_dropout: 0.7503908475797129<br>max_units: 428<br>momentum: 0.40433044626564485<br>num_layers: 5<br>weight_decay: 0.04807616633862813<br>OpenML_task_id: 126025<br>epoch: 40\",\"<br><em>Parameterization:</em><br>batch_size: 24<br>learning_rate: 0.0021541500530894856<br>max_dropout: 0.7503427213388739<br>max_units: 428<br>momentum: 0.4043296491491608<br>num_layers: 5<br>weight_decay: 0.0480750562942508<br>OpenML_task_id: 126025<br>epoch: 40\",\"<br><em>Parameterization:</em><br>batch_size: 24<br>learning_rate: 0.0021544523592689183<br>max_dropout: 0.7503626932645859<br>max_units: 428<br>momentum: 0.40433865021528514<br>num_layers: 5<br>weight_decay: 0.04807580893721847<br>OpenML_task_id: 126025<br>epoch: 40\",\"<br><em>Parameterization:</em><br>batch_size: 24<br>learning_rate: 0.002154652167191054<br>max_dropout: 0.7503541716497681<br>max_units: 428<br>momentum: 0.40434126114546276<br>num_layers: 5<br>weight_decay: 0.04807588778500971<br>OpenML_task_id: 126025<br>epoch: 40\",\"<br><em>Parameterization:</em><br>batch_size: 24<br>learning_rate: 0.0021545310830635325<br>max_dropout: 0.7503629593304357<br>max_units: 428<br>momentum: 0.40435215237258637<br>num_layers: 5<br>weight_decay: 0.048075557155873895<br>OpenML_task_id: 126025<br>epoch: 40\",\"<br><em>Parameterization:</em><br>batch_size: 24<br>learning_rate: 0.002154595480959651<br>max_dropout: 0.7503840006525576<br>max_units: 428<br>momentum: 0.4043637272840659<br>num_layers: 5<br>weight_decay: 0.04807594824143892<br>OpenML_task_id: 126025<br>epoch: 40\",\"<br><em>Parameterization:</em><br>batch_size: 24<br>learning_rate: 0.002154566927397632<br>max_dropout: 0.7504095179779832<br>max_units: 428<br>momentum: 0.4043754262568756<br>num_layers: 5<br>weight_decay: 0.04807623855300645<br>OpenML_task_id: 126025<br>epoch: 40\",\"<br><em>Parameterization:</em><br>batch_size: 24<br>learning_rate: 0.0021551009454705357<br>max_dropout: 0.7503145286751685<br>max_units: 428<br>momentum: 0.4043603196200386<br>num_layers: 5<br>weight_decay: 0.04807541333921171<br>OpenML_task_id: 126025<br>epoch: 40\",\"<br><em>Parameterization:</em><br>batch_size: 24<br>learning_rate: 0.0021549583546054425<br>max_dropout: 0.7503734046824695<br>max_units: 428<br>momentum: 0.4043808494380079<br>num_layers: 5<br>weight_decay: 0.048075785537824614<br>OpenML_task_id: 126025<br>epoch: 40\",\"<br><em>Parameterization:</em><br>batch_size: 24<br>learning_rate: 0.0021552616413632263<br>max_dropout: 0.7503222141155897<br>max_units: 428<br>momentum: 0.4043769282134678<br>num_layers: 5<br>weight_decay: 0.04807554570482435<br>OpenML_task_id: 126025<br>epoch: 40\",\"<br><em>Parameterization:</em><br>batch_size: 24<br>learning_rate: 0.002154987356957884<br>max_dropout: 0.7503925827333937<br>max_units: 428<br>momentum: 0.40439797849474<br>num_layers: 5<br>weight_decay: 0.048076025242751<br>OpenML_task_id: 126025<br>epoch: 40\",\"<br><em>Parameterization:</em><br>batch_size: 24<br>learning_rate: 0.002154977476663253<br>max_dropout: 0.7504054633271607<br>max_units: 428<br>momentum: 0.4044038759501204<br>num_layers: 5<br>weight_decay: 0.04807632771260481<br>OpenML_task_id: 126025<br>epoch: 40\",\"<br><em>Parameterization:</em><br>batch_size: 24<br>learning_rate: 0.0021550809661192447<br>max_dropout: 0.7504209700138956<br>max_units: 428<br>momentum: 0.4044195155142559<br>num_layers: 5<br>weight_decay: 0.04807689007892666<br>OpenML_task_id: 126025<br>epoch: 40\",\"<br><em>Parameterization:</em><br>batch_size: 24<br>learning_rate: 0.0021556458282093933<br>max_dropout: 0.7503999065136713<br>max_units: 428<br>momentum: 0.4044178241001307<br>num_layers: 5<br>weight_decay: 0.04807664960526753<br>OpenML_task_id: 126025<br>epoch: 40\",\"<br><em>Parameterization:</em><br>batch_size: 24<br>learning_rate: 0.0021549207157048524<br>max_dropout: 0.7504450786983077<br>max_units: 428<br>momentum: 0.40443249474955767<br>num_layers: 5<br>weight_decay: 0.04807603391418852<br>OpenML_task_id: 126025<br>epoch: 40\",\"<br><em>Parameterization:</em><br>batch_size: 24<br>learning_rate: 0.0021550786937458793<br>max_dropout: 0.7504278560520536<br>max_units: 428<br>momentum: 0.40443310582322856<br>num_layers: 5<br>weight_decay: 0.04807574389920502<br>OpenML_task_id: 126025<br>epoch: 40\",\"<br><em>Parameterization:</em><br>batch_size: 24<br>learning_rate: 0.0021552462409638326<br>max_dropout: 0.7504208805486211<br>max_units: 428<br>momentum: 0.4044410555721675<br>num_layers: 5<br>weight_decay: 0.04807601569616769<br>OpenML_task_id: 126025<br>epoch: 40\"],\"x\":[1,2,3,4,5,6,7,8,9,10,11,12,13,14,15,16,17,18,19,20,21,22,23,24,25,26,27,28,29,30,31,32,33,34,35,36,37,38,39,40,41,42,43,44,45,46,47,48,49,50,51,52,53,54,55,56,57,58,59,60,61,62,63,64,65,66,67,68,69,70,71,72,73,74,75,76,77,78,79,80,81,82,83,84,85,86,87,88,89,90,91,92,93,94,95,96,97,98,99,100,101,102,103,104,105,106,107,108,109,110,111,112,113,114,115,116,117,118,119,120,121,122,123,124,125,126,127,128,129,130,131,132,133,134,135,136,137,138,139,140,141,142,143,144,145,146,147,148,149,150],\"y\":[81.42070007324219,81.42070007324219,81.42070007324219,81.42070007324219,81.42070007324219,81.42070007324219,82.37166595458984,82.37166595458984,82.37166595458984,82.37166595458984,82.37166595458984,82.37166595458984,82.37166595458984,82.37166595458984,82.37166595458984,82.37166595458984,88.53082275390625,88.53082275390625,88.53082275390625,88.53082275390625,88.53082275390625,88.53082275390625,88.53082275390625,88.53082275390625,88.53082275390625,88.53082275390625,88.53082275390625,88.53082275390625,88.53082275390625,88.53082275390625,88.53082275390625,88.53082275390625,88.53082275390625,90.13447570800781,90.13447570800781,90.13447570800781,90.13447570800781,90.13447570800781,90.13447570800781,90.72331237792969,90.72331237792969,90.86809539794922,90.86809539794922,90.86809539794922,90.86809539794922,90.86809539794922,90.86809539794922,90.86809539794922,90.92288208007812,90.93119812011719,90.93744659423828,90.93849182128906,90.93883514404297,90.93883514404297,90.93883514404297,90.93883514404297,90.93883514404297,90.93883514404297,90.93883514404297,90.93883514404297,90.93917846679688,90.93917846679688,90.93917846679688,90.93917846679688,90.93917846679688,90.93917846679688,90.93917846679688,90.93917846679688,90.93952941894531,90.93988037109375,90.93988037109375,90.93988037109375,90.93988037109375,90.93988037109375,90.93988037109375,90.93988037109375,90.93988037109375,90.93988037109375,90.93988037109375,90.93988037109375,90.93988037109375,90.94022369384766,90.94022369384766,90.94022369384766,90.94022369384766,90.94022369384766,90.94022369384766,90.94022369384766,90.94022369384766,90.94022369384766,90.94022369384766,90.94022369384766,90.94022369384766,90.94022369384766,90.94022369384766,90.94022369384766,90.94022369384766,90.94022369384766,90.94022369384766,90.94022369384766,90.94022369384766,90.94022369384766,90.94022369384766,90.94022369384766,90.94022369384766,90.94022369384766,90.94022369384766,90.94022369384766,90.94022369384766,90.94022369384766,90.94022369384766,90.94022369384766,90.94022369384766,90.94022369384766,90.94022369384766,90.94022369384766,90.94022369384766,90.94022369384766,90.94022369384766,90.94022369384766,90.94022369384766,90.94022369384766,90.94022369384766,90.94022369384766,90.94022369384766,90.94022369384766,90.94022369384766,90.94022369384766,90.94022369384766,90.94022369384766,90.94022369384766,90.94022369384766,90.94022369384766,90.94022369384766,90.94022369384766,90.94022369384766,90.94022369384766,90.94022369384766,90.94022369384766,90.94022369384766,90.94022369384766,90.94022369384766,90.94022369384766,90.94022369384766,90.94022369384766,90.94022369384766,90.94022369384766,90.94022369384766,90.94022369384766,90.94022369384766],\"type\":\"scatter\"},{\"fill\":\"tonexty\",\"fillcolor\":\"rgba(128,177,211,0.3)\",\"hoverinfo\":\"none\",\"legendgroup\":\"\",\"line\":{\"width\":0},\"mode\":\"lines\",\"showlegend\":false,\"x\":[1,2,3,4,5,6,7,8,9,10,11,12,13,14,15,16,17,18,19,20,21,22,23,24,25,26,27,28,29,30,31,32,33,34,35,36,37,38,39,40,41,42,43,44,45,46,47,48,49,50,51,52,53,54,55,56,57,58,59,60,61,62,63,64,65,66,67,68,69,70,71,72,73,74,75,76,77,78,79,80,81,82,83,84,85,86,87,88,89,90,91,92,93,94,95,96,97,98,99,100,101,102,103,104,105,106,107,108,109,110,111,112,113,114,115,116,117,118,119,120,121,122,123,124,125,126,127,128,129,130,131,132,133,134,135,136,137,138,139,140,141,142,143,144,145,146,147,148,149,150],\"y\":[81.42070007324219,81.42070007324219,81.42070007324219,81.42070007324219,81.42070007324219,81.42070007324219,82.37166595458984,82.37166595458984,82.37166595458984,82.37166595458984,82.37166595458984,82.37166595458984,82.37166595458984,82.37166595458984,82.37166595458984,82.37166595458984,88.53082275390625,88.53082275390625,88.53082275390625,88.53082275390625,88.53082275390625,88.53082275390625,88.53082275390625,88.53082275390625,88.53082275390625,88.53082275390625,88.53082275390625,88.53082275390625,88.53082275390625,88.53082275390625,88.53082275390625,88.53082275390625,88.53082275390625,90.13447570800781,90.13447570800781,90.13447570800781,90.13447570800781,90.13447570800781,90.13447570800781,90.72331237792969,90.72331237792969,90.86809539794922,90.86809539794922,90.86809539794922,90.86809539794922,90.86809539794922,90.86809539794922,90.86809539794922,90.92288208007812,90.93119812011719,90.93744659423828,90.93849182128906,90.93883514404297,90.93883514404297,90.93883514404297,90.93883514404297,90.93883514404297,90.93883514404297,90.93883514404297,90.93883514404297,90.93917846679688,90.93917846679688,90.93917846679688,90.93917846679688,90.93917846679688,90.93917846679688,90.93917846679688,90.93917846679688,90.93952941894531,90.93988037109375,90.93988037109375,90.93988037109375,90.93988037109375,90.93988037109375,90.93988037109375,90.93988037109375,90.93988037109375,90.93988037109375,90.93988037109375,90.93988037109375,90.93988037109375,90.94022369384766,90.94022369384766,90.94022369384766,90.94022369384766,90.94022369384766,90.94022369384766,90.94022369384766,90.94022369384766,90.94022369384766,90.94022369384766,90.94022369384766,90.94022369384766,90.94022369384766,90.94022369384766,90.94022369384766,90.94022369384766,90.94022369384766,90.94022369384766,90.94022369384766,90.94022369384766,90.94022369384766,90.94022369384766,90.94022369384766,90.94022369384766,90.94022369384766,90.94022369384766,90.94022369384766,90.94022369384766,90.94022369384766,90.94022369384766,90.94022369384766,90.94022369384766,90.94022369384766,90.94022369384766,90.94022369384766,90.94022369384766,90.94022369384766,90.94022369384766,90.94022369384766,90.94022369384766,90.94022369384766,90.94022369384766,90.94022369384766,90.94022369384766,90.94022369384766,90.94022369384766,90.94022369384766,90.94022369384766,90.94022369384766,90.94022369384766,90.94022369384766,90.94022369384766,90.94022369384766,90.94022369384766,90.94022369384766,90.94022369384766,90.94022369384766,90.94022369384766,90.94022369384766,90.94022369384766,90.94022369384766,90.94022369384766,90.94022369384766,90.94022369384766,90.94022369384766,90.94022369384766,90.94022369384766,90.94022369384766,90.94022369384766],\"type\":\"scatter\"},{\"line\":{\"color\":\"rgba(253,180,98,1)\",\"dash\":\"dash\"},\"mode\":\"lines\",\"name\":\"Optimum\",\"x\":[1,150],\"y\":[96.51996,96.51996],\"type\":\"scatter\"},{\"line\":{\"color\":\"rgba(141,211,199,1)\",\"dash\":\"dash\"},\"mode\":\"lines\",\"name\":\"model change\",\"x\":[30,30],\"y\":[81.42070007324219,96.51996],\"type\":\"scatter\"}],                        {\"showlegend\":true,\"template\":{\"data\":{\"barpolar\":[{\"marker\":{\"line\":{\"color\":\"#E5ECF6\",\"width\":0.5},\"pattern\":{\"fillmode\":\"overlay\",\"size\":10,\"solidity\":0.2}},\"type\":\"barpolar\"}],\"bar\":[{\"error_x\":{\"color\":\"#2a3f5f\"},\"error_y\":{\"color\":\"#2a3f5f\"},\"marker\":{\"line\":{\"color\":\"#E5ECF6\",\"width\":0.5},\"pattern\":{\"fillmode\":\"overlay\",\"size\":10,\"solidity\":0.2}},\"type\":\"bar\"}],\"carpet\":[{\"aaxis\":{\"endlinecolor\":\"#2a3f5f\",\"gridcolor\":\"white\",\"linecolor\":\"white\",\"minorgridcolor\":\"white\",\"startlinecolor\":\"#2a3f5f\"},\"baxis\":{\"endlinecolor\":\"#2a3f5f\",\"gridcolor\":\"white\",\"linecolor\":\"white\",\"minorgridcolor\":\"white\",\"startlinecolor\":\"#2a3f5f\"},\"type\":\"carpet\"}],\"choropleth\":[{\"colorbar\":{\"outlinewidth\":0,\"ticks\":\"\"},\"type\":\"choropleth\"}],\"contourcarpet\":[{\"colorbar\":{\"outlinewidth\":0,\"ticks\":\"\"},\"type\":\"contourcarpet\"}],\"contour\":[{\"colorbar\":{\"outlinewidth\":0,\"ticks\":\"\"},\"colorscale\":[[0.0,\"#0d0887\"],[0.1111111111111111,\"#46039f\"],[0.2222222222222222,\"#7201a8\"],[0.3333333333333333,\"#9c179e\"],[0.4444444444444444,\"#bd3786\"],[0.5555555555555556,\"#d8576b\"],[0.6666666666666666,\"#ed7953\"],[0.7777777777777778,\"#fb9f3a\"],[0.8888888888888888,\"#fdca26\"],[1.0,\"#f0f921\"]],\"type\":\"contour\"}],\"heatmapgl\":[{\"colorbar\":{\"outlinewidth\":0,\"ticks\":\"\"},\"colorscale\":[[0.0,\"#0d0887\"],[0.1111111111111111,\"#46039f\"],[0.2222222222222222,\"#7201a8\"],[0.3333333333333333,\"#9c179e\"],[0.4444444444444444,\"#bd3786\"],[0.5555555555555556,\"#d8576b\"],[0.6666666666666666,\"#ed7953\"],[0.7777777777777778,\"#fb9f3a\"],[0.8888888888888888,\"#fdca26\"],[1.0,\"#f0f921\"]],\"type\":\"heatmapgl\"}],\"heatmap\":[{\"colorbar\":{\"outlinewidth\":0,\"ticks\":\"\"},\"colorscale\":[[0.0,\"#0d0887\"],[0.1111111111111111,\"#46039f\"],[0.2222222222222222,\"#7201a8\"],[0.3333333333333333,\"#9c179e\"],[0.4444444444444444,\"#bd3786\"],[0.5555555555555556,\"#d8576b\"],[0.6666666666666666,\"#ed7953\"],[0.7777777777777778,\"#fb9f3a\"],[0.8888888888888888,\"#fdca26\"],[1.0,\"#f0f921\"]],\"type\":\"heatmap\"}],\"histogram2dcontour\":[{\"colorbar\":{\"outlinewidth\":0,\"ticks\":\"\"},\"colorscale\":[[0.0,\"#0d0887\"],[0.1111111111111111,\"#46039f\"],[0.2222222222222222,\"#7201a8\"],[0.3333333333333333,\"#9c179e\"],[0.4444444444444444,\"#bd3786\"],[0.5555555555555556,\"#d8576b\"],[0.6666666666666666,\"#ed7953\"],[0.7777777777777778,\"#fb9f3a\"],[0.8888888888888888,\"#fdca26\"],[1.0,\"#f0f921\"]],\"type\":\"histogram2dcontour\"}],\"histogram2d\":[{\"colorbar\":{\"outlinewidth\":0,\"ticks\":\"\"},\"colorscale\":[[0.0,\"#0d0887\"],[0.1111111111111111,\"#46039f\"],[0.2222222222222222,\"#7201a8\"],[0.3333333333333333,\"#9c179e\"],[0.4444444444444444,\"#bd3786\"],[0.5555555555555556,\"#d8576b\"],[0.6666666666666666,\"#ed7953\"],[0.7777777777777778,\"#fb9f3a\"],[0.8888888888888888,\"#fdca26\"],[1.0,\"#f0f921\"]],\"type\":\"histogram2d\"}],\"histogram\":[{\"marker\":{\"pattern\":{\"fillmode\":\"overlay\",\"size\":10,\"solidity\":0.2}},\"type\":\"histogram\"}],\"mesh3d\":[{\"colorbar\":{\"outlinewidth\":0,\"ticks\":\"\"},\"type\":\"mesh3d\"}],\"parcoords\":[{\"line\":{\"colorbar\":{\"outlinewidth\":0,\"ticks\":\"\"}},\"type\":\"parcoords\"}],\"pie\":[{\"automargin\":true,\"type\":\"pie\"}],\"scatter3d\":[{\"line\":{\"colorbar\":{\"outlinewidth\":0,\"ticks\":\"\"}},\"marker\":{\"colorbar\":{\"outlinewidth\":0,\"ticks\":\"\"}},\"type\":\"scatter3d\"}],\"scattercarpet\":[{\"marker\":{\"colorbar\":{\"outlinewidth\":0,\"ticks\":\"\"}},\"type\":\"scattercarpet\"}],\"scattergeo\":[{\"marker\":{\"colorbar\":{\"outlinewidth\":0,\"ticks\":\"\"}},\"type\":\"scattergeo\"}],\"scattergl\":[{\"marker\":{\"colorbar\":{\"outlinewidth\":0,\"ticks\":\"\"}},\"type\":\"scattergl\"}],\"scattermapbox\":[{\"marker\":{\"colorbar\":{\"outlinewidth\":0,\"ticks\":\"\"}},\"type\":\"scattermapbox\"}],\"scatterpolargl\":[{\"marker\":{\"colorbar\":{\"outlinewidth\":0,\"ticks\":\"\"}},\"type\":\"scatterpolargl\"}],\"scatterpolar\":[{\"marker\":{\"colorbar\":{\"outlinewidth\":0,\"ticks\":\"\"}},\"type\":\"scatterpolar\"}],\"scatter\":[{\"fillpattern\":{\"fillmode\":\"overlay\",\"size\":10,\"solidity\":0.2},\"type\":\"scatter\"}],\"scatterternary\":[{\"marker\":{\"colorbar\":{\"outlinewidth\":0,\"ticks\":\"\"}},\"type\":\"scatterternary\"}],\"surface\":[{\"colorbar\":{\"outlinewidth\":0,\"ticks\":\"\"},\"colorscale\":[[0.0,\"#0d0887\"],[0.1111111111111111,\"#46039f\"],[0.2222222222222222,\"#7201a8\"],[0.3333333333333333,\"#9c179e\"],[0.4444444444444444,\"#bd3786\"],[0.5555555555555556,\"#d8576b\"],[0.6666666666666666,\"#ed7953\"],[0.7777777777777778,\"#fb9f3a\"],[0.8888888888888888,\"#fdca26\"],[1.0,\"#f0f921\"]],\"type\":\"surface\"}],\"table\":[{\"cells\":{\"fill\":{\"color\":\"#EBF0F8\"},\"line\":{\"color\":\"white\"}},\"header\":{\"fill\":{\"color\":\"#C8D4E3\"},\"line\":{\"color\":\"white\"}},\"type\":\"table\"}]},\"layout\":{\"annotationdefaults\":{\"arrowcolor\":\"#2a3f5f\",\"arrowhead\":0,\"arrowwidth\":1},\"autotypenumbers\":\"strict\",\"coloraxis\":{\"colorbar\":{\"outlinewidth\":0,\"ticks\":\"\"}},\"colorscale\":{\"diverging\":[[0,\"#8e0152\"],[0.1,\"#c51b7d\"],[0.2,\"#de77ae\"],[0.3,\"#f1b6da\"],[0.4,\"#fde0ef\"],[0.5,\"#f7f7f7\"],[0.6,\"#e6f5d0\"],[0.7,\"#b8e186\"],[0.8,\"#7fbc41\"],[0.9,\"#4d9221\"],[1,\"#276419\"]],\"sequential\":[[0.0,\"#0d0887\"],[0.1111111111111111,\"#46039f\"],[0.2222222222222222,\"#7201a8\"],[0.3333333333333333,\"#9c179e\"],[0.4444444444444444,\"#bd3786\"],[0.5555555555555556,\"#d8576b\"],[0.6666666666666666,\"#ed7953\"],[0.7777777777777778,\"#fb9f3a\"],[0.8888888888888888,\"#fdca26\"],[1.0,\"#f0f921\"]],\"sequentialminus\":[[0.0,\"#0d0887\"],[0.1111111111111111,\"#46039f\"],[0.2222222222222222,\"#7201a8\"],[0.3333333333333333,\"#9c179e\"],[0.4444444444444444,\"#bd3786\"],[0.5555555555555556,\"#d8576b\"],[0.6666666666666666,\"#ed7953\"],[0.7777777777777778,\"#fb9f3a\"],[0.8888888888888888,\"#fdca26\"],[1.0,\"#f0f921\"]]},\"colorway\":[\"#636efa\",\"#EF553B\",\"#00cc96\",\"#ab63fa\",\"#FFA15A\",\"#19d3f3\",\"#FF6692\",\"#B6E880\",\"#FF97FF\",\"#FECB52\"],\"font\":{\"color\":\"#2a3f5f\"},\"geo\":{\"bgcolor\":\"white\",\"lakecolor\":\"white\",\"landcolor\":\"#E5ECF6\",\"showlakes\":true,\"showland\":true,\"subunitcolor\":\"white\"},\"hoverlabel\":{\"align\":\"left\"},\"hovermode\":\"closest\",\"mapbox\":{\"style\":\"light\"},\"paper_bgcolor\":\"white\",\"plot_bgcolor\":\"#E5ECF6\",\"polar\":{\"angularaxis\":{\"gridcolor\":\"white\",\"linecolor\":\"white\",\"ticks\":\"\"},\"bgcolor\":\"#E5ECF6\",\"radialaxis\":{\"gridcolor\":\"white\",\"linecolor\":\"white\",\"ticks\":\"\"}},\"scene\":{\"xaxis\":{\"backgroundcolor\":\"#E5ECF6\",\"gridcolor\":\"white\",\"gridwidth\":2,\"linecolor\":\"white\",\"showbackground\":true,\"ticks\":\"\",\"zerolinecolor\":\"white\"},\"yaxis\":{\"backgroundcolor\":\"#E5ECF6\",\"gridcolor\":\"white\",\"gridwidth\":2,\"linecolor\":\"white\",\"showbackground\":true,\"ticks\":\"\",\"zerolinecolor\":\"white\"},\"zaxis\":{\"backgroundcolor\":\"#E5ECF6\",\"gridcolor\":\"white\",\"gridwidth\":2,\"linecolor\":\"white\",\"showbackground\":true,\"ticks\":\"\",\"zerolinecolor\":\"white\"}},\"shapedefaults\":{\"line\":{\"color\":\"#2a3f5f\"}},\"ternary\":{\"aaxis\":{\"gridcolor\":\"white\",\"linecolor\":\"white\",\"ticks\":\"\"},\"baxis\":{\"gridcolor\":\"white\",\"linecolor\":\"white\",\"ticks\":\"\"},\"bgcolor\":\"#E5ECF6\",\"caxis\":{\"gridcolor\":\"white\",\"linecolor\":\"white\",\"ticks\":\"\"}},\"title\":{\"x\":0.05},\"xaxis\":{\"automargin\":true,\"gridcolor\":\"white\",\"linecolor\":\"white\",\"ticks\":\"\",\"title\":{\"standoff\":15},\"zerolinecolor\":\"white\",\"zerolinewidth\":2},\"yaxis\":{\"automargin\":true,\"gridcolor\":\"white\",\"linecolor\":\"white\",\"ticks\":\"\",\"title\":{\"standoff\":15},\"zerolinecolor\":\"white\",\"zerolinewidth\":2}}},\"title\":{\"text\":\"Model performance vs. # of iterations\"},\"xaxis\":{\"title\":{\"text\":\"Iteration\"}},\"yaxis\":{\"title\":{\"text\":\"Accuracy\"}}},                        {\"responsive\": true}                    ).then(function(){\n",
       "                            \n",
       "var gd = document.getElementById('00724959-7d58-4b1a-b328-2928c52e3226');\n",
       "var x = new MutationObserver(function (mutations, observer) {{\n",
       "        var display = window.getComputedStyle(gd).display;\n",
       "        if (!display || display === 'none') {{\n",
       "            console.log([gd, 'removed!']);\n",
       "            Plotly.purge(gd);\n",
       "            observer.disconnect();\n",
       "        }}\n",
       "}});\n",
       "\n",
       "// Listen for the removal of the full notebook cells\n",
       "var notebookContainer = gd.closest('#notebook-container');\n",
       "if (notebookContainer) {{\n",
       "    x.observe(notebookContainer, {childList: true});\n",
       "}}\n",
       "\n",
       "// Listen for the clearing of the current output cell\n",
       "var outputEl = gd.closest('.output');\n",
       "if (outputEl) {{\n",
       "    x.observe(outputEl, {childList: true});\n",
       "}}\n",
       "\n",
       "                        })                };                });            </script>        </div>"
      ]
     },
     "metadata": {},
     "output_type": "display_data"
    },
    {
     "name": "stderr",
     "output_type": "stream",
     "text": [
      "[INFO 12-20 14:36:59] ax.service.utils.instantiation: Inferred value type of ParameterType.INT for parameter batch_size. If that is not the expected value type, you can explicity specify 'value_type' ('int', 'float', 'bool' or 'str') in parameter dict.\n",
      "[INFO 12-20 14:36:59] ax.service.utils.instantiation: Inferred value type of ParameterType.FLOAT for parameter learning_rate. If that is not the expected value type, you can explicity specify 'value_type' ('int', 'float', 'bool' or 'str') in parameter dict.\n",
      "[INFO 12-20 14:36:59] ax.service.utils.instantiation: Inferred value type of ParameterType.FLOAT for parameter max_dropout. If that is not the expected value type, you can explicity specify 'value_type' ('int', 'float', 'bool' or 'str') in parameter dict.\n",
      "[INFO 12-20 14:36:59] ax.service.utils.instantiation: Inferred value type of ParameterType.INT for parameter max_units. If that is not the expected value type, you can explicity specify 'value_type' ('int', 'float', 'bool' or 'str') in parameter dict.\n",
      "[INFO 12-20 14:36:59] ax.service.utils.instantiation: Inferred value type of ParameterType.FLOAT for parameter momentum. If that is not the expected value type, you can explicity specify 'value_type' ('int', 'float', 'bool' or 'str') in parameter dict.\n",
      "[INFO 12-20 14:36:59] ax.service.utils.instantiation: Inferred value type of ParameterType.INT for parameter num_layers. If that is not the expected value type, you can explicity specify 'value_type' ('int', 'float', 'bool' or 'str') in parameter dict.\n",
      "[INFO 12-20 14:36:59] ax.service.utils.instantiation: Inferred value type of ParameterType.FLOAT for parameter weight_decay. If that is not the expected value type, you can explicity specify 'value_type' ('int', 'float', 'bool' or 'str') in parameter dict.\n",
      "[INFO 12-20 14:36:59] ax.service.utils.instantiation: Created search space: SearchSpace(parameters=[FixedParameter(name='OpenML_task_id', parameter_type=STRING, value='126025'), RangeParameter(name='batch_size', parameter_type=INT, range=[16, 512], log_scale=True), FixedParameter(name='epoch', parameter_type=INT, value=40), RangeParameter(name='learning_rate', parameter_type=FLOAT, range=[0.00010000000000000009, 0.10000000000000002], log_scale=True), RangeParameter(name='max_dropout', parameter_type=FLOAT, range=[0.0, 1.0]), RangeParameter(name='max_units', parameter_type=INT, range=[64, 1024], log_scale=True), RangeParameter(name='momentum', parameter_type=FLOAT, range=[0.1, 0.99]), RangeParameter(name='num_layers', parameter_type=INT, range=[1, 5]), RangeParameter(name='weight_decay', parameter_type=FLOAT, range=[1e-05, 0.1])], parameter_constraints=[]).\n"
     ]
    },
    {
     "data": {
      "application/vnd.plotly.v1+json": {
       "config": {
        "linkText": "Export to plot.ly",
        "plotlyServerURL": "https://plot.ly",
        "showLink": false
       },
       "data": [
        {
         "hoverinfo": "none",
         "legendgroup": "",
         "line": {
          "width": 0
         },
         "mode": "lines",
         "showlegend": false,
         "type": "scatter",
         "x": [
          1,
          2,
          3,
          4,
          5,
          6,
          7,
          8,
          9,
          10,
          11,
          12,
          13,
          14,
          15,
          16,
          17,
          18,
          19,
          20,
          21,
          22,
          23,
          24,
          25,
          26,
          27,
          28,
          29,
          30,
          31,
          32,
          33,
          34,
          35,
          36,
          37,
          38,
          39,
          40,
          41,
          42,
          43,
          44,
          45,
          46,
          47,
          48,
          49,
          50,
          51,
          52,
          53,
          54,
          55,
          56,
          57,
          58,
          59,
          60,
          61,
          62,
          63,
          64,
          65,
          66,
          67,
          68,
          69,
          70,
          71,
          72,
          73,
          74,
          75,
          76,
          77,
          78,
          79,
          80,
          81,
          82,
          83,
          84,
          85,
          86,
          87,
          88,
          89,
          90,
          91,
          92,
          93,
          94,
          95,
          96,
          97,
          98,
          99,
          100,
          101,
          102,
          103,
          104,
          105,
          106,
          107,
          108,
          109,
          110,
          111,
          112,
          113,
          114,
          115,
          116,
          117,
          118,
          119,
          120,
          121,
          122,
          123,
          124,
          125,
          126,
          127,
          128,
          129,
          130,
          131,
          132,
          133,
          134,
          135,
          136,
          137,
          138,
          139,
          140,
          141,
          142,
          143,
          144,
          145,
          146,
          147,
          148,
          149,
          150
         ],
         "y": [
          80.77290344238281,
          80.77290344238281,
          80.77290344238281,
          80.77290344238281,
          80.77290344238281,
          80.77290344238281,
          80.77290344238281,
          80.77290344238281,
          89.12958526611328,
          89.12958526611328,
          89.12958526611328,
          89.12958526611328,
          89.12958526611328,
          89.12958526611328,
          89.12958526611328,
          89.12958526611328,
          89.12958526611328,
          89.12958526611328,
          89.12958526611328,
          89.12958526611328,
          89.12958526611328,
          89.12958526611328,
          89.12958526611328,
          89.12958526611328,
          89.12958526611328,
          89.12958526611328,
          89.12958526611328,
          89.12958526611328,
          89.12958526611328,
          89.12958526611328,
          89.12958526611328,
          89.12958526611328,
          90.88577270507812,
          90.88577270507812,
          90.88577270507812,
          90.88577270507812,
          90.88577270507812,
          91.16007995605469,
          91.16007995605469,
          91.48406219482422,
          91.4920883178711,
          91.4920883178711,
          91.4920883178711,
          91.49418640136719,
          91.49418640136719,
          91.49418640136719,
          91.49418640136719,
          91.50779724121094,
          91.51303100585938,
          91.51303100585938,
          91.51303100585938,
          91.52350616455078,
          91.52350616455078,
          91.54375457763672,
          91.54375457763672,
          91.61293029785156,
          91.62062072753906,
          91.62062072753906,
          91.62934875488281,
          91.62934875488281,
          91.62934875488281,
          91.62934875488281,
          91.68284606933594,
          91.68284606933594,
          91.68284606933594,
          91.7216796875,
          91.7216796875,
          91.7216796875,
          91.7216796875,
          91.73357391357422,
          91.73357391357422,
          91.75387573242188,
          91.75387573242188,
          91.75387573242188,
          91.75387573242188,
          91.75387573242188,
          91.79447937011719,
          91.79447937011719,
          91.79447937011719,
          91.79447937011719,
          91.8389663696289,
          91.90204620361328,
          91.90204620361328,
          91.99078369140625,
          91.99078369140625,
          91.99078369140625,
          91.99078369140625,
          91.99078369140625,
          91.99078369140625,
          91.99078369140625,
          91.99078369140625,
          91.99078369140625,
          92.00447082519531,
          92.00657653808594,
          92.02342987060547,
          92.06907653808594,
          92.06907653808594,
          92.06907653808594,
          92.06907653808594,
          92.06907653808594,
          92.06907653808594,
          92.06907653808594,
          92.06907653808594,
          92.06907653808594,
          92.06907653808594,
          92.06907653808594,
          92.06907653808594,
          92.06907653808594,
          92.06907653808594,
          92.06907653808594,
          92.06907653808594,
          92.06907653808594,
          92.06907653808594,
          92.06907653808594,
          92.06907653808594,
          92.06907653808594,
          92.06907653808594,
          92.06907653808594,
          92.06907653808594,
          92.06907653808594,
          92.06907653808594,
          92.06907653808594,
          92.06907653808594,
          92.06907653808594,
          92.06907653808594,
          92.06907653808594,
          92.06907653808594,
          92.06907653808594,
          92.06907653808594,
          92.06907653808594,
          92.06907653808594,
          92.06907653808594,
          92.06907653808594,
          92.06907653808594,
          92.06907653808594,
          92.06907653808594,
          92.06907653808594,
          92.06907653808594,
          92.06907653808594,
          92.06907653808594,
          92.06907653808594,
          92.06907653808594,
          92.06907653808594,
          92.06907653808594,
          92.06907653808594,
          92.06907653808594,
          92.06907653808594,
          92.06907653808594,
          92.06907653808594,
          92.06907653808594
         ]
        },
        {
         "fill": "tonexty",
         "fillcolor": "rgba(128,177,211,0.3)",
         "legendgroup": "objective value",
         "line": {
          "color": "rgba(128,177,211,1)"
         },
         "mode": "lines",
         "name": "objective value",
         "text": [
          "<br><em>Parameterization:</em><br>batch_size: 434<br>learning_rate: 0.05245865622518482<br>max_dropout: 0.832322895526886<br>max_units: 188<br>momentum: 0.6163363718986511<br>num_layers: 3<br>weight_decay: 0.05149590876698495<br>OpenML_task_id: 126025<br>epoch: 40",
          "<br><em>Parameterization:</em><br>batch_size: 17<br>learning_rate: 0.0019152801507798301<br>max_dropout: 0.8925559399649501<br>max_units: 211<br>momentum: 0.5380123191140592<br>num_layers: 4<br>weight_decay: 0.0009647530430555344<br>OpenML_task_id: 126025<br>epoch: 40",
          "<br><em>Parameterization:</em><br>batch_size: 24<br>learning_rate: 0.000314526014385355<br>max_dropout: 0.8982956800609827<br>max_units: 110<br>momentum: 0.6078657354041934<br>num_layers: 4<br>weight_decay: 0.012506406747354195<br>OpenML_task_id: 126025<br>epoch: 40",
          "<br><em>Parameterization:</em><br>batch_size: 374<br>learning_rate: 0.0010887489879195613<br>max_dropout: 0.3692569602280855<br>max_units: 89<br>momentum: 0.9040188204310834<br>num_layers: 2<br>weight_decay: 0.07103839175776579<br>OpenML_task_id: 126025<br>epoch: 40",
          "<br><em>Parameterization:</em><br>batch_size: 65<br>learning_rate: 0.00936602569193493<br>max_dropout: 0.455507536418736<br>max_units: 729<br>momentum: 0.20514670859090983<br>num_layers: 5<br>weight_decay: 0.013806106452308595<br>OpenML_task_id: 126025<br>epoch: 40",
          "<br><em>Parameterization:</em><br>batch_size: 151<br>learning_rate: 0.0010333766245166586<br>max_dropout: 0.07314740680158138<br>max_units: 75<br>momentum: 0.779764134241268<br>num_layers: 2<br>weight_decay: 0.051241403481019666<br>OpenML_task_id: 126025<br>epoch: 40",
          "<br><em>Parameterization:</em><br>batch_size: 285<br>learning_rate: 0.00011701913861557804<br>max_dropout: 0.13817670289427042<br>max_units: 368<br>momentum: 0.3740171854291111<br>num_layers: 2<br>weight_decay: 0.05783315522902646<br>OpenML_task_id: 126025<br>epoch: 40",
          "<br><em>Parameterization:</em><br>batch_size: 199<br>learning_rate: 0.00018369332282746752<br>max_dropout: 0.018441292457282543<br>max_units: 87<br>momentum: 0.47209916071966296<br>num_layers: 1<br>weight_decay: 0.07440596047221683<br>OpenML_task_id: 126025<br>epoch: 40",
          "<br><em>Parameterization:</em><br>batch_size: 45<br>learning_rate: 0.003020125411940007<br>max_dropout: 0.1475159078836441<br>max_units: 122<br>momentum: 0.5831803739909083<br>num_layers: 5<br>weight_decay: 0.04521875044344925<br>OpenML_task_id: 126025<br>epoch: 40",
          "<br><em>Parameterization:</em><br>batch_size: 100<br>learning_rate: 0.00010823373017530396<br>max_dropout: 0.8933077659457922<br>max_units: 568<br>momentum: 0.9050174217112362<br>num_layers: 1<br>weight_decay: 0.040233004627814525<br>OpenML_task_id: 126025<br>epoch: 40",
          "<br><em>Parameterization:</em><br>batch_size: 84<br>learning_rate: 0.055487964135028295<br>max_dropout: 0.43297873716801405<br>max_units: 1009<br>momentum: 0.2763858018163592<br>num_layers: 1<br>weight_decay: 0.026125325845591726<br>OpenML_task_id: 126025<br>epoch: 40",
          "<br><em>Parameterization:</em><br>batch_size: 102<br>learning_rate: 0.07281498137117841<br>max_dropout: 0.11014633066952229<br>max_units: 175<br>momentum: 0.9563832649588585<br>num_layers: 2<br>weight_decay: 0.06790023123019376<br>OpenML_task_id: 126025<br>epoch: 40",
          "<br><em>Parameterization:</em><br>batch_size: 96<br>learning_rate: 0.06193062617207338<br>max_dropout: 0.10553758312016726<br>max_units: 65<br>momentum: 0.8671037571597844<br>num_layers: 4<br>weight_decay: 0.07907449452555738<br>OpenML_task_id: 126025<br>epoch: 40",
          "<br><em>Parameterization:</em><br>batch_size: 112<br>learning_rate: 0.05932133266488082<br>max_dropout: 0.4296439355239272<br>max_units: 123<br>momentum: 0.5431964736897499<br>num_layers: 4<br>weight_decay: 0.08969346840500832<br>OpenML_task_id: 126025<br>epoch: 40",
          "<br><em>Parameterization:</em><br>batch_size: 59<br>learning_rate: 0.0007427574118039062<br>max_dropout: 0.3417330561205745<br>max_units: 200<br>momentum: 0.5302389547508211<br>num_layers: 5<br>weight_decay: 0.018522449173359202<br>OpenML_task_id: 126025<br>epoch: 40",
          "<br><em>Parameterization:</em><br>batch_size: 55<br>learning_rate: 0.06927286121464472<br>max_dropout: 0.3221350349485874<br>max_units: 403<br>momentum: 0.7797025254648179<br>num_layers: 1<br>weight_decay: 0.020448696157401428<br>OpenML_task_id: 126025<br>epoch: 40",
          "<br><em>Parameterization:</em><br>batch_size: 26<br>learning_rate: 0.0005583103035778167<br>max_dropout: 0.43017182778567076<br>max_units: 111<br>momentum: 0.8198682474158704<br>num_layers: 4<br>weight_decay: 0.0044987946649827065<br>OpenML_task_id: 126025<br>epoch: 40",
          "<br><em>Parameterization:</em><br>batch_size: 451<br>learning_rate: 0.0005639220956560559<br>max_dropout: 0.9604770904406905<br>max_units: 768<br>momentum: 0.9443820762261749<br>num_layers: 2<br>weight_decay: 0.035838592115519576<br>OpenML_task_id: 126025<br>epoch: 40",
          "<br><em>Parameterization:</em><br>batch_size: 149<br>learning_rate: 0.0033056322036442896<br>max_dropout: 0.1792935272678733<br>max_units: 391<br>momentum: 0.6688500375114381<br>num_layers: 4<br>weight_decay: 0.035088408390181146<br>OpenML_task_id: 126025<br>epoch: 40",
          "<br><em>Parameterization:</em><br>batch_size: 132<br>learning_rate: 0.007058039591812353<br>max_dropout: 0.9743684437125921<br>max_units: 531<br>momentum: 0.553796938881278<br>num_layers: 1<br>weight_decay: 0.057172513777595024<br>OpenML_task_id: 126025<br>epoch: 40",
          "<br><em>Parameterization:</em><br>batch_size: 56<br>learning_rate: 0.0009535663950074484<br>max_dropout: 0.9540992854163051<br>max_units: 134<br>momentum: 0.40496294858865445<br>num_layers: 5<br>weight_decay: 0.09165490925024264<br>OpenML_task_id: 126025<br>epoch: 40",
          "<br><em>Parameterization:</em><br>batch_size: 24<br>learning_rate: 0.06614955454737098<br>max_dropout: 0.47473727725446224<br>max_units: 169<br>momentum: 0.4328301320970058<br>num_layers: 5<br>weight_decay: 0.02802309443644248<br>OpenML_task_id: 126025<br>epoch: 40",
          "<br><em>Parameterization:</em><br>batch_size: 34<br>learning_rate: 0.00039101248883821436<br>max_dropout: 0.9638084899634123<br>max_units: 231<br>momentum: 0.215980245731771<br>num_layers: 1<br>weight_decay: 0.056590538398921496<br>OpenML_task_id: 126025<br>epoch: 40",
          "<br><em>Parameterization:</em><br>batch_size: 26<br>learning_rate: 0.0001543945475916106<br>max_dropout: 0.5128752868622541<br>max_units: 98<br>momentum: 0.9595167427975684<br>num_layers: 4<br>weight_decay: 0.07783778010702692<br>OpenML_task_id: 126025<br>epoch: 40",
          "<br><em>Parameterization:</em><br>batch_size: 143<br>learning_rate: 0.0003445842576201933<br>max_dropout: 0.4025647286325693<br>max_units: 936<br>momentum: 0.8441178109496832<br>num_layers: 5<br>weight_decay: 0.08227444072978571<br>OpenML_task_id: 126025<br>epoch: 40",
          "<br><em>Parameterization:</em><br>batch_size: 26<br>learning_rate: 0.00013252662994513796<br>max_dropout: 0.41116916481405497<br>max_units: 481<br>momentum: 0.44729780044406653<br>num_layers: 1<br>weight_decay: 0.06967591024002061<br>OpenML_task_id: 126025<br>epoch: 40",
          "<br><em>Parameterization:</em><br>batch_size: 406<br>learning_rate: 0.0013492756890702516<br>max_dropout: 0.5695213181897998<br>max_units: 820<br>momentum: 0.5520941775012761<br>num_layers: 1<br>weight_decay: 0.04902954032531009<br>OpenML_task_id: 126025<br>epoch: 40",
          "<br><em>Parameterization:</em><br>batch_size: 65<br>learning_rate: 0.025909395252562358<br>max_dropout: 0.25344770960509777<br>max_units: 157<br>momentum: 0.7061547368392348<br>num_layers: 4<br>weight_decay: 0.08834478528640233<br>OpenML_task_id: 126025<br>epoch: 40",
          "<br><em>Parameterization:</em><br>batch_size: 65<br>learning_rate: 0.021857382237985452<br>max_dropout: 0.9625917822122574<br>max_units: 141<br>momentum: 0.886221156604588<br>num_layers: 4<br>weight_decay: 0.030047608196791264<br>OpenML_task_id: 126025<br>epoch: 40",
          "<br><em>Parameterization:</em><br>batch_size: 119<br>learning_rate: 0.00011825418239887851<br>max_dropout: 0.9504536297172308<br>max_units: 260<br>momentum: 0.7592313144356012<br>num_layers: 4<br>weight_decay: 0.04576518498484046<br>OpenML_task_id: 126025<br>epoch: 40",
          "<br><em>Parameterization:</em><br>batch_size: 16<br>learning_rate: 0.0014234480522749614<br>max_dropout: 0.2485340848820368<br>max_units: 70<br>momentum: 0.5849932161240116<br>num_layers: 5<br>weight_decay: 0.051555699532385375<br>OpenML_task_id: 126025<br>epoch: 40",
          "<br><em>Parameterization:</em><br>batch_size: 147<br>learning_rate: 0.002145809015662898<br>max_dropout: 0.5138617530918338<br>max_units: 71<br>momentum: 0.7394606581530717<br>num_layers: 5<br>weight_decay: 0.052392115153630514<br>OpenML_task_id: 126025<br>epoch: 40",
          "<br><em>Parameterization:</em><br>batch_size: 20<br>learning_rate: 0.001997667720637304<br>max_dropout: 0.2394215749836697<br>max_units: 66<br>momentum: 0.18845208663137158<br>num_layers: 5<br>weight_decay: 0.03768370180102751<br>OpenML_task_id: 126025<br>epoch: 40",
          "<br><em>Parameterization:</em><br>batch_size: 18<br>learning_rate: 0.002459931794719668<br>max_dropout: 0.0660697575073408<br>max_units: 89<br>momentum: 0.8433925425674108<br>num_layers: 5<br>weight_decay: 0.04119397338044254<br>OpenML_task_id: 126025<br>epoch: 40",
          "<br><em>Parameterization:</em><br>batch_size: 31<br>learning_rate: 0.0016282764502127442<br>max_dropout: 0.26998644756711315<br>max_units: 87<br>momentum: 0.1<br>num_layers: 5<br>weight_decay: 0.03830437391015154<br>OpenML_task_id: 126025<br>epoch: 40",
          "<br><em>Parameterization:</em><br>batch_size: 18<br>learning_rate: 0.0026248531026869565<br>max_dropout: 0.17131653707783584<br>max_units: 76<br>momentum: 0.1<br>num_layers: 5<br>weight_decay: 0.04342525446689726<br>OpenML_task_id: 126025<br>epoch: 40",
          "<br><em>Parameterization:</em><br>batch_size: 21<br>learning_rate: 0.0020123177709025684<br>max_dropout: 0.3574059448074891<br>max_units: 67<br>momentum: 0.1<br>num_layers: 5<br>weight_decay: 0.03836446685425683<br>OpenML_task_id: 126025<br>epoch: 40",
          "<br><em>Parameterization:</em><br>batch_size: 20<br>learning_rate: 0.0021341170497317435<br>max_dropout: 0.03507270242705819<br>max_units: 66<br>momentum: 0.25283359533623984<br>num_layers: 5<br>weight_decay: 0.040263907211319894<br>OpenML_task_id: 126025<br>epoch: 40",
          "<br><em>Parameterization:</em><br>batch_size: 21<br>learning_rate: 0.0021571451603396266<br>max_dropout: 0.1406578673303497<br>max_units: 491<br>momentum: 0.31690963827503243<br>num_layers: 5<br>weight_decay: 0.04109483421376083<br>OpenML_task_id: 126025<br>epoch: 40",
          "<br><em>Parameterization:</em><br>batch_size: 25<br>learning_rate: 0.0021069291958709224<br>max_dropout: 0.0<br>max_units: 64<br>momentum: 0.1<br>num_layers: 5<br>weight_decay: 0.03886201276591964<br>OpenML_task_id: 126025<br>epoch: 40",
          "<br><em>Parameterization:</em><br>batch_size: 25<br>learning_rate: 0.0021223448351566153<br>max_dropout: 0.0<br>max_units: 64<br>momentum: 0.1<br>num_layers: 5<br>weight_decay: 0.038809650387379664<br>OpenML_task_id: 126025<br>epoch: 40",
          "<br><em>Parameterization:</em><br>batch_size: 26<br>learning_rate: 0.0019339173109074119<br>max_dropout: 0.0<br>max_units: 64<br>momentum: 0.1<br>num_layers: 5<br>weight_decay: 0.038017188648690796<br>OpenML_task_id: 126025<br>epoch: 40",
          "<br><em>Parameterization:</em><br>batch_size: 26<br>learning_rate: 0.0020077832902377817<br>max_dropout: 0.0<br>max_units: 64<br>momentum: 0.1<br>num_layers: 5<br>weight_decay: 0.03819158769437347<br>OpenML_task_id: 126025<br>epoch: 40",
          "<br><em>Parameterization:</em><br>batch_size: 25<br>learning_rate: 0.0021469997903330665<br>max_dropout: 0.0<br>max_units: 64<br>momentum: 0.1<br>num_layers: 5<br>weight_decay: 0.038857888216794846<br>OpenML_task_id: 126025<br>epoch: 40",
          "<br><em>Parameterization:</em><br>batch_size: 26<br>learning_rate: 0.0019027616987254646<br>max_dropout: 0.0<br>max_units: 64<br>momentum: 0.1<br>num_layers: 5<br>weight_decay: 0.03793467418186857<br>OpenML_task_id: 126025<br>epoch: 40",
          "<br><em>Parameterization:</em><br>batch_size: 26<br>learning_rate: 0.0019004778918962685<br>max_dropout: 0.0<br>max_units: 64<br>momentum: 0.1<br>num_layers: 5<br>weight_decay: 0.0378235802419136<br>OpenML_task_id: 126025<br>epoch: 40",
          "<br><em>Parameterization:</em><br>batch_size: 26<br>learning_rate: 0.001865971970787434<br>max_dropout: 0.0<br>max_units: 64<br>momentum: 0.1<br>num_layers: 5<br>weight_decay: 0.037710471534481406<br>OpenML_task_id: 126025<br>epoch: 40",
          "<br><em>Parameterization:</em><br>batch_size: 25<br>learning_rate: 0.00202662269238375<br>max_dropout: 0.0<br>max_units: 64<br>momentum: 0.1<br>num_layers: 5<br>weight_decay: 0.03818939174483209<br>OpenML_task_id: 126025<br>epoch: 40",
          "<br><em>Parameterization:</em><br>batch_size: 25<br>learning_rate: 0.0020731155045172474<br>max_dropout: 0.0<br>max_units: 64<br>momentum: 0.1<br>num_layers: 5<br>weight_decay: 0.03831242195524563<br>OpenML_task_id: 126025<br>epoch: 40",
          "<br><em>Parameterization:</em><br>batch_size: 26<br>learning_rate: 0.0019062718200478046<br>max_dropout: 0.0<br>max_units: 64<br>momentum: 0.1<br>num_layers: 5<br>weight_decay: 0.03759979197937879<br>OpenML_task_id: 126025<br>epoch: 40",
          "<br><em>Parameterization:</em><br>batch_size: 26<br>learning_rate: 0.0018379495111741318<br>max_dropout: 0.0<br>max_units: 64<br>momentum: 0.1<br>num_layers: 5<br>weight_decay: 0.03737692850632<br>OpenML_task_id: 126025<br>epoch: 40",
          "<br><em>Parameterization:</em><br>batch_size: 25<br>learning_rate: 0.002102546360013693<br>max_dropout: 0.0<br>max_units: 64<br>momentum: 0.1<br>num_layers: 5<br>weight_decay: 0.038272450069118606<br>OpenML_task_id: 126025<br>epoch: 40",
          "<br><em>Parameterization:</em><br>batch_size: 26<br>learning_rate: 0.0019218909260664144<br>max_dropout: 0.0<br>max_units: 64<br>momentum: 0.1<br>num_layers: 5<br>weight_decay: 0.03738781316248227<br>OpenML_task_id: 126025<br>epoch: 40",
          "<br><em>Parameterization:</em><br>batch_size: 25<br>learning_rate: 0.001971432832846486<br>max_dropout: 0.0<br>max_units: 64<br>momentum: 0.1<br>num_layers: 5<br>weight_decay: 0.03735976812068409<br>OpenML_task_id: 126025<br>epoch: 40",
          "<br><em>Parameterization:</em><br>batch_size: 25<br>learning_rate: 0.001797926304696945<br>max_dropout: 0.0<br>max_units: 64<br>momentum: 0.1<br>num_layers: 5<br>weight_decay: 0.036503672369045254<br>OpenML_task_id: 126025<br>epoch: 40",
          "<br><em>Parameterization:</em><br>batch_size: 24<br>learning_rate: 0.0017457199476431145<br>max_dropout: 0.0<br>max_units: 64<br>momentum: 0.1<br>num_layers: 5<br>weight_decay: 0.03549624347473701<br>OpenML_task_id: 126025<br>epoch: 40",
          "<br><em>Parameterization:</em><br>batch_size: 23<br>learning_rate: 0.0014780091990155356<br>max_dropout: 0.0<br>max_units: 64<br>momentum: 0.1<br>num_layers: 5<br>weight_decay: 0.03302968267773483<br>OpenML_task_id: 126025<br>epoch: 40",
          "<br><em>Parameterization:</em><br>batch_size: 22<br>learning_rate: 0.0013142424977438834<br>max_dropout: 0.0<br>max_units: 64<br>momentum: 0.1<br>num_layers: 5<br>weight_decay: 0.031630506636572714<br>OpenML_task_id: 126025<br>epoch: 40",
          "<br><em>Parameterization:</em><br>batch_size: 22<br>learning_rate: 0.0013822059288753278<br>max_dropout: 0.0<br>max_units: 64<br>momentum: 0.1<br>num_layers: 5<br>weight_decay: 0.032132677140625295<br>OpenML_task_id: 126025<br>epoch: 40",
          "<br><em>Parameterization:</em><br>batch_size: 22<br>learning_rate: 0.0013537846744962377<br>max_dropout: 0.0<br>max_units: 64<br>momentum: 0.1<br>num_layers: 5<br>weight_decay: 0.031994205749787084<br>OpenML_task_id: 126025<br>epoch: 40",
          "<br><em>Parameterization:</em><br>batch_size: 22<br>learning_rate: 0.0013657773820182088<br>max_dropout: 0.0<br>max_units: 64<br>momentum: 0.1<br>num_layers: 5<br>weight_decay: 0.031835627639348406<br>OpenML_task_id: 126025<br>epoch: 40",
          "<br><em>Parameterization:</em><br>batch_size: 22<br>learning_rate: 0.0013410539918453609<br>max_dropout: 0.0<br>max_units: 64<br>momentum: 0.1<br>num_layers: 5<br>weight_decay: 0.03197009989488134<br>OpenML_task_id: 126025<br>epoch: 40",
          "<br><em>Parameterization:</em><br>batch_size: 22<br>learning_rate: 0.001443959128430112<br>max_dropout: 0.0<br>max_units: 64<br>momentum: 0.1<br>num_layers: 5<br>weight_decay: 0.031451854428025776<br>OpenML_task_id: 126025<br>epoch: 40",
          "<br><em>Parameterization:</em><br>batch_size: 22<br>learning_rate: 0.0014056365194597931<br>max_dropout: 0.0<br>max_units: 64<br>momentum: 0.1<br>num_layers: 5<br>weight_decay: 0.03155858971383336<br>OpenML_task_id: 126025<br>epoch: 40",
          "<br><em>Parameterization:</em><br>batch_size: 22<br>learning_rate: 0.0014142783607070898<br>max_dropout: 0.0<br>max_units: 64<br>momentum: 0.1<br>num_layers: 5<br>weight_decay: 0.03140230260878347<br>OpenML_task_id: 126025<br>epoch: 40",
          "<br><em>Parameterization:</em><br>batch_size: 22<br>learning_rate: 0.0014892214167664297<br>max_dropout: 0.0<br>max_units: 64<br>momentum: 0.1<br>num_layers: 5<br>weight_decay: 0.03068450068273323<br>OpenML_task_id: 126025<br>epoch: 40",
          "<br><em>Parameterization:</em><br>batch_size: 22<br>learning_rate: 0.0014618888275072172<br>max_dropout: 0.0<br>max_units: 64<br>momentum: 0.1<br>num_layers: 5<br>weight_decay: 0.030915432771053058<br>OpenML_task_id: 126025<br>epoch: 40",
          "<br><em>Parameterization:</em><br>batch_size: 22<br>learning_rate: 0.0014625903682521147<br>max_dropout: 0.0<br>max_units: 64<br>momentum: 0.1<br>num_layers: 5<br>weight_decay: 0.031080307614137454<br>OpenML_task_id: 126025<br>epoch: 40",
          "<br><em>Parameterization:</em><br>batch_size: 22<br>learning_rate: 0.0014631390550236018<br>max_dropout: 0.0<br>max_units: 64<br>momentum: 0.1<br>num_layers: 5<br>weight_decay: 0.030940437336791284<br>OpenML_task_id: 126025<br>epoch: 40",
          "<br><em>Parameterization:</em><br>batch_size: 22<br>learning_rate: 0.0015047147833053432<br>max_dropout: 0.0<br>max_units: 64<br>momentum: 0.1<br>num_layers: 5<br>weight_decay: 0.030265704573500012<br>OpenML_task_id: 126025<br>epoch: 40",
          "<br><em>Parameterization:</em><br>batch_size: 22<br>learning_rate: 0.001480391360802498<br>max_dropout: 0.0<br>max_units: 64<br>momentum: 0.1<br>num_layers: 5<br>weight_decay: 0.03066631787944536<br>OpenML_task_id: 126025<br>epoch: 40",
          "<br><em>Parameterization:</em><br>batch_size: 22<br>learning_rate: 0.0015383128668850317<br>max_dropout: 0.0<br>max_units: 64<br>momentum: 0.1<br>num_layers: 5<br>weight_decay: 0.02990619487228166<br>OpenML_task_id: 126025<br>epoch: 40",
          "<br><em>Parameterization:</em><br>batch_size: 22<br>learning_rate: 0.0014917406181687183<br>max_dropout: 0.0<br>max_units: 64<br>momentum: 0.1<br>num_layers: 5<br>weight_decay: 0.03061124019675877<br>OpenML_task_id: 126025<br>epoch: 40",
          "<br><em>Parameterization:</em><br>batch_size: 22<br>learning_rate: 0.0014983164109134395<br>max_dropout: 0.0<br>max_units: 64<br>momentum: 0.1<br>num_layers: 5<br>weight_decay: 0.030488808158225033<br>OpenML_task_id: 126025<br>epoch: 40",
          "<br><em>Parameterization:</em><br>batch_size: 22<br>learning_rate: 0.001536973776471094<br>max_dropout: 0.0<br>max_units: 64<br>momentum: 0.1<br>num_layers: 5<br>weight_decay: 0.029919740085172314<br>OpenML_task_id: 126025<br>epoch: 40",
          "<br><em>Parameterization:</em><br>batch_size: 22<br>learning_rate: 0.0014943349179965786<br>max_dropout: 0.0<br>max_units: 64<br>momentum: 0.1<br>num_layers: 5<br>weight_decay: 0.030638746543849522<br>OpenML_task_id: 126025<br>epoch: 40",
          "<br><em>Parameterization:</em><br>batch_size: 22<br>learning_rate: 0.0016211727117203905<br>max_dropout: 0.0<br>max_units: 64<br>momentum: 0.1<br>num_layers: 5<br>weight_decay: 0.02959937336521891<br>OpenML_task_id: 126025<br>epoch: 40",
          "<br><em>Parameterization:</em><br>batch_size: 22<br>learning_rate: 0.001545942221476122<br>max_dropout: 0.0<br>max_units: 64<br>momentum: 0.1<br>num_layers: 5<br>weight_decay: 0.03079829531296743<br>OpenML_task_id: 126025<br>epoch: 40",
          "<br><em>Parameterization:</em><br>batch_size: 22<br>learning_rate: 0.001598765824057449<br>max_dropout: 0.0<br>max_units: 64<br>momentum: 0.1<br>num_layers: 5<br>weight_decay: 0.030383814527828606<br>OpenML_task_id: 126025<br>epoch: 40",
          "<br><em>Parameterization:</em><br>batch_size: 22<br>learning_rate: 0.0015891907528549232<br>max_dropout: 0.0<br>max_units: 64<br>momentum: 0.1<br>num_layers: 5<br>weight_decay: 0.03116721474049657<br>OpenML_task_id: 126025<br>epoch: 40",
          "<br><em>Parameterization:</em><br>batch_size: 22<br>learning_rate: 0.0017236483179277372<br>max_dropout: 0.0<br>max_units: 64<br>momentum: 0.1<br>num_layers: 5<br>weight_decay: 0.030524524857947474<br>OpenML_task_id: 126025<br>epoch: 40",
          "<br><em>Parameterization:</em><br>batch_size: 22<br>learning_rate: 0.0019456697005920112<br>max_dropout: 0.0<br>max_units: 64<br>momentum: 0.1<br>num_layers: 5<br>weight_decay: 0.030858940154521775<br>OpenML_task_id: 126025<br>epoch: 40",
          "<br><em>Parameterization:</em><br>batch_size: 22<br>learning_rate: 0.0019378926141196836<br>max_dropout: 0.0<br>max_units: 64<br>momentum: 0.1<br>num_layers: 5<br>weight_decay: 0.03309399824050061<br>OpenML_task_id: 126025<br>epoch: 40",
          "<br><em>Parameterization:</em><br>batch_size: 21<br>learning_rate: 0.0024031944780401717<br>max_dropout: 0.0<br>max_units: 64<br>momentum: 0.1<br>num_layers: 5<br>weight_decay: 0.0323004192851887<br>OpenML_task_id: 126025<br>epoch: 40",
          "<br><em>Parameterization:</em><br>batch_size: 21<br>learning_rate: 0.002143934437984858<br>max_dropout: 0.0<br>max_units: 64<br>momentum: 0.1<br>num_layers: 5<br>weight_decay: 0.03408276257129711<br>OpenML_task_id: 126025<br>epoch: 40",
          "<br><em>Parameterization:</em><br>batch_size: 21<br>learning_rate: 0.002203765445738027<br>max_dropout: 0.0<br>max_units: 64<br>momentum: 0.1<br>num_layers: 5<br>weight_decay: 0.033835042721071996<br>OpenML_task_id: 126025<br>epoch: 40",
          "<br><em>Parameterization:</em><br>batch_size: 20<br>learning_rate: 0.0022116683518282358<br>max_dropout: 0.0<br>max_units: 64<br>momentum: 0.1<br>num_layers: 5<br>weight_decay: 0.03389786272142282<br>OpenML_task_id: 126025<br>epoch: 40",
          "<br><em>Parameterization:</em><br>batch_size: 20<br>learning_rate: 0.0025122977551458214<br>max_dropout: 0.0<br>max_units: 64<br>momentum: 0.1<br>num_layers: 5<br>weight_decay: 0.03322848250630332<br>OpenML_task_id: 126025<br>epoch: 40",
          "<br><em>Parameterization:</em><br>batch_size: 20<br>learning_rate: 0.0021284242688383434<br>max_dropout: 0.0<br>max_units: 64<br>momentum: 0.1<br>num_layers: 5<br>weight_decay: 0.034077729833843044<br>OpenML_task_id: 126025<br>epoch: 40",
          "<br><em>Parameterization:</em><br>batch_size: 19<br>learning_rate: 0.0022323704359546214<br>max_dropout: 0.0<br>max_units: 64<br>momentum: 0.1<br>num_layers: 5<br>weight_decay: 0.03361220896347334<br>OpenML_task_id: 126025<br>epoch: 40",
          "<br><em>Parameterization:</em><br>batch_size: 19<br>learning_rate: 0.002072483521174213<br>max_dropout: 0.0<br>max_units: 64<br>momentum: 0.1<br>num_layers: 5<br>weight_decay: 0.03399330724197472<br>OpenML_task_id: 126025<br>epoch: 40",
          "<br><em>Parameterization:</em><br>batch_size: 18<br>learning_rate: 0.0020619463290999364<br>max_dropout: 0.0<br>max_units: 64<br>momentum: 0.1<br>num_layers: 5<br>weight_decay: 0.033731454076468034<br>OpenML_task_id: 126025<br>epoch: 40",
          "<br><em>Parameterization:</em><br>batch_size: 17<br>learning_rate: 0.0020121546218647437<br>max_dropout: 0.0<br>max_units: 64<br>momentum: 0.1<br>num_layers: 5<br>weight_decay: 0.033595471973870694<br>OpenML_task_id: 126025<br>epoch: 40",
          "<br><em>Parameterization:</em><br>batch_size: 16<br>learning_rate: 0.0019171523061249527<br>max_dropout: 0.0<br>max_units: 64<br>momentum: 0.1<br>num_layers: 5<br>weight_decay: 0.03370444169861254<br>OpenML_task_id: 126025<br>epoch: 40",
          "<br><em>Parameterization:</em><br>batch_size: 16<br>learning_rate: 0.0019260955018685095<br>max_dropout: 0.0<br>max_units: 64<br>momentum: 0.1<br>num_layers: 5<br>weight_decay: 0.03331041929341482<br>OpenML_task_id: 126025<br>epoch: 40",
          "<br><em>Parameterization:</em><br>batch_size: 16<br>learning_rate: 0.0022122502976706965<br>max_dropout: 0.0<br>max_units: 64<br>momentum: 0.1<br>num_layers: 5<br>weight_decay: 0.03228902523806606<br>OpenML_task_id: 126025<br>epoch: 40",
          "<br><em>Parameterization:</em><br>batch_size: 16<br>learning_rate: 0.0018573899224056652<br>max_dropout: 0.0<br>max_units: 66<br>momentum: 0.1<br>num_layers: 5<br>weight_decay: 0.03365016565377715<br>OpenML_task_id: 126025<br>epoch: 40",
          "<br><em>Parameterization:</em><br>batch_size: 16<br>learning_rate: 0.0020349634392260786<br>max_dropout: 0.0<br>max_units: 64<br>momentum: 0.1<br>num_layers: 5<br>weight_decay: 0.03265348399123246<br>OpenML_task_id: 126025<br>epoch: 40",
          "<br><em>Parameterization:</em><br>batch_size: 16<br>learning_rate: 0.0018472298442726888<br>max_dropout: 0.0<br>max_units: 68<br>momentum: 0.1<br>num_layers: 5<br>weight_decay: 0.03364523411002691<br>OpenML_task_id: 126025<br>epoch: 40",
          "<br><em>Parameterization:</em><br>batch_size: 16<br>learning_rate: 0.0020867225281165115<br>max_dropout: 0.0<br>max_units: 64<br>momentum: 0.1<br>num_layers: 5<br>weight_decay: 0.03238640930198124<br>OpenML_task_id: 126025<br>epoch: 40",
          "<br><em>Parameterization:</em><br>batch_size: 16<br>learning_rate: 0.001832885898181721<br>max_dropout: 0.0<br>max_units: 71<br>momentum: 0.1<br>num_layers: 5<br>weight_decay: 0.03372676948784081<br>OpenML_task_id: 126025<br>epoch: 40",
          "<br><em>Parameterization:</em><br>batch_size: 16<br>learning_rate: 0.0017991811894031004<br>max_dropout: 0.0<br>max_units: 74<br>momentum: 0.1<br>num_layers: 5<br>weight_decay: 0.03397776985709158<br>OpenML_task_id: 126025<br>epoch: 40",
          "<br><em>Parameterization:</em><br>batch_size: 16<br>learning_rate: 0.0017862401017733687<br>max_dropout: 0.0<br>max_units: 76<br>momentum: 0.1<br>num_layers: 5<br>weight_decay: 0.03402354575466782<br>OpenML_task_id: 126025<br>epoch: 40",
          "<br><em>Parameterization:</em><br>batch_size: 16<br>learning_rate: 0.0018323722359571562<br>max_dropout: 0.0<br>max_units: 76<br>momentum: 0.1<br>num_layers: 5<br>weight_decay: 0.033714731108086454<br>OpenML_task_id: 126025<br>epoch: 40",
          "<br><em>Parameterization:</em><br>batch_size: 16<br>learning_rate: 0.0017996569385562461<br>max_dropout: 0.0<br>max_units: 77<br>momentum: 0.1<br>num_layers: 5<br>weight_decay: 0.033908873747154<br>OpenML_task_id: 126025<br>epoch: 40",
          "<br><em>Parameterization:</em><br>batch_size: 16<br>learning_rate: 0.0019106072749930922<br>max_dropout: 0.0<br>max_units: 73<br>momentum: 0.1<br>num_layers: 5<br>weight_decay: 0.03323567724518061<br>OpenML_task_id: 126025<br>epoch: 40",
          "<br><em>Parameterization:</em><br>batch_size: 16<br>learning_rate: 0.0021180753154043026<br>max_dropout: 0.0<br>max_units: 65<br>momentum: 0.1<br>num_layers: 5<br>weight_decay: 0.032208757694841425<br>OpenML_task_id: 126025<br>epoch: 40",
          "<br><em>Parameterization:</em><br>batch_size: 16<br>learning_rate: 0.0018606849180384855<br>max_dropout: 0.0<br>max_units: 75<br>momentum: 0.1<br>num_layers: 5<br>weight_decay: 0.03352649310827411<br>OpenML_task_id: 126025<br>epoch: 40",
          "<br><em>Parameterization:</em><br>batch_size: 16<br>learning_rate: 0.0018598931826919454<br>max_dropout: 0.0<br>max_units: 75<br>momentum: 0.1<br>num_layers: 5<br>weight_decay: 0.03352400849152466<br>OpenML_task_id: 126025<br>epoch: 40",
          "<br><em>Parameterization:</em><br>batch_size: 16<br>learning_rate: 0.0018780387662164643<br>max_dropout: 0.0<br>max_units: 74<br>momentum: 0.1<br>num_layers: 5<br>weight_decay: 0.03341274278300257<br>OpenML_task_id: 126025<br>epoch: 40",
          "<br><em>Parameterization:</em><br>batch_size: 16<br>learning_rate: 0.001774533069074266<br>max_dropout: 0.0<br>max_units: 78<br>momentum: 0.1<br>num_layers: 5<br>weight_decay: 0.034119058801265006<br>OpenML_task_id: 126025<br>epoch: 40",
          "<br><em>Parameterization:</em><br>batch_size: 16<br>learning_rate: 0.001893592386437565<br>max_dropout: 0.0<br>max_units: 74<br>momentum: 0.1<br>num_layers: 5<br>weight_decay: 0.03331550000621247<br>OpenML_task_id: 126025<br>epoch: 40",
          "<br><em>Parameterization:</em><br>batch_size: 16<br>learning_rate: 0.001975107441076353<br>max_dropout: 0.0<br>max_units: 71<br>momentum: 0.1<br>num_layers: 5<br>weight_decay: 0.032868507382886075<br>OpenML_task_id: 126025<br>epoch: 40",
          "<br><em>Parameterization:</em><br>batch_size: 16<br>learning_rate: 0.0017896843142672632<br>max_dropout: 0.0<br>max_units: 78<br>momentum: 0.1<br>num_layers: 5<br>weight_decay: 0.03392794919941807<br>OpenML_task_id: 126025<br>epoch: 40",
          "<br><em>Parameterization:</em><br>batch_size: 16<br>learning_rate: 0.0017695436234746098<br>max_dropout: 0.0<br>max_units: 78<br>momentum: 0.1<br>num_layers: 5<br>weight_decay: 0.03417159857685266<br>OpenML_task_id: 126025<br>epoch: 40",
          "<br><em>Parameterization:</em><br>batch_size: 16<br>learning_rate: 0.0018022384735278368<br>max_dropout: 0.0<br>max_units: 78<br>momentum: 0.1<br>num_layers: 5<br>weight_decay: 0.03383811492583<br>OpenML_task_id: 126025<br>epoch: 40",
          "<br><em>Parameterization:</em><br>batch_size: 16<br>learning_rate: 0.0017618944701437115<br>max_dropout: 0.0<br>max_units: 80<br>momentum: 0.1<br>num_layers: 5<br>weight_decay: 0.034093143975155386<br>OpenML_task_id: 126025<br>epoch: 40",
          "<br><em>Parameterization:</em><br>batch_size: 16<br>learning_rate: 0.00196407654323296<br>max_dropout: 0.0<br>max_units: 71<br>momentum: 0.1<br>num_layers: 5<br>weight_decay: 0.0329027797567991<br>OpenML_task_id: 126025<br>epoch: 40",
          "<br><em>Parameterization:</em><br>batch_size: 16<br>learning_rate: 0.0017695203501979187<br>max_dropout: 0.0<br>max_units: 80<br>momentum: 0.1<br>num_layers: 5<br>weight_decay: 0.03401974040382022<br>OpenML_task_id: 126025<br>epoch: 40",
          "<br><em>Parameterization:</em><br>batch_size: 16<br>learning_rate: 0.0018385709756340916<br>max_dropout: 0.0<br>max_units: 77<br>momentum: 0.1<br>num_layers: 5<br>weight_decay: 0.03358495938398354<br>OpenML_task_id: 126025<br>epoch: 40",
          "<br><em>Parameterization:</em><br>batch_size: 16<br>learning_rate: 0.0020438004503704776<br>max_dropout: 0.0<br>max_units: 68<br>momentum: 0.1<br>num_layers: 5<br>weight_decay: 0.032501207088856246<br>OpenML_task_id: 126025<br>epoch: 40",
          "<br><em>Parameterization:</em><br>batch_size: 16<br>learning_rate: 0.002045926711354643<br>max_dropout: 0.0<br>max_units: 68<br>momentum: 0.1<br>num_layers: 5<br>weight_decay: 0.032493359426747824<br>OpenML_task_id: 126025<br>epoch: 40",
          "<br><em>Parameterization:</em><br>batch_size: 16<br>learning_rate: 0.0017630460267704137<br>max_dropout: 0.0<br>max_units: 80<br>momentum: 0.1<br>num_layers: 5<br>weight_decay: 0.03404008619763707<br>OpenML_task_id: 126025<br>epoch: 40",
          "<br><em>Parameterization:</em><br>batch_size: 16<br>learning_rate: 0.0018871491903121372<br>max_dropout: 0.0<br>max_units: 75<br>momentum: 0.1<br>num_layers: 5<br>weight_decay: 0.033292771583716955<br>OpenML_task_id: 126025<br>epoch: 40",
          "<br><em>Parameterization:</em><br>batch_size: 16<br>learning_rate: 0.0017528130244206797<br>max_dropout: 0.0<br>max_units: 80<br>momentum: 0.1<br>num_layers: 5<br>weight_decay: 0.034153046416626316<br>OpenML_task_id: 126025<br>epoch: 40",
          "<br><em>Parameterization:</em><br>batch_size: 16<br>learning_rate: 0.0017894697561698187<br>max_dropout: 0.0<br>max_units: 79<br>momentum: 0.1<br>num_layers: 5<br>weight_decay: 0.03384821084361998<br>OpenML_task_id: 126025<br>epoch: 40",
          "<br><em>Parameterization:</em><br>batch_size: 16<br>learning_rate: 0.0017473886852916874<br>max_dropout: 0.0<br>max_units: 81<br>momentum: 0.1<br>num_layers: 5<br>weight_decay: 0.034124070870678286<br>OpenML_task_id: 126025<br>epoch: 40",
          "<br><em>Parameterization:</em><br>batch_size: 16<br>learning_rate: 0.0017563771369082098<br>max_dropout: 0.0<br>max_units: 80<br>momentum: 0.1<br>num_layers: 5<br>weight_decay: 0.03403055984933117<br>OpenML_task_id: 126025<br>epoch: 40",
          "<br><em>Parameterization:</em><br>batch_size: 16<br>learning_rate: 0.0018021276777763385<br>max_dropout: 0.0<br>max_units: 78<br>momentum: 0.1<br>num_layers: 5<br>weight_decay: 0.03373744516017604<br>OpenML_task_id: 126025<br>epoch: 40",
          "<br><em>Parameterization:</em><br>batch_size: 16<br>learning_rate: 0.0017413154722604601<br>max_dropout: 0.0<br>max_units: 81<br>momentum: 0.1<br>num_layers: 5<br>weight_decay: 0.0341197817619457<br>OpenML_task_id: 126025<br>epoch: 40",
          "<br><em>Parameterization:</em><br>batch_size: 16<br>learning_rate: 0.0022326183689978956<br>max_dropout: 0.0<br>max_units: 64<br>momentum: 0.1<br>num_layers: 5<br>weight_decay: 0.03188821042959508<br>OpenML_task_id: 126025<br>epoch: 40",
          "<br><em>Parameterization:</em><br>batch_size: 16<br>learning_rate: 0.0017410732551995309<br>max_dropout: 0.0<br>max_units: 80<br>momentum: 0.1<br>num_layers: 5<br>weight_decay: 0.03419213613092934<br>OpenML_task_id: 126025<br>epoch: 40",
          "<br><em>Parameterization:</em><br>batch_size: 16<br>learning_rate: 0.0017981158356087585<br>max_dropout: 0.0<br>max_units: 79<br>momentum: 0.1<br>num_layers: 5<br>weight_decay: 0.03373804158834042<br>OpenML_task_id: 126025<br>epoch: 40",
          "<br><em>Parameterization:</em><br>batch_size: 16<br>learning_rate: 0.0017691312185609137<br>max_dropout: 0.0<br>max_units: 80<br>momentum: 0.1<br>num_layers: 5<br>weight_decay: 0.03390700299678477<br>OpenML_task_id: 126025<br>epoch: 40",
          "<br><em>Parameterization:</em><br>batch_size: 16<br>learning_rate: 0.0017636509004354355<br>max_dropout: 0.0<br>max_units: 80<br>momentum: 0.1<br>num_layers: 5<br>weight_decay: 0.033929242616203774<br>OpenML_task_id: 126025<br>epoch: 40",
          "<br><em>Parameterization:</em><br>batch_size: 16<br>learning_rate: 0.0019234272401366795<br>max_dropout: 0.0<br>max_units: 73<br>momentum: 0.1<br>num_layers: 5<br>weight_decay: 0.03301180270792752<br>OpenML_task_id: 126025<br>epoch: 40",
          "<br><em>Parameterization:</em><br>batch_size: 16<br>learning_rate: 0.0018741470255488396<br>max_dropout: 0.0<br>max_units: 75<br>momentum: 0.1<br>num_layers: 5<br>weight_decay: 0.03327353068841609<br>OpenML_task_id: 126025<br>epoch: 40",
          "<br><em>Parameterization:</em><br>batch_size: 16<br>learning_rate: 0.0017345757922854824<br>max_dropout: 0.0<br>max_units: 80<br>momentum: 0.1<br>num_layers: 5<br>weight_decay: 0.034199000671210296<br>OpenML_task_id: 126025<br>epoch: 40",
          "<br><em>Parameterization:</em><br>batch_size: 16<br>learning_rate: 0.001975443453264055<br>max_dropout: 0.0<br>max_units: 71<br>momentum: 0.1<br>num_layers: 5<br>weight_decay: 0.03273887446422361<br>OpenML_task_id: 126025<br>epoch: 40",
          "<br><em>Parameterization:</em><br>batch_size: 16<br>learning_rate: 0.0018052535922802933<br>max_dropout: 0.0<br>max_units: 78<br>momentum: 0.1<br>num_layers: 5<br>weight_decay: 0.03365075334203495<br>OpenML_task_id: 126025<br>epoch: 40",
          "<br><em>Parameterization:</em><br>batch_size: 16<br>learning_rate: 0.0017794637047890776<br>max_dropout: 0.0<br>max_units: 79<br>momentum: 0.1<br>num_layers: 5<br>weight_decay: 0.03380007443872774<br>OpenML_task_id: 126025<br>epoch: 40",
          "<br><em>Parameterization:</em><br>batch_size: 16<br>learning_rate: 0.001795465798110367<br>max_dropout: 0.0<br>max_units: 79<br>momentum: 0.1<br>num_layers: 5<br>weight_decay: 0.033698792161224525<br>OpenML_task_id: 126025<br>epoch: 40",
          "<br><em>Parameterization:</em><br>batch_size: 16<br>learning_rate: 0.00175475675341856<br>max_dropout: 0.0<br>max_units: 80<br>momentum: 0.1<br>num_layers: 5<br>weight_decay: 0.03393195698731095<br>OpenML_task_id: 126025<br>epoch: 40",
          "<br><em>Parameterization:</em><br>batch_size: 16<br>learning_rate: 0.0020409848499750626<br>max_dropout: 0.0<br>max_units: 68<br>momentum: 0.1<br>num_layers: 5<br>weight_decay: 0.032394179491892265<br>OpenML_task_id: 126025<br>epoch: 40",
          "<br><em>Parameterization:</em><br>batch_size: 16<br>learning_rate: 0.00172618266255645<br>max_dropout: 0.0<br>max_units: 81<br>momentum: 0.1<br>num_layers: 5<br>weight_decay: 0.03414446900285615<br>OpenML_task_id: 126025<br>epoch: 40",
          "<br><em>Parameterization:</em><br>batch_size: 16<br>learning_rate: 0.00180208517272643<br>max_dropout: 0.0<br>max_units: 78<br>momentum: 0.1<br>num_layers: 5<br>weight_decay: 0.03361780650838461<br>OpenML_task_id: 126025<br>epoch: 40",
          "<br><em>Parameterization:</em><br>batch_size: 16<br>learning_rate: 0.0018919365284668379<br>max_dropout: 0.0<br>max_units: 74<br>momentum: 0.1<br>num_layers: 5<br>weight_decay: 0.03310750449091184<br>OpenML_task_id: 126025<br>epoch: 40",
          "<br><em>Parameterization:</em><br>batch_size: 16<br>learning_rate: 0.0018675008293227674<br>max_dropout: 0.0<br>max_units: 75<br>momentum: 0.1<br>num_layers: 5<br>weight_decay: 0.033238144008766776<br>OpenML_task_id: 126025<br>epoch: 40",
          "<br><em>Parameterization:</em><br>batch_size: 16<br>learning_rate: 0.0017318124344992305<br>max_dropout: 0.0<br>max_units: 81<br>momentum: 0.1<br>num_layers: 5<br>weight_decay: 0.03403349587372192<br>OpenML_task_id: 126025<br>epoch: 40",
          "<br><em>Parameterization:</em><br>batch_size: 16<br>learning_rate: 0.0017215555673934925<br>max_dropout: 0.0<br>max_units: 80<br>momentum: 0.1<br>num_layers: 5<br>weight_decay: 0.03418574444832094<br>OpenML_task_id: 126025<br>epoch: 40"
         ],
         "type": "scatter",
         "x": [
          1,
          2,
          3,
          4,
          5,
          6,
          7,
          8,
          9,
          10,
          11,
          12,
          13,
          14,
          15,
          16,
          17,
          18,
          19,
          20,
          21,
          22,
          23,
          24,
          25,
          26,
          27,
          28,
          29,
          30,
          31,
          32,
          33,
          34,
          35,
          36,
          37,
          38,
          39,
          40,
          41,
          42,
          43,
          44,
          45,
          46,
          47,
          48,
          49,
          50,
          51,
          52,
          53,
          54,
          55,
          56,
          57,
          58,
          59,
          60,
          61,
          62,
          63,
          64,
          65,
          66,
          67,
          68,
          69,
          70,
          71,
          72,
          73,
          74,
          75,
          76,
          77,
          78,
          79,
          80,
          81,
          82,
          83,
          84,
          85,
          86,
          87,
          88,
          89,
          90,
          91,
          92,
          93,
          94,
          95,
          96,
          97,
          98,
          99,
          100,
          101,
          102,
          103,
          104,
          105,
          106,
          107,
          108,
          109,
          110,
          111,
          112,
          113,
          114,
          115,
          116,
          117,
          118,
          119,
          120,
          121,
          122,
          123,
          124,
          125,
          126,
          127,
          128,
          129,
          130,
          131,
          132,
          133,
          134,
          135,
          136,
          137,
          138,
          139,
          140,
          141,
          142,
          143,
          144,
          145,
          146,
          147,
          148,
          149,
          150
         ],
         "y": [
          80.77290344238281,
          80.77290344238281,
          80.77290344238281,
          80.77290344238281,
          80.77290344238281,
          80.77290344238281,
          80.77290344238281,
          80.77290344238281,
          89.12958526611328,
          89.12958526611328,
          89.12958526611328,
          89.12958526611328,
          89.12958526611328,
          89.12958526611328,
          89.12958526611328,
          89.12958526611328,
          89.12958526611328,
          89.12958526611328,
          89.12958526611328,
          89.12958526611328,
          89.12958526611328,
          89.12958526611328,
          89.12958526611328,
          89.12958526611328,
          89.12958526611328,
          89.12958526611328,
          89.12958526611328,
          89.12958526611328,
          89.12958526611328,
          89.12958526611328,
          89.12958526611328,
          89.12958526611328,
          90.88577270507812,
          90.88577270507812,
          90.88577270507812,
          90.88577270507812,
          90.88577270507812,
          91.16007995605469,
          91.16007995605469,
          91.48406219482422,
          91.4920883178711,
          91.4920883178711,
          91.4920883178711,
          91.49418640136719,
          91.49418640136719,
          91.49418640136719,
          91.49418640136719,
          91.50779724121094,
          91.51303100585938,
          91.51303100585938,
          91.51303100585938,
          91.52350616455078,
          91.52350616455078,
          91.54375457763672,
          91.54375457763672,
          91.61293029785156,
          91.62062072753906,
          91.62062072753906,
          91.62934875488281,
          91.62934875488281,
          91.62934875488281,
          91.62934875488281,
          91.68284606933594,
          91.68284606933594,
          91.68284606933594,
          91.7216796875,
          91.7216796875,
          91.7216796875,
          91.7216796875,
          91.73357391357422,
          91.73357391357422,
          91.75387573242188,
          91.75387573242188,
          91.75387573242188,
          91.75387573242188,
          91.75387573242188,
          91.79447937011719,
          91.79447937011719,
          91.79447937011719,
          91.79447937011719,
          91.8389663696289,
          91.90204620361328,
          91.90204620361328,
          91.99078369140625,
          91.99078369140625,
          91.99078369140625,
          91.99078369140625,
          91.99078369140625,
          91.99078369140625,
          91.99078369140625,
          91.99078369140625,
          91.99078369140625,
          92.00447082519531,
          92.00657653808594,
          92.02342987060547,
          92.06907653808594,
          92.06907653808594,
          92.06907653808594,
          92.06907653808594,
          92.06907653808594,
          92.06907653808594,
          92.06907653808594,
          92.06907653808594,
          92.06907653808594,
          92.06907653808594,
          92.06907653808594,
          92.06907653808594,
          92.06907653808594,
          92.06907653808594,
          92.06907653808594,
          92.06907653808594,
          92.06907653808594,
          92.06907653808594,
          92.06907653808594,
          92.06907653808594,
          92.06907653808594,
          92.06907653808594,
          92.06907653808594,
          92.06907653808594,
          92.06907653808594,
          92.06907653808594,
          92.06907653808594,
          92.06907653808594,
          92.06907653808594,
          92.06907653808594,
          92.06907653808594,
          92.06907653808594,
          92.06907653808594,
          92.06907653808594,
          92.06907653808594,
          92.06907653808594,
          92.06907653808594,
          92.06907653808594,
          92.06907653808594,
          92.06907653808594,
          92.06907653808594,
          92.06907653808594,
          92.06907653808594,
          92.06907653808594,
          92.06907653808594,
          92.06907653808594,
          92.06907653808594,
          92.06907653808594,
          92.06907653808594,
          92.06907653808594,
          92.06907653808594,
          92.06907653808594,
          92.06907653808594,
          92.06907653808594,
          92.06907653808594
         ]
        },
        {
         "fill": "tonexty",
         "fillcolor": "rgba(128,177,211,0.3)",
         "hoverinfo": "none",
         "legendgroup": "",
         "line": {
          "width": 0
         },
         "mode": "lines",
         "showlegend": false,
         "type": "scatter",
         "x": [
          1,
          2,
          3,
          4,
          5,
          6,
          7,
          8,
          9,
          10,
          11,
          12,
          13,
          14,
          15,
          16,
          17,
          18,
          19,
          20,
          21,
          22,
          23,
          24,
          25,
          26,
          27,
          28,
          29,
          30,
          31,
          32,
          33,
          34,
          35,
          36,
          37,
          38,
          39,
          40,
          41,
          42,
          43,
          44,
          45,
          46,
          47,
          48,
          49,
          50,
          51,
          52,
          53,
          54,
          55,
          56,
          57,
          58,
          59,
          60,
          61,
          62,
          63,
          64,
          65,
          66,
          67,
          68,
          69,
          70,
          71,
          72,
          73,
          74,
          75,
          76,
          77,
          78,
          79,
          80,
          81,
          82,
          83,
          84,
          85,
          86,
          87,
          88,
          89,
          90,
          91,
          92,
          93,
          94,
          95,
          96,
          97,
          98,
          99,
          100,
          101,
          102,
          103,
          104,
          105,
          106,
          107,
          108,
          109,
          110,
          111,
          112,
          113,
          114,
          115,
          116,
          117,
          118,
          119,
          120,
          121,
          122,
          123,
          124,
          125,
          126,
          127,
          128,
          129,
          130,
          131,
          132,
          133,
          134,
          135,
          136,
          137,
          138,
          139,
          140,
          141,
          142,
          143,
          144,
          145,
          146,
          147,
          148,
          149,
          150
         ],
         "y": [
          80.77290344238281,
          80.77290344238281,
          80.77290344238281,
          80.77290344238281,
          80.77290344238281,
          80.77290344238281,
          80.77290344238281,
          80.77290344238281,
          89.12958526611328,
          89.12958526611328,
          89.12958526611328,
          89.12958526611328,
          89.12958526611328,
          89.12958526611328,
          89.12958526611328,
          89.12958526611328,
          89.12958526611328,
          89.12958526611328,
          89.12958526611328,
          89.12958526611328,
          89.12958526611328,
          89.12958526611328,
          89.12958526611328,
          89.12958526611328,
          89.12958526611328,
          89.12958526611328,
          89.12958526611328,
          89.12958526611328,
          89.12958526611328,
          89.12958526611328,
          89.12958526611328,
          89.12958526611328,
          90.88577270507812,
          90.88577270507812,
          90.88577270507812,
          90.88577270507812,
          90.88577270507812,
          91.16007995605469,
          91.16007995605469,
          91.48406219482422,
          91.4920883178711,
          91.4920883178711,
          91.4920883178711,
          91.49418640136719,
          91.49418640136719,
          91.49418640136719,
          91.49418640136719,
          91.50779724121094,
          91.51303100585938,
          91.51303100585938,
          91.51303100585938,
          91.52350616455078,
          91.52350616455078,
          91.54375457763672,
          91.54375457763672,
          91.61293029785156,
          91.62062072753906,
          91.62062072753906,
          91.62934875488281,
          91.62934875488281,
          91.62934875488281,
          91.62934875488281,
          91.68284606933594,
          91.68284606933594,
          91.68284606933594,
          91.7216796875,
          91.7216796875,
          91.7216796875,
          91.7216796875,
          91.73357391357422,
          91.73357391357422,
          91.75387573242188,
          91.75387573242188,
          91.75387573242188,
          91.75387573242188,
          91.75387573242188,
          91.79447937011719,
          91.79447937011719,
          91.79447937011719,
          91.79447937011719,
          91.8389663696289,
          91.90204620361328,
          91.90204620361328,
          91.99078369140625,
          91.99078369140625,
          91.99078369140625,
          91.99078369140625,
          91.99078369140625,
          91.99078369140625,
          91.99078369140625,
          91.99078369140625,
          91.99078369140625,
          92.00447082519531,
          92.00657653808594,
          92.02342987060547,
          92.06907653808594,
          92.06907653808594,
          92.06907653808594,
          92.06907653808594,
          92.06907653808594,
          92.06907653808594,
          92.06907653808594,
          92.06907653808594,
          92.06907653808594,
          92.06907653808594,
          92.06907653808594,
          92.06907653808594,
          92.06907653808594,
          92.06907653808594,
          92.06907653808594,
          92.06907653808594,
          92.06907653808594,
          92.06907653808594,
          92.06907653808594,
          92.06907653808594,
          92.06907653808594,
          92.06907653808594,
          92.06907653808594,
          92.06907653808594,
          92.06907653808594,
          92.06907653808594,
          92.06907653808594,
          92.06907653808594,
          92.06907653808594,
          92.06907653808594,
          92.06907653808594,
          92.06907653808594,
          92.06907653808594,
          92.06907653808594,
          92.06907653808594,
          92.06907653808594,
          92.06907653808594,
          92.06907653808594,
          92.06907653808594,
          92.06907653808594,
          92.06907653808594,
          92.06907653808594,
          92.06907653808594,
          92.06907653808594,
          92.06907653808594,
          92.06907653808594,
          92.06907653808594,
          92.06907653808594,
          92.06907653808594,
          92.06907653808594,
          92.06907653808594,
          92.06907653808594,
          92.06907653808594,
          92.06907653808594,
          92.06907653808594
         ]
        },
        {
         "line": {
          "color": "rgba(253,180,98,1)",
          "dash": "dash"
         },
         "mode": "lines",
         "name": "Optimum",
         "type": "scatter",
         "x": [
          1,
          150
         ],
         "y": [
          96.51996,
          96.51996
         ]
        },
        {
         "line": {
          "color": "rgba(141,211,199,1)",
          "dash": "dash"
         },
         "mode": "lines",
         "name": "model change",
         "type": "scatter",
         "x": [
          30,
          30
         ],
         "y": [
          80.77290344238281,
          96.51996
         ]
        }
       ],
       "layout": {
        "showlegend": true,
        "template": {
         "data": {
          "bar": [
           {
            "error_x": {
             "color": "#2a3f5f"
            },
            "error_y": {
             "color": "#2a3f5f"
            },
            "marker": {
             "line": {
              "color": "#E5ECF6",
              "width": 0.5
             },
             "pattern": {
              "fillmode": "overlay",
              "size": 10,
              "solidity": 0.2
             }
            },
            "type": "bar"
           }
          ],
          "barpolar": [
           {
            "marker": {
             "line": {
              "color": "#E5ECF6",
              "width": 0.5
             },
             "pattern": {
              "fillmode": "overlay",
              "size": 10,
              "solidity": 0.2
             }
            },
            "type": "barpolar"
           }
          ],
          "carpet": [
           {
            "aaxis": {
             "endlinecolor": "#2a3f5f",
             "gridcolor": "white",
             "linecolor": "white",
             "minorgridcolor": "white",
             "startlinecolor": "#2a3f5f"
            },
            "baxis": {
             "endlinecolor": "#2a3f5f",
             "gridcolor": "white",
             "linecolor": "white",
             "minorgridcolor": "white",
             "startlinecolor": "#2a3f5f"
            },
            "type": "carpet"
           }
          ],
          "choropleth": [
           {
            "colorbar": {
             "outlinewidth": 0,
             "ticks": ""
            },
            "type": "choropleth"
           }
          ],
          "contour": [
           {
            "colorbar": {
             "outlinewidth": 0,
             "ticks": ""
            },
            "colorscale": [
             [
              0,
              "#0d0887"
             ],
             [
              0.1111111111111111,
              "#46039f"
             ],
             [
              0.2222222222222222,
              "#7201a8"
             ],
             [
              0.3333333333333333,
              "#9c179e"
             ],
             [
              0.4444444444444444,
              "#bd3786"
             ],
             [
              0.5555555555555556,
              "#d8576b"
             ],
             [
              0.6666666666666666,
              "#ed7953"
             ],
             [
              0.7777777777777778,
              "#fb9f3a"
             ],
             [
              0.8888888888888888,
              "#fdca26"
             ],
             [
              1,
              "#f0f921"
             ]
            ],
            "type": "contour"
           }
          ],
          "contourcarpet": [
           {
            "colorbar": {
             "outlinewidth": 0,
             "ticks": ""
            },
            "type": "contourcarpet"
           }
          ],
          "heatmap": [
           {
            "colorbar": {
             "outlinewidth": 0,
             "ticks": ""
            },
            "colorscale": [
             [
              0,
              "#0d0887"
             ],
             [
              0.1111111111111111,
              "#46039f"
             ],
             [
              0.2222222222222222,
              "#7201a8"
             ],
             [
              0.3333333333333333,
              "#9c179e"
             ],
             [
              0.4444444444444444,
              "#bd3786"
             ],
             [
              0.5555555555555556,
              "#d8576b"
             ],
             [
              0.6666666666666666,
              "#ed7953"
             ],
             [
              0.7777777777777778,
              "#fb9f3a"
             ],
             [
              0.8888888888888888,
              "#fdca26"
             ],
             [
              1,
              "#f0f921"
             ]
            ],
            "type": "heatmap"
           }
          ],
          "heatmapgl": [
           {
            "colorbar": {
             "outlinewidth": 0,
             "ticks": ""
            },
            "colorscale": [
             [
              0,
              "#0d0887"
             ],
             [
              0.1111111111111111,
              "#46039f"
             ],
             [
              0.2222222222222222,
              "#7201a8"
             ],
             [
              0.3333333333333333,
              "#9c179e"
             ],
             [
              0.4444444444444444,
              "#bd3786"
             ],
             [
              0.5555555555555556,
              "#d8576b"
             ],
             [
              0.6666666666666666,
              "#ed7953"
             ],
             [
              0.7777777777777778,
              "#fb9f3a"
             ],
             [
              0.8888888888888888,
              "#fdca26"
             ],
             [
              1,
              "#f0f921"
             ]
            ],
            "type": "heatmapgl"
           }
          ],
          "histogram": [
           {
            "marker": {
             "pattern": {
              "fillmode": "overlay",
              "size": 10,
              "solidity": 0.2
             }
            },
            "type": "histogram"
           }
          ],
          "histogram2d": [
           {
            "colorbar": {
             "outlinewidth": 0,
             "ticks": ""
            },
            "colorscale": [
             [
              0,
              "#0d0887"
             ],
             [
              0.1111111111111111,
              "#46039f"
             ],
             [
              0.2222222222222222,
              "#7201a8"
             ],
             [
              0.3333333333333333,
              "#9c179e"
             ],
             [
              0.4444444444444444,
              "#bd3786"
             ],
             [
              0.5555555555555556,
              "#d8576b"
             ],
             [
              0.6666666666666666,
              "#ed7953"
             ],
             [
              0.7777777777777778,
              "#fb9f3a"
             ],
             [
              0.8888888888888888,
              "#fdca26"
             ],
             [
              1,
              "#f0f921"
             ]
            ],
            "type": "histogram2d"
           }
          ],
          "histogram2dcontour": [
           {
            "colorbar": {
             "outlinewidth": 0,
             "ticks": ""
            },
            "colorscale": [
             [
              0,
              "#0d0887"
             ],
             [
              0.1111111111111111,
              "#46039f"
             ],
             [
              0.2222222222222222,
              "#7201a8"
             ],
             [
              0.3333333333333333,
              "#9c179e"
             ],
             [
              0.4444444444444444,
              "#bd3786"
             ],
             [
              0.5555555555555556,
              "#d8576b"
             ],
             [
              0.6666666666666666,
              "#ed7953"
             ],
             [
              0.7777777777777778,
              "#fb9f3a"
             ],
             [
              0.8888888888888888,
              "#fdca26"
             ],
             [
              1,
              "#f0f921"
             ]
            ],
            "type": "histogram2dcontour"
           }
          ],
          "mesh3d": [
           {
            "colorbar": {
             "outlinewidth": 0,
             "ticks": ""
            },
            "type": "mesh3d"
           }
          ],
          "parcoords": [
           {
            "line": {
             "colorbar": {
              "outlinewidth": 0,
              "ticks": ""
             }
            },
            "type": "parcoords"
           }
          ],
          "pie": [
           {
            "automargin": true,
            "type": "pie"
           }
          ],
          "scatter": [
           {
            "fillpattern": {
             "fillmode": "overlay",
             "size": 10,
             "solidity": 0.2
            },
            "type": "scatter"
           }
          ],
          "scatter3d": [
           {
            "line": {
             "colorbar": {
              "outlinewidth": 0,
              "ticks": ""
             }
            },
            "marker": {
             "colorbar": {
              "outlinewidth": 0,
              "ticks": ""
             }
            },
            "type": "scatter3d"
           }
          ],
          "scattercarpet": [
           {
            "marker": {
             "colorbar": {
              "outlinewidth": 0,
              "ticks": ""
             }
            },
            "type": "scattercarpet"
           }
          ],
          "scattergeo": [
           {
            "marker": {
             "colorbar": {
              "outlinewidth": 0,
              "ticks": ""
             }
            },
            "type": "scattergeo"
           }
          ],
          "scattergl": [
           {
            "marker": {
             "colorbar": {
              "outlinewidth": 0,
              "ticks": ""
             }
            },
            "type": "scattergl"
           }
          ],
          "scattermapbox": [
           {
            "marker": {
             "colorbar": {
              "outlinewidth": 0,
              "ticks": ""
             }
            },
            "type": "scattermapbox"
           }
          ],
          "scatterpolar": [
           {
            "marker": {
             "colorbar": {
              "outlinewidth": 0,
              "ticks": ""
             }
            },
            "type": "scatterpolar"
           }
          ],
          "scatterpolargl": [
           {
            "marker": {
             "colorbar": {
              "outlinewidth": 0,
              "ticks": ""
             }
            },
            "type": "scatterpolargl"
           }
          ],
          "scatterternary": [
           {
            "marker": {
             "colorbar": {
              "outlinewidth": 0,
              "ticks": ""
             }
            },
            "type": "scatterternary"
           }
          ],
          "surface": [
           {
            "colorbar": {
             "outlinewidth": 0,
             "ticks": ""
            },
            "colorscale": [
             [
              0,
              "#0d0887"
             ],
             [
              0.1111111111111111,
              "#46039f"
             ],
             [
              0.2222222222222222,
              "#7201a8"
             ],
             [
              0.3333333333333333,
              "#9c179e"
             ],
             [
              0.4444444444444444,
              "#bd3786"
             ],
             [
              0.5555555555555556,
              "#d8576b"
             ],
             [
              0.6666666666666666,
              "#ed7953"
             ],
             [
              0.7777777777777778,
              "#fb9f3a"
             ],
             [
              0.8888888888888888,
              "#fdca26"
             ],
             [
              1,
              "#f0f921"
             ]
            ],
            "type": "surface"
           }
          ],
          "table": [
           {
            "cells": {
             "fill": {
              "color": "#EBF0F8"
             },
             "line": {
              "color": "white"
             }
            },
            "header": {
             "fill": {
              "color": "#C8D4E3"
             },
             "line": {
              "color": "white"
             }
            },
            "type": "table"
           }
          ]
         },
         "layout": {
          "annotationdefaults": {
           "arrowcolor": "#2a3f5f",
           "arrowhead": 0,
           "arrowwidth": 1
          },
          "autotypenumbers": "strict",
          "coloraxis": {
           "colorbar": {
            "outlinewidth": 0,
            "ticks": ""
           }
          },
          "colorscale": {
           "diverging": [
            [
             0,
             "#8e0152"
            ],
            [
             0.1,
             "#c51b7d"
            ],
            [
             0.2,
             "#de77ae"
            ],
            [
             0.3,
             "#f1b6da"
            ],
            [
             0.4,
             "#fde0ef"
            ],
            [
             0.5,
             "#f7f7f7"
            ],
            [
             0.6,
             "#e6f5d0"
            ],
            [
             0.7,
             "#b8e186"
            ],
            [
             0.8,
             "#7fbc41"
            ],
            [
             0.9,
             "#4d9221"
            ],
            [
             1,
             "#276419"
            ]
           ],
           "sequential": [
            [
             0,
             "#0d0887"
            ],
            [
             0.1111111111111111,
             "#46039f"
            ],
            [
             0.2222222222222222,
             "#7201a8"
            ],
            [
             0.3333333333333333,
             "#9c179e"
            ],
            [
             0.4444444444444444,
             "#bd3786"
            ],
            [
             0.5555555555555556,
             "#d8576b"
            ],
            [
             0.6666666666666666,
             "#ed7953"
            ],
            [
             0.7777777777777778,
             "#fb9f3a"
            ],
            [
             0.8888888888888888,
             "#fdca26"
            ],
            [
             1,
             "#f0f921"
            ]
           ],
           "sequentialminus": [
            [
             0,
             "#0d0887"
            ],
            [
             0.1111111111111111,
             "#46039f"
            ],
            [
             0.2222222222222222,
             "#7201a8"
            ],
            [
             0.3333333333333333,
             "#9c179e"
            ],
            [
             0.4444444444444444,
             "#bd3786"
            ],
            [
             0.5555555555555556,
             "#d8576b"
            ],
            [
             0.6666666666666666,
             "#ed7953"
            ],
            [
             0.7777777777777778,
             "#fb9f3a"
            ],
            [
             0.8888888888888888,
             "#fdca26"
            ],
            [
             1,
             "#f0f921"
            ]
           ]
          },
          "colorway": [
           "#636efa",
           "#EF553B",
           "#00cc96",
           "#ab63fa",
           "#FFA15A",
           "#19d3f3",
           "#FF6692",
           "#B6E880",
           "#FF97FF",
           "#FECB52"
          ],
          "font": {
           "color": "#2a3f5f"
          },
          "geo": {
           "bgcolor": "white",
           "lakecolor": "white",
           "landcolor": "#E5ECF6",
           "showlakes": true,
           "showland": true,
           "subunitcolor": "white"
          },
          "hoverlabel": {
           "align": "left"
          },
          "hovermode": "closest",
          "mapbox": {
           "style": "light"
          },
          "paper_bgcolor": "white",
          "plot_bgcolor": "#E5ECF6",
          "polar": {
           "angularaxis": {
            "gridcolor": "white",
            "linecolor": "white",
            "ticks": ""
           },
           "bgcolor": "#E5ECF6",
           "radialaxis": {
            "gridcolor": "white",
            "linecolor": "white",
            "ticks": ""
           }
          },
          "scene": {
           "xaxis": {
            "backgroundcolor": "#E5ECF6",
            "gridcolor": "white",
            "gridwidth": 2,
            "linecolor": "white",
            "showbackground": true,
            "ticks": "",
            "zerolinecolor": "white"
           },
           "yaxis": {
            "backgroundcolor": "#E5ECF6",
            "gridcolor": "white",
            "gridwidth": 2,
            "linecolor": "white",
            "showbackground": true,
            "ticks": "",
            "zerolinecolor": "white"
           },
           "zaxis": {
            "backgroundcolor": "#E5ECF6",
            "gridcolor": "white",
            "gridwidth": 2,
            "linecolor": "white",
            "showbackground": true,
            "ticks": "",
            "zerolinecolor": "white"
           }
          },
          "shapedefaults": {
           "line": {
            "color": "#2a3f5f"
           }
          },
          "ternary": {
           "aaxis": {
            "gridcolor": "white",
            "linecolor": "white",
            "ticks": ""
           },
           "baxis": {
            "gridcolor": "white",
            "linecolor": "white",
            "ticks": ""
           },
           "bgcolor": "#E5ECF6",
           "caxis": {
            "gridcolor": "white",
            "linecolor": "white",
            "ticks": ""
           }
          },
          "title": {
           "x": 0.05
          },
          "xaxis": {
           "automargin": true,
           "gridcolor": "white",
           "linecolor": "white",
           "ticks": "",
           "title": {
            "standoff": 15
           },
           "zerolinecolor": "white",
           "zerolinewidth": 2
          },
          "yaxis": {
           "automargin": true,
           "gridcolor": "white",
           "linecolor": "white",
           "ticks": "",
           "title": {
            "standoff": 15
           },
           "zerolinecolor": "white",
           "zerolinewidth": 2
          }
         }
        },
        "title": {
         "text": "Model performance vs. # of iterations"
        },
        "xaxis": {
         "title": {
          "text": "Iteration"
         }
        },
        "yaxis": {
         "title": {
          "text": "Accuracy"
         }
        }
       }
      },
      "text/html": [
       "<div>                            <div id=\"9a3a52b7-b91f-4caf-9357-321f2d152338\" class=\"plotly-graph-div\" style=\"height:525px; width:100%;\"></div>            <script type=\"text/javascript\">                require([\"plotly\"], function(Plotly) {                    window.PLOTLYENV=window.PLOTLYENV || {};                                    if (document.getElementById(\"9a3a52b7-b91f-4caf-9357-321f2d152338\")) {                    Plotly.newPlot(                        \"9a3a52b7-b91f-4caf-9357-321f2d152338\",                        [{\"hoverinfo\":\"none\",\"legendgroup\":\"\",\"line\":{\"width\":0},\"mode\":\"lines\",\"showlegend\":false,\"x\":[1,2,3,4,5,6,7,8,9,10,11,12,13,14,15,16,17,18,19,20,21,22,23,24,25,26,27,28,29,30,31,32,33,34,35,36,37,38,39,40,41,42,43,44,45,46,47,48,49,50,51,52,53,54,55,56,57,58,59,60,61,62,63,64,65,66,67,68,69,70,71,72,73,74,75,76,77,78,79,80,81,82,83,84,85,86,87,88,89,90,91,92,93,94,95,96,97,98,99,100,101,102,103,104,105,106,107,108,109,110,111,112,113,114,115,116,117,118,119,120,121,122,123,124,125,126,127,128,129,130,131,132,133,134,135,136,137,138,139,140,141,142,143,144,145,146,147,148,149,150],\"y\":[80.77290344238281,80.77290344238281,80.77290344238281,80.77290344238281,80.77290344238281,80.77290344238281,80.77290344238281,80.77290344238281,89.12958526611328,89.12958526611328,89.12958526611328,89.12958526611328,89.12958526611328,89.12958526611328,89.12958526611328,89.12958526611328,89.12958526611328,89.12958526611328,89.12958526611328,89.12958526611328,89.12958526611328,89.12958526611328,89.12958526611328,89.12958526611328,89.12958526611328,89.12958526611328,89.12958526611328,89.12958526611328,89.12958526611328,89.12958526611328,89.12958526611328,89.12958526611328,90.88577270507812,90.88577270507812,90.88577270507812,90.88577270507812,90.88577270507812,91.16007995605469,91.16007995605469,91.48406219482422,91.4920883178711,91.4920883178711,91.4920883178711,91.49418640136719,91.49418640136719,91.49418640136719,91.49418640136719,91.50779724121094,91.51303100585938,91.51303100585938,91.51303100585938,91.52350616455078,91.52350616455078,91.54375457763672,91.54375457763672,91.61293029785156,91.62062072753906,91.62062072753906,91.62934875488281,91.62934875488281,91.62934875488281,91.62934875488281,91.68284606933594,91.68284606933594,91.68284606933594,91.7216796875,91.7216796875,91.7216796875,91.7216796875,91.73357391357422,91.73357391357422,91.75387573242188,91.75387573242188,91.75387573242188,91.75387573242188,91.75387573242188,91.79447937011719,91.79447937011719,91.79447937011719,91.79447937011719,91.8389663696289,91.90204620361328,91.90204620361328,91.99078369140625,91.99078369140625,91.99078369140625,91.99078369140625,91.99078369140625,91.99078369140625,91.99078369140625,91.99078369140625,91.99078369140625,92.00447082519531,92.00657653808594,92.02342987060547,92.06907653808594,92.06907653808594,92.06907653808594,92.06907653808594,92.06907653808594,92.06907653808594,92.06907653808594,92.06907653808594,92.06907653808594,92.06907653808594,92.06907653808594,92.06907653808594,92.06907653808594,92.06907653808594,92.06907653808594,92.06907653808594,92.06907653808594,92.06907653808594,92.06907653808594,92.06907653808594,92.06907653808594,92.06907653808594,92.06907653808594,92.06907653808594,92.06907653808594,92.06907653808594,92.06907653808594,92.06907653808594,92.06907653808594,92.06907653808594,92.06907653808594,92.06907653808594,92.06907653808594,92.06907653808594,92.06907653808594,92.06907653808594,92.06907653808594,92.06907653808594,92.06907653808594,92.06907653808594,92.06907653808594,92.06907653808594,92.06907653808594,92.06907653808594,92.06907653808594,92.06907653808594,92.06907653808594,92.06907653808594,92.06907653808594,92.06907653808594,92.06907653808594,92.06907653808594,92.06907653808594,92.06907653808594,92.06907653808594],\"type\":\"scatter\"},{\"fill\":\"tonexty\",\"fillcolor\":\"rgba(128,177,211,0.3)\",\"legendgroup\":\"objective value\",\"line\":{\"color\":\"rgba(128,177,211,1)\"},\"mode\":\"lines\",\"name\":\"objective value\",\"text\":[\"<br><em>Parameterization:</em><br>batch_size: 434<br>learning_rate: 0.05245865622518482<br>max_dropout: 0.832322895526886<br>max_units: 188<br>momentum: 0.6163363718986511<br>num_layers: 3<br>weight_decay: 0.05149590876698495<br>OpenML_task_id: 126025<br>epoch: 40\",\"<br><em>Parameterization:</em><br>batch_size: 17<br>learning_rate: 0.0019152801507798301<br>max_dropout: 0.8925559399649501<br>max_units: 211<br>momentum: 0.5380123191140592<br>num_layers: 4<br>weight_decay: 0.0009647530430555344<br>OpenML_task_id: 126025<br>epoch: 40\",\"<br><em>Parameterization:</em><br>batch_size: 24<br>learning_rate: 0.000314526014385355<br>max_dropout: 0.8982956800609827<br>max_units: 110<br>momentum: 0.6078657354041934<br>num_layers: 4<br>weight_decay: 0.012506406747354195<br>OpenML_task_id: 126025<br>epoch: 40\",\"<br><em>Parameterization:</em><br>batch_size: 374<br>learning_rate: 0.0010887489879195613<br>max_dropout: 0.3692569602280855<br>max_units: 89<br>momentum: 0.9040188204310834<br>num_layers: 2<br>weight_decay: 0.07103839175776579<br>OpenML_task_id: 126025<br>epoch: 40\",\"<br><em>Parameterization:</em><br>batch_size: 65<br>learning_rate: 0.00936602569193493<br>max_dropout: 0.455507536418736<br>max_units: 729<br>momentum: 0.20514670859090983<br>num_layers: 5<br>weight_decay: 0.013806106452308595<br>OpenML_task_id: 126025<br>epoch: 40\",\"<br><em>Parameterization:</em><br>batch_size: 151<br>learning_rate: 0.0010333766245166586<br>max_dropout: 0.07314740680158138<br>max_units: 75<br>momentum: 0.779764134241268<br>num_layers: 2<br>weight_decay: 0.051241403481019666<br>OpenML_task_id: 126025<br>epoch: 40\",\"<br><em>Parameterization:</em><br>batch_size: 285<br>learning_rate: 0.00011701913861557804<br>max_dropout: 0.13817670289427042<br>max_units: 368<br>momentum: 0.3740171854291111<br>num_layers: 2<br>weight_decay: 0.05783315522902646<br>OpenML_task_id: 126025<br>epoch: 40\",\"<br><em>Parameterization:</em><br>batch_size: 199<br>learning_rate: 0.00018369332282746752<br>max_dropout: 0.018441292457282543<br>max_units: 87<br>momentum: 0.47209916071966296<br>num_layers: 1<br>weight_decay: 0.07440596047221683<br>OpenML_task_id: 126025<br>epoch: 40\",\"<br><em>Parameterization:</em><br>batch_size: 45<br>learning_rate: 0.003020125411940007<br>max_dropout: 0.1475159078836441<br>max_units: 122<br>momentum: 0.5831803739909083<br>num_layers: 5<br>weight_decay: 0.04521875044344925<br>OpenML_task_id: 126025<br>epoch: 40\",\"<br><em>Parameterization:</em><br>batch_size: 100<br>learning_rate: 0.00010823373017530396<br>max_dropout: 0.8933077659457922<br>max_units: 568<br>momentum: 0.9050174217112362<br>num_layers: 1<br>weight_decay: 0.040233004627814525<br>OpenML_task_id: 126025<br>epoch: 40\",\"<br><em>Parameterization:</em><br>batch_size: 84<br>learning_rate: 0.055487964135028295<br>max_dropout: 0.43297873716801405<br>max_units: 1009<br>momentum: 0.2763858018163592<br>num_layers: 1<br>weight_decay: 0.026125325845591726<br>OpenML_task_id: 126025<br>epoch: 40\",\"<br><em>Parameterization:</em><br>batch_size: 102<br>learning_rate: 0.07281498137117841<br>max_dropout: 0.11014633066952229<br>max_units: 175<br>momentum: 0.9563832649588585<br>num_layers: 2<br>weight_decay: 0.06790023123019376<br>OpenML_task_id: 126025<br>epoch: 40\",\"<br><em>Parameterization:</em><br>batch_size: 96<br>learning_rate: 0.06193062617207338<br>max_dropout: 0.10553758312016726<br>max_units: 65<br>momentum: 0.8671037571597844<br>num_layers: 4<br>weight_decay: 0.07907449452555738<br>OpenML_task_id: 126025<br>epoch: 40\",\"<br><em>Parameterization:</em><br>batch_size: 112<br>learning_rate: 0.05932133266488082<br>max_dropout: 0.4296439355239272<br>max_units: 123<br>momentum: 0.5431964736897499<br>num_layers: 4<br>weight_decay: 0.08969346840500832<br>OpenML_task_id: 126025<br>epoch: 40\",\"<br><em>Parameterization:</em><br>batch_size: 59<br>learning_rate: 0.0007427574118039062<br>max_dropout: 0.3417330561205745<br>max_units: 200<br>momentum: 0.5302389547508211<br>num_layers: 5<br>weight_decay: 0.018522449173359202<br>OpenML_task_id: 126025<br>epoch: 40\",\"<br><em>Parameterization:</em><br>batch_size: 55<br>learning_rate: 0.06927286121464472<br>max_dropout: 0.3221350349485874<br>max_units: 403<br>momentum: 0.7797025254648179<br>num_layers: 1<br>weight_decay: 0.020448696157401428<br>OpenML_task_id: 126025<br>epoch: 40\",\"<br><em>Parameterization:</em><br>batch_size: 26<br>learning_rate: 0.0005583103035778167<br>max_dropout: 0.43017182778567076<br>max_units: 111<br>momentum: 0.8198682474158704<br>num_layers: 4<br>weight_decay: 0.0044987946649827065<br>OpenML_task_id: 126025<br>epoch: 40\",\"<br><em>Parameterization:</em><br>batch_size: 451<br>learning_rate: 0.0005639220956560559<br>max_dropout: 0.9604770904406905<br>max_units: 768<br>momentum: 0.9443820762261749<br>num_layers: 2<br>weight_decay: 0.035838592115519576<br>OpenML_task_id: 126025<br>epoch: 40\",\"<br><em>Parameterization:</em><br>batch_size: 149<br>learning_rate: 0.0033056322036442896<br>max_dropout: 0.1792935272678733<br>max_units: 391<br>momentum: 0.6688500375114381<br>num_layers: 4<br>weight_decay: 0.035088408390181146<br>OpenML_task_id: 126025<br>epoch: 40\",\"<br><em>Parameterization:</em><br>batch_size: 132<br>learning_rate: 0.007058039591812353<br>max_dropout: 0.9743684437125921<br>max_units: 531<br>momentum: 0.553796938881278<br>num_layers: 1<br>weight_decay: 0.057172513777595024<br>OpenML_task_id: 126025<br>epoch: 40\",\"<br><em>Parameterization:</em><br>batch_size: 56<br>learning_rate: 0.0009535663950074484<br>max_dropout: 0.9540992854163051<br>max_units: 134<br>momentum: 0.40496294858865445<br>num_layers: 5<br>weight_decay: 0.09165490925024264<br>OpenML_task_id: 126025<br>epoch: 40\",\"<br><em>Parameterization:</em><br>batch_size: 24<br>learning_rate: 0.06614955454737098<br>max_dropout: 0.47473727725446224<br>max_units: 169<br>momentum: 0.4328301320970058<br>num_layers: 5<br>weight_decay: 0.02802309443644248<br>OpenML_task_id: 126025<br>epoch: 40\",\"<br><em>Parameterization:</em><br>batch_size: 34<br>learning_rate: 0.00039101248883821436<br>max_dropout: 0.9638084899634123<br>max_units: 231<br>momentum: 0.215980245731771<br>num_layers: 1<br>weight_decay: 0.056590538398921496<br>OpenML_task_id: 126025<br>epoch: 40\",\"<br><em>Parameterization:</em><br>batch_size: 26<br>learning_rate: 0.0001543945475916106<br>max_dropout: 0.5128752868622541<br>max_units: 98<br>momentum: 0.9595167427975684<br>num_layers: 4<br>weight_decay: 0.07783778010702692<br>OpenML_task_id: 126025<br>epoch: 40\",\"<br><em>Parameterization:</em><br>batch_size: 143<br>learning_rate: 0.0003445842576201933<br>max_dropout: 0.4025647286325693<br>max_units: 936<br>momentum: 0.8441178109496832<br>num_layers: 5<br>weight_decay: 0.08227444072978571<br>OpenML_task_id: 126025<br>epoch: 40\",\"<br><em>Parameterization:</em><br>batch_size: 26<br>learning_rate: 0.00013252662994513796<br>max_dropout: 0.41116916481405497<br>max_units: 481<br>momentum: 0.44729780044406653<br>num_layers: 1<br>weight_decay: 0.06967591024002061<br>OpenML_task_id: 126025<br>epoch: 40\",\"<br><em>Parameterization:</em><br>batch_size: 406<br>learning_rate: 0.0013492756890702516<br>max_dropout: 0.5695213181897998<br>max_units: 820<br>momentum: 0.5520941775012761<br>num_layers: 1<br>weight_decay: 0.04902954032531009<br>OpenML_task_id: 126025<br>epoch: 40\",\"<br><em>Parameterization:</em><br>batch_size: 65<br>learning_rate: 0.025909395252562358<br>max_dropout: 0.25344770960509777<br>max_units: 157<br>momentum: 0.7061547368392348<br>num_layers: 4<br>weight_decay: 0.08834478528640233<br>OpenML_task_id: 126025<br>epoch: 40\",\"<br><em>Parameterization:</em><br>batch_size: 65<br>learning_rate: 0.021857382237985452<br>max_dropout: 0.9625917822122574<br>max_units: 141<br>momentum: 0.886221156604588<br>num_layers: 4<br>weight_decay: 0.030047608196791264<br>OpenML_task_id: 126025<br>epoch: 40\",\"<br><em>Parameterization:</em><br>batch_size: 119<br>learning_rate: 0.00011825418239887851<br>max_dropout: 0.9504536297172308<br>max_units: 260<br>momentum: 0.7592313144356012<br>num_layers: 4<br>weight_decay: 0.04576518498484046<br>OpenML_task_id: 126025<br>epoch: 40\",\"<br><em>Parameterization:</em><br>batch_size: 16<br>learning_rate: 0.0014234480522749614<br>max_dropout: 0.2485340848820368<br>max_units: 70<br>momentum: 0.5849932161240116<br>num_layers: 5<br>weight_decay: 0.051555699532385375<br>OpenML_task_id: 126025<br>epoch: 40\",\"<br><em>Parameterization:</em><br>batch_size: 147<br>learning_rate: 0.002145809015662898<br>max_dropout: 0.5138617530918338<br>max_units: 71<br>momentum: 0.7394606581530717<br>num_layers: 5<br>weight_decay: 0.052392115153630514<br>OpenML_task_id: 126025<br>epoch: 40\",\"<br><em>Parameterization:</em><br>batch_size: 20<br>learning_rate: 0.001997667720637304<br>max_dropout: 0.2394215749836697<br>max_units: 66<br>momentum: 0.18845208663137158<br>num_layers: 5<br>weight_decay: 0.03768370180102751<br>OpenML_task_id: 126025<br>epoch: 40\",\"<br><em>Parameterization:</em><br>batch_size: 18<br>learning_rate: 0.002459931794719668<br>max_dropout: 0.0660697575073408<br>max_units: 89<br>momentum: 0.8433925425674108<br>num_layers: 5<br>weight_decay: 0.04119397338044254<br>OpenML_task_id: 126025<br>epoch: 40\",\"<br><em>Parameterization:</em><br>batch_size: 31<br>learning_rate: 0.0016282764502127442<br>max_dropout: 0.26998644756711315<br>max_units: 87<br>momentum: 0.1<br>num_layers: 5<br>weight_decay: 0.03830437391015154<br>OpenML_task_id: 126025<br>epoch: 40\",\"<br><em>Parameterization:</em><br>batch_size: 18<br>learning_rate: 0.0026248531026869565<br>max_dropout: 0.17131653707783584<br>max_units: 76<br>momentum: 0.1<br>num_layers: 5<br>weight_decay: 0.04342525446689726<br>OpenML_task_id: 126025<br>epoch: 40\",\"<br><em>Parameterization:</em><br>batch_size: 21<br>learning_rate: 0.0020123177709025684<br>max_dropout: 0.3574059448074891<br>max_units: 67<br>momentum: 0.1<br>num_layers: 5<br>weight_decay: 0.03836446685425683<br>OpenML_task_id: 126025<br>epoch: 40\",\"<br><em>Parameterization:</em><br>batch_size: 20<br>learning_rate: 0.0021341170497317435<br>max_dropout: 0.03507270242705819<br>max_units: 66<br>momentum: 0.25283359533623984<br>num_layers: 5<br>weight_decay: 0.040263907211319894<br>OpenML_task_id: 126025<br>epoch: 40\",\"<br><em>Parameterization:</em><br>batch_size: 21<br>learning_rate: 0.0021571451603396266<br>max_dropout: 0.1406578673303497<br>max_units: 491<br>momentum: 0.31690963827503243<br>num_layers: 5<br>weight_decay: 0.04109483421376083<br>OpenML_task_id: 126025<br>epoch: 40\",\"<br><em>Parameterization:</em><br>batch_size: 25<br>learning_rate: 0.0021069291958709224<br>max_dropout: 0.0<br>max_units: 64<br>momentum: 0.1<br>num_layers: 5<br>weight_decay: 0.03886201276591964<br>OpenML_task_id: 126025<br>epoch: 40\",\"<br><em>Parameterization:</em><br>batch_size: 25<br>learning_rate: 0.0021223448351566153<br>max_dropout: 0.0<br>max_units: 64<br>momentum: 0.1<br>num_layers: 5<br>weight_decay: 0.038809650387379664<br>OpenML_task_id: 126025<br>epoch: 40\",\"<br><em>Parameterization:</em><br>batch_size: 26<br>learning_rate: 0.0019339173109074119<br>max_dropout: 0.0<br>max_units: 64<br>momentum: 0.1<br>num_layers: 5<br>weight_decay: 0.038017188648690796<br>OpenML_task_id: 126025<br>epoch: 40\",\"<br><em>Parameterization:</em><br>batch_size: 26<br>learning_rate: 0.0020077832902377817<br>max_dropout: 0.0<br>max_units: 64<br>momentum: 0.1<br>num_layers: 5<br>weight_decay: 0.03819158769437347<br>OpenML_task_id: 126025<br>epoch: 40\",\"<br><em>Parameterization:</em><br>batch_size: 25<br>learning_rate: 0.0021469997903330665<br>max_dropout: 0.0<br>max_units: 64<br>momentum: 0.1<br>num_layers: 5<br>weight_decay: 0.038857888216794846<br>OpenML_task_id: 126025<br>epoch: 40\",\"<br><em>Parameterization:</em><br>batch_size: 26<br>learning_rate: 0.0019027616987254646<br>max_dropout: 0.0<br>max_units: 64<br>momentum: 0.1<br>num_layers: 5<br>weight_decay: 0.03793467418186857<br>OpenML_task_id: 126025<br>epoch: 40\",\"<br><em>Parameterization:</em><br>batch_size: 26<br>learning_rate: 0.0019004778918962685<br>max_dropout: 0.0<br>max_units: 64<br>momentum: 0.1<br>num_layers: 5<br>weight_decay: 0.0378235802419136<br>OpenML_task_id: 126025<br>epoch: 40\",\"<br><em>Parameterization:</em><br>batch_size: 26<br>learning_rate: 0.001865971970787434<br>max_dropout: 0.0<br>max_units: 64<br>momentum: 0.1<br>num_layers: 5<br>weight_decay: 0.037710471534481406<br>OpenML_task_id: 126025<br>epoch: 40\",\"<br><em>Parameterization:</em><br>batch_size: 25<br>learning_rate: 0.00202662269238375<br>max_dropout: 0.0<br>max_units: 64<br>momentum: 0.1<br>num_layers: 5<br>weight_decay: 0.03818939174483209<br>OpenML_task_id: 126025<br>epoch: 40\",\"<br><em>Parameterization:</em><br>batch_size: 25<br>learning_rate: 0.0020731155045172474<br>max_dropout: 0.0<br>max_units: 64<br>momentum: 0.1<br>num_layers: 5<br>weight_decay: 0.03831242195524563<br>OpenML_task_id: 126025<br>epoch: 40\",\"<br><em>Parameterization:</em><br>batch_size: 26<br>learning_rate: 0.0019062718200478046<br>max_dropout: 0.0<br>max_units: 64<br>momentum: 0.1<br>num_layers: 5<br>weight_decay: 0.03759979197937879<br>OpenML_task_id: 126025<br>epoch: 40\",\"<br><em>Parameterization:</em><br>batch_size: 26<br>learning_rate: 0.0018379495111741318<br>max_dropout: 0.0<br>max_units: 64<br>momentum: 0.1<br>num_layers: 5<br>weight_decay: 0.03737692850632<br>OpenML_task_id: 126025<br>epoch: 40\",\"<br><em>Parameterization:</em><br>batch_size: 25<br>learning_rate: 0.002102546360013693<br>max_dropout: 0.0<br>max_units: 64<br>momentum: 0.1<br>num_layers: 5<br>weight_decay: 0.038272450069118606<br>OpenML_task_id: 126025<br>epoch: 40\",\"<br><em>Parameterization:</em><br>batch_size: 26<br>learning_rate: 0.0019218909260664144<br>max_dropout: 0.0<br>max_units: 64<br>momentum: 0.1<br>num_layers: 5<br>weight_decay: 0.03738781316248227<br>OpenML_task_id: 126025<br>epoch: 40\",\"<br><em>Parameterization:</em><br>batch_size: 25<br>learning_rate: 0.001971432832846486<br>max_dropout: 0.0<br>max_units: 64<br>momentum: 0.1<br>num_layers: 5<br>weight_decay: 0.03735976812068409<br>OpenML_task_id: 126025<br>epoch: 40\",\"<br><em>Parameterization:</em><br>batch_size: 25<br>learning_rate: 0.001797926304696945<br>max_dropout: 0.0<br>max_units: 64<br>momentum: 0.1<br>num_layers: 5<br>weight_decay: 0.036503672369045254<br>OpenML_task_id: 126025<br>epoch: 40\",\"<br><em>Parameterization:</em><br>batch_size: 24<br>learning_rate: 0.0017457199476431145<br>max_dropout: 0.0<br>max_units: 64<br>momentum: 0.1<br>num_layers: 5<br>weight_decay: 0.03549624347473701<br>OpenML_task_id: 126025<br>epoch: 40\",\"<br><em>Parameterization:</em><br>batch_size: 23<br>learning_rate: 0.0014780091990155356<br>max_dropout: 0.0<br>max_units: 64<br>momentum: 0.1<br>num_layers: 5<br>weight_decay: 0.03302968267773483<br>OpenML_task_id: 126025<br>epoch: 40\",\"<br><em>Parameterization:</em><br>batch_size: 22<br>learning_rate: 0.0013142424977438834<br>max_dropout: 0.0<br>max_units: 64<br>momentum: 0.1<br>num_layers: 5<br>weight_decay: 0.031630506636572714<br>OpenML_task_id: 126025<br>epoch: 40\",\"<br><em>Parameterization:</em><br>batch_size: 22<br>learning_rate: 0.0013822059288753278<br>max_dropout: 0.0<br>max_units: 64<br>momentum: 0.1<br>num_layers: 5<br>weight_decay: 0.032132677140625295<br>OpenML_task_id: 126025<br>epoch: 40\",\"<br><em>Parameterization:</em><br>batch_size: 22<br>learning_rate: 0.0013537846744962377<br>max_dropout: 0.0<br>max_units: 64<br>momentum: 0.1<br>num_layers: 5<br>weight_decay: 0.031994205749787084<br>OpenML_task_id: 126025<br>epoch: 40\",\"<br><em>Parameterization:</em><br>batch_size: 22<br>learning_rate: 0.0013657773820182088<br>max_dropout: 0.0<br>max_units: 64<br>momentum: 0.1<br>num_layers: 5<br>weight_decay: 0.031835627639348406<br>OpenML_task_id: 126025<br>epoch: 40\",\"<br><em>Parameterization:</em><br>batch_size: 22<br>learning_rate: 0.0013410539918453609<br>max_dropout: 0.0<br>max_units: 64<br>momentum: 0.1<br>num_layers: 5<br>weight_decay: 0.03197009989488134<br>OpenML_task_id: 126025<br>epoch: 40\",\"<br><em>Parameterization:</em><br>batch_size: 22<br>learning_rate: 0.001443959128430112<br>max_dropout: 0.0<br>max_units: 64<br>momentum: 0.1<br>num_layers: 5<br>weight_decay: 0.031451854428025776<br>OpenML_task_id: 126025<br>epoch: 40\",\"<br><em>Parameterization:</em><br>batch_size: 22<br>learning_rate: 0.0014056365194597931<br>max_dropout: 0.0<br>max_units: 64<br>momentum: 0.1<br>num_layers: 5<br>weight_decay: 0.03155858971383336<br>OpenML_task_id: 126025<br>epoch: 40\",\"<br><em>Parameterization:</em><br>batch_size: 22<br>learning_rate: 0.0014142783607070898<br>max_dropout: 0.0<br>max_units: 64<br>momentum: 0.1<br>num_layers: 5<br>weight_decay: 0.03140230260878347<br>OpenML_task_id: 126025<br>epoch: 40\",\"<br><em>Parameterization:</em><br>batch_size: 22<br>learning_rate: 0.0014892214167664297<br>max_dropout: 0.0<br>max_units: 64<br>momentum: 0.1<br>num_layers: 5<br>weight_decay: 0.03068450068273323<br>OpenML_task_id: 126025<br>epoch: 40\",\"<br><em>Parameterization:</em><br>batch_size: 22<br>learning_rate: 0.0014618888275072172<br>max_dropout: 0.0<br>max_units: 64<br>momentum: 0.1<br>num_layers: 5<br>weight_decay: 0.030915432771053058<br>OpenML_task_id: 126025<br>epoch: 40\",\"<br><em>Parameterization:</em><br>batch_size: 22<br>learning_rate: 0.0014625903682521147<br>max_dropout: 0.0<br>max_units: 64<br>momentum: 0.1<br>num_layers: 5<br>weight_decay: 0.031080307614137454<br>OpenML_task_id: 126025<br>epoch: 40\",\"<br><em>Parameterization:</em><br>batch_size: 22<br>learning_rate: 0.0014631390550236018<br>max_dropout: 0.0<br>max_units: 64<br>momentum: 0.1<br>num_layers: 5<br>weight_decay: 0.030940437336791284<br>OpenML_task_id: 126025<br>epoch: 40\",\"<br><em>Parameterization:</em><br>batch_size: 22<br>learning_rate: 0.0015047147833053432<br>max_dropout: 0.0<br>max_units: 64<br>momentum: 0.1<br>num_layers: 5<br>weight_decay: 0.030265704573500012<br>OpenML_task_id: 126025<br>epoch: 40\",\"<br><em>Parameterization:</em><br>batch_size: 22<br>learning_rate: 0.001480391360802498<br>max_dropout: 0.0<br>max_units: 64<br>momentum: 0.1<br>num_layers: 5<br>weight_decay: 0.03066631787944536<br>OpenML_task_id: 126025<br>epoch: 40\",\"<br><em>Parameterization:</em><br>batch_size: 22<br>learning_rate: 0.0015383128668850317<br>max_dropout: 0.0<br>max_units: 64<br>momentum: 0.1<br>num_layers: 5<br>weight_decay: 0.02990619487228166<br>OpenML_task_id: 126025<br>epoch: 40\",\"<br><em>Parameterization:</em><br>batch_size: 22<br>learning_rate: 0.0014917406181687183<br>max_dropout: 0.0<br>max_units: 64<br>momentum: 0.1<br>num_layers: 5<br>weight_decay: 0.03061124019675877<br>OpenML_task_id: 126025<br>epoch: 40\",\"<br><em>Parameterization:</em><br>batch_size: 22<br>learning_rate: 0.0014983164109134395<br>max_dropout: 0.0<br>max_units: 64<br>momentum: 0.1<br>num_layers: 5<br>weight_decay: 0.030488808158225033<br>OpenML_task_id: 126025<br>epoch: 40\",\"<br><em>Parameterization:</em><br>batch_size: 22<br>learning_rate: 0.001536973776471094<br>max_dropout: 0.0<br>max_units: 64<br>momentum: 0.1<br>num_layers: 5<br>weight_decay: 0.029919740085172314<br>OpenML_task_id: 126025<br>epoch: 40\",\"<br><em>Parameterization:</em><br>batch_size: 22<br>learning_rate: 0.0014943349179965786<br>max_dropout: 0.0<br>max_units: 64<br>momentum: 0.1<br>num_layers: 5<br>weight_decay: 0.030638746543849522<br>OpenML_task_id: 126025<br>epoch: 40\",\"<br><em>Parameterization:</em><br>batch_size: 22<br>learning_rate: 0.0016211727117203905<br>max_dropout: 0.0<br>max_units: 64<br>momentum: 0.1<br>num_layers: 5<br>weight_decay: 0.02959937336521891<br>OpenML_task_id: 126025<br>epoch: 40\",\"<br><em>Parameterization:</em><br>batch_size: 22<br>learning_rate: 0.001545942221476122<br>max_dropout: 0.0<br>max_units: 64<br>momentum: 0.1<br>num_layers: 5<br>weight_decay: 0.03079829531296743<br>OpenML_task_id: 126025<br>epoch: 40\",\"<br><em>Parameterization:</em><br>batch_size: 22<br>learning_rate: 0.001598765824057449<br>max_dropout: 0.0<br>max_units: 64<br>momentum: 0.1<br>num_layers: 5<br>weight_decay: 0.030383814527828606<br>OpenML_task_id: 126025<br>epoch: 40\",\"<br><em>Parameterization:</em><br>batch_size: 22<br>learning_rate: 0.0015891907528549232<br>max_dropout: 0.0<br>max_units: 64<br>momentum: 0.1<br>num_layers: 5<br>weight_decay: 0.03116721474049657<br>OpenML_task_id: 126025<br>epoch: 40\",\"<br><em>Parameterization:</em><br>batch_size: 22<br>learning_rate: 0.0017236483179277372<br>max_dropout: 0.0<br>max_units: 64<br>momentum: 0.1<br>num_layers: 5<br>weight_decay: 0.030524524857947474<br>OpenML_task_id: 126025<br>epoch: 40\",\"<br><em>Parameterization:</em><br>batch_size: 22<br>learning_rate: 0.0019456697005920112<br>max_dropout: 0.0<br>max_units: 64<br>momentum: 0.1<br>num_layers: 5<br>weight_decay: 0.030858940154521775<br>OpenML_task_id: 126025<br>epoch: 40\",\"<br><em>Parameterization:</em><br>batch_size: 22<br>learning_rate: 0.0019378926141196836<br>max_dropout: 0.0<br>max_units: 64<br>momentum: 0.1<br>num_layers: 5<br>weight_decay: 0.03309399824050061<br>OpenML_task_id: 126025<br>epoch: 40\",\"<br><em>Parameterization:</em><br>batch_size: 21<br>learning_rate: 0.0024031944780401717<br>max_dropout: 0.0<br>max_units: 64<br>momentum: 0.1<br>num_layers: 5<br>weight_decay: 0.0323004192851887<br>OpenML_task_id: 126025<br>epoch: 40\",\"<br><em>Parameterization:</em><br>batch_size: 21<br>learning_rate: 0.002143934437984858<br>max_dropout: 0.0<br>max_units: 64<br>momentum: 0.1<br>num_layers: 5<br>weight_decay: 0.03408276257129711<br>OpenML_task_id: 126025<br>epoch: 40\",\"<br><em>Parameterization:</em><br>batch_size: 21<br>learning_rate: 0.002203765445738027<br>max_dropout: 0.0<br>max_units: 64<br>momentum: 0.1<br>num_layers: 5<br>weight_decay: 0.033835042721071996<br>OpenML_task_id: 126025<br>epoch: 40\",\"<br><em>Parameterization:</em><br>batch_size: 20<br>learning_rate: 0.0022116683518282358<br>max_dropout: 0.0<br>max_units: 64<br>momentum: 0.1<br>num_layers: 5<br>weight_decay: 0.03389786272142282<br>OpenML_task_id: 126025<br>epoch: 40\",\"<br><em>Parameterization:</em><br>batch_size: 20<br>learning_rate: 0.0025122977551458214<br>max_dropout: 0.0<br>max_units: 64<br>momentum: 0.1<br>num_layers: 5<br>weight_decay: 0.03322848250630332<br>OpenML_task_id: 126025<br>epoch: 40\",\"<br><em>Parameterization:</em><br>batch_size: 20<br>learning_rate: 0.0021284242688383434<br>max_dropout: 0.0<br>max_units: 64<br>momentum: 0.1<br>num_layers: 5<br>weight_decay: 0.034077729833843044<br>OpenML_task_id: 126025<br>epoch: 40\",\"<br><em>Parameterization:</em><br>batch_size: 19<br>learning_rate: 0.0022323704359546214<br>max_dropout: 0.0<br>max_units: 64<br>momentum: 0.1<br>num_layers: 5<br>weight_decay: 0.03361220896347334<br>OpenML_task_id: 126025<br>epoch: 40\",\"<br><em>Parameterization:</em><br>batch_size: 19<br>learning_rate: 0.002072483521174213<br>max_dropout: 0.0<br>max_units: 64<br>momentum: 0.1<br>num_layers: 5<br>weight_decay: 0.03399330724197472<br>OpenML_task_id: 126025<br>epoch: 40\",\"<br><em>Parameterization:</em><br>batch_size: 18<br>learning_rate: 0.0020619463290999364<br>max_dropout: 0.0<br>max_units: 64<br>momentum: 0.1<br>num_layers: 5<br>weight_decay: 0.033731454076468034<br>OpenML_task_id: 126025<br>epoch: 40\",\"<br><em>Parameterization:</em><br>batch_size: 17<br>learning_rate: 0.0020121546218647437<br>max_dropout: 0.0<br>max_units: 64<br>momentum: 0.1<br>num_layers: 5<br>weight_decay: 0.033595471973870694<br>OpenML_task_id: 126025<br>epoch: 40\",\"<br><em>Parameterization:</em><br>batch_size: 16<br>learning_rate: 0.0019171523061249527<br>max_dropout: 0.0<br>max_units: 64<br>momentum: 0.1<br>num_layers: 5<br>weight_decay: 0.03370444169861254<br>OpenML_task_id: 126025<br>epoch: 40\",\"<br><em>Parameterization:</em><br>batch_size: 16<br>learning_rate: 0.0019260955018685095<br>max_dropout: 0.0<br>max_units: 64<br>momentum: 0.1<br>num_layers: 5<br>weight_decay: 0.03331041929341482<br>OpenML_task_id: 126025<br>epoch: 40\",\"<br><em>Parameterization:</em><br>batch_size: 16<br>learning_rate: 0.0022122502976706965<br>max_dropout: 0.0<br>max_units: 64<br>momentum: 0.1<br>num_layers: 5<br>weight_decay: 0.03228902523806606<br>OpenML_task_id: 126025<br>epoch: 40\",\"<br><em>Parameterization:</em><br>batch_size: 16<br>learning_rate: 0.0018573899224056652<br>max_dropout: 0.0<br>max_units: 66<br>momentum: 0.1<br>num_layers: 5<br>weight_decay: 0.03365016565377715<br>OpenML_task_id: 126025<br>epoch: 40\",\"<br><em>Parameterization:</em><br>batch_size: 16<br>learning_rate: 0.0020349634392260786<br>max_dropout: 0.0<br>max_units: 64<br>momentum: 0.1<br>num_layers: 5<br>weight_decay: 0.03265348399123246<br>OpenML_task_id: 126025<br>epoch: 40\",\"<br><em>Parameterization:</em><br>batch_size: 16<br>learning_rate: 0.0018472298442726888<br>max_dropout: 0.0<br>max_units: 68<br>momentum: 0.1<br>num_layers: 5<br>weight_decay: 0.03364523411002691<br>OpenML_task_id: 126025<br>epoch: 40\",\"<br><em>Parameterization:</em><br>batch_size: 16<br>learning_rate: 0.0020867225281165115<br>max_dropout: 0.0<br>max_units: 64<br>momentum: 0.1<br>num_layers: 5<br>weight_decay: 0.03238640930198124<br>OpenML_task_id: 126025<br>epoch: 40\",\"<br><em>Parameterization:</em><br>batch_size: 16<br>learning_rate: 0.001832885898181721<br>max_dropout: 0.0<br>max_units: 71<br>momentum: 0.1<br>num_layers: 5<br>weight_decay: 0.03372676948784081<br>OpenML_task_id: 126025<br>epoch: 40\",\"<br><em>Parameterization:</em><br>batch_size: 16<br>learning_rate: 0.0017991811894031004<br>max_dropout: 0.0<br>max_units: 74<br>momentum: 0.1<br>num_layers: 5<br>weight_decay: 0.03397776985709158<br>OpenML_task_id: 126025<br>epoch: 40\",\"<br><em>Parameterization:</em><br>batch_size: 16<br>learning_rate: 0.0017862401017733687<br>max_dropout: 0.0<br>max_units: 76<br>momentum: 0.1<br>num_layers: 5<br>weight_decay: 0.03402354575466782<br>OpenML_task_id: 126025<br>epoch: 40\",\"<br><em>Parameterization:</em><br>batch_size: 16<br>learning_rate: 0.0018323722359571562<br>max_dropout: 0.0<br>max_units: 76<br>momentum: 0.1<br>num_layers: 5<br>weight_decay: 0.033714731108086454<br>OpenML_task_id: 126025<br>epoch: 40\",\"<br><em>Parameterization:</em><br>batch_size: 16<br>learning_rate: 0.0017996569385562461<br>max_dropout: 0.0<br>max_units: 77<br>momentum: 0.1<br>num_layers: 5<br>weight_decay: 0.033908873747154<br>OpenML_task_id: 126025<br>epoch: 40\",\"<br><em>Parameterization:</em><br>batch_size: 16<br>learning_rate: 0.0019106072749930922<br>max_dropout: 0.0<br>max_units: 73<br>momentum: 0.1<br>num_layers: 5<br>weight_decay: 0.03323567724518061<br>OpenML_task_id: 126025<br>epoch: 40\",\"<br><em>Parameterization:</em><br>batch_size: 16<br>learning_rate: 0.0021180753154043026<br>max_dropout: 0.0<br>max_units: 65<br>momentum: 0.1<br>num_layers: 5<br>weight_decay: 0.032208757694841425<br>OpenML_task_id: 126025<br>epoch: 40\",\"<br><em>Parameterization:</em><br>batch_size: 16<br>learning_rate: 0.0018606849180384855<br>max_dropout: 0.0<br>max_units: 75<br>momentum: 0.1<br>num_layers: 5<br>weight_decay: 0.03352649310827411<br>OpenML_task_id: 126025<br>epoch: 40\",\"<br><em>Parameterization:</em><br>batch_size: 16<br>learning_rate: 0.0018598931826919454<br>max_dropout: 0.0<br>max_units: 75<br>momentum: 0.1<br>num_layers: 5<br>weight_decay: 0.03352400849152466<br>OpenML_task_id: 126025<br>epoch: 40\",\"<br><em>Parameterization:</em><br>batch_size: 16<br>learning_rate: 0.0018780387662164643<br>max_dropout: 0.0<br>max_units: 74<br>momentum: 0.1<br>num_layers: 5<br>weight_decay: 0.03341274278300257<br>OpenML_task_id: 126025<br>epoch: 40\",\"<br><em>Parameterization:</em><br>batch_size: 16<br>learning_rate: 0.001774533069074266<br>max_dropout: 0.0<br>max_units: 78<br>momentum: 0.1<br>num_layers: 5<br>weight_decay: 0.034119058801265006<br>OpenML_task_id: 126025<br>epoch: 40\",\"<br><em>Parameterization:</em><br>batch_size: 16<br>learning_rate: 0.001893592386437565<br>max_dropout: 0.0<br>max_units: 74<br>momentum: 0.1<br>num_layers: 5<br>weight_decay: 0.03331550000621247<br>OpenML_task_id: 126025<br>epoch: 40\",\"<br><em>Parameterization:</em><br>batch_size: 16<br>learning_rate: 0.001975107441076353<br>max_dropout: 0.0<br>max_units: 71<br>momentum: 0.1<br>num_layers: 5<br>weight_decay: 0.032868507382886075<br>OpenML_task_id: 126025<br>epoch: 40\",\"<br><em>Parameterization:</em><br>batch_size: 16<br>learning_rate: 0.0017896843142672632<br>max_dropout: 0.0<br>max_units: 78<br>momentum: 0.1<br>num_layers: 5<br>weight_decay: 0.03392794919941807<br>OpenML_task_id: 126025<br>epoch: 40\",\"<br><em>Parameterization:</em><br>batch_size: 16<br>learning_rate: 0.0017695436234746098<br>max_dropout: 0.0<br>max_units: 78<br>momentum: 0.1<br>num_layers: 5<br>weight_decay: 0.03417159857685266<br>OpenML_task_id: 126025<br>epoch: 40\",\"<br><em>Parameterization:</em><br>batch_size: 16<br>learning_rate: 0.0018022384735278368<br>max_dropout: 0.0<br>max_units: 78<br>momentum: 0.1<br>num_layers: 5<br>weight_decay: 0.03383811492583<br>OpenML_task_id: 126025<br>epoch: 40\",\"<br><em>Parameterization:</em><br>batch_size: 16<br>learning_rate: 0.0017618944701437115<br>max_dropout: 0.0<br>max_units: 80<br>momentum: 0.1<br>num_layers: 5<br>weight_decay: 0.034093143975155386<br>OpenML_task_id: 126025<br>epoch: 40\",\"<br><em>Parameterization:</em><br>batch_size: 16<br>learning_rate: 0.00196407654323296<br>max_dropout: 0.0<br>max_units: 71<br>momentum: 0.1<br>num_layers: 5<br>weight_decay: 0.0329027797567991<br>OpenML_task_id: 126025<br>epoch: 40\",\"<br><em>Parameterization:</em><br>batch_size: 16<br>learning_rate: 0.0017695203501979187<br>max_dropout: 0.0<br>max_units: 80<br>momentum: 0.1<br>num_layers: 5<br>weight_decay: 0.03401974040382022<br>OpenML_task_id: 126025<br>epoch: 40\",\"<br><em>Parameterization:</em><br>batch_size: 16<br>learning_rate: 0.0018385709756340916<br>max_dropout: 0.0<br>max_units: 77<br>momentum: 0.1<br>num_layers: 5<br>weight_decay: 0.03358495938398354<br>OpenML_task_id: 126025<br>epoch: 40\",\"<br><em>Parameterization:</em><br>batch_size: 16<br>learning_rate: 0.0020438004503704776<br>max_dropout: 0.0<br>max_units: 68<br>momentum: 0.1<br>num_layers: 5<br>weight_decay: 0.032501207088856246<br>OpenML_task_id: 126025<br>epoch: 40\",\"<br><em>Parameterization:</em><br>batch_size: 16<br>learning_rate: 0.002045926711354643<br>max_dropout: 0.0<br>max_units: 68<br>momentum: 0.1<br>num_layers: 5<br>weight_decay: 0.032493359426747824<br>OpenML_task_id: 126025<br>epoch: 40\",\"<br><em>Parameterization:</em><br>batch_size: 16<br>learning_rate: 0.0017630460267704137<br>max_dropout: 0.0<br>max_units: 80<br>momentum: 0.1<br>num_layers: 5<br>weight_decay: 0.03404008619763707<br>OpenML_task_id: 126025<br>epoch: 40\",\"<br><em>Parameterization:</em><br>batch_size: 16<br>learning_rate: 0.0018871491903121372<br>max_dropout: 0.0<br>max_units: 75<br>momentum: 0.1<br>num_layers: 5<br>weight_decay: 0.033292771583716955<br>OpenML_task_id: 126025<br>epoch: 40\",\"<br><em>Parameterization:</em><br>batch_size: 16<br>learning_rate: 0.0017528130244206797<br>max_dropout: 0.0<br>max_units: 80<br>momentum: 0.1<br>num_layers: 5<br>weight_decay: 0.034153046416626316<br>OpenML_task_id: 126025<br>epoch: 40\",\"<br><em>Parameterization:</em><br>batch_size: 16<br>learning_rate: 0.0017894697561698187<br>max_dropout: 0.0<br>max_units: 79<br>momentum: 0.1<br>num_layers: 5<br>weight_decay: 0.03384821084361998<br>OpenML_task_id: 126025<br>epoch: 40\",\"<br><em>Parameterization:</em><br>batch_size: 16<br>learning_rate: 0.0017473886852916874<br>max_dropout: 0.0<br>max_units: 81<br>momentum: 0.1<br>num_layers: 5<br>weight_decay: 0.034124070870678286<br>OpenML_task_id: 126025<br>epoch: 40\",\"<br><em>Parameterization:</em><br>batch_size: 16<br>learning_rate: 0.0017563771369082098<br>max_dropout: 0.0<br>max_units: 80<br>momentum: 0.1<br>num_layers: 5<br>weight_decay: 0.03403055984933117<br>OpenML_task_id: 126025<br>epoch: 40\",\"<br><em>Parameterization:</em><br>batch_size: 16<br>learning_rate: 0.0018021276777763385<br>max_dropout: 0.0<br>max_units: 78<br>momentum: 0.1<br>num_layers: 5<br>weight_decay: 0.03373744516017604<br>OpenML_task_id: 126025<br>epoch: 40\",\"<br><em>Parameterization:</em><br>batch_size: 16<br>learning_rate: 0.0017413154722604601<br>max_dropout: 0.0<br>max_units: 81<br>momentum: 0.1<br>num_layers: 5<br>weight_decay: 0.0341197817619457<br>OpenML_task_id: 126025<br>epoch: 40\",\"<br><em>Parameterization:</em><br>batch_size: 16<br>learning_rate: 0.0022326183689978956<br>max_dropout: 0.0<br>max_units: 64<br>momentum: 0.1<br>num_layers: 5<br>weight_decay: 0.03188821042959508<br>OpenML_task_id: 126025<br>epoch: 40\",\"<br><em>Parameterization:</em><br>batch_size: 16<br>learning_rate: 0.0017410732551995309<br>max_dropout: 0.0<br>max_units: 80<br>momentum: 0.1<br>num_layers: 5<br>weight_decay: 0.03419213613092934<br>OpenML_task_id: 126025<br>epoch: 40\",\"<br><em>Parameterization:</em><br>batch_size: 16<br>learning_rate: 0.0017981158356087585<br>max_dropout: 0.0<br>max_units: 79<br>momentum: 0.1<br>num_layers: 5<br>weight_decay: 0.03373804158834042<br>OpenML_task_id: 126025<br>epoch: 40\",\"<br><em>Parameterization:</em><br>batch_size: 16<br>learning_rate: 0.0017691312185609137<br>max_dropout: 0.0<br>max_units: 80<br>momentum: 0.1<br>num_layers: 5<br>weight_decay: 0.03390700299678477<br>OpenML_task_id: 126025<br>epoch: 40\",\"<br><em>Parameterization:</em><br>batch_size: 16<br>learning_rate: 0.0017636509004354355<br>max_dropout: 0.0<br>max_units: 80<br>momentum: 0.1<br>num_layers: 5<br>weight_decay: 0.033929242616203774<br>OpenML_task_id: 126025<br>epoch: 40\",\"<br><em>Parameterization:</em><br>batch_size: 16<br>learning_rate: 0.0019234272401366795<br>max_dropout: 0.0<br>max_units: 73<br>momentum: 0.1<br>num_layers: 5<br>weight_decay: 0.03301180270792752<br>OpenML_task_id: 126025<br>epoch: 40\",\"<br><em>Parameterization:</em><br>batch_size: 16<br>learning_rate: 0.0018741470255488396<br>max_dropout: 0.0<br>max_units: 75<br>momentum: 0.1<br>num_layers: 5<br>weight_decay: 0.03327353068841609<br>OpenML_task_id: 126025<br>epoch: 40\",\"<br><em>Parameterization:</em><br>batch_size: 16<br>learning_rate: 0.0017345757922854824<br>max_dropout: 0.0<br>max_units: 80<br>momentum: 0.1<br>num_layers: 5<br>weight_decay: 0.034199000671210296<br>OpenML_task_id: 126025<br>epoch: 40\",\"<br><em>Parameterization:</em><br>batch_size: 16<br>learning_rate: 0.001975443453264055<br>max_dropout: 0.0<br>max_units: 71<br>momentum: 0.1<br>num_layers: 5<br>weight_decay: 0.03273887446422361<br>OpenML_task_id: 126025<br>epoch: 40\",\"<br><em>Parameterization:</em><br>batch_size: 16<br>learning_rate: 0.0018052535922802933<br>max_dropout: 0.0<br>max_units: 78<br>momentum: 0.1<br>num_layers: 5<br>weight_decay: 0.03365075334203495<br>OpenML_task_id: 126025<br>epoch: 40\",\"<br><em>Parameterization:</em><br>batch_size: 16<br>learning_rate: 0.0017794637047890776<br>max_dropout: 0.0<br>max_units: 79<br>momentum: 0.1<br>num_layers: 5<br>weight_decay: 0.03380007443872774<br>OpenML_task_id: 126025<br>epoch: 40\",\"<br><em>Parameterization:</em><br>batch_size: 16<br>learning_rate: 0.001795465798110367<br>max_dropout: 0.0<br>max_units: 79<br>momentum: 0.1<br>num_layers: 5<br>weight_decay: 0.033698792161224525<br>OpenML_task_id: 126025<br>epoch: 40\",\"<br><em>Parameterization:</em><br>batch_size: 16<br>learning_rate: 0.00175475675341856<br>max_dropout: 0.0<br>max_units: 80<br>momentum: 0.1<br>num_layers: 5<br>weight_decay: 0.03393195698731095<br>OpenML_task_id: 126025<br>epoch: 40\",\"<br><em>Parameterization:</em><br>batch_size: 16<br>learning_rate: 0.0020409848499750626<br>max_dropout: 0.0<br>max_units: 68<br>momentum: 0.1<br>num_layers: 5<br>weight_decay: 0.032394179491892265<br>OpenML_task_id: 126025<br>epoch: 40\",\"<br><em>Parameterization:</em><br>batch_size: 16<br>learning_rate: 0.00172618266255645<br>max_dropout: 0.0<br>max_units: 81<br>momentum: 0.1<br>num_layers: 5<br>weight_decay: 0.03414446900285615<br>OpenML_task_id: 126025<br>epoch: 40\",\"<br><em>Parameterization:</em><br>batch_size: 16<br>learning_rate: 0.00180208517272643<br>max_dropout: 0.0<br>max_units: 78<br>momentum: 0.1<br>num_layers: 5<br>weight_decay: 0.03361780650838461<br>OpenML_task_id: 126025<br>epoch: 40\",\"<br><em>Parameterization:</em><br>batch_size: 16<br>learning_rate: 0.0018919365284668379<br>max_dropout: 0.0<br>max_units: 74<br>momentum: 0.1<br>num_layers: 5<br>weight_decay: 0.03310750449091184<br>OpenML_task_id: 126025<br>epoch: 40\",\"<br><em>Parameterization:</em><br>batch_size: 16<br>learning_rate: 0.0018675008293227674<br>max_dropout: 0.0<br>max_units: 75<br>momentum: 0.1<br>num_layers: 5<br>weight_decay: 0.033238144008766776<br>OpenML_task_id: 126025<br>epoch: 40\",\"<br><em>Parameterization:</em><br>batch_size: 16<br>learning_rate: 0.0017318124344992305<br>max_dropout: 0.0<br>max_units: 81<br>momentum: 0.1<br>num_layers: 5<br>weight_decay: 0.03403349587372192<br>OpenML_task_id: 126025<br>epoch: 40\",\"<br><em>Parameterization:</em><br>batch_size: 16<br>learning_rate: 0.0017215555673934925<br>max_dropout: 0.0<br>max_units: 80<br>momentum: 0.1<br>num_layers: 5<br>weight_decay: 0.03418574444832094<br>OpenML_task_id: 126025<br>epoch: 40\"],\"x\":[1,2,3,4,5,6,7,8,9,10,11,12,13,14,15,16,17,18,19,20,21,22,23,24,25,26,27,28,29,30,31,32,33,34,35,36,37,38,39,40,41,42,43,44,45,46,47,48,49,50,51,52,53,54,55,56,57,58,59,60,61,62,63,64,65,66,67,68,69,70,71,72,73,74,75,76,77,78,79,80,81,82,83,84,85,86,87,88,89,90,91,92,93,94,95,96,97,98,99,100,101,102,103,104,105,106,107,108,109,110,111,112,113,114,115,116,117,118,119,120,121,122,123,124,125,126,127,128,129,130,131,132,133,134,135,136,137,138,139,140,141,142,143,144,145,146,147,148,149,150],\"y\":[80.77290344238281,80.77290344238281,80.77290344238281,80.77290344238281,80.77290344238281,80.77290344238281,80.77290344238281,80.77290344238281,89.12958526611328,89.12958526611328,89.12958526611328,89.12958526611328,89.12958526611328,89.12958526611328,89.12958526611328,89.12958526611328,89.12958526611328,89.12958526611328,89.12958526611328,89.12958526611328,89.12958526611328,89.12958526611328,89.12958526611328,89.12958526611328,89.12958526611328,89.12958526611328,89.12958526611328,89.12958526611328,89.12958526611328,89.12958526611328,89.12958526611328,89.12958526611328,90.88577270507812,90.88577270507812,90.88577270507812,90.88577270507812,90.88577270507812,91.16007995605469,91.16007995605469,91.48406219482422,91.4920883178711,91.4920883178711,91.4920883178711,91.49418640136719,91.49418640136719,91.49418640136719,91.49418640136719,91.50779724121094,91.51303100585938,91.51303100585938,91.51303100585938,91.52350616455078,91.52350616455078,91.54375457763672,91.54375457763672,91.61293029785156,91.62062072753906,91.62062072753906,91.62934875488281,91.62934875488281,91.62934875488281,91.62934875488281,91.68284606933594,91.68284606933594,91.68284606933594,91.7216796875,91.7216796875,91.7216796875,91.7216796875,91.73357391357422,91.73357391357422,91.75387573242188,91.75387573242188,91.75387573242188,91.75387573242188,91.75387573242188,91.79447937011719,91.79447937011719,91.79447937011719,91.79447937011719,91.8389663696289,91.90204620361328,91.90204620361328,91.99078369140625,91.99078369140625,91.99078369140625,91.99078369140625,91.99078369140625,91.99078369140625,91.99078369140625,91.99078369140625,91.99078369140625,92.00447082519531,92.00657653808594,92.02342987060547,92.06907653808594,92.06907653808594,92.06907653808594,92.06907653808594,92.06907653808594,92.06907653808594,92.06907653808594,92.06907653808594,92.06907653808594,92.06907653808594,92.06907653808594,92.06907653808594,92.06907653808594,92.06907653808594,92.06907653808594,92.06907653808594,92.06907653808594,92.06907653808594,92.06907653808594,92.06907653808594,92.06907653808594,92.06907653808594,92.06907653808594,92.06907653808594,92.06907653808594,92.06907653808594,92.06907653808594,92.06907653808594,92.06907653808594,92.06907653808594,92.06907653808594,92.06907653808594,92.06907653808594,92.06907653808594,92.06907653808594,92.06907653808594,92.06907653808594,92.06907653808594,92.06907653808594,92.06907653808594,92.06907653808594,92.06907653808594,92.06907653808594,92.06907653808594,92.06907653808594,92.06907653808594,92.06907653808594,92.06907653808594,92.06907653808594,92.06907653808594,92.06907653808594,92.06907653808594,92.06907653808594,92.06907653808594,92.06907653808594],\"type\":\"scatter\"},{\"fill\":\"tonexty\",\"fillcolor\":\"rgba(128,177,211,0.3)\",\"hoverinfo\":\"none\",\"legendgroup\":\"\",\"line\":{\"width\":0},\"mode\":\"lines\",\"showlegend\":false,\"x\":[1,2,3,4,5,6,7,8,9,10,11,12,13,14,15,16,17,18,19,20,21,22,23,24,25,26,27,28,29,30,31,32,33,34,35,36,37,38,39,40,41,42,43,44,45,46,47,48,49,50,51,52,53,54,55,56,57,58,59,60,61,62,63,64,65,66,67,68,69,70,71,72,73,74,75,76,77,78,79,80,81,82,83,84,85,86,87,88,89,90,91,92,93,94,95,96,97,98,99,100,101,102,103,104,105,106,107,108,109,110,111,112,113,114,115,116,117,118,119,120,121,122,123,124,125,126,127,128,129,130,131,132,133,134,135,136,137,138,139,140,141,142,143,144,145,146,147,148,149,150],\"y\":[80.77290344238281,80.77290344238281,80.77290344238281,80.77290344238281,80.77290344238281,80.77290344238281,80.77290344238281,80.77290344238281,89.12958526611328,89.12958526611328,89.12958526611328,89.12958526611328,89.12958526611328,89.12958526611328,89.12958526611328,89.12958526611328,89.12958526611328,89.12958526611328,89.12958526611328,89.12958526611328,89.12958526611328,89.12958526611328,89.12958526611328,89.12958526611328,89.12958526611328,89.12958526611328,89.12958526611328,89.12958526611328,89.12958526611328,89.12958526611328,89.12958526611328,89.12958526611328,90.88577270507812,90.88577270507812,90.88577270507812,90.88577270507812,90.88577270507812,91.16007995605469,91.16007995605469,91.48406219482422,91.4920883178711,91.4920883178711,91.4920883178711,91.49418640136719,91.49418640136719,91.49418640136719,91.49418640136719,91.50779724121094,91.51303100585938,91.51303100585938,91.51303100585938,91.52350616455078,91.52350616455078,91.54375457763672,91.54375457763672,91.61293029785156,91.62062072753906,91.62062072753906,91.62934875488281,91.62934875488281,91.62934875488281,91.62934875488281,91.68284606933594,91.68284606933594,91.68284606933594,91.7216796875,91.7216796875,91.7216796875,91.7216796875,91.73357391357422,91.73357391357422,91.75387573242188,91.75387573242188,91.75387573242188,91.75387573242188,91.75387573242188,91.79447937011719,91.79447937011719,91.79447937011719,91.79447937011719,91.8389663696289,91.90204620361328,91.90204620361328,91.99078369140625,91.99078369140625,91.99078369140625,91.99078369140625,91.99078369140625,91.99078369140625,91.99078369140625,91.99078369140625,91.99078369140625,92.00447082519531,92.00657653808594,92.02342987060547,92.06907653808594,92.06907653808594,92.06907653808594,92.06907653808594,92.06907653808594,92.06907653808594,92.06907653808594,92.06907653808594,92.06907653808594,92.06907653808594,92.06907653808594,92.06907653808594,92.06907653808594,92.06907653808594,92.06907653808594,92.06907653808594,92.06907653808594,92.06907653808594,92.06907653808594,92.06907653808594,92.06907653808594,92.06907653808594,92.06907653808594,92.06907653808594,92.06907653808594,92.06907653808594,92.06907653808594,92.06907653808594,92.06907653808594,92.06907653808594,92.06907653808594,92.06907653808594,92.06907653808594,92.06907653808594,92.06907653808594,92.06907653808594,92.06907653808594,92.06907653808594,92.06907653808594,92.06907653808594,92.06907653808594,92.06907653808594,92.06907653808594,92.06907653808594,92.06907653808594,92.06907653808594,92.06907653808594,92.06907653808594,92.06907653808594,92.06907653808594,92.06907653808594,92.06907653808594,92.06907653808594,92.06907653808594,92.06907653808594],\"type\":\"scatter\"},{\"line\":{\"color\":\"rgba(253,180,98,1)\",\"dash\":\"dash\"},\"mode\":\"lines\",\"name\":\"Optimum\",\"x\":[1,150],\"y\":[96.51996,96.51996],\"type\":\"scatter\"},{\"line\":{\"color\":\"rgba(141,211,199,1)\",\"dash\":\"dash\"},\"mode\":\"lines\",\"name\":\"model change\",\"x\":[30,30],\"y\":[80.77290344238281,96.51996],\"type\":\"scatter\"}],                        {\"showlegend\":true,\"template\":{\"data\":{\"barpolar\":[{\"marker\":{\"line\":{\"color\":\"#E5ECF6\",\"width\":0.5},\"pattern\":{\"fillmode\":\"overlay\",\"size\":10,\"solidity\":0.2}},\"type\":\"barpolar\"}],\"bar\":[{\"error_x\":{\"color\":\"#2a3f5f\"},\"error_y\":{\"color\":\"#2a3f5f\"},\"marker\":{\"line\":{\"color\":\"#E5ECF6\",\"width\":0.5},\"pattern\":{\"fillmode\":\"overlay\",\"size\":10,\"solidity\":0.2}},\"type\":\"bar\"}],\"carpet\":[{\"aaxis\":{\"endlinecolor\":\"#2a3f5f\",\"gridcolor\":\"white\",\"linecolor\":\"white\",\"minorgridcolor\":\"white\",\"startlinecolor\":\"#2a3f5f\"},\"baxis\":{\"endlinecolor\":\"#2a3f5f\",\"gridcolor\":\"white\",\"linecolor\":\"white\",\"minorgridcolor\":\"white\",\"startlinecolor\":\"#2a3f5f\"},\"type\":\"carpet\"}],\"choropleth\":[{\"colorbar\":{\"outlinewidth\":0,\"ticks\":\"\"},\"type\":\"choropleth\"}],\"contourcarpet\":[{\"colorbar\":{\"outlinewidth\":0,\"ticks\":\"\"},\"type\":\"contourcarpet\"}],\"contour\":[{\"colorbar\":{\"outlinewidth\":0,\"ticks\":\"\"},\"colorscale\":[[0.0,\"#0d0887\"],[0.1111111111111111,\"#46039f\"],[0.2222222222222222,\"#7201a8\"],[0.3333333333333333,\"#9c179e\"],[0.4444444444444444,\"#bd3786\"],[0.5555555555555556,\"#d8576b\"],[0.6666666666666666,\"#ed7953\"],[0.7777777777777778,\"#fb9f3a\"],[0.8888888888888888,\"#fdca26\"],[1.0,\"#f0f921\"]],\"type\":\"contour\"}],\"heatmapgl\":[{\"colorbar\":{\"outlinewidth\":0,\"ticks\":\"\"},\"colorscale\":[[0.0,\"#0d0887\"],[0.1111111111111111,\"#46039f\"],[0.2222222222222222,\"#7201a8\"],[0.3333333333333333,\"#9c179e\"],[0.4444444444444444,\"#bd3786\"],[0.5555555555555556,\"#d8576b\"],[0.6666666666666666,\"#ed7953\"],[0.7777777777777778,\"#fb9f3a\"],[0.8888888888888888,\"#fdca26\"],[1.0,\"#f0f921\"]],\"type\":\"heatmapgl\"}],\"heatmap\":[{\"colorbar\":{\"outlinewidth\":0,\"ticks\":\"\"},\"colorscale\":[[0.0,\"#0d0887\"],[0.1111111111111111,\"#46039f\"],[0.2222222222222222,\"#7201a8\"],[0.3333333333333333,\"#9c179e\"],[0.4444444444444444,\"#bd3786\"],[0.5555555555555556,\"#d8576b\"],[0.6666666666666666,\"#ed7953\"],[0.7777777777777778,\"#fb9f3a\"],[0.8888888888888888,\"#fdca26\"],[1.0,\"#f0f921\"]],\"type\":\"heatmap\"}],\"histogram2dcontour\":[{\"colorbar\":{\"outlinewidth\":0,\"ticks\":\"\"},\"colorscale\":[[0.0,\"#0d0887\"],[0.1111111111111111,\"#46039f\"],[0.2222222222222222,\"#7201a8\"],[0.3333333333333333,\"#9c179e\"],[0.4444444444444444,\"#bd3786\"],[0.5555555555555556,\"#d8576b\"],[0.6666666666666666,\"#ed7953\"],[0.7777777777777778,\"#fb9f3a\"],[0.8888888888888888,\"#fdca26\"],[1.0,\"#f0f921\"]],\"type\":\"histogram2dcontour\"}],\"histogram2d\":[{\"colorbar\":{\"outlinewidth\":0,\"ticks\":\"\"},\"colorscale\":[[0.0,\"#0d0887\"],[0.1111111111111111,\"#46039f\"],[0.2222222222222222,\"#7201a8\"],[0.3333333333333333,\"#9c179e\"],[0.4444444444444444,\"#bd3786\"],[0.5555555555555556,\"#d8576b\"],[0.6666666666666666,\"#ed7953\"],[0.7777777777777778,\"#fb9f3a\"],[0.8888888888888888,\"#fdca26\"],[1.0,\"#f0f921\"]],\"type\":\"histogram2d\"}],\"histogram\":[{\"marker\":{\"pattern\":{\"fillmode\":\"overlay\",\"size\":10,\"solidity\":0.2}},\"type\":\"histogram\"}],\"mesh3d\":[{\"colorbar\":{\"outlinewidth\":0,\"ticks\":\"\"},\"type\":\"mesh3d\"}],\"parcoords\":[{\"line\":{\"colorbar\":{\"outlinewidth\":0,\"ticks\":\"\"}},\"type\":\"parcoords\"}],\"pie\":[{\"automargin\":true,\"type\":\"pie\"}],\"scatter3d\":[{\"line\":{\"colorbar\":{\"outlinewidth\":0,\"ticks\":\"\"}},\"marker\":{\"colorbar\":{\"outlinewidth\":0,\"ticks\":\"\"}},\"type\":\"scatter3d\"}],\"scattercarpet\":[{\"marker\":{\"colorbar\":{\"outlinewidth\":0,\"ticks\":\"\"}},\"type\":\"scattercarpet\"}],\"scattergeo\":[{\"marker\":{\"colorbar\":{\"outlinewidth\":0,\"ticks\":\"\"}},\"type\":\"scattergeo\"}],\"scattergl\":[{\"marker\":{\"colorbar\":{\"outlinewidth\":0,\"ticks\":\"\"}},\"type\":\"scattergl\"}],\"scattermapbox\":[{\"marker\":{\"colorbar\":{\"outlinewidth\":0,\"ticks\":\"\"}},\"type\":\"scattermapbox\"}],\"scatterpolargl\":[{\"marker\":{\"colorbar\":{\"outlinewidth\":0,\"ticks\":\"\"}},\"type\":\"scatterpolargl\"}],\"scatterpolar\":[{\"marker\":{\"colorbar\":{\"outlinewidth\":0,\"ticks\":\"\"}},\"type\":\"scatterpolar\"}],\"scatter\":[{\"fillpattern\":{\"fillmode\":\"overlay\",\"size\":10,\"solidity\":0.2},\"type\":\"scatter\"}],\"scatterternary\":[{\"marker\":{\"colorbar\":{\"outlinewidth\":0,\"ticks\":\"\"}},\"type\":\"scatterternary\"}],\"surface\":[{\"colorbar\":{\"outlinewidth\":0,\"ticks\":\"\"},\"colorscale\":[[0.0,\"#0d0887\"],[0.1111111111111111,\"#46039f\"],[0.2222222222222222,\"#7201a8\"],[0.3333333333333333,\"#9c179e\"],[0.4444444444444444,\"#bd3786\"],[0.5555555555555556,\"#d8576b\"],[0.6666666666666666,\"#ed7953\"],[0.7777777777777778,\"#fb9f3a\"],[0.8888888888888888,\"#fdca26\"],[1.0,\"#f0f921\"]],\"type\":\"surface\"}],\"table\":[{\"cells\":{\"fill\":{\"color\":\"#EBF0F8\"},\"line\":{\"color\":\"white\"}},\"header\":{\"fill\":{\"color\":\"#C8D4E3\"},\"line\":{\"color\":\"white\"}},\"type\":\"table\"}]},\"layout\":{\"annotationdefaults\":{\"arrowcolor\":\"#2a3f5f\",\"arrowhead\":0,\"arrowwidth\":1},\"autotypenumbers\":\"strict\",\"coloraxis\":{\"colorbar\":{\"outlinewidth\":0,\"ticks\":\"\"}},\"colorscale\":{\"diverging\":[[0,\"#8e0152\"],[0.1,\"#c51b7d\"],[0.2,\"#de77ae\"],[0.3,\"#f1b6da\"],[0.4,\"#fde0ef\"],[0.5,\"#f7f7f7\"],[0.6,\"#e6f5d0\"],[0.7,\"#b8e186\"],[0.8,\"#7fbc41\"],[0.9,\"#4d9221\"],[1,\"#276419\"]],\"sequential\":[[0.0,\"#0d0887\"],[0.1111111111111111,\"#46039f\"],[0.2222222222222222,\"#7201a8\"],[0.3333333333333333,\"#9c179e\"],[0.4444444444444444,\"#bd3786\"],[0.5555555555555556,\"#d8576b\"],[0.6666666666666666,\"#ed7953\"],[0.7777777777777778,\"#fb9f3a\"],[0.8888888888888888,\"#fdca26\"],[1.0,\"#f0f921\"]],\"sequentialminus\":[[0.0,\"#0d0887\"],[0.1111111111111111,\"#46039f\"],[0.2222222222222222,\"#7201a8\"],[0.3333333333333333,\"#9c179e\"],[0.4444444444444444,\"#bd3786\"],[0.5555555555555556,\"#d8576b\"],[0.6666666666666666,\"#ed7953\"],[0.7777777777777778,\"#fb9f3a\"],[0.8888888888888888,\"#fdca26\"],[1.0,\"#f0f921\"]]},\"colorway\":[\"#636efa\",\"#EF553B\",\"#00cc96\",\"#ab63fa\",\"#FFA15A\",\"#19d3f3\",\"#FF6692\",\"#B6E880\",\"#FF97FF\",\"#FECB52\"],\"font\":{\"color\":\"#2a3f5f\"},\"geo\":{\"bgcolor\":\"white\",\"lakecolor\":\"white\",\"landcolor\":\"#E5ECF6\",\"showlakes\":true,\"showland\":true,\"subunitcolor\":\"white\"},\"hoverlabel\":{\"align\":\"left\"},\"hovermode\":\"closest\",\"mapbox\":{\"style\":\"light\"},\"paper_bgcolor\":\"white\",\"plot_bgcolor\":\"#E5ECF6\",\"polar\":{\"angularaxis\":{\"gridcolor\":\"white\",\"linecolor\":\"white\",\"ticks\":\"\"},\"bgcolor\":\"#E5ECF6\",\"radialaxis\":{\"gridcolor\":\"white\",\"linecolor\":\"white\",\"ticks\":\"\"}},\"scene\":{\"xaxis\":{\"backgroundcolor\":\"#E5ECF6\",\"gridcolor\":\"white\",\"gridwidth\":2,\"linecolor\":\"white\",\"showbackground\":true,\"ticks\":\"\",\"zerolinecolor\":\"white\"},\"yaxis\":{\"backgroundcolor\":\"#E5ECF6\",\"gridcolor\":\"white\",\"gridwidth\":2,\"linecolor\":\"white\",\"showbackground\":true,\"ticks\":\"\",\"zerolinecolor\":\"white\"},\"zaxis\":{\"backgroundcolor\":\"#E5ECF6\",\"gridcolor\":\"white\",\"gridwidth\":2,\"linecolor\":\"white\",\"showbackground\":true,\"ticks\":\"\",\"zerolinecolor\":\"white\"}},\"shapedefaults\":{\"line\":{\"color\":\"#2a3f5f\"}},\"ternary\":{\"aaxis\":{\"gridcolor\":\"white\",\"linecolor\":\"white\",\"ticks\":\"\"},\"baxis\":{\"gridcolor\":\"white\",\"linecolor\":\"white\",\"ticks\":\"\"},\"bgcolor\":\"#E5ECF6\",\"caxis\":{\"gridcolor\":\"white\",\"linecolor\":\"white\",\"ticks\":\"\"}},\"title\":{\"x\":0.05},\"xaxis\":{\"automargin\":true,\"gridcolor\":\"white\",\"linecolor\":\"white\",\"ticks\":\"\",\"title\":{\"standoff\":15},\"zerolinecolor\":\"white\",\"zerolinewidth\":2},\"yaxis\":{\"automargin\":true,\"gridcolor\":\"white\",\"linecolor\":\"white\",\"ticks\":\"\",\"title\":{\"standoff\":15},\"zerolinecolor\":\"white\",\"zerolinewidth\":2}}},\"title\":{\"text\":\"Model performance vs. # of iterations\"},\"xaxis\":{\"title\":{\"text\":\"Iteration\"}},\"yaxis\":{\"title\":{\"text\":\"Accuracy\"}}},                        {\"responsive\": true}                    ).then(function(){\n",
       "                            \n",
       "var gd = document.getElementById('9a3a52b7-b91f-4caf-9357-321f2d152338');\n",
       "var x = new MutationObserver(function (mutations, observer) {{\n",
       "        var display = window.getComputedStyle(gd).display;\n",
       "        if (!display || display === 'none') {{\n",
       "            console.log([gd, 'removed!']);\n",
       "            Plotly.purge(gd);\n",
       "            observer.disconnect();\n",
       "        }}\n",
       "}});\n",
       "\n",
       "// Listen for the removal of the full notebook cells\n",
       "var notebookContainer = gd.closest('#notebook-container');\n",
       "if (notebookContainer) {{\n",
       "    x.observe(notebookContainer, {childList: true});\n",
       "}}\n",
       "\n",
       "// Listen for the clearing of the current output cell\n",
       "var outputEl = gd.closest('.output');\n",
       "if (outputEl) {{\n",
       "    x.observe(outputEl, {childList: true});\n",
       "}}\n",
       "\n",
       "                        })                };                });            </script>        </div>"
      ]
     },
     "metadata": {},
     "output_type": "display_data"
    }
   ],
   "source": [
    "\n",
    "import torch\n",
    "from ax.service.ax_client import AxClient\n",
    "from ax.service.utils.instantiation import ObjectiveProperties\n",
    "from botorch.test_functions import Branin\n",
    "from ax.utils.notebook.plotting import render\n",
    "\n",
    "# Setup a function to evaluate the trials\n",
    "objective = benchmark.objective_function\n",
    "\n",
    "\n",
    "def evaluate(parameters):\n",
    "    # The GaussianLikelihood used by our model infers an observation noise level,\n",
    "    # so we pass an sem value of NaN to indicate that observation noise is unknown\n",
    "    return {\"accuracy\": (objective(parameters)[0]['val_accuracy'], float(\"nan\"))}\n",
    "\n",
    "# Mutiple experiments for different BO setups\n",
    "traces = {}\n",
    "for name, generation_strategy in [('ei_mat', gs_ei_mat), \n",
    "                                  ('ei_rbf', gs_ei_rbf), \n",
    "                                  ('es_mat', gs_es_mat), \n",
    "                                  ('es_rbf', gs_es_rbf)]:\n",
    "    \n",
    "    # Initialize the client - AxClient offers a convenient API to control the experiment\n",
    "    ax_client = AxClient(generation_strategy=generation_strategy, verbose_logging=False)\n",
    "    \n",
    "    # Setup the experiment\n",
    "    ax_client.create_experiment(\n",
    "        name=\"yahpo_test_experiment\",\n",
    "        parameters=hyperparams_list,\n",
    "        objectives={\n",
    "            \"accuracy\": ObjectiveProperties(minimize=False),\n",
    "        },\n",
    "    )\n",
    "    NUM_EVALS = 150\n",
    "    for i in range(NUM_EVALS):\n",
    "        try:\n",
    "            parameters, trial_index = ax_client.get_next_trial()\n",
    "            # Local evaluation here can be replaced with deployment to external system.\n",
    "            ax_client.complete_trial(trial_index=trial_index, raw_data=evaluate(parameters))\n",
    "        except Exception:\n",
    "            break\n",
    "        \n",
    "\n",
    "        \n",
    "    max_accuracy = benchmark.target_stats[benchmark.target_stats.metric == 'val_accuracy']['value'].values[1]\n",
    "    render(ax_client.get_optimization_trace(objective_optimum=max_accuracy))\n",
    "    traces[name] = ax_client.get_trace(ax_client.experiment)"
   ]
  },
  {
   "cell_type": "code",
   "execution_count": 19,
   "id": "cd93f100",
   "metadata": {},
   "outputs": [
    {
     "data": {
      "text/plain": [
       "<AxesSubplot:>"
      ]
     },
     "execution_count": 19,
     "metadata": {},
     "output_type": "execute_result"
    },
    {
     "data": {
      "image/png": "[encoded data removed]",
      "text/plain": [
       "<Figure size 640x480 with 1 Axes>"
      ]
     },
     "metadata": {},
     "output_type": "display_data"
    }
   ],
   "source": [
    "import pandas as pd\n",
    "pd.DataFrame.from_dict(traces, orient=\"index\").T.plot()"
   ]
  },
  {
   "cell_type": "markdown",
   "id": "ccc49803",
   "metadata": {},
   "source": [
    "# Testing the FABOLAS algorithm from EmuKit"
   ]
  },
  {
   "cell_type": "code",
   "execution_count": 2,
   "id": "f95afdce",
   "metadata": {},
   "outputs": [],
   "source": [
    "import emukit\n",
    "from emukit.examples.fabolas import fmin_fabolas\n",
    "from emukit.core import ContinuousParameter, ParameterSpace\n",
    "\n",
    "import ConfigSpace\n",
    "import logging\n",
    "logging.basicConfig(level=logging.DEBUG)"
   ]
  },
  {
   "cell_type": "code",
   "execution_count": 3,
   "id": "8cef9e4a",
   "metadata": {},
   "outputs": [
    {
     "name": "stderr",
     "output_type": "stream",
     "text": [
      "INFO:GP:initializing Y\n",
      "INFO:GP:initializing inference method\n",
      "INFO:GP:adding kernel and likelihood as parameters\n",
      "WARNING:sum:reconstraining parameters GP_regression.sum\n",
      "WARNING:Gaussian_noise:reconstraining parameters GP_regression.Gaussian_noise\n",
      "INFO:GP:initializing Y\n",
      "INFO:GP:initializing inference method\n",
      "INFO:GP:adding kernel and likelihood as parameters\n",
      "WARNING:sum:reconstraining parameters GP_regression.sum\n",
      "WARNING:Gaussian_noise:reconstraining parameters GP_regression.Gaussian_noise\n"
     ]
    },
    {
     "ename": "TypeError",
     "evalue": "__init__() takes from 3 to 5 positional arguments but 8 were given",
     "output_type": "error",
     "traceback": [
      "\u001b[0;31m---------------------------------------------------------------------------\u001b[0m",
      "\u001b[0;31mTypeError\u001b[0m                                 Traceback (most recent call last)",
      "\u001b[1;32m/Users/tlong/Documents/code/emukit_fabolas/FABOLAS.ipynb Cell 16\u001b[0m in \u001b[0;36m<cell line: 33>\u001b[0;34m()\u001b[0m\n\u001b[1;32m     <a href='vscode-notebook-cell:/Users/tlong/Documents/code/emukit_fabolas/FABOLAS.ipynb#X26sZmlsZQ%3D%3D?line=28'>29</a>\u001b[0m     res \u001b[39m=\u001b[39m benchmark\u001b[39m.\u001b[39mobjective_function(default_config)[\u001b[39m0\u001b[39m]\n\u001b[1;32m     <a href='vscode-notebook-cell:/Users/tlong/Documents/code/emukit_fabolas/FABOLAS.ipynb#X26sZmlsZQ%3D%3D?line=29'>30</a>\u001b[0m     \u001b[39mreturn\u001b[39;00m \u001b[39m-\u001b[39mres[\u001b[39m\"\u001b[39m\u001b[39macc\u001b[39m\u001b[39m\"\u001b[39m], res[\u001b[39m\"\u001b[39m\u001b[39mtimetrain\u001b[39m\u001b[39m\"\u001b[39m]\n\u001b[0;32m---> <a href='vscode-notebook-cell:/Users/tlong/Documents/code/emukit_fabolas/FABOLAS.ipynb#X26sZmlsZQ%3D%3D?line=32'>33</a>\u001b[0m res \u001b[39m=\u001b[39m fmin_fabolas(wrapper, space\u001b[39m=\u001b[39;49mspace, s_min\u001b[39m=\u001b[39;49ms_min, s_max\u001b[39m=\u001b[39;49ms_max, n_iters\u001b[39m=\u001b[39;49m\u001b[39m15\u001b[39;49m, n_init\u001b[39m=\u001b[39;49m\u001b[39m10\u001b[39;49m, marginalize_hypers\u001b[39m=\u001b[39;49m\u001b[39mFalse\u001b[39;49;00m, acquisition_function\u001b[39m=\u001b[39;49m\u001b[39m\"\u001b[39;49m\u001b[39mmes\u001b[39;49m\u001b[39m\"\u001b[39;49m)\n",
      "File \u001b[0;32m~/Documents/code/emukit_fabolas/emukit/examples/fabolas/fmin.py:68\u001b[0m, in \u001b[0;36mfmin_fabolas\u001b[0;34m(func, space, s_min, s_max, n_iters, n_init, marginalize_hypers, acquisition_function)\u001b[0m\n\u001b[1;32m     65\u001b[0m \u001b[39melif\u001b[39;00m acquisition_function \u001b[39m==\u001b[39m \u001b[39m\"\u001b[39m\u001b[39mmes\u001b[39m\u001b[39m\"\u001b[39m:\n\u001b[1;32m     66\u001b[0m     acquisition_function \u001b[39m=\u001b[39m ContinuousFidelityMaxValueEntropySearch\n\u001b[0;32m---> 68\u001b[0m loop \u001b[39m=\u001b[39m FabolasLoop(\n\u001b[1;32m     69\u001b[0m     X_init\u001b[39m=\u001b[39;49mX_init,\n\u001b[1;32m     70\u001b[0m     Y_init\u001b[39m=\u001b[39;49mY_init,\n\u001b[1;32m     71\u001b[0m     cost_init\u001b[39m=\u001b[39;49mcost_init,\n\u001b[1;32m     72\u001b[0m     space\u001b[39m=\u001b[39;49mspace,\n\u001b[1;32m     73\u001b[0m     s_min\u001b[39m=\u001b[39;49ms_min,\n\u001b[1;32m     74\u001b[0m     s_max\u001b[39m=\u001b[39;49ms_max,\n\u001b[1;32m     75\u001b[0m     marginalize_hypers\u001b[39m=\u001b[39;49mmarginalize_hypers,\n\u001b[1;32m     76\u001b[0m     acquisition_function\u001b[39m=\u001b[39;49macquisition_function\n\u001b[1;32m     77\u001b[0m )\n\u001b[1;32m     78\u001b[0m loop\u001b[39m.\u001b[39mrun_loop(\n\u001b[1;32m     79\u001b[0m     user_function\u001b[39m=\u001b[39mUserFunctionWrapper(wrapper, extra_output_names\u001b[39m=\u001b[39m[\u001b[39m\"\u001b[39m\u001b[39mcost\u001b[39m\u001b[39m\"\u001b[39m]),\n\u001b[1;32m     80\u001b[0m     stopping_condition\u001b[39m=\u001b[39mFixedIterationsStoppingCondition(n_iters \u001b[39m-\u001b[39m n_init),\n\u001b[1;32m     81\u001b[0m )\n\u001b[1;32m     83\u001b[0m \u001b[39mreturn\u001b[39;00m loop\u001b[39m.\u001b[39mloop_state\n",
      "File \u001b[0;32m~/Documents/code/emukit_fabolas/emukit/examples/fabolas/fabolas_loop.py:60\u001b[0m, in \u001b[0;36mFabolasLoop.__init__\u001b[0;34m(self, space, X_init, Y_init, cost_init, s_min, s_max, update_interval, num_eval_points, marginalize_hypers, acquisition_function)\u001b[0m\n\u001b[1;32m     58\u001b[0m     entropy_search \u001b[39m=\u001b[39m IntegratedHyperParameterAcquisition(model_objective, acquisition_generator)\n\u001b[1;32m     59\u001b[0m \u001b[39melse\u001b[39;00m:\n\u001b[0;32m---> 60\u001b[0m     entropy_search \u001b[39m=\u001b[39m acquisition_function(\n\u001b[1;32m     61\u001b[0m         model_objective, space\u001b[39m=\u001b[39;49mextended_space, target_fidelity_index\u001b[39m=\u001b[39;49m\u001b[39mlen\u001b[39;49m(extended_space\u001b[39m.\u001b[39;49mparameters) \u001b[39m-\u001b[39;49m \u001b[39m1\u001b[39;49m\n\u001b[1;32m     62\u001b[0m     )\n\u001b[1;32m     64\u001b[0m acquisition \u001b[39m=\u001b[39m acquisition_per_expected_cost(entropy_search, model_cost)\n\u001b[1;32m     66\u001b[0m model_updater_objective \u001b[39m=\u001b[39m FixedIntervalUpdater(model_objective, update_interval)\n",
      "File \u001b[0;32m~/Documents/code/emukit_fabolas/emukit/examples/fabolas/continuous_fidelity_entropy_search.py:131\u001b[0m, in \u001b[0;36mContinuousFidelityMaxValueEntropySearch.__init__\u001b[0;34m(self, model, space, target_fidelity_index, num_samples, num_representer_points, burn_in_steps)\u001b[0m\n\u001b[1;32m    127\u001b[0m sampler \u001b[39m=\u001b[39m AffineInvariantEnsembleSampler(space_without_info_source)\n\u001b[1;32m    129\u001b[0m proposal_func \u001b[39m=\u001b[39m \u001b[39mself\u001b[39m\u001b[39m.\u001b[39m_get_proposal_function(model, space)\n\u001b[0;32m--> 131\u001b[0m \u001b[39msuper\u001b[39;49m()\u001b[39m.\u001b[39;49m\u001b[39m__init__\u001b[39;49m(model, space, sampler, num_samples, num_representer_points, proposal_func, burn_in_steps)\n",
      "\u001b[0;31mTypeError\u001b[0m: __init__() takes from 3 to 5 positional arguments but 8 were given"
     ]
    }
   ],
   "source": [
    "benchmark = yahpo_gym.BenchmarkSet('rbv2_super')\n",
    "benchmark = yahpo_gym.BenchmarkSet('rbv2_super', instance=benchmark.instances[0])\n",
    "default_config = benchmark.config_space.get_default_configuration()\n",
    "default_config[\"learner_id\"] = \"xgboost\"\n",
    "svm_hyperparameters = benchmark.config_space.get_active_hyperparameters(default_config)\n",
    "\n",
    "l = []\n",
    "for param_name in svm_hyperparameters:\n",
    "    # handle fidelity separately\n",
    "    if param_name == \"trainsize\":\n",
    "        continue\n",
    "    \n",
    "    param = benchmark.config_space.get_hyperparameter(param_name)\n",
    "    if isinstance(param, ConfigSpace.hyperparameters.FloatHyperparameter):\n",
    "        l.append(ContinuousParameter(param.name, param.lower, param.upper))\n",
    "\n",
    "space = ParameterSpace(l)\n",
    "\n",
    "# Multiplying by a large value for stability purposes (FABOLAS assumes we have actual values of s, not just ratios)\n",
    "dataset_size = 1e5\n",
    "s_min = benchmark.config_space.get_hyperparameter(\"trainsize\").lower * dataset_size\n",
    "s_max = benchmark.config_space.get_hyperparameter(\"trainsize\").upper * dataset_size\n",
    "\n",
    "\n",
    "def wrapper(x, s):\n",
    "    for k, v in zip(space.parameter_names, x):\n",
    "        default_config[k] = v\n",
    "    default_config[\"trainsize\"] = s / dataset_size\n",
    "    res = benchmark.objective_function(default_config)[0]\n",
    "    return -res[\"acc\"], res[\"timetrain\"]\n",
    "\n",
    "\n",
    "res = fmin_fabolas(wrapper, space=space, s_min=s_min, s_max=s_max, n_iters=15, n_init=10, marginalize_hypers=False, acquisition_function=\"mes\")"
   ]
  },
  {
   "cell_type": "markdown",
   "id": "2e69d719",
   "metadata": {},
   "source": [
    "## Testing vs. other hyperparameter optimization frameworks"
   ]
  },
  {
   "cell_type": "markdown",
   "id": "26686faf",
   "metadata": {},
   "source": [
    "# Trying different modeling backends"
   ]
  },
  {
   "cell_type": "markdown",
   "id": "f58e4be0",
   "metadata": {},
   "source": [
    "# Trying different acquisition functions"
   ]
  },
  {
   "cell_type": "markdown",
   "id": "2f5d7f39",
   "metadata": {},
   "source": [
    "# Trying different MC optimization backends"
   ]
  },
  {
   "cell_type": "markdown",
   "id": "f7d1206c",
   "metadata": {},
   "source": [
    "# Trying an ensemble model backend"
   ]
  },
  {
   "cell_type": "markdown",
   "id": "90f12449",
   "metadata": {},
   "source": [
    "# Parallelizing FABOLAS"
   ]
  },
  {
   "cell_type": "code",
   "execution_count": null,
   "id": "13585537",
   "metadata": {},
   "outputs": [],
   "source": []
  }
 ],
 "metadata": {
  "kernelspec": {
   "display_name": "Python 3.9.13 ('base')",
   "language": "python",
   "name": "python3"
  },
  "language_info": {
   "codemirror_mode": {
    "name": "ipython",
    "version": 3
   },
   "file_extension": ".py",
   "mimetype": "text/x-python",
   "name": "python",
   "nbconvert_exporter": "python",
   "pygments_lexer": "ipython3",
   "version": "3.9.13"
  },
  "toc": {
   "base_numbering": 1,
   "nav_menu": {},
   "number_sections": true,
   "sideBar": true,
   "skip_h1_title": false,
   "title_cell": "Table of Contents",
   "title_sidebar": "Contents",
   "toc_cell": false,
   "toc_position": {
    "height": "calc(100% - 180px)",
    "left": "10px",
    "top": "150px",
    "width": "302.390625px"
   },
   "toc_section_display": true,
   "toc_window_display": true
  },
  "vscode": {
   "interpreter": {
    "hash": "533dc1b5f6751e9c738350df3cd1b0ef5f569dd461507537431de13a6c09381e"
   }
  }
 },
 "nbformat": 4,
 "nbformat_minor": 5
}
